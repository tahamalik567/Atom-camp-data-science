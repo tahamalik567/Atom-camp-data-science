{
 "cells": [
  {
   "cell_type": "markdown",
   "id": "057b459d",
   "metadata": {},
   "source": [
    "Agenda\n",
    "\n",
    "    - A quick recap to Qcut and Cut\n",
    "    - Data Types in Pandas\n",
    "    - Duplicate Handling\n",
    "    - Ways to Handle Missing values"
   ]
  },
  {
   "cell_type": "code",
   "execution_count": 1,
   "id": "8a6530db",
   "metadata": {},
   "outputs": [],
   "source": [
    "import pandas as pd\n",
    "import numpy as np\n",
    "import matplotlib.pyplot as plt "
   ]
  },
  {
   "cell_type": "code",
   "execution_count": 2,
   "id": "90dfa40a",
   "metadata": {
    "scrolled": true
   },
   "outputs": [
    {
     "data": {
      "text/html": [
       "<div>\n",
       "<style scoped>\n",
       "    .dataframe tbody tr th:only-of-type {\n",
       "        vertical-align: middle;\n",
       "    }\n",
       "\n",
       "    .dataframe tbody tr th {\n",
       "        vertical-align: top;\n",
       "    }\n",
       "\n",
       "    .dataframe thead th {\n",
       "        text-align: right;\n",
       "    }\n",
       "</style>\n",
       "<table border=\"1\" class=\"dataframe\">\n",
       "  <thead>\n",
       "    <tr style=\"text-align: right;\">\n",
       "      <th></th>\n",
       "      <th>Age</th>\n",
       "      <th>Attrition</th>\n",
       "      <th>BusinessTravel</th>\n",
       "      <th>DailyRate</th>\n",
       "      <th>Department</th>\n",
       "      <th>DistanceFromHome</th>\n",
       "      <th>Education</th>\n",
       "      <th>EducationField</th>\n",
       "      <th>EmployeeCount</th>\n",
       "      <th>EmployeeNumber</th>\n",
       "      <th>...</th>\n",
       "      <th>RelationshipSatisfaction</th>\n",
       "      <th>StandardHours</th>\n",
       "      <th>StockOptionLevel</th>\n",
       "      <th>TotalWorkingYears</th>\n",
       "      <th>TrainingTimesLastYear</th>\n",
       "      <th>WorkLifeBalance</th>\n",
       "      <th>YearsAtCompany</th>\n",
       "      <th>YearsInCurrentRole</th>\n",
       "      <th>YearsSinceLastPromotion</th>\n",
       "      <th>YearsWithCurrManager</th>\n",
       "    </tr>\n",
       "  </thead>\n",
       "  <tbody>\n",
       "    <tr>\n",
       "      <th>0</th>\n",
       "      <td>41</td>\n",
       "      <td>Yes</td>\n",
       "      <td>Travel_Rarely</td>\n",
       "      <td>1102</td>\n",
       "      <td>Sales</td>\n",
       "      <td>1</td>\n",
       "      <td>2</td>\n",
       "      <td>Life Sciences</td>\n",
       "      <td>1</td>\n",
       "      <td>1</td>\n",
       "      <td>...</td>\n",
       "      <td>1</td>\n",
       "      <td>80</td>\n",
       "      <td>0</td>\n",
       "      <td>8</td>\n",
       "      <td>0</td>\n",
       "      <td>1</td>\n",
       "      <td>6</td>\n",
       "      <td>4</td>\n",
       "      <td>0</td>\n",
       "      <td>5</td>\n",
       "    </tr>\n",
       "    <tr>\n",
       "      <th>1</th>\n",
       "      <td>49</td>\n",
       "      <td>No</td>\n",
       "      <td>Travel_Frequently</td>\n",
       "      <td>279</td>\n",
       "      <td>Research &amp; Development</td>\n",
       "      <td>8</td>\n",
       "      <td>1</td>\n",
       "      <td>Life Sciences</td>\n",
       "      <td>1</td>\n",
       "      <td>2</td>\n",
       "      <td>...</td>\n",
       "      <td>4</td>\n",
       "      <td>80</td>\n",
       "      <td>1</td>\n",
       "      <td>10</td>\n",
       "      <td>3</td>\n",
       "      <td>3</td>\n",
       "      <td>10</td>\n",
       "      <td>7</td>\n",
       "      <td>1</td>\n",
       "      <td>7</td>\n",
       "    </tr>\n",
       "    <tr>\n",
       "      <th>2</th>\n",
       "      <td>37</td>\n",
       "      <td>Yes</td>\n",
       "      <td>Travel_Rarely</td>\n",
       "      <td>1373</td>\n",
       "      <td>Research &amp; Development</td>\n",
       "      <td>2</td>\n",
       "      <td>2</td>\n",
       "      <td>Other</td>\n",
       "      <td>1</td>\n",
       "      <td>4</td>\n",
       "      <td>...</td>\n",
       "      <td>2</td>\n",
       "      <td>80</td>\n",
       "      <td>0</td>\n",
       "      <td>7</td>\n",
       "      <td>3</td>\n",
       "      <td>3</td>\n",
       "      <td>0</td>\n",
       "      <td>0</td>\n",
       "      <td>0</td>\n",
       "      <td>0</td>\n",
       "    </tr>\n",
       "    <tr>\n",
       "      <th>3</th>\n",
       "      <td>33</td>\n",
       "      <td>No</td>\n",
       "      <td>Travel_Frequently</td>\n",
       "      <td>1392</td>\n",
       "      <td>Research &amp; Development</td>\n",
       "      <td>3</td>\n",
       "      <td>4</td>\n",
       "      <td>Life Sciences</td>\n",
       "      <td>1</td>\n",
       "      <td>5</td>\n",
       "      <td>...</td>\n",
       "      <td>3</td>\n",
       "      <td>80</td>\n",
       "      <td>0</td>\n",
       "      <td>8</td>\n",
       "      <td>3</td>\n",
       "      <td>3</td>\n",
       "      <td>8</td>\n",
       "      <td>7</td>\n",
       "      <td>3</td>\n",
       "      <td>0</td>\n",
       "    </tr>\n",
       "    <tr>\n",
       "      <th>4</th>\n",
       "      <td>27</td>\n",
       "      <td>No</td>\n",
       "      <td>Travel_Rarely</td>\n",
       "      <td>591</td>\n",
       "      <td>Research &amp; Development</td>\n",
       "      <td>2</td>\n",
       "      <td>1</td>\n",
       "      <td>Medical</td>\n",
       "      <td>1</td>\n",
       "      <td>7</td>\n",
       "      <td>...</td>\n",
       "      <td>4</td>\n",
       "      <td>80</td>\n",
       "      <td>1</td>\n",
       "      <td>6</td>\n",
       "      <td>3</td>\n",
       "      <td>3</td>\n",
       "      <td>2</td>\n",
       "      <td>2</td>\n",
       "      <td>2</td>\n",
       "      <td>2</td>\n",
       "    </tr>\n",
       "  </tbody>\n",
       "</table>\n",
       "<p>5 rows × 35 columns</p>\n",
       "</div>"
      ],
      "text/plain": [
       "   Age Attrition     BusinessTravel  DailyRate              Department  \\\n",
       "0   41       Yes      Travel_Rarely       1102                   Sales   \n",
       "1   49        No  Travel_Frequently        279  Research & Development   \n",
       "2   37       Yes      Travel_Rarely       1373  Research & Development   \n",
       "3   33        No  Travel_Frequently       1392  Research & Development   \n",
       "4   27        No      Travel_Rarely        591  Research & Development   \n",
       "\n",
       "   DistanceFromHome  Education EducationField  EmployeeCount  EmployeeNumber  \\\n",
       "0                 1          2  Life Sciences              1               1   \n",
       "1                 8          1  Life Sciences              1               2   \n",
       "2                 2          2          Other              1               4   \n",
       "3                 3          4  Life Sciences              1               5   \n",
       "4                 2          1        Medical              1               7   \n",
       "\n",
       "   ...  RelationshipSatisfaction StandardHours  StockOptionLevel  \\\n",
       "0  ...                         1            80                 0   \n",
       "1  ...                         4            80                 1   \n",
       "2  ...                         2            80                 0   \n",
       "3  ...                         3            80                 0   \n",
       "4  ...                         4            80                 1   \n",
       "\n",
       "   TotalWorkingYears  TrainingTimesLastYear WorkLifeBalance  YearsAtCompany  \\\n",
       "0                  8                      0               1               6   \n",
       "1                 10                      3               3              10   \n",
       "2                  7                      3               3               0   \n",
       "3                  8                      3               3               8   \n",
       "4                  6                      3               3               2   \n",
       "\n",
       "  YearsInCurrentRole  YearsSinceLastPromotion  YearsWithCurrManager  \n",
       "0                  4                        0                     5  \n",
       "1                  7                        1                     7  \n",
       "2                  0                        0                     0  \n",
       "3                  7                        3                     0  \n",
       "4                  2                        2                     2  \n",
       "\n",
       "[5 rows x 35 columns]"
      ]
     },
     "execution_count": 2,
     "metadata": {},
     "output_type": "execute_result"
    }
   ],
   "source": [
    "df = pd.read_csv(r'WA_Fn-UseC_-HR-Employee-Attrition.csv')\n",
    "df.head()"
   ]
  },
  {
   "cell_type": "markdown",
   "id": "97ecf0d1",
   "metadata": {},
   "source": [
    "## Qcut"
   ]
  },
  {
   "cell_type": "markdown",
   "id": "54f2ed2d",
   "metadata": {
    "id": "54f2ed2d"
   },
   "source": [
    "qcut= The pandas documentation describes qcut as a “Quantile-based discretization function.” This basically means that qcut tries to divide the data into equal sized bins. The function defines the bins using percentiles based on the distribution of the data, not the actual numeric edges of the bins.\n",
    "\n",
    "The simplest use of qcut is to define the number of quantiles and let pandas figure out how to divide up the data. In the example below, we tell pandas to create 4 equal sized groupings of the data.\n",
    "\n",
    "In each case, there are an equal number of observations in each bin. Pandas does the math behind the scenes to figure out how wide to make each bin."
   ]
  },
  {
   "cell_type": "code",
   "execution_count": 3,
   "id": "21bcda5b",
   "metadata": {},
   "outputs": [],
   "source": [
    "df['Qcut Income package'] = pd.qcut(df['MonthlyIncome'], q=5, labels=['copper','silver', 'gold', 'platinum', 'diamond'])"
   ]
  },
  {
   "cell_type": "code",
   "execution_count": 4,
   "id": "65cefa1c",
   "metadata": {},
   "outputs": [
    {
     "data": {
      "text/plain": [
       "Qcut Income package\n",
       "copper      294\n",
       "silver      294\n",
       "gold        294\n",
       "platinum    294\n",
       "diamond     294\n",
       "Name: count, dtype: int64"
      ]
     },
     "execution_count": 4,
     "metadata": {},
     "output_type": "execute_result"
    }
   ],
   "source": [
    "df['Qcut Income package'].value_counts()"
   ]
  },
  {
   "cell_type": "code",
   "execution_count": 5,
   "id": "abd2c152",
   "metadata": {},
   "outputs": [
    {
     "data": {
      "text/plain": [
       "1470"
      ]
     },
     "execution_count": 5,
     "metadata": {},
     "output_type": "execute_result"
    }
   ],
   "source": [
    "294*5"
   ]
  },
  {
   "cell_type": "code",
   "execution_count": 6,
   "id": "a005b672",
   "metadata": {},
   "outputs": [
    {
     "data": {
      "image/png": "[encoded data removed]",
      "text/plain": [
       "<Figure size 640x480 with 1 Axes>"
      ]
     },
     "metadata": {},
     "output_type": "display_data"
    }
   ],
   "source": [
    "plt.hist(df['Qcut Income package'])\n",
    "plt.show()"
   ]
  },
  {
   "cell_type": "markdown",
   "id": "b34d54eb",
   "metadata": {},
   "source": [
    "## Cut"
   ]
  },
  {
   "cell_type": "markdown",
   "id": "753d0757",
   "metadata": {},
   "source": [
    "The major distinction is that qcut will calculate the size of each bin in order to make sure the distribution of data in the bins is equal. In other words, all bins will have (roughly) the same number of observations but the bin range will vary.\n",
    "\n",
    "On the other hand, cut is used to specifically define the bin edges. There is no guarantee about the distribution of items in each bin. In fact, you can define bins in such a way that no items are included in a bin or nearly all items are in a single bin.\n",
    "\n",
    "In real world examples, bins may be defined by business rules. For a frequent flier program, 25,000 miles is the silver level and that does not vary based on year to year variation of the data. If we want to define the bin edges (25,000 - 50,000, etc) we would use cut."
   ]
  },
  {
   "cell_type": "code",
   "execution_count": 7,
   "id": "45a1724f",
   "metadata": {
    "id": "45a1724f",
    "outputId": "3811e641-17fb-47cd-d2d9-9e30b6fa78f5"
   },
   "outputs": [
    {
     "name": "stdout",
     "output_type": "stream",
     "text": [
      "19999\n",
      "1009\n"
     ]
    }
   ],
   "source": [
    "print(df['MonthlyIncome'].max())\n",
    "print(df['MonthlyIncome'].min())"
   ]
  },
  {
   "cell_type": "code",
   "execution_count": 8,
   "id": "0f41fe00",
   "metadata": {
    "id": "0f41fe00"
   },
   "outputs": [],
   "source": [
    "cut_bins = [1000, 4000, 6000, 12000,15000, 200000]\n",
    "df['Cut Income package'] = pd.cut(df['MonthlyIncome'], bins=cut_bins, labels=['copper','silver', 'gold', 'platinum', 'diamond'])"
   ]
  },
  {
   "cell_type": "code",
   "execution_count": 9,
   "id": "707bc925",
   "metadata": {
    "id": "707bc925",
    "outputId": "c9427dc5-63b8-466e-cb2e-29ec078c83be"
   },
   "outputs": [
    {
     "data": {
      "text/html": [
       "<div>\n",
       "<style scoped>\n",
       "    .dataframe tbody tr th:only-of-type {\n",
       "        vertical-align: middle;\n",
       "    }\n",
       "\n",
       "    .dataframe tbody tr th {\n",
       "        vertical-align: top;\n",
       "    }\n",
       "\n",
       "    .dataframe thead th {\n",
       "        text-align: right;\n",
       "    }\n",
       "</style>\n",
       "<table border=\"1\" class=\"dataframe\">\n",
       "  <thead>\n",
       "    <tr style=\"text-align: right;\">\n",
       "      <th></th>\n",
       "      <th>MonthlyIncome</th>\n",
       "      <th>Cut Income package</th>\n",
       "    </tr>\n",
       "  </thead>\n",
       "  <tbody>\n",
       "    <tr>\n",
       "      <th>0</th>\n",
       "      <td>5993</td>\n",
       "      <td>silver</td>\n",
       "    </tr>\n",
       "    <tr>\n",
       "      <th>1</th>\n",
       "      <td>5130</td>\n",
       "      <td>silver</td>\n",
       "    </tr>\n",
       "    <tr>\n",
       "      <th>2</th>\n",
       "      <td>2090</td>\n",
       "      <td>copper</td>\n",
       "    </tr>\n",
       "    <tr>\n",
       "      <th>3</th>\n",
       "      <td>2909</td>\n",
       "      <td>copper</td>\n",
       "    </tr>\n",
       "    <tr>\n",
       "      <th>4</th>\n",
       "      <td>3468</td>\n",
       "      <td>copper</td>\n",
       "    </tr>\n",
       "    <tr>\n",
       "      <th>...</th>\n",
       "      <td>...</td>\n",
       "      <td>...</td>\n",
       "    </tr>\n",
       "    <tr>\n",
       "      <th>1465</th>\n",
       "      <td>2571</td>\n",
       "      <td>copper</td>\n",
       "    </tr>\n",
       "    <tr>\n",
       "      <th>1466</th>\n",
       "      <td>9991</td>\n",
       "      <td>gold</td>\n",
       "    </tr>\n",
       "    <tr>\n",
       "      <th>1467</th>\n",
       "      <td>6142</td>\n",
       "      <td>gold</td>\n",
       "    </tr>\n",
       "    <tr>\n",
       "      <th>1468</th>\n",
       "      <td>5390</td>\n",
       "      <td>silver</td>\n",
       "    </tr>\n",
       "    <tr>\n",
       "      <th>1469</th>\n",
       "      <td>4404</td>\n",
       "      <td>silver</td>\n",
       "    </tr>\n",
       "  </tbody>\n",
       "</table>\n",
       "<p>1470 rows × 2 columns</p>\n",
       "</div>"
      ],
      "text/plain": [
       "      MonthlyIncome Cut Income package\n",
       "0              5993             silver\n",
       "1              5130             silver\n",
       "2              2090             copper\n",
       "3              2909             copper\n",
       "4              3468             copper\n",
       "...             ...                ...\n",
       "1465           2571             copper\n",
       "1466           9991               gold\n",
       "1467           6142               gold\n",
       "1468           5390             silver\n",
       "1469           4404             silver\n",
       "\n",
       "[1470 rows x 2 columns]"
      ]
     },
     "execution_count": 9,
     "metadata": {},
     "output_type": "execute_result"
    }
   ],
   "source": [
    "df[['MonthlyIncome','Cut Income package']]"
   ]
  },
  {
   "cell_type": "code",
   "execution_count": 10,
   "id": "ef483a50",
   "metadata": {
    "id": "ef483a50",
    "outputId": "c0a8975c-f2dd-4b3c-c0e6-822dcbec02b3"
   },
   "outputs": [
    {
     "data": {
      "text/plain": [
       "Cut Income package\n",
       "copper      543\n",
       "silver      371\n",
       "gold        361\n",
       "diamond     133\n",
       "platinum     62\n",
       "Name: count, dtype: int64"
      ]
     },
     "execution_count": 10,
     "metadata": {},
     "output_type": "execute_result"
    }
   ],
   "source": [
    "df['Cut Income package'].value_counts()"
   ]
  },
  {
   "cell_type": "code",
   "execution_count": 11,
   "id": "31425321",
   "metadata": {
    "id": "31425321",
    "outputId": "f1b40d38-c229-4962-cb44-27a6c937a649"
   },
   "outputs": [
    {
     "data": {
      "text/plain": [
       "CategoricalDtype(categories=['copper', 'silver', 'gold', 'platinum', 'diamond'], ordered=True)"
      ]
     },
     "execution_count": 11,
     "metadata": {},
     "output_type": "execute_result"
    }
   ],
   "source": [
    "df['Cut Income package'].dtypes"
   ]
  },
  {
   "cell_type": "code",
   "execution_count": 12,
   "id": "fa09e5df",
   "metadata": {
    "id": "fa09e5df",
    "outputId": "73f1dfaf-0955-4548-ca79-872f9b700912"
   },
   "outputs": [
    {
     "data": {
      "image/png": "[encoded data removed]",
      "text/plain": [
       "<Figure size 640x480 with 1 Axes>"
      ]
     },
     "metadata": {},
     "output_type": "display_data"
    }
   ],
   "source": [
    "plt.hist(df['Cut Income package'])\n",
    "plt.show()"
   ]
  },
  {
   "cell_type": "code",
   "execution_count": 13,
   "id": "75108152",
   "metadata": {
    "id": "75108152",
    "outputId": "12fe7327-b09a-464b-eb9d-fa4ca562a3e2"
   },
   "outputs": [
    {
     "data": {
      "image/png": "[encoded data removed]",
      "text/plain": [
       "<Figure size 640x480 with 1 Axes>"
      ]
     },
     "metadata": {},
     "output_type": "display_data"
    }
   ],
   "source": [
    "plt.hist(df['MonthlyIncome'])\n",
    "plt.show()"
   ]
  },
  {
   "cell_type": "markdown",
   "id": "b1658c8c",
   "metadata": {},
   "source": [
    "### Qcut vs Cut\n",
    "\n",
    "    - If you want equal distribution of the items in your bins, use qcut. \n",
    "    - If you want to define your own numeric bin ranges, then use cut.\n",
    "\n",
    "The major distinction is that qcut will calculate the size of each bin in order to make sure the distribution of data in the bins is equal. In other words, all bins will have (roughly) the same number of observations but the bin range will vary.\n",
    "\n",
    "On the other hand, cut is used to specifically define the bin edges. There is no guarantee about the distribution of items in each bin. In fact, you can define bins in such a way that no items are included in a bin or nearly all items are in a single bin.\n",
    "\n",
    "In real world examples, bins may be defined by business rules. For a frequent flier program, 25,000 miles is the silver level and that does not vary based on year to year variation of the data. If we want to define the bin edges (25,000 - 50,000, etc) we would use cut . We can also use cut to define bins that are of constant size and let pandas figure out how to define those bin edges."
   ]
  },
  {
   "cell_type": "markdown",
   "id": "672b6da7",
   "metadata": {},
   "source": [
    "#### Read data again to ignore the bin columns"
   ]
  },
  {
   "cell_type": "code",
   "execution_count": 14,
   "id": "1f4b91a7",
   "metadata": {},
   "outputs": [
    {
     "data": {
      "text/html": [
       "<div>\n",
       "<style scoped>\n",
       "    .dataframe tbody tr th:only-of-type {\n",
       "        vertical-align: middle;\n",
       "    }\n",
       "\n",
       "    .dataframe tbody tr th {\n",
       "        vertical-align: top;\n",
       "    }\n",
       "\n",
       "    .dataframe thead th {\n",
       "        text-align: right;\n",
       "    }\n",
       "</style>\n",
       "<table border=\"1\" class=\"dataframe\">\n",
       "  <thead>\n",
       "    <tr style=\"text-align: right;\">\n",
       "      <th></th>\n",
       "      <th>Age</th>\n",
       "      <th>Attrition</th>\n",
       "      <th>BusinessTravel</th>\n",
       "      <th>DailyRate</th>\n",
       "      <th>Department</th>\n",
       "      <th>DistanceFromHome</th>\n",
       "      <th>Education</th>\n",
       "      <th>EducationField</th>\n",
       "      <th>EmployeeCount</th>\n",
       "      <th>EmployeeNumber</th>\n",
       "      <th>...</th>\n",
       "      <th>RelationshipSatisfaction</th>\n",
       "      <th>StandardHours</th>\n",
       "      <th>StockOptionLevel</th>\n",
       "      <th>TotalWorkingYears</th>\n",
       "      <th>TrainingTimesLastYear</th>\n",
       "      <th>WorkLifeBalance</th>\n",
       "      <th>YearsAtCompany</th>\n",
       "      <th>YearsInCurrentRole</th>\n",
       "      <th>YearsSinceLastPromotion</th>\n",
       "      <th>YearsWithCurrManager</th>\n",
       "    </tr>\n",
       "  </thead>\n",
       "  <tbody>\n",
       "    <tr>\n",
       "      <th>0</th>\n",
       "      <td>41</td>\n",
       "      <td>Yes</td>\n",
       "      <td>Travel_Rarely</td>\n",
       "      <td>1102</td>\n",
       "      <td>Sales</td>\n",
       "      <td>1</td>\n",
       "      <td>2</td>\n",
       "      <td>Life Sciences</td>\n",
       "      <td>1</td>\n",
       "      <td>1</td>\n",
       "      <td>...</td>\n",
       "      <td>1</td>\n",
       "      <td>80</td>\n",
       "      <td>0</td>\n",
       "      <td>8</td>\n",
       "      <td>0</td>\n",
       "      <td>1</td>\n",
       "      <td>6</td>\n",
       "      <td>4</td>\n",
       "      <td>0</td>\n",
       "      <td>5</td>\n",
       "    </tr>\n",
       "    <tr>\n",
       "      <th>1</th>\n",
       "      <td>49</td>\n",
       "      <td>No</td>\n",
       "      <td>Travel_Frequently</td>\n",
       "      <td>279</td>\n",
       "      <td>Research &amp; Development</td>\n",
       "      <td>8</td>\n",
       "      <td>1</td>\n",
       "      <td>Life Sciences</td>\n",
       "      <td>1</td>\n",
       "      <td>2</td>\n",
       "      <td>...</td>\n",
       "      <td>4</td>\n",
       "      <td>80</td>\n",
       "      <td>1</td>\n",
       "      <td>10</td>\n",
       "      <td>3</td>\n",
       "      <td>3</td>\n",
       "      <td>10</td>\n",
       "      <td>7</td>\n",
       "      <td>1</td>\n",
       "      <td>7</td>\n",
       "    </tr>\n",
       "    <tr>\n",
       "      <th>2</th>\n",
       "      <td>37</td>\n",
       "      <td>Yes</td>\n",
       "      <td>Travel_Rarely</td>\n",
       "      <td>1373</td>\n",
       "      <td>Research &amp; Development</td>\n",
       "      <td>2</td>\n",
       "      <td>2</td>\n",
       "      <td>Other</td>\n",
       "      <td>1</td>\n",
       "      <td>4</td>\n",
       "      <td>...</td>\n",
       "      <td>2</td>\n",
       "      <td>80</td>\n",
       "      <td>0</td>\n",
       "      <td>7</td>\n",
       "      <td>3</td>\n",
       "      <td>3</td>\n",
       "      <td>0</td>\n",
       "      <td>0</td>\n",
       "      <td>0</td>\n",
       "      <td>0</td>\n",
       "    </tr>\n",
       "    <tr>\n",
       "      <th>3</th>\n",
       "      <td>33</td>\n",
       "      <td>No</td>\n",
       "      <td>Travel_Frequently</td>\n",
       "      <td>1392</td>\n",
       "      <td>Research &amp; Development</td>\n",
       "      <td>3</td>\n",
       "      <td>4</td>\n",
       "      <td>Life Sciences</td>\n",
       "      <td>1</td>\n",
       "      <td>5</td>\n",
       "      <td>...</td>\n",
       "      <td>3</td>\n",
       "      <td>80</td>\n",
       "      <td>0</td>\n",
       "      <td>8</td>\n",
       "      <td>3</td>\n",
       "      <td>3</td>\n",
       "      <td>8</td>\n",
       "      <td>7</td>\n",
       "      <td>3</td>\n",
       "      <td>0</td>\n",
       "    </tr>\n",
       "    <tr>\n",
       "      <th>4</th>\n",
       "      <td>27</td>\n",
       "      <td>No</td>\n",
       "      <td>Travel_Rarely</td>\n",
       "      <td>591</td>\n",
       "      <td>Research &amp; Development</td>\n",
       "      <td>2</td>\n",
       "      <td>1</td>\n",
       "      <td>Medical</td>\n",
       "      <td>1</td>\n",
       "      <td>7</td>\n",
       "      <td>...</td>\n",
       "      <td>4</td>\n",
       "      <td>80</td>\n",
       "      <td>1</td>\n",
       "      <td>6</td>\n",
       "      <td>3</td>\n",
       "      <td>3</td>\n",
       "      <td>2</td>\n",
       "      <td>2</td>\n",
       "      <td>2</td>\n",
       "      <td>2</td>\n",
       "    </tr>\n",
       "  </tbody>\n",
       "</table>\n",
       "<p>5 rows × 35 columns</p>\n",
       "</div>"
      ],
      "text/plain": [
       "   Age Attrition     BusinessTravel  DailyRate              Department  \\\n",
       "0   41       Yes      Travel_Rarely       1102                   Sales   \n",
       "1   49        No  Travel_Frequently        279  Research & Development   \n",
       "2   37       Yes      Travel_Rarely       1373  Research & Development   \n",
       "3   33        No  Travel_Frequently       1392  Research & Development   \n",
       "4   27        No      Travel_Rarely        591  Research & Development   \n",
       "\n",
       "   DistanceFromHome  Education EducationField  EmployeeCount  EmployeeNumber  \\\n",
       "0                 1          2  Life Sciences              1               1   \n",
       "1                 8          1  Life Sciences              1               2   \n",
       "2                 2          2          Other              1               4   \n",
       "3                 3          4  Life Sciences              1               5   \n",
       "4                 2          1        Medical              1               7   \n",
       "\n",
       "   ...  RelationshipSatisfaction StandardHours  StockOptionLevel  \\\n",
       "0  ...                         1            80                 0   \n",
       "1  ...                         4            80                 1   \n",
       "2  ...                         2            80                 0   \n",
       "3  ...                         3            80                 0   \n",
       "4  ...                         4            80                 1   \n",
       "\n",
       "   TotalWorkingYears  TrainingTimesLastYear WorkLifeBalance  YearsAtCompany  \\\n",
       "0                  8                      0               1               6   \n",
       "1                 10                      3               3              10   \n",
       "2                  7                      3               3               0   \n",
       "3                  8                      3               3               8   \n",
       "4                  6                      3               3               2   \n",
       "\n",
       "  YearsInCurrentRole  YearsSinceLastPromotion  YearsWithCurrManager  \n",
       "0                  4                        0                     5  \n",
       "1                  7                        1                     7  \n",
       "2                  0                        0                     0  \n",
       "3                  7                        3                     0  \n",
       "4                  2                        2                     2  \n",
       "\n",
       "[5 rows x 35 columns]"
      ]
     },
     "execution_count": 14,
     "metadata": {},
     "output_type": "execute_result"
    }
   ],
   "source": [
    "df = pd.read_csv(r'WA_Fn-UseC_-HR-Employee-Attrition.csv')\n",
    "df.head()"
   ]
  },
  {
   "cell_type": "markdown",
   "id": "51263a96",
   "metadata": {},
   "source": [
    "## Data Preprocessing"
   ]
  },
  {
   "cell_type": "code",
   "execution_count": 15,
   "id": "8cb39d8b",
   "metadata": {
    "id": "8cb39d8b",
    "outputId": "21698605-52a1-45b2-c580-c1198f5fa7e1"
   },
   "outputs": [
    {
     "data": {
      "text/plain": [
       "Index(['Age', 'Attrition', 'BusinessTravel', 'DailyRate', 'Department',\n",
       "       'DistanceFromHome', 'Education', 'EducationField', 'EmployeeCount',\n",
       "       'EmployeeNumber', 'EnvironmentSatisfaction', 'Gender', 'HourlyRate',\n",
       "       'JobInvolvement', 'JobLevel', 'JobRole', 'JobSatisfaction',\n",
       "       'MaritalStatus', 'MonthlyIncome', 'MonthlyRate', 'NumCompaniesWorked',\n",
       "       'Over18', 'OverTime', 'PercentSalaryHike', 'PerformanceRating',\n",
       "       'RelationshipSatisfaction', 'StandardHours', 'StockOptionLevel',\n",
       "       'TotalWorkingYears', 'TrainingTimesLastYear', 'WorkLifeBalance',\n",
       "       'YearsAtCompany', 'YearsInCurrentRole', 'YearsSinceLastPromotion',\n",
       "       'YearsWithCurrManager'],\n",
       "      dtype='object')"
      ]
     },
     "execution_count": 15,
     "metadata": {},
     "output_type": "execute_result"
    }
   ],
   "source": [
    "df.columns.str.strip()\n",
    "#The str.strip() function is used to remove leading and trailing characters.\n",
    "#Strip whitespaces (including newlines)"
   ]
  },
  {
   "cell_type": "code",
   "execution_count": 16,
   "id": "d332d470",
   "metadata": {
    "id": "d332d470",
    "outputId": "4eee5418-7e3b-45f8-ed83-715375ac88e7"
   },
   "outputs": [
    {
     "data": {
      "text/plain": [
       "0    1. Bat.  \n",
       "1    2. Dog!\\n\n",
       "2    3. fox?\\t\n",
       "3          NaN\n",
       "dtype: object"
      ]
     },
     "execution_count": 16,
     "metadata": {},
     "output_type": "execute_result"
    }
   ],
   "source": [
    "s = pd.Series(['1. Bat.  ', '2. Dog!\\n', '3. fox?\\t', np.nan])\n",
    "s\n",
    "#a set of specified characters from each string in the Series/Index from left and right sides."
   ]
  },
  {
   "cell_type": "code",
   "execution_count": 17,
   "id": "70f2eefc",
   "metadata": {
    "id": "70f2eefc",
    "outputId": "47d317ce-7c05-4417-cb7c-c0035673ac5d"
   },
   "outputs": [
    {
     "data": {
      "text/plain": [
       "0    Bat\n",
       "1    Dog\n",
       "2    fox\n",
       "3    NaN\n",
       "dtype: object"
      ]
     },
     "execution_count": 17,
     "metadata": {},
     "output_type": "execute_result"
    }
   ],
   "source": [
    "s.str.strip('123.!? \\n\\t')"
   ]
  },
  {
   "cell_type": "code",
   "execution_count": 18,
   "id": "ee107bb2",
   "metadata": {
    "id": "ee107bb2",
    "outputId": "588a2b65-b569-4fe1-d2b4-445e7be98263"
   },
   "outputs": [
    {
     "data": {
      "text/plain": [
       "0    1. Bat \n",
       "1    2. Dog \n",
       "2    3. fox \n",
       "3        NaN\n",
       "dtype: object"
      ]
     },
     "execution_count": 18,
     "metadata": {},
     "output_type": "execute_result"
    }
   ],
   "source": [
    "s = pd.Series(['1. Bat cy', '2. Dog cy', '3. fox cy',np.nan])\n",
    "s1=s.str.replace(\"cy\",\"\")\n",
    "s1"
   ]
  },
  {
   "cell_type": "markdown",
   "id": "86c60cb1",
   "metadata": {},
   "source": [
    "## Data Types in Pandas"
   ]
  },
  {
   "cell_type": "code",
   "execution_count": 19,
   "id": "c4589bd2",
   "metadata": {},
   "outputs": [],
   "source": [
    "df = pd.read_csv(\"WA_Fn-UseC_-HR-Employee-Attrition.csv\")"
   ]
  },
  {
   "cell_type": "code",
   "execution_count": 20,
   "id": "6e1664b3",
   "metadata": {},
   "outputs": [
    {
     "name": "stdout",
     "output_type": "stream",
     "text": [
      "<class 'pandas.core.frame.DataFrame'>\n",
      "RangeIndex: 1470 entries, 0 to 1469\n",
      "Data columns (total 35 columns):\n",
      " #   Column                    Non-Null Count  Dtype \n",
      "---  ------                    --------------  ----- \n",
      " 0   Age                       1470 non-null   int64 \n",
      " 1   Attrition                 1470 non-null   object\n",
      " 2   BusinessTravel            1470 non-null   object\n",
      " 3   DailyRate                 1470 non-null   int64 \n",
      " 4   Department                1470 non-null   object\n",
      " 5   DistanceFromHome          1470 non-null   int64 \n",
      " 6   Education                 1470 non-null   int64 \n",
      " 7   EducationField            1470 non-null   object\n",
      " 8   EmployeeCount             1470 non-null   int64 \n",
      " 9   EmployeeNumber            1470 non-null   int64 \n",
      " 10  EnvironmentSatisfaction   1470 non-null   int64 \n",
      " 11  Gender                    1470 non-null   object\n",
      " 12  HourlyRate                1470 non-null   int64 \n",
      " 13  JobInvolvement            1470 non-null   int64 \n",
      " 14  JobLevel                  1470 non-null   int64 \n",
      " 15  JobRole                   1470 non-null   object\n",
      " 16  JobSatisfaction           1470 non-null   int64 \n",
      " 17  MaritalStatus             1470 non-null   object\n",
      " 18  MonthlyIncome             1470 non-null   int64 \n",
      " 19  MonthlyRate               1470 non-null   int64 \n",
      " 20  NumCompaniesWorked        1470 non-null   int64 \n",
      " 21  Over18                    1470 non-null   object\n",
      " 22  OverTime                  1470 non-null   object\n",
      " 23  PercentSalaryHike         1470 non-null   int64 \n",
      " 24  PerformanceRating         1470 non-null   int64 \n",
      " 25  RelationshipSatisfaction  1470 non-null   int64 \n",
      " 26  StandardHours             1470 non-null   int64 \n",
      " 27  StockOptionLevel          1470 non-null   int64 \n",
      " 28  TotalWorkingYears         1470 non-null   int64 \n",
      " 29  TrainingTimesLastYear     1470 non-null   int64 \n",
      " 30  WorkLifeBalance           1470 non-null   int64 \n",
      " 31  YearsAtCompany            1470 non-null   int64 \n",
      " 32  YearsInCurrentRole        1470 non-null   int64 \n",
      " 33  YearsSinceLastPromotion   1470 non-null   int64 \n",
      " 34  YearsWithCurrManager      1470 non-null   int64 \n",
      "dtypes: int64(26), object(9)\n",
      "memory usage: 402.1+ KB\n"
     ]
    }
   ],
   "source": [
    "df.info()"
   ]
  },
  {
   "cell_type": "code",
   "execution_count": 21,
   "id": "66442a36",
   "metadata": {},
   "outputs": [
    {
     "data": {
      "text/html": [
       "<div>\n",
       "<style scoped>\n",
       "    .dataframe tbody tr th:only-of-type {\n",
       "        vertical-align: middle;\n",
       "    }\n",
       "\n",
       "    .dataframe tbody tr th {\n",
       "        vertical-align: top;\n",
       "    }\n",
       "\n",
       "    .dataframe thead th {\n",
       "        text-align: right;\n",
       "    }\n",
       "</style>\n",
       "<table border=\"1\" class=\"dataframe\">\n",
       "  <thead>\n",
       "    <tr style=\"text-align: right;\">\n",
       "      <th></th>\n",
       "      <th>Age</th>\n",
       "      <th>DailyRate</th>\n",
       "      <th>DistanceFromHome</th>\n",
       "      <th>Education</th>\n",
       "      <th>EmployeeCount</th>\n",
       "      <th>EmployeeNumber</th>\n",
       "      <th>EnvironmentSatisfaction</th>\n",
       "      <th>HourlyRate</th>\n",
       "      <th>JobInvolvement</th>\n",
       "      <th>JobLevel</th>\n",
       "      <th>...</th>\n",
       "      <th>RelationshipSatisfaction</th>\n",
       "      <th>StandardHours</th>\n",
       "      <th>StockOptionLevel</th>\n",
       "      <th>TotalWorkingYears</th>\n",
       "      <th>TrainingTimesLastYear</th>\n",
       "      <th>WorkLifeBalance</th>\n",
       "      <th>YearsAtCompany</th>\n",
       "      <th>YearsInCurrentRole</th>\n",
       "      <th>YearsSinceLastPromotion</th>\n",
       "      <th>YearsWithCurrManager</th>\n",
       "    </tr>\n",
       "  </thead>\n",
       "  <tbody>\n",
       "    <tr>\n",
       "      <th>0</th>\n",
       "      <td>41</td>\n",
       "      <td>1102</td>\n",
       "      <td>1</td>\n",
       "      <td>2</td>\n",
       "      <td>1</td>\n",
       "      <td>1</td>\n",
       "      <td>2</td>\n",
       "      <td>94</td>\n",
       "      <td>3</td>\n",
       "      <td>2</td>\n",
       "      <td>...</td>\n",
       "      <td>1</td>\n",
       "      <td>80</td>\n",
       "      <td>0</td>\n",
       "      <td>8</td>\n",
       "      <td>0</td>\n",
       "      <td>1</td>\n",
       "      <td>6</td>\n",
       "      <td>4</td>\n",
       "      <td>0</td>\n",
       "      <td>5</td>\n",
       "    </tr>\n",
       "    <tr>\n",
       "      <th>1</th>\n",
       "      <td>49</td>\n",
       "      <td>279</td>\n",
       "      <td>8</td>\n",
       "      <td>1</td>\n",
       "      <td>1</td>\n",
       "      <td>2</td>\n",
       "      <td>3</td>\n",
       "      <td>61</td>\n",
       "      <td>2</td>\n",
       "      <td>2</td>\n",
       "      <td>...</td>\n",
       "      <td>4</td>\n",
       "      <td>80</td>\n",
       "      <td>1</td>\n",
       "      <td>10</td>\n",
       "      <td>3</td>\n",
       "      <td>3</td>\n",
       "      <td>10</td>\n",
       "      <td>7</td>\n",
       "      <td>1</td>\n",
       "      <td>7</td>\n",
       "    </tr>\n",
       "    <tr>\n",
       "      <th>2</th>\n",
       "      <td>37</td>\n",
       "      <td>1373</td>\n",
       "      <td>2</td>\n",
       "      <td>2</td>\n",
       "      <td>1</td>\n",
       "      <td>4</td>\n",
       "      <td>4</td>\n",
       "      <td>92</td>\n",
       "      <td>2</td>\n",
       "      <td>1</td>\n",
       "      <td>...</td>\n",
       "      <td>2</td>\n",
       "      <td>80</td>\n",
       "      <td>0</td>\n",
       "      <td>7</td>\n",
       "      <td>3</td>\n",
       "      <td>3</td>\n",
       "      <td>0</td>\n",
       "      <td>0</td>\n",
       "      <td>0</td>\n",
       "      <td>0</td>\n",
       "    </tr>\n",
       "    <tr>\n",
       "      <th>3</th>\n",
       "      <td>33</td>\n",
       "      <td>1392</td>\n",
       "      <td>3</td>\n",
       "      <td>4</td>\n",
       "      <td>1</td>\n",
       "      <td>5</td>\n",
       "      <td>4</td>\n",
       "      <td>56</td>\n",
       "      <td>3</td>\n",
       "      <td>1</td>\n",
       "      <td>...</td>\n",
       "      <td>3</td>\n",
       "      <td>80</td>\n",
       "      <td>0</td>\n",
       "      <td>8</td>\n",
       "      <td>3</td>\n",
       "      <td>3</td>\n",
       "      <td>8</td>\n",
       "      <td>7</td>\n",
       "      <td>3</td>\n",
       "      <td>0</td>\n",
       "    </tr>\n",
       "    <tr>\n",
       "      <th>4</th>\n",
       "      <td>27</td>\n",
       "      <td>591</td>\n",
       "      <td>2</td>\n",
       "      <td>1</td>\n",
       "      <td>1</td>\n",
       "      <td>7</td>\n",
       "      <td>1</td>\n",
       "      <td>40</td>\n",
       "      <td>3</td>\n",
       "      <td>1</td>\n",
       "      <td>...</td>\n",
       "      <td>4</td>\n",
       "      <td>80</td>\n",
       "      <td>1</td>\n",
       "      <td>6</td>\n",
       "      <td>3</td>\n",
       "      <td>3</td>\n",
       "      <td>2</td>\n",
       "      <td>2</td>\n",
       "      <td>2</td>\n",
       "      <td>2</td>\n",
       "    </tr>\n",
       "  </tbody>\n",
       "</table>\n",
       "<p>5 rows × 26 columns</p>\n",
       "</div>"
      ],
      "text/plain": [
       "   Age  DailyRate  DistanceFromHome  Education  EmployeeCount  EmployeeNumber  \\\n",
       "0   41       1102                 1          2              1               1   \n",
       "1   49        279                 8          1              1               2   \n",
       "2   37       1373                 2          2              1               4   \n",
       "3   33       1392                 3          4              1               5   \n",
       "4   27        591                 2          1              1               7   \n",
       "\n",
       "   EnvironmentSatisfaction  HourlyRate  JobInvolvement  JobLevel  ...  \\\n",
       "0                        2          94               3         2  ...   \n",
       "1                        3          61               2         2  ...   \n",
       "2                        4          92               2         1  ...   \n",
       "3                        4          56               3         1  ...   \n",
       "4                        1          40               3         1  ...   \n",
       "\n",
       "   RelationshipSatisfaction  StandardHours  StockOptionLevel  \\\n",
       "0                         1             80                 0   \n",
       "1                         4             80                 1   \n",
       "2                         2             80                 0   \n",
       "3                         3             80                 0   \n",
       "4                         4             80                 1   \n",
       "\n",
       "   TotalWorkingYears  TrainingTimesLastYear  WorkLifeBalance  YearsAtCompany  \\\n",
       "0                  8                      0                1               6   \n",
       "1                 10                      3                3              10   \n",
       "2                  7                      3                3               0   \n",
       "3                  8                      3                3               8   \n",
       "4                  6                      3                3               2   \n",
       "\n",
       "   YearsInCurrentRole  YearsSinceLastPromotion  YearsWithCurrManager  \n",
       "0                   4                        0                     5  \n",
       "1                   7                        1                     7  \n",
       "2                   0                        0                     0  \n",
       "3                   7                        3                     0  \n",
       "4                   2                        2                     2  \n",
       "\n",
       "[5 rows x 26 columns]"
      ]
     },
     "execution_count": 21,
     "metadata": {},
     "output_type": "execute_result"
    }
   ],
   "source": [
    "# select numerical columns\n",
    "df_numeric = df.select_dtypes(include=\"int64\")\n",
    "df_numeric.head()"
   ]
  },
  {
   "cell_type": "code",
   "execution_count": 22,
   "id": "2462f9e8",
   "metadata": {},
   "outputs": [
    {
     "data": {
      "text/plain": [
       "array(['Age', 'DailyRate', 'DistanceFromHome', 'Education',\n",
       "       'EmployeeCount', 'EmployeeNumber', 'EnvironmentSatisfaction',\n",
       "       'HourlyRate', 'JobInvolvement', 'JobLevel', 'JobSatisfaction',\n",
       "       'MonthlyIncome', 'MonthlyRate', 'NumCompaniesWorked',\n",
       "       'PercentSalaryHike', 'PerformanceRating',\n",
       "       'RelationshipSatisfaction', 'StandardHours', 'StockOptionLevel',\n",
       "       'TotalWorkingYears', 'TrainingTimesLastYear', 'WorkLifeBalance',\n",
       "       'YearsAtCompany', 'YearsInCurrentRole', 'YearsSinceLastPromotion',\n",
       "       'YearsWithCurrManager'], dtype=object)"
      ]
     },
     "execution_count": 22,
     "metadata": {},
     "output_type": "execute_result"
    }
   ],
   "source": [
    "numeric_cols = df_numeric.columns.values\n",
    "numeric_cols"
   ]
  },
  {
   "cell_type": "code",
   "execution_count": 23,
   "id": "4e8142b5",
   "metadata": {
    "id": "4e8142b5"
   },
   "outputs": [],
   "source": [
    "# select non-numeric columns\n",
    "df_non_numeric = df.select_dtypes(exclude=[\"int64\",\"float64\"])\n",
    "non_numeric_cols = df_non_numeric.columns.values"
   ]
  },
  {
   "cell_type": "code",
   "execution_count": 24,
   "id": "3237a171",
   "metadata": {
    "id": "3237a171",
    "outputId": "f54c2d7c-7f32-4308-e0cd-3193e5a52d93"
   },
   "outputs": [
    {
     "data": {
      "text/plain": [
       "array(['Attrition', 'BusinessTravel', 'Department', 'EducationField',\n",
       "       'Gender', 'JobRole', 'MaritalStatus', 'Over18', 'OverTime'],\n",
       "      dtype=object)"
      ]
     },
     "execution_count": 24,
     "metadata": {},
     "output_type": "execute_result"
    }
   ],
   "source": [
    "non_numeric_cols"
   ]
  },
  {
   "cell_type": "markdown",
   "id": "f827d2b9",
   "metadata": {},
   "source": [
    "## Create a dataframe with all datatypes"
   ]
  },
  {
   "cell_type": "code",
   "execution_count": 25,
   "id": "fbdfb82d",
   "metadata": {},
   "outputs": [],
   "source": [
    "data = pd.DataFrame({\n",
    "'Object': ['Text', 'Another text', 'Yet another text'],\n",
    "'Int64': [1, 2, 3],\n",
    "'Float64': [1.1, 2.2, 3.3],\n",
    "'Bool': [True, False, True],\n",
    "'DateTime64': pd.to_datetime(['2023-01-01', '2023-01-02', '2023-01-03']),\n",
    "'TimeDelta': pd.to_timedelta(['1 days', '2 days', '3 days']),\n",
    "'Category': pd.Categorical(['A', 'B', 'A'])\n",
    "})"
   ]
  },
  {
   "cell_type": "code",
   "execution_count": 26,
   "id": "3f71fe3e",
   "metadata": {},
   "outputs": [
    {
     "data": {
      "text/html": [
       "<div>\n",
       "<style scoped>\n",
       "    .dataframe tbody tr th:only-of-type {\n",
       "        vertical-align: middle;\n",
       "    }\n",
       "\n",
       "    .dataframe tbody tr th {\n",
       "        vertical-align: top;\n",
       "    }\n",
       "\n",
       "    .dataframe thead th {\n",
       "        text-align: right;\n",
       "    }\n",
       "</style>\n",
       "<table border=\"1\" class=\"dataframe\">\n",
       "  <thead>\n",
       "    <tr style=\"text-align: right;\">\n",
       "      <th></th>\n",
       "      <th>Object</th>\n",
       "      <th>Int64</th>\n",
       "      <th>Float64</th>\n",
       "      <th>Bool</th>\n",
       "      <th>DateTime64</th>\n",
       "      <th>TimeDelta</th>\n",
       "      <th>Category</th>\n",
       "    </tr>\n",
       "  </thead>\n",
       "  <tbody>\n",
       "    <tr>\n",
       "      <th>0</th>\n",
       "      <td>Text</td>\n",
       "      <td>1</td>\n",
       "      <td>1.1</td>\n",
       "      <td>True</td>\n",
       "      <td>2023-01-01</td>\n",
       "      <td>1 days</td>\n",
       "      <td>A</td>\n",
       "    </tr>\n",
       "    <tr>\n",
       "      <th>1</th>\n",
       "      <td>Another text</td>\n",
       "      <td>2</td>\n",
       "      <td>2.2</td>\n",
       "      <td>False</td>\n",
       "      <td>2023-01-02</td>\n",
       "      <td>2 days</td>\n",
       "      <td>B</td>\n",
       "    </tr>\n",
       "    <tr>\n",
       "      <th>2</th>\n",
       "      <td>Yet another text</td>\n",
       "      <td>3</td>\n",
       "      <td>3.3</td>\n",
       "      <td>True</td>\n",
       "      <td>2023-01-03</td>\n",
       "      <td>3 days</td>\n",
       "      <td>A</td>\n",
       "    </tr>\n",
       "  </tbody>\n",
       "</table>\n",
       "</div>"
      ],
      "text/plain": [
       "             Object  Int64  Float64   Bool DateTime64 TimeDelta Category\n",
       "0              Text      1      1.1   True 2023-01-01    1 days        A\n",
       "1      Another text      2      2.2  False 2023-01-02    2 days        B\n",
       "2  Yet another text      3      3.3   True 2023-01-03    3 days        A"
      ]
     },
     "execution_count": 26,
     "metadata": {},
     "output_type": "execute_result"
    }
   ],
   "source": [
    "data"
   ]
  },
  {
   "cell_type": "code",
   "execution_count": 27,
   "id": "96a068f1",
   "metadata": {},
   "outputs": [
    {
     "name": "stdout",
     "output_type": "stream",
     "text": [
      "<class 'pandas.core.frame.DataFrame'>\n",
      "RangeIndex: 3 entries, 0 to 2\n",
      "Data columns (total 7 columns):\n",
      " #   Column      Non-Null Count  Dtype          \n",
      "---  ------      --------------  -----          \n",
      " 0   Object      3 non-null      object         \n",
      " 1   Int64       3 non-null      int64          \n",
      " 2   Float64     3 non-null      float64        \n",
      " 3   Bool        3 non-null      bool           \n",
      " 4   DateTime64  3 non-null      datetime64[ns] \n",
      " 5   TimeDelta   3 non-null      timedelta64[ns]\n",
      " 6   Category    3 non-null      category       \n",
      "dtypes: bool(1), category(1), datetime64[ns](1), float64(1), int64(1), object(1), timedelta64[ns](1)\n",
      "memory usage: 382.0+ bytes\n"
     ]
    }
   ],
   "source": [
    "data.info()"
   ]
  },
  {
   "cell_type": "markdown",
   "id": "63bc9bc4",
   "metadata": {
    "id": "63bc9bc4"
   },
   "source": [
    "## How to deal with mixed types in Pandas columns"
   ]
  },
  {
   "cell_type": "markdown",
   "id": "ae5b5c14",
   "metadata": {
    "id": "ae5b5c14"
   },
   "source": [
    "#### Using astype() function:\n",
    "A crucial function in Pandas which is used to cast an object to a specified data type is known as astype() function. In this way, we will see how we can fix mixed data types using astype() function."
   ]
  },
  {
   "cell_type": "code",
   "execution_count": 28,
   "id": "194e90e9",
   "metadata": {
    "id": "194e90e9",
    "outputId": "47a93ce1-afff-48b6-901a-e7460ffc9687"
   },
   "outputs": [],
   "source": [
    "data_frame = pd.DataFrame( [['tom', 10], ['nick', '15'], ['juli', 14.8]], columns=['Name', 'Age'])"
   ]
  },
  {
   "cell_type": "code",
   "execution_count": 29,
   "id": "483c5ed0",
   "metadata": {},
   "outputs": [
    {
     "data": {
      "text/html": [
       "<div>\n",
       "<style scoped>\n",
       "    .dataframe tbody tr th:only-of-type {\n",
       "        vertical-align: middle;\n",
       "    }\n",
       "\n",
       "    .dataframe tbody tr th {\n",
       "        vertical-align: top;\n",
       "    }\n",
       "\n",
       "    .dataframe thead th {\n",
       "        text-align: right;\n",
       "    }\n",
       "</style>\n",
       "<table border=\"1\" class=\"dataframe\">\n",
       "  <thead>\n",
       "    <tr style=\"text-align: right;\">\n",
       "      <th></th>\n",
       "      <th>Name</th>\n",
       "      <th>Age</th>\n",
       "    </tr>\n",
       "  </thead>\n",
       "  <tbody>\n",
       "    <tr>\n",
       "      <th>0</th>\n",
       "      <td>tom</td>\n",
       "      <td>10</td>\n",
       "    </tr>\n",
       "    <tr>\n",
       "      <th>1</th>\n",
       "      <td>nick</td>\n",
       "      <td>15</td>\n",
       "    </tr>\n",
       "    <tr>\n",
       "      <th>2</th>\n",
       "      <td>juli</td>\n",
       "      <td>14.8</td>\n",
       "    </tr>\n",
       "  </tbody>\n",
       "</table>\n",
       "</div>"
      ],
      "text/plain": [
       "   Name   Age\n",
       "0   tom    10\n",
       "1  nick    15\n",
       "2  juli  14.8"
      ]
     },
     "execution_count": 29,
     "metadata": {},
     "output_type": "execute_result"
    }
   ],
   "source": [
    "data_frame"
   ]
  },
  {
   "cell_type": "code",
   "execution_count": 30,
   "id": "473f342e",
   "metadata": {},
   "outputs": [
    {
     "name": "stdout",
     "output_type": "stream",
     "text": [
      "<class 'pandas.core.frame.DataFrame'>\n",
      "RangeIndex: 3 entries, 0 to 2\n",
      "Data columns (total 2 columns):\n",
      " #   Column  Non-Null Count  Dtype \n",
      "---  ------  --------------  ----- \n",
      " 0   Name    3 non-null      object\n",
      " 1   Age     3 non-null      object\n",
      "dtypes: object(2)\n",
      "memory usage: 180.0+ bytes\n"
     ]
    }
   ],
   "source": [
    "data_frame.info()"
   ]
  },
  {
   "cell_type": "code",
   "execution_count": 31,
   "id": "c4402a08",
   "metadata": {},
   "outputs": [
    {
     "data": {
      "text/html": [
       "<div>\n",
       "<style scoped>\n",
       "    .dataframe tbody tr th:only-of-type {\n",
       "        vertical-align: middle;\n",
       "    }\n",
       "\n",
       "    .dataframe tbody tr th {\n",
       "        vertical-align: top;\n",
       "    }\n",
       "\n",
       "    .dataframe thead th {\n",
       "        text-align: right;\n",
       "    }\n",
       "</style>\n",
       "<table border=\"1\" class=\"dataframe\">\n",
       "  <thead>\n",
       "    <tr style=\"text-align: right;\">\n",
       "      <th></th>\n",
       "      <th>Name</th>\n",
       "      <th>Age</th>\n",
       "    </tr>\n",
       "  </thead>\n",
       "  <tbody>\n",
       "    <tr>\n",
       "      <th>0</th>\n",
       "      <td>tom</td>\n",
       "      <td>10</td>\n",
       "    </tr>\n",
       "    <tr>\n",
       "      <th>1</th>\n",
       "      <td>nick</td>\n",
       "      <td>15</td>\n",
       "    </tr>\n",
       "    <tr>\n",
       "      <th>2</th>\n",
       "      <td>juli</td>\n",
       "      <td>14</td>\n",
       "    </tr>\n",
       "  </tbody>\n",
       "</table>\n",
       "</div>"
      ],
      "text/plain": [
       "   Name  Age\n",
       "0   tom   10\n",
       "1  nick   15\n",
       "2  juli   14"
      ]
     },
     "execution_count": 31,
     "metadata": {},
     "output_type": "execute_result"
    }
   ],
   "source": [
    "# Transforming mixed data types to single data type\n",
    "data_frame[\"Age\"] = data_frame[\"Age\"].astype(int)\n",
    "data_frame"
   ]
  },
  {
   "cell_type": "code",
   "execution_count": 32,
   "id": "589ae44c",
   "metadata": {},
   "outputs": [
    {
     "name": "stdout",
     "output_type": "stream",
     "text": [
      "<class 'pandas.core.frame.DataFrame'>\n",
      "RangeIndex: 3 entries, 0 to 2\n",
      "Data columns (total 2 columns):\n",
      " #   Column  Non-Null Count  Dtype \n",
      "---  ------  --------------  ----- \n",
      " 0   Name    3 non-null      object\n",
      " 1   Age     3 non-null      int32 \n",
      "dtypes: int32(1), object(1)\n",
      "memory usage: 168.0+ bytes\n"
     ]
    }
   ],
   "source": [
    "data_frame.info()"
   ]
  },
  {
   "cell_type": "markdown",
   "id": "142eabb6",
   "metadata": {
    "id": "142eabb6"
   },
   "source": [
    "#### Using to_numeric() function:\n",
    "The to_numeric() function is used to convert an argument to a numeric data type. In this way, we will see how we can fix mixed data types using to_numeric() function."
   ]
  },
  {
   "cell_type": "code",
   "execution_count": 33,
   "id": "121e1a73",
   "metadata": {
    "id": "121e1a73",
    "outputId": "549a5ced-ae46-43b7-d914-32535fa538f5"
   },
   "outputs": [
    {
     "data": {
      "text/html": [
       "<div>\n",
       "<style scoped>\n",
       "    .dataframe tbody tr th:only-of-type {\n",
       "        vertical-align: middle;\n",
       "    }\n",
       "\n",
       "    .dataframe tbody tr th {\n",
       "        vertical-align: top;\n",
       "    }\n",
       "\n",
       "    .dataframe thead th {\n",
       "        text-align: right;\n",
       "    }\n",
       "</style>\n",
       "<table border=\"1\" class=\"dataframe\">\n",
       "  <thead>\n",
       "    <tr style=\"text-align: right;\">\n",
       "      <th></th>\n",
       "      <th>Name</th>\n",
       "      <th>Age</th>\n",
       "    </tr>\n",
       "  </thead>\n",
       "  <tbody>\n",
       "    <tr>\n",
       "      <th>0</th>\n",
       "      <td>tom</td>\n",
       "      <td>10</td>\n",
       "    </tr>\n",
       "    <tr>\n",
       "      <th>1</th>\n",
       "      <td>nick</td>\n",
       "      <td>15</td>\n",
       "    </tr>\n",
       "    <tr>\n",
       "      <th>2</th>\n",
       "      <td>juli</td>\n",
       "      <td>14.8</td>\n",
       "    </tr>\n",
       "  </tbody>\n",
       "</table>\n",
       "</div>"
      ],
      "text/plain": [
       "   Name   Age\n",
       "0   tom    10\n",
       "1  nick    15\n",
       "2  juli  14.8"
      ]
     },
     "execution_count": 33,
     "metadata": {},
     "output_type": "execute_result"
    }
   ],
   "source": [
    "# Create the pandas DataFrame\n",
    "data_frame = pd.DataFrame( [['tom', 10], ['nick', '15'], ['juli', 14.8]], columns=['Name', 'Age'])\n",
    "data_frame\n"
   ]
  },
  {
   "cell_type": "markdown",
   "id": "c2eac7ab",
   "metadata": {},
   "source": [
    "This code will convert the 'Age' column to numeric, and if any values cannot be converted to numeric (e.g., '15'), it will coerce them to NaN (Not a Number). Here, the errors='coerce' parameter is used to handle non-numeric values gracefully by converting them to NaN."
   ]
  },
  {
   "cell_type": "code",
   "execution_count": 34,
   "id": "c65c065d",
   "metadata": {},
   "outputs": [],
   "source": [
    "data_frame['Age'] = pd.to_numeric(data_frame['Age'], errors='coerce')"
   ]
  },
  {
   "cell_type": "code",
   "execution_count": 35,
   "id": "06332d64",
   "metadata": {},
   "outputs": [
    {
     "name": "stdout",
     "output_type": "stream",
     "text": [
      "<class 'pandas.core.frame.DataFrame'>\n",
      "RangeIndex: 3 entries, 0 to 2\n",
      "Data columns (total 2 columns):\n",
      " #   Column  Non-Null Count  Dtype  \n",
      "---  ------  --------------  -----  \n",
      " 0   Name    3 non-null      object \n",
      " 1   Age     3 non-null      float64\n",
      "dtypes: float64(1), object(1)\n",
      "memory usage: 180.0+ bytes\n"
     ]
    }
   ],
   "source": [
    "data_frame.info()"
   ]
  },
  {
   "cell_type": "code",
   "execution_count": 36,
   "id": "9881d26c",
   "metadata": {},
   "outputs": [
    {
     "name": "stdout",
     "output_type": "stream",
     "text": [
      "<class 'pandas.core.frame.DataFrame'>\n",
      "RangeIndex: 3 entries, 0 to 2\n",
      "Data columns (total 2 columns):\n",
      " #   Column  Non-Null Count  Dtype \n",
      "---  ------  --------------  ----- \n",
      " 0   Name    3 non-null      object\n",
      " 1   Age     3 non-null      int32 \n",
      "dtypes: int32(1), object(1)\n",
      "memory usage: 168.0+ bytes\n"
     ]
    }
   ],
   "source": [
    "data_frame['Age'] = pd.to_numeric(data_frame['Age'], errors='coerce').astype(int)\n",
    "data_frame.info()"
   ]
  },
  {
   "cell_type": "markdown",
   "id": "b5e39d4e",
   "metadata": {},
   "source": [
    "## Date Time formating"
   ]
  },
  {
   "cell_type": "markdown",
   "id": "0ae7ac7f",
   "metadata": {},
   "source": [
    "Example 1: Get Current Date and Time"
   ]
  },
  {
   "cell_type": "code",
   "execution_count": 37,
   "id": "5e432157",
   "metadata": {},
   "outputs": [
    {
     "name": "stdout",
     "output_type": "stream",
     "text": [
      "2024-04-22 15:51:06.441708\n"
     ]
    }
   ],
   "source": [
    "import datetime\n",
    "\n",
    "# get the current date and time\n",
    "now = datetime.datetime.now()\n",
    "print(now)"
   ]
  },
  {
   "cell_type": "code",
   "execution_count": 38,
   "id": "df29cc61",
   "metadata": {},
   "outputs": [
    {
     "name": "stdout",
     "output_type": "stream",
     "text": [
      "2024-04-22\n"
     ]
    }
   ],
   "source": [
    "#Example 2: Get Current Date\n",
    "\n",
    "# get current date\n",
    "current_date = datetime.date.today()\n",
    "\n",
    "print(current_date)"
   ]
  },
  {
   "cell_type": "markdown",
   "id": "e7e5362a",
   "metadata": {},
   "source": [
    "Attributes of datetime Module\n",
    "We can use the dir() function to get a list containing all attributes of a module.\n",
    "\n",
    "Among all the attributes of datetime module, the most commonly used classes in the datetime module are:\n",
    "\n",
    "datetime.datetime - represents a single point in time, including a date and a time.\n",
    "\n",
    "datetime.date - represents a date (year, month, and day) without a time.\n",
    "\n",
    "datetime.time - represents a time (hour, minute, second, and microsecond) without a date.\n",
    "\n",
    "datetime.timedelta - represents a duration, which can be used to perform arithmetic with datetime objects.\n",
    "https://www.programiz.com/python-programming/datetime"
   ]
  },
  {
   "cell_type": "code",
   "execution_count": 39,
   "id": "f4fa3fa8",
   "metadata": {},
   "outputs": [
    {
     "name": "stdout",
     "output_type": "stream",
     "text": [
      "Current year: 2024\n",
      "Current month: 4\n",
      "Current day: 22\n"
     ]
    }
   ],
   "source": [
    "# Print today's year, month and day\n",
    "from datetime import date\n",
    "\n",
    "# date object of today's date\n",
    "today = date.today() \n",
    "\n",
    "print(\"Current year:\", today.year)\n",
    "print(\"Current month:\", today.month)\n",
    "print(\"Current day:\", today.day)"
   ]
  },
  {
   "cell_type": "code",
   "execution_count": 40,
   "id": "27f4e724",
   "metadata": {},
   "outputs": [
    {
     "name": "stdout",
     "output_type": "stream",
     "text": [
      "Year = 2022\n",
      "Month = 12\n",
      "Hour = 23\n",
      "Minute = 55\n",
      "Timestamp = 1672253759.34238\n"
     ]
    }
   ],
   "source": [
    "from datetime import datetime\n",
    "\n",
    "a = datetime(2022, 12, 28, 23, 55, 59, 342380)\n",
    "\n",
    "print(\"Year =\", a.year)\n",
    "print(\"Month =\", a.month)\n",
    "print(\"Hour =\", a.hour)\n",
    "print(\"Minute =\", a.minute)\n",
    "print(\"Timestamp =\", a.timestamp())"
   ]
  },
  {
   "cell_type": "markdown",
   "id": "8d195642",
   "metadata": {},
   "source": [
    "### Consider a DataFrame with a date column"
   ]
  },
  {
   "cell_type": "code",
   "execution_count": 41,
   "id": "a8f4f3a8",
   "metadata": {},
   "outputs": [
    {
     "data": {
      "text/html": [
       "<div>\n",
       "<style scoped>\n",
       "    .dataframe tbody tr th:only-of-type {\n",
       "        vertical-align: middle;\n",
       "    }\n",
       "\n",
       "    .dataframe tbody tr th {\n",
       "        vertical-align: top;\n",
       "    }\n",
       "\n",
       "    .dataframe thead th {\n",
       "        text-align: right;\n",
       "    }\n",
       "</style>\n",
       "<table border=\"1\" class=\"dataframe\">\n",
       "  <thead>\n",
       "    <tr style=\"text-align: right;\">\n",
       "      <th></th>\n",
       "      <th>Date</th>\n",
       "    </tr>\n",
       "  </thead>\n",
       "  <tbody>\n",
       "    <tr>\n",
       "      <th>0</th>\n",
       "      <td>2024-04-20</td>\n",
       "    </tr>\n",
       "    <tr>\n",
       "      <th>1</th>\n",
       "      <td>2024-04-21</td>\n",
       "    </tr>\n",
       "    <tr>\n",
       "      <th>2</th>\n",
       "      <td>2024-04-22</td>\n",
       "    </tr>\n",
       "  </tbody>\n",
       "</table>\n",
       "</div>"
      ],
      "text/plain": [
       "         Date\n",
       "0  2024-04-20\n",
       "1  2024-04-21\n",
       "2  2024-04-22"
      ]
     },
     "execution_count": 41,
     "metadata": {},
     "output_type": "execute_result"
    }
   ],
   "source": [
    "\n",
    "data = {'Date': ['2024-04-20', '2024-04-21', '2024-04-22']}\n",
    "df = pd.DataFrame(data)\n",
    "df"
   ]
  },
  {
   "cell_type": "code",
   "execution_count": 42,
   "id": "05f98182",
   "metadata": {},
   "outputs": [
    {
     "name": "stdout",
     "output_type": "stream",
     "text": [
      "<class 'pandas.core.frame.DataFrame'>\n",
      "RangeIndex: 3 entries, 0 to 2\n",
      "Data columns (total 1 columns):\n",
      " #   Column  Non-Null Count  Dtype \n",
      "---  ------  --------------  ----- \n",
      " 0   Date    3 non-null      object\n",
      "dtypes: object(1)\n",
      "memory usage: 156.0+ bytes\n"
     ]
    }
   ],
   "source": [
    "df.info()"
   ]
  },
  {
   "cell_type": "code",
   "execution_count": 43,
   "id": "ff7a5e5c",
   "metadata": {},
   "outputs": [
    {
     "name": "stdout",
     "output_type": "stream",
     "text": [
      "<class 'pandas.core.frame.DataFrame'>\n",
      "RangeIndex: 3 entries, 0 to 2\n",
      "Data columns (total 1 columns):\n",
      " #   Column  Non-Null Count  Dtype         \n",
      "---  ------  --------------  -----         \n",
      " 0   Date    3 non-null      datetime64[ns]\n",
      "dtypes: datetime64[ns](1)\n",
      "memory usage: 156.0 bytes\n"
     ]
    }
   ],
   "source": [
    "# Convert the 'Date' column to datetime data type\n",
    "df['Date'] = pd.to_datetime(df['Date'])\n",
    "df.info()"
   ]
  },
  {
   "cell_type": "markdown",
   "id": "0e3d5ba8",
   "metadata": {},
   "source": [
    "### Python format datetime\n",
    "Python strftime() Method\n",
    "\n",
    "The strftime() method is defined under classes date, datetime and time. The method creates a formatted string from a given date, datetime or time object."
   ]
  },
  {
   "cell_type": "code",
   "execution_count": 44,
   "id": "b91e00a1",
   "metadata": {},
   "outputs": [
    {
     "name": "stdout",
     "output_type": "stream",
     "text": [
      "2024-04-22 15:51:06.640856\n",
      "Time: 15:51:06\n",
      "s1: 04/22/2024, 15:51:06\n",
      "s2: 22/04/2024, 15:51:06\n"
     ]
    }
   ],
   "source": [
    "from datetime import datetime\n",
    "\n",
    "# current date and time\n",
    "now = datetime.now()\n",
    "print(now)\n",
    "t = now.strftime(\"%H:%M:%S\")\n",
    "print(\"Time:\", t)\n",
    "\n",
    "s1 = now.strftime(\"%m/%d/%Y, %H:%M:%S\")\n",
    "# mm/dd/YY H:M:S format\n",
    "print(\"s1:\", s1)\n",
    "\n",
    "s2 = now.strftime(\"%d/%m/%Y, %H:%M:%S\")\n",
    "# dd/mm/YY H:M:S format\n",
    "print(\"s2:\", s2)"
   ]
  },
  {
   "cell_type": "markdown",
   "id": "15d30bd3",
   "metadata": {},
   "source": [
    "# Duplicates"
   ]
  },
  {
   "cell_type": "code",
   "execution_count": 45,
   "id": "686a74a2",
   "metadata": {},
   "outputs": [
    {
     "data": {
      "text/html": [
       "<div>\n",
       "<style scoped>\n",
       "    .dataframe tbody tr th:only-of-type {\n",
       "        vertical-align: middle;\n",
       "    }\n",
       "\n",
       "    .dataframe tbody tr th {\n",
       "        vertical-align: top;\n",
       "    }\n",
       "\n",
       "    .dataframe thead th {\n",
       "        text-align: right;\n",
       "    }\n",
       "</style>\n",
       "<table border=\"1\" class=\"dataframe\">\n",
       "  <thead>\n",
       "    <tr style=\"text-align: right;\">\n",
       "      <th></th>\n",
       "      <th>Age</th>\n",
       "      <th>Attrition</th>\n",
       "      <th>BusinessTravel</th>\n",
       "      <th>DailyRate</th>\n",
       "      <th>Department</th>\n",
       "      <th>DistanceFromHome</th>\n",
       "      <th>Education</th>\n",
       "      <th>EducationField</th>\n",
       "      <th>EmployeeCount</th>\n",
       "      <th>EmployeeNumber</th>\n",
       "      <th>...</th>\n",
       "      <th>RelationshipSatisfaction</th>\n",
       "      <th>StandardHours</th>\n",
       "      <th>StockOptionLevel</th>\n",
       "      <th>TotalWorkingYears</th>\n",
       "      <th>TrainingTimesLastYear</th>\n",
       "      <th>WorkLifeBalance</th>\n",
       "      <th>YearsAtCompany</th>\n",
       "      <th>YearsInCurrentRole</th>\n",
       "      <th>YearsSinceLastPromotion</th>\n",
       "      <th>YearsWithCurrManager</th>\n",
       "    </tr>\n",
       "  </thead>\n",
       "  <tbody>\n",
       "    <tr>\n",
       "      <th>0</th>\n",
       "      <td>41</td>\n",
       "      <td>Yes</td>\n",
       "      <td>Travel_Rarely</td>\n",
       "      <td>1102</td>\n",
       "      <td>Sales</td>\n",
       "      <td>1</td>\n",
       "      <td>2</td>\n",
       "      <td>Life Sciences</td>\n",
       "      <td>1</td>\n",
       "      <td>1</td>\n",
       "      <td>...</td>\n",
       "      <td>1</td>\n",
       "      <td>80</td>\n",
       "      <td>0</td>\n",
       "      <td>8</td>\n",
       "      <td>0</td>\n",
       "      <td>1</td>\n",
       "      <td>6</td>\n",
       "      <td>4</td>\n",
       "      <td>0</td>\n",
       "      <td>5</td>\n",
       "    </tr>\n",
       "    <tr>\n",
       "      <th>1</th>\n",
       "      <td>49</td>\n",
       "      <td>No</td>\n",
       "      <td>Travel_Frequently</td>\n",
       "      <td>279</td>\n",
       "      <td>Research &amp; Development</td>\n",
       "      <td>8</td>\n",
       "      <td>1</td>\n",
       "      <td>Life Sciences</td>\n",
       "      <td>1</td>\n",
       "      <td>2</td>\n",
       "      <td>...</td>\n",
       "      <td>4</td>\n",
       "      <td>80</td>\n",
       "      <td>1</td>\n",
       "      <td>10</td>\n",
       "      <td>3</td>\n",
       "      <td>3</td>\n",
       "      <td>10</td>\n",
       "      <td>7</td>\n",
       "      <td>1</td>\n",
       "      <td>7</td>\n",
       "    </tr>\n",
       "    <tr>\n",
       "      <th>2</th>\n",
       "      <td>37</td>\n",
       "      <td>Yes</td>\n",
       "      <td>Travel_Rarely</td>\n",
       "      <td>1373</td>\n",
       "      <td>Research &amp; Development</td>\n",
       "      <td>2</td>\n",
       "      <td>2</td>\n",
       "      <td>Other</td>\n",
       "      <td>1</td>\n",
       "      <td>4</td>\n",
       "      <td>...</td>\n",
       "      <td>2</td>\n",
       "      <td>80</td>\n",
       "      <td>0</td>\n",
       "      <td>7</td>\n",
       "      <td>3</td>\n",
       "      <td>3</td>\n",
       "      <td>0</td>\n",
       "      <td>0</td>\n",
       "      <td>0</td>\n",
       "      <td>0</td>\n",
       "    </tr>\n",
       "    <tr>\n",
       "      <th>3</th>\n",
       "      <td>33</td>\n",
       "      <td>No</td>\n",
       "      <td>Travel_Frequently</td>\n",
       "      <td>1392</td>\n",
       "      <td>Research &amp; Development</td>\n",
       "      <td>3</td>\n",
       "      <td>4</td>\n",
       "      <td>Life Sciences</td>\n",
       "      <td>1</td>\n",
       "      <td>5</td>\n",
       "      <td>...</td>\n",
       "      <td>3</td>\n",
       "      <td>80</td>\n",
       "      <td>0</td>\n",
       "      <td>8</td>\n",
       "      <td>3</td>\n",
       "      <td>3</td>\n",
       "      <td>8</td>\n",
       "      <td>7</td>\n",
       "      <td>3</td>\n",
       "      <td>0</td>\n",
       "    </tr>\n",
       "    <tr>\n",
       "      <th>4</th>\n",
       "      <td>27</td>\n",
       "      <td>No</td>\n",
       "      <td>Travel_Rarely</td>\n",
       "      <td>591</td>\n",
       "      <td>Research &amp; Development</td>\n",
       "      <td>2</td>\n",
       "      <td>1</td>\n",
       "      <td>Medical</td>\n",
       "      <td>1</td>\n",
       "      <td>7</td>\n",
       "      <td>...</td>\n",
       "      <td>4</td>\n",
       "      <td>80</td>\n",
       "      <td>1</td>\n",
       "      <td>6</td>\n",
       "      <td>3</td>\n",
       "      <td>3</td>\n",
       "      <td>2</td>\n",
       "      <td>2</td>\n",
       "      <td>2</td>\n",
       "      <td>2</td>\n",
       "    </tr>\n",
       "  </tbody>\n",
       "</table>\n",
       "<p>5 rows × 35 columns</p>\n",
       "</div>"
      ],
      "text/plain": [
       "   Age Attrition     BusinessTravel  DailyRate              Department  \\\n",
       "0   41       Yes      Travel_Rarely       1102                   Sales   \n",
       "1   49        No  Travel_Frequently        279  Research & Development   \n",
       "2   37       Yes      Travel_Rarely       1373  Research & Development   \n",
       "3   33        No  Travel_Frequently       1392  Research & Development   \n",
       "4   27        No      Travel_Rarely        591  Research & Development   \n",
       "\n",
       "   DistanceFromHome  Education EducationField  EmployeeCount  EmployeeNumber  \\\n",
       "0                 1          2  Life Sciences              1               1   \n",
       "1                 8          1  Life Sciences              1               2   \n",
       "2                 2          2          Other              1               4   \n",
       "3                 3          4  Life Sciences              1               5   \n",
       "4                 2          1        Medical              1               7   \n",
       "\n",
       "   ...  RelationshipSatisfaction StandardHours  StockOptionLevel  \\\n",
       "0  ...                         1            80                 0   \n",
       "1  ...                         4            80                 1   \n",
       "2  ...                         2            80                 0   \n",
       "3  ...                         3            80                 0   \n",
       "4  ...                         4            80                 1   \n",
       "\n",
       "   TotalWorkingYears  TrainingTimesLastYear WorkLifeBalance  YearsAtCompany  \\\n",
       "0                  8                      0               1               6   \n",
       "1                 10                      3               3              10   \n",
       "2                  7                      3               3               0   \n",
       "3                  8                      3               3               8   \n",
       "4                  6                      3               3               2   \n",
       "\n",
       "  YearsInCurrentRole  YearsSinceLastPromotion  YearsWithCurrManager  \n",
       "0                  4                        0                     5  \n",
       "1                  7                        1                     7  \n",
       "2                  0                        0                     0  \n",
       "3                  7                        3                     0  \n",
       "4                  2                        2                     2  \n",
       "\n",
       "[5 rows x 35 columns]"
      ]
     },
     "execution_count": 45,
     "metadata": {},
     "output_type": "execute_result"
    }
   ],
   "source": [
    "df = pd.read_csv(\"WA_Fn-UseC_-HR-Employee-Attrition.csv\")\n",
    "df.head()"
   ]
  },
  {
   "cell_type": "markdown",
   "id": "1e4eef5a",
   "metadata": {},
   "source": [
    "### Duplicates handling "
   ]
  },
  {
   "cell_type": "code",
   "execution_count": 46,
   "id": "5d737255",
   "metadata": {},
   "outputs": [
    {
     "data": {
      "text/plain": [
       "0       False\n",
       "1       False\n",
       "2       False\n",
       "3       False\n",
       "4       False\n",
       "        ...  \n",
       "1465    False\n",
       "1466    False\n",
       "1467    False\n",
       "1468    False\n",
       "1469    False\n",
       "Length: 1470, dtype: bool"
      ]
     },
     "execution_count": 46,
     "metadata": {},
     "output_type": "execute_result"
    }
   ],
   "source": [
    "df.duplicated()"
   ]
  },
  {
   "cell_type": "code",
   "execution_count": 47,
   "id": "8a73f100",
   "metadata": {},
   "outputs": [
    {
     "data": {
      "text/plain": [
       "0"
      ]
     },
     "execution_count": 47,
     "metadata": {},
     "output_type": "execute_result"
    }
   ],
   "source": [
    "df.duplicated().sum()"
   ]
  },
  {
   "cell_type": "markdown",
   "id": "9b5721a3",
   "metadata": {},
   "source": [
    "### Removing Duplicate Values\n",
    "Once you have identified the duplicate values in your DataFrame column, you may want to remove them to avoid any issues in your analysis. You can use the drop_duplicates() method to remove the duplicate rows from your DataFrame.\n",
    "\n",
    "#### keep:‘first’ or ‘last’ or False (default: ‘first’). \n",
    "\n",
    "It is used to specify which instance of the repeated rows is to be identified as a unique row."
   ]
  },
  {
   "cell_type": "code",
   "execution_count": 48,
   "id": "3bba3e8f",
   "metadata": {},
   "outputs": [],
   "source": [
    "# remove duplicate from the whole dataset\n",
    "df.drop_duplicates(inplace=True)"
   ]
  },
  {
   "cell_type": "code",
   "execution_count": 49,
   "id": "45bc3ada",
   "metadata": {},
   "outputs": [
    {
     "data": {
      "text/plain": [
       "1427"
      ]
     },
     "execution_count": 49,
     "metadata": {},
     "output_type": "execute_result"
    }
   ],
   "source": [
    "df[\"Age\"].duplicated().sum()"
   ]
  },
  {
   "cell_type": "code",
   "execution_count": 50,
   "id": "2f93c948",
   "metadata": {},
   "outputs": [],
   "source": [
    "# remove duplicate values in Age\n",
    "df.drop_duplicates(subset=['Age'], keep='first',inplace=True)\n"
   ]
  },
  {
   "cell_type": "code",
   "execution_count": 51,
   "id": "59d903c0",
   "metadata": {},
   "outputs": [
    {
     "data": {
      "text/plain": [
       "0"
      ]
     },
     "execution_count": 51,
     "metadata": {},
     "output_type": "execute_result"
    }
   ],
   "source": [
    "df[\"Age\"].duplicated().sum()"
   ]
  },
  {
   "cell_type": "code",
   "execution_count": 52,
   "id": "4b81112d",
   "metadata": {},
   "outputs": [],
   "source": [
    "# remove duplicate values in EmployeeNumber\n",
    "df.drop_duplicates(subset=['EmployeeNumber'], keep='first',inplace=True)\n"
   ]
  },
  {
   "cell_type": "code",
   "execution_count": 53,
   "id": "f6c03545",
   "metadata": {},
   "outputs": [
    {
     "data": {
      "text/plain": [
       "0"
      ]
     },
     "execution_count": 53,
     "metadata": {},
     "output_type": "execute_result"
    }
   ],
   "source": [
    "df[\"EmployeeNumber\"].duplicated().sum()"
   ]
  },
  {
   "cell_type": "markdown",
   "id": "0398c0e4",
   "metadata": {},
   "source": [
    "## For example"
   ]
  },
  {
   "cell_type": "code",
   "execution_count": 54,
   "id": "09875520",
   "metadata": {},
   "outputs": [],
   "source": [
    "import pandas as pd"
   ]
  },
  {
   "cell_type": "code",
   "execution_count": 55,
   "id": "6619f6de",
   "metadata": {},
   "outputs": [
    {
     "data": {
      "text/html": [
       "<div>\n",
       "<style scoped>\n",
       "    .dataframe tbody tr th:only-of-type {\n",
       "        vertical-align: middle;\n",
       "    }\n",
       "\n",
       "    .dataframe tbody tr th {\n",
       "        vertical-align: top;\n",
       "    }\n",
       "\n",
       "    .dataframe thead th {\n",
       "        text-align: right;\n",
       "    }\n",
       "</style>\n",
       "<table border=\"1\" class=\"dataframe\">\n",
       "  <thead>\n",
       "    <tr style=\"text-align: right;\">\n",
       "      <th></th>\n",
       "      <th>brand</th>\n",
       "      <th>style</th>\n",
       "      <th>rating</th>\n",
       "    </tr>\n",
       "  </thead>\n",
       "  <tbody>\n",
       "    <tr>\n",
       "      <th>0</th>\n",
       "      <td>Yum Yum</td>\n",
       "      <td>cup</td>\n",
       "      <td>4.0</td>\n",
       "    </tr>\n",
       "    <tr>\n",
       "      <th>1</th>\n",
       "      <td>Yum Yum</td>\n",
       "      <td>cup</td>\n",
       "      <td>4.0</td>\n",
       "    </tr>\n",
       "    <tr>\n",
       "      <th>2</th>\n",
       "      <td>Indomie</td>\n",
       "      <td>cup</td>\n",
       "      <td>3.5</td>\n",
       "    </tr>\n",
       "    <tr>\n",
       "      <th>3</th>\n",
       "      <td>Indomie</td>\n",
       "      <td>pack</td>\n",
       "      <td>15.0</td>\n",
       "    </tr>\n",
       "    <tr>\n",
       "      <th>4</th>\n",
       "      <td>Indomie</td>\n",
       "      <td>pack</td>\n",
       "      <td>5.0</td>\n",
       "    </tr>\n",
       "  </tbody>\n",
       "</table>\n",
       "</div>"
      ],
      "text/plain": [
       "     brand style  rating\n",
       "0  Yum Yum   cup     4.0\n",
       "1  Yum Yum   cup     4.0\n",
       "2  Indomie   cup     3.5\n",
       "3  Indomie  pack    15.0\n",
       "4  Indomie  pack     5.0"
      ]
     },
     "execution_count": 55,
     "metadata": {},
     "output_type": "execute_result"
    }
   ],
   "source": [
    "df = pd.DataFrame({\n",
    "    'brand': ['Yum Yum', 'Yum Yum', 'Indomie', 'Indomie', 'Indomie'],\n",
    "    'style': ['cup', 'cup', 'cup', 'pack', 'pack'],\n",
    "    'rating': [4, 4, 3.5, 15, 5]\n",
    "})\n",
    "df"
   ]
  },
  {
   "cell_type": "code",
   "execution_count": 56,
   "id": "c70e1b27",
   "metadata": {},
   "outputs": [
    {
     "data": {
      "text/plain": [
       "0    False\n",
       "1     True\n",
       "2    False\n",
       "3    False\n",
       "4    False\n",
       "dtype: bool"
      ]
     },
     "execution_count": 56,
     "metadata": {},
     "output_type": "execute_result"
    }
   ],
   "source": [
    "df.duplicated() #rows are complete duplicate"
   ]
  },
  {
   "cell_type": "code",
   "execution_count": 57,
   "id": "0f853282",
   "metadata": {},
   "outputs": [
    {
     "data": {
      "text/plain": [
       "1"
      ]
     },
     "execution_count": 57,
     "metadata": {},
     "output_type": "execute_result"
    }
   ],
   "source": [
    "df.duplicated().sum()"
   ]
  },
  {
   "cell_type": "code",
   "execution_count": 58,
   "id": "ac3f4d7d",
   "metadata": {},
   "outputs": [],
   "source": [
    "df.drop_duplicates(inplace=True)"
   ]
  },
  {
   "cell_type": "code",
   "execution_count": 59,
   "id": "a490f43c",
   "metadata": {},
   "outputs": [
    {
     "data": {
      "text/html": [
       "<div>\n",
       "<style scoped>\n",
       "    .dataframe tbody tr th:only-of-type {\n",
       "        vertical-align: middle;\n",
       "    }\n",
       "\n",
       "    .dataframe tbody tr th {\n",
       "        vertical-align: top;\n",
       "    }\n",
       "\n",
       "    .dataframe thead th {\n",
       "        text-align: right;\n",
       "    }\n",
       "</style>\n",
       "<table border=\"1\" class=\"dataframe\">\n",
       "  <thead>\n",
       "    <tr style=\"text-align: right;\">\n",
       "      <th></th>\n",
       "      <th>brand</th>\n",
       "      <th>style</th>\n",
       "      <th>rating</th>\n",
       "    </tr>\n",
       "  </thead>\n",
       "  <tbody>\n",
       "    <tr>\n",
       "      <th>0</th>\n",
       "      <td>Yum Yum</td>\n",
       "      <td>cup</td>\n",
       "      <td>4.0</td>\n",
       "    </tr>\n",
       "    <tr>\n",
       "      <th>2</th>\n",
       "      <td>Indomie</td>\n",
       "      <td>cup</td>\n",
       "      <td>3.5</td>\n",
       "    </tr>\n",
       "    <tr>\n",
       "      <th>3</th>\n",
       "      <td>Indomie</td>\n",
       "      <td>pack</td>\n",
       "      <td>15.0</td>\n",
       "    </tr>\n",
       "    <tr>\n",
       "      <th>4</th>\n",
       "      <td>Indomie</td>\n",
       "      <td>pack</td>\n",
       "      <td>5.0</td>\n",
       "    </tr>\n",
       "  </tbody>\n",
       "</table>\n",
       "</div>"
      ],
      "text/plain": [
       "     brand style  rating\n",
       "0  Yum Yum   cup     4.0\n",
       "2  Indomie   cup     3.5\n",
       "3  Indomie  pack    15.0\n",
       "4  Indomie  pack     5.0"
      ]
     },
     "execution_count": 59,
     "metadata": {},
     "output_type": "execute_result"
    }
   ],
   "source": [
    "df"
   ]
  },
  {
   "cell_type": "code",
   "execution_count": 60,
   "id": "c565c2b2",
   "metadata": {},
   "outputs": [
    {
     "data": {
      "text/html": [
       "<div>\n",
       "<style scoped>\n",
       "    .dataframe tbody tr th:only-of-type {\n",
       "        vertical-align: middle;\n",
       "    }\n",
       "\n",
       "    .dataframe tbody tr th {\n",
       "        vertical-align: top;\n",
       "    }\n",
       "\n",
       "    .dataframe thead th {\n",
       "        text-align: right;\n",
       "    }\n",
       "</style>\n",
       "<table border=\"1\" class=\"dataframe\">\n",
       "  <thead>\n",
       "    <tr style=\"text-align: right;\">\n",
       "      <th></th>\n",
       "      <th>brand</th>\n",
       "      <th>style</th>\n",
       "      <th>rating</th>\n",
       "    </tr>\n",
       "  </thead>\n",
       "  <tbody>\n",
       "    <tr>\n",
       "      <th>0</th>\n",
       "      <td>Yum Yum</td>\n",
       "      <td>cup</td>\n",
       "      <td>4.0</td>\n",
       "    </tr>\n",
       "    <tr>\n",
       "      <th>4</th>\n",
       "      <td>Indomie</td>\n",
       "      <td>pack</td>\n",
       "      <td>5.0</td>\n",
       "    </tr>\n",
       "  </tbody>\n",
       "</table>\n",
       "</div>"
      ],
      "text/plain": [
       "     brand style  rating\n",
       "0  Yum Yum   cup     4.0\n",
       "4  Indomie  pack     5.0"
      ]
     },
     "execution_count": 60,
     "metadata": {},
     "output_type": "execute_result"
    }
   ],
   "source": [
    "df.drop_duplicates(subset=['brand'],keep=\"last\")"
   ]
  },
  {
   "cell_type": "code",
   "execution_count": 61,
   "id": "c06ac5f4",
   "metadata": {},
   "outputs": [
    {
     "data": {
      "text/html": [
       "<div>\n",
       "<style scoped>\n",
       "    .dataframe tbody tr th:only-of-type {\n",
       "        vertical-align: middle;\n",
       "    }\n",
       "\n",
       "    .dataframe tbody tr th {\n",
       "        vertical-align: top;\n",
       "    }\n",
       "\n",
       "    .dataframe thead th {\n",
       "        text-align: right;\n",
       "    }\n",
       "</style>\n",
       "<table border=\"1\" class=\"dataframe\">\n",
       "  <thead>\n",
       "    <tr style=\"text-align: right;\">\n",
       "      <th></th>\n",
       "      <th>brand</th>\n",
       "      <th>style</th>\n",
       "      <th>rating</th>\n",
       "    </tr>\n",
       "  </thead>\n",
       "  <tbody>\n",
       "    <tr>\n",
       "      <th>0</th>\n",
       "      <td>Yum Yum</td>\n",
       "      <td>cup</td>\n",
       "      <td>4.0</td>\n",
       "    </tr>\n",
       "    <tr>\n",
       "      <th>3</th>\n",
       "      <td>Indomie</td>\n",
       "      <td>pack</td>\n",
       "      <td>15.0</td>\n",
       "    </tr>\n",
       "  </tbody>\n",
       "</table>\n",
       "</div>"
      ],
      "text/plain": [
       "     brand style  rating\n",
       "0  Yum Yum   cup     4.0\n",
       "3  Indomie  pack    15.0"
      ]
     },
     "execution_count": 61,
     "metadata": {},
     "output_type": "execute_result"
    }
   ],
   "source": [
    "df.drop_duplicates(subset=['style']) #by default keep = first"
   ]
  },
  {
   "cell_type": "code",
   "execution_count": 62,
   "id": "3ac61d48",
   "metadata": {},
   "outputs": [
    {
     "data": {
      "text/html": [
       "<div>\n",
       "<style scoped>\n",
       "    .dataframe tbody tr th:only-of-type {\n",
       "        vertical-align: middle;\n",
       "    }\n",
       "\n",
       "    .dataframe tbody tr th {\n",
       "        vertical-align: top;\n",
       "    }\n",
       "\n",
       "    .dataframe thead th {\n",
       "        text-align: right;\n",
       "    }\n",
       "</style>\n",
       "<table border=\"1\" class=\"dataframe\">\n",
       "  <thead>\n",
       "    <tr style=\"text-align: right;\">\n",
       "      <th></th>\n",
       "      <th>brand</th>\n",
       "      <th>style</th>\n",
       "      <th>rating</th>\n",
       "    </tr>\n",
       "  </thead>\n",
       "  <tbody>\n",
       "    <tr>\n",
       "      <th>0</th>\n",
       "      <td>Yum Yum</td>\n",
       "      <td>cup</td>\n",
       "      <td>4.0</td>\n",
       "    </tr>\n",
       "    <tr>\n",
       "      <th>2</th>\n",
       "      <td>Indomie</td>\n",
       "      <td>cup</td>\n",
       "      <td>3.5</td>\n",
       "    </tr>\n",
       "    <tr>\n",
       "      <th>4</th>\n",
       "      <td>Indomie</td>\n",
       "      <td>pack</td>\n",
       "      <td>5.0</td>\n",
       "    </tr>\n",
       "  </tbody>\n",
       "</table>\n",
       "</div>"
      ],
      "text/plain": [
       "     brand style  rating\n",
       "0  Yum Yum   cup     4.0\n",
       "2  Indomie   cup     3.5\n",
       "4  Indomie  pack     5.0"
      ]
     },
     "execution_count": 62,
     "metadata": {},
     "output_type": "execute_result"
    }
   ],
   "source": [
    "df.drop_duplicates(subset=['brand', 'style'], keep='last')"
   ]
  },
  {
   "cell_type": "code",
   "execution_count": 63,
   "id": "8a8349ed",
   "metadata": {},
   "outputs": [
    {
     "data": {
      "text/html": [
       "<div>\n",
       "<style scoped>\n",
       "    .dataframe tbody tr th:only-of-type {\n",
       "        vertical-align: middle;\n",
       "    }\n",
       "\n",
       "    .dataframe tbody tr th {\n",
       "        vertical-align: top;\n",
       "    }\n",
       "\n",
       "    .dataframe thead th {\n",
       "        text-align: right;\n",
       "    }\n",
       "</style>\n",
       "<table border=\"1\" class=\"dataframe\">\n",
       "  <thead>\n",
       "    <tr style=\"text-align: right;\">\n",
       "      <th></th>\n",
       "      <th>brand</th>\n",
       "      <th>style</th>\n",
       "      <th>rating</th>\n",
       "    </tr>\n",
       "  </thead>\n",
       "  <tbody>\n",
       "    <tr>\n",
       "      <th>0</th>\n",
       "      <td>Yum Yum</td>\n",
       "      <td>cup</td>\n",
       "      <td>4.0</td>\n",
       "    </tr>\n",
       "    <tr>\n",
       "      <th>2</th>\n",
       "      <td>Indomie</td>\n",
       "      <td>cup</td>\n",
       "      <td>3.5</td>\n",
       "    </tr>\n",
       "    <tr>\n",
       "      <th>3</th>\n",
       "      <td>Indomie</td>\n",
       "      <td>pack</td>\n",
       "      <td>15.0</td>\n",
       "    </tr>\n",
       "    <tr>\n",
       "      <th>4</th>\n",
       "      <td>Indomie</td>\n",
       "      <td>pack</td>\n",
       "      <td>5.0</td>\n",
       "    </tr>\n",
       "  </tbody>\n",
       "</table>\n",
       "</div>"
      ],
      "text/plain": [
       "     brand style  rating\n",
       "0  Yum Yum   cup     4.0\n",
       "2  Indomie   cup     3.5\n",
       "3  Indomie  pack    15.0\n",
       "4  Indomie  pack     5.0"
      ]
     },
     "execution_count": 63,
     "metadata": {},
     "output_type": "execute_result"
    }
   ],
   "source": [
    "df"
   ]
  },
  {
   "cell_type": "markdown",
   "id": "7dbc2de5",
   "metadata": {},
   "source": [
    "# Missing Values\n",
    "\n",
    "\n",
    "Handling missing values is a critical step in data preprocessing and analysis. Missing data can\n",
    "arise due to various reasons, such as errors in data collection, non-response in surveys, or\n",
    "deletions of existing data entries. Pandas provides a comprehensive set of tools to deal with\n",
    "missing values, enabling data scientists to clean, analyze, and impute missing data effectively.\n",
    "The part of this manual introduces these tools and techniques for managing missing values in\n",
    "Pandas DataFrames"
   ]
  },
  {
   "cell_type": "code",
   "execution_count": 64,
   "id": "db1ea942",
   "metadata": {},
   "outputs": [
    {
     "data": {
      "text/html": [
       "<div>\n",
       "<style scoped>\n",
       "    .dataframe tbody tr th:only-of-type {\n",
       "        vertical-align: middle;\n",
       "    }\n",
       "\n",
       "    .dataframe tbody tr th {\n",
       "        vertical-align: top;\n",
       "    }\n",
       "\n",
       "    .dataframe thead th {\n",
       "        text-align: right;\n",
       "    }\n",
       "</style>\n",
       "<table border=\"1\" class=\"dataframe\">\n",
       "  <thead>\n",
       "    <tr style=\"text-align: right;\">\n",
       "      <th></th>\n",
       "      <th>WELL</th>\n",
       "      <th>DEPTH_MD</th>\n",
       "      <th>X_LOC</th>\n",
       "      <th>Y_LOC</th>\n",
       "      <th>Z_LOC</th>\n",
       "      <th>GROUP</th>\n",
       "      <th>FORMATION</th>\n",
       "      <th>CALI</th>\n",
       "      <th>RSHA</th>\n",
       "      <th>RMED</th>\n",
       "      <th>...</th>\n",
       "      <th>GR</th>\n",
       "      <th>NPHI</th>\n",
       "      <th>PEF</th>\n",
       "      <th>DTC</th>\n",
       "      <th>SP</th>\n",
       "      <th>ROP</th>\n",
       "      <th>DTS</th>\n",
       "      <th>DCAL</th>\n",
       "      <th>DRHO</th>\n",
       "      <th>LITHOFACIES</th>\n",
       "    </tr>\n",
       "  </thead>\n",
       "  <tbody>\n",
       "    <tr>\n",
       "      <th>0</th>\n",
       "      <td>15/09/2013</td>\n",
       "      <td>494.528</td>\n",
       "      <td>437641.9688</td>\n",
       "      <td>6470972.5</td>\n",
       "      <td>-469.501831</td>\n",
       "      <td>NORDLAND GP.</td>\n",
       "      <td>NaN</td>\n",
       "      <td>19.480835</td>\n",
       "      <td>NaN</td>\n",
       "      <td>1.611410</td>\n",
       "      <td>...</td>\n",
       "      <td>80.200851</td>\n",
       "      <td>NaN</td>\n",
       "      <td>20.915468</td>\n",
       "      <td>161.131180</td>\n",
       "      <td>24.612379</td>\n",
       "      <td>34.636410</td>\n",
       "      <td>NaN</td>\n",
       "      <td>NaN</td>\n",
       "      <td>-0.574928</td>\n",
       "      <td>65000</td>\n",
       "    </tr>\n",
       "    <tr>\n",
       "      <th>1</th>\n",
       "      <td>15/09/2013</td>\n",
       "      <td>494.680</td>\n",
       "      <td>437641.9688</td>\n",
       "      <td>6470972.5</td>\n",
       "      <td>-469.653809</td>\n",
       "      <td>NORDLAND GP.</td>\n",
       "      <td>NaN</td>\n",
       "      <td>19.468800</td>\n",
       "      <td>NaN</td>\n",
       "      <td>1.618070</td>\n",
       "      <td>...</td>\n",
       "      <td>79.262886</td>\n",
       "      <td>NaN</td>\n",
       "      <td>19.383013</td>\n",
       "      <td>160.603470</td>\n",
       "      <td>23.895531</td>\n",
       "      <td>34.636410</td>\n",
       "      <td>NaN</td>\n",
       "      <td>NaN</td>\n",
       "      <td>-0.570188</td>\n",
       "      <td>65000</td>\n",
       "    </tr>\n",
       "    <tr>\n",
       "      <th>2</th>\n",
       "      <td>15/09/2013</td>\n",
       "      <td>494.832</td>\n",
       "      <td>437641.9688</td>\n",
       "      <td>6470972.5</td>\n",
       "      <td>-469.805786</td>\n",
       "      <td>NORDLAND GP.</td>\n",
       "      <td>NaN</td>\n",
       "      <td>19.468800</td>\n",
       "      <td>NaN</td>\n",
       "      <td>1.626459</td>\n",
       "      <td>...</td>\n",
       "      <td>74.821999</td>\n",
       "      <td>NaN</td>\n",
       "      <td>22.591518</td>\n",
       "      <td>160.173615</td>\n",
       "      <td>23.916357</td>\n",
       "      <td>34.779556</td>\n",
       "      <td>NaN</td>\n",
       "      <td>NaN</td>\n",
       "      <td>-0.574245</td>\n",
       "      <td>65000</td>\n",
       "    </tr>\n",
       "    <tr>\n",
       "      <th>3</th>\n",
       "      <td>15/09/2013</td>\n",
       "      <td>494.984</td>\n",
       "      <td>437641.9688</td>\n",
       "      <td>6470972.5</td>\n",
       "      <td>-469.957794</td>\n",
       "      <td>NORDLAND GP.</td>\n",
       "      <td>NaN</td>\n",
       "      <td>19.459282</td>\n",
       "      <td>NaN</td>\n",
       "      <td>1.621594</td>\n",
       "      <td>...</td>\n",
       "      <td>72.878922</td>\n",
       "      <td>NaN</td>\n",
       "      <td>32.191910</td>\n",
       "      <td>160.149429</td>\n",
       "      <td>23.793688</td>\n",
       "      <td>39.965164</td>\n",
       "      <td>NaN</td>\n",
       "      <td>NaN</td>\n",
       "      <td>-0.586315</td>\n",
       "      <td>65000</td>\n",
       "    </tr>\n",
       "    <tr>\n",
       "      <th>4</th>\n",
       "      <td>15/09/2013</td>\n",
       "      <td>495.136</td>\n",
       "      <td>437641.9688</td>\n",
       "      <td>6470972.5</td>\n",
       "      <td>-470.109772</td>\n",
       "      <td>NORDLAND GP.</td>\n",
       "      <td>NaN</td>\n",
       "      <td>19.453100</td>\n",
       "      <td>NaN</td>\n",
       "      <td>1.602679</td>\n",
       "      <td>...</td>\n",
       "      <td>71.729141</td>\n",
       "      <td>NaN</td>\n",
       "      <td>38.495632</td>\n",
       "      <td>160.128342</td>\n",
       "      <td>24.104078</td>\n",
       "      <td>57.483765</td>\n",
       "      <td>NaN</td>\n",
       "      <td>NaN</td>\n",
       "      <td>-0.597914</td>\n",
       "      <td>65000</td>\n",
       "    </tr>\n",
       "  </tbody>\n",
       "</table>\n",
       "<p>5 rows × 22 columns</p>\n",
       "</div>"
      ],
      "text/plain": [
       "         WELL  DEPTH_MD        X_LOC      Y_LOC       Z_LOC         GROUP  \\\n",
       "0  15/09/2013   494.528  437641.9688  6470972.5 -469.501831  NORDLAND GP.   \n",
       "1  15/09/2013   494.680  437641.9688  6470972.5 -469.653809  NORDLAND GP.   \n",
       "2  15/09/2013   494.832  437641.9688  6470972.5 -469.805786  NORDLAND GP.   \n",
       "3  15/09/2013   494.984  437641.9688  6470972.5 -469.957794  NORDLAND GP.   \n",
       "4  15/09/2013   495.136  437641.9688  6470972.5 -470.109772  NORDLAND GP.   \n",
       "\n",
       "  FORMATION       CALI  RSHA      RMED  ...         GR  NPHI        PEF  \\\n",
       "0       NaN  19.480835   NaN  1.611410  ...  80.200851   NaN  20.915468   \n",
       "1       NaN  19.468800   NaN  1.618070  ...  79.262886   NaN  19.383013   \n",
       "2       NaN  19.468800   NaN  1.626459  ...  74.821999   NaN  22.591518   \n",
       "3       NaN  19.459282   NaN  1.621594  ...  72.878922   NaN  32.191910   \n",
       "4       NaN  19.453100   NaN  1.602679  ...  71.729141   NaN  38.495632   \n",
       "\n",
       "          DTC         SP        ROP  DTS  DCAL      DRHO  LITHOFACIES  \n",
       "0  161.131180  24.612379  34.636410  NaN   NaN -0.574928        65000  \n",
       "1  160.603470  23.895531  34.636410  NaN   NaN -0.570188        65000  \n",
       "2  160.173615  23.916357  34.779556  NaN   NaN -0.574245        65000  \n",
       "3  160.149429  23.793688  39.965164  NaN   NaN -0.586315        65000  \n",
       "4  160.128342  24.104078  57.483765  NaN   NaN -0.597914        65000  \n",
       "\n",
       "[5 rows x 22 columns]"
      ]
     },
     "execution_count": 64,
     "metadata": {},
     "output_type": "execute_result"
    }
   ],
   "source": [
    "df1=pd.read_csv('xeek_train_subset.csv')\n",
    "df1.head()"
   ]
  },
  {
   "cell_type": "code",
   "execution_count": 65,
   "id": "298b95fd",
   "metadata": {},
   "outputs": [
    {
     "data": {
      "text/plain": [
       "WELL                0\n",
       "DEPTH_MD            0\n",
       "X_LOC            7393\n",
       "Y_LOC            7393\n",
       "Z_LOC            7393\n",
       "GROUP               0\n",
       "FORMATION       21566\n",
       "CALI              192\n",
       "RSHA            71159\n",
       "RMED             7642\n",
       "RDEP             7393\n",
       "RHOB            25145\n",
       "GR                  0\n",
       "NPHI            41473\n",
       "PEF             32358\n",
       "DTC               563\n",
       "SP              39518\n",
       "ROP              2744\n",
       "DTS            121014\n",
       "DCAL            76998\n",
       "DRHO            27659\n",
       "LITHOFACIES         0\n",
       "dtype: int64"
      ]
     },
     "execution_count": 65,
     "metadata": {},
     "output_type": "execute_result"
    }
   ],
   "source": [
    "df1.isnull().sum()"
   ]
  },
  {
   "cell_type": "code",
   "execution_count": 66,
   "id": "1116c3f2",
   "metadata": {},
   "outputs": [
    {
     "data": {
      "text/plain": [
       "WELL           0.000000\n",
       "DEPTH_MD       0.000000\n",
       "X_LOC          0.055504\n",
       "Y_LOC          0.055504\n",
       "Z_LOC          0.055504\n",
       "GROUP          0.000000\n",
       "FORMATION      0.161909\n",
       "CALI           0.001441\n",
       "RSHA           0.534235\n",
       "RMED           0.057373\n",
       "RDEP           0.055504\n",
       "RHOB           0.188779\n",
       "GR             0.000000\n",
       "NPHI           0.311364\n",
       "PEF            0.242932\n",
       "DTC            0.004227\n",
       "SP             0.296686\n",
       "ROP            0.020601\n",
       "DTS            0.908527\n",
       "DCAL           0.578072\n",
       "DRHO           0.207653\n",
       "LITHOFACIES    0.000000\n",
       "dtype: float64"
      ]
     },
     "execution_count": 66,
     "metadata": {},
     "output_type": "execute_result"
    }
   ],
   "source": [
    "df1.isnull().mean()"
   ]
  },
  {
   "cell_type": "markdown",
   "id": "06338647",
   "metadata": {},
   "source": [
    "Missing data as a percentage of total data\n",
    "There is no straightforward method to get it, but all you can do it manually."
   ]
  },
  {
   "cell_type": "code",
   "execution_count": 67,
   "id": "a5f288ab",
   "metadata": {},
   "outputs": [],
   "source": [
    "# % of values missing in each column\n",
    "cols_list = []\n",
    "values_list = []\n",
    "\n",
    "for col in df1.columns:\n",
    "    pct_missing = (df1[col].isnull().mean())*100\n",
    "    cols_list.append(col)\n",
    "    values_list.append(pct_missing)\n",
    "    "
   ]
  },
  {
   "cell_type": "code",
   "execution_count": 68,
   "id": "5c83e90f",
   "metadata": {},
   "outputs": [
    {
     "data": {
      "text/html": [
       "<div>\n",
       "<style scoped>\n",
       "    .dataframe tbody tr th:only-of-type {\n",
       "        vertical-align: middle;\n",
       "    }\n",
       "\n",
       "    .dataframe tbody tr th {\n",
       "        vertical-align: top;\n",
       "    }\n",
       "\n",
       "    .dataframe thead th {\n",
       "        text-align: right;\n",
       "    }\n",
       "</style>\n",
       "<table border=\"1\" class=\"dataframe\">\n",
       "  <thead>\n",
       "    <tr style=\"text-align: right;\">\n",
       "      <th></th>\n",
       "      <th>col</th>\n",
       "      <th>pct_missing</th>\n",
       "    </tr>\n",
       "  </thead>\n",
       "  <tbody>\n",
       "    <tr>\n",
       "      <th>0</th>\n",
       "      <td>WELL</td>\n",
       "      <td>0.000000</td>\n",
       "    </tr>\n",
       "    <tr>\n",
       "      <th>1</th>\n",
       "      <td>DEPTH_MD</td>\n",
       "      <td>0.000000</td>\n",
       "    </tr>\n",
       "    <tr>\n",
       "      <th>2</th>\n",
       "      <td>X_LOC</td>\n",
       "      <td>5.550384</td>\n",
       "    </tr>\n",
       "    <tr>\n",
       "      <th>3</th>\n",
       "      <td>Y_LOC</td>\n",
       "      <td>5.550384</td>\n",
       "    </tr>\n",
       "    <tr>\n",
       "      <th>4</th>\n",
       "      <td>Z_LOC</td>\n",
       "      <td>5.550384</td>\n",
       "    </tr>\n",
       "    <tr>\n",
       "      <th>5</th>\n",
       "      <td>GROUP</td>\n",
       "      <td>0.000000</td>\n",
       "    </tr>\n",
       "    <tr>\n",
       "      <th>6</th>\n",
       "      <td>FORMATION</td>\n",
       "      <td>16.190934</td>\n",
       "    </tr>\n",
       "    <tr>\n",
       "      <th>7</th>\n",
       "      <td>CALI</td>\n",
       "      <td>0.144146</td>\n",
       "    </tr>\n",
       "    <tr>\n",
       "      <th>8</th>\n",
       "      <td>RSHA</td>\n",
       "      <td>53.423475</td>\n",
       "    </tr>\n",
       "    <tr>\n",
       "      <th>9</th>\n",
       "      <td>RMED</td>\n",
       "      <td>5.737323</td>\n",
       "    </tr>\n",
       "    <tr>\n",
       "      <th>10</th>\n",
       "      <td>RDEP</td>\n",
       "      <td>5.550384</td>\n",
       "    </tr>\n",
       "    <tr>\n",
       "      <th>11</th>\n",
       "      <td>RHOB</td>\n",
       "      <td>18.877911</td>\n",
       "    </tr>\n",
       "    <tr>\n",
       "      <th>12</th>\n",
       "      <td>GR</td>\n",
       "      <td>0.000000</td>\n",
       "    </tr>\n",
       "    <tr>\n",
       "      <th>13</th>\n",
       "      <td>NPHI</td>\n",
       "      <td>31.136353</td>\n",
       "    </tr>\n",
       "    <tr>\n",
       "      <th>14</th>\n",
       "      <td>PEF</td>\n",
       "      <td>24.293158</td>\n",
       "    </tr>\n",
       "    <tr>\n",
       "      <th>15</th>\n",
       "      <td>DTC</td>\n",
       "      <td>0.422679</td>\n",
       "    </tr>\n",
       "    <tr>\n",
       "      <th>16</th>\n",
       "      <td>SP</td>\n",
       "      <td>29.668614</td>\n",
       "    </tr>\n",
       "    <tr>\n",
       "      <th>17</th>\n",
       "      <td>ROP</td>\n",
       "      <td>2.060091</td>\n",
       "    </tr>\n",
       "    <tr>\n",
       "      <th>18</th>\n",
       "      <td>DTS</td>\n",
       "      <td>90.852716</td>\n",
       "    </tr>\n",
       "    <tr>\n",
       "      <th>19</th>\n",
       "      <td>DCAL</td>\n",
       "      <td>57.807174</td>\n",
       "    </tr>\n",
       "    <tr>\n",
       "      <th>20</th>\n",
       "      <td>DRHO</td>\n",
       "      <td>20.765327</td>\n",
       "    </tr>\n",
       "    <tr>\n",
       "      <th>21</th>\n",
       "      <td>LITHOFACIES</td>\n",
       "      <td>0.000000</td>\n",
       "    </tr>\n",
       "  </tbody>\n",
       "</table>\n",
       "</div>"
      ],
      "text/plain": [
       "            col  pct_missing\n",
       "0          WELL     0.000000\n",
       "1      DEPTH_MD     0.000000\n",
       "2         X_LOC     5.550384\n",
       "3         Y_LOC     5.550384\n",
       "4         Z_LOC     5.550384\n",
       "5         GROUP     0.000000\n",
       "6     FORMATION    16.190934\n",
       "7          CALI     0.144146\n",
       "8          RSHA    53.423475\n",
       "9          RMED     5.737323\n",
       "10         RDEP     5.550384\n",
       "11         RHOB    18.877911\n",
       "12           GR     0.000000\n",
       "13         NPHI    31.136353\n",
       "14          PEF    24.293158\n",
       "15          DTC     0.422679\n",
       "16           SP    29.668614\n",
       "17          ROP     2.060091\n",
       "18          DTS    90.852716\n",
       "19         DCAL    57.807174\n",
       "20         DRHO    20.765327\n",
       "21  LITHOFACIES     0.000000"
      ]
     },
     "execution_count": 68,
     "metadata": {},
     "output_type": "execute_result"
    }
   ],
   "source": [
    "pct_missing_df1 = pd.DataFrame({'col': cols_list,'pct_missing': values_list})\n",
    "pct_missing_df1"
   ]
  },
  {
   "cell_type": "markdown",
   "id": "a85fff5e",
   "metadata": {},
   "source": [
    "# Missingno\n",
    "\n",
    "Missingno is an excellent and simple to use Python library that provides a series of visualisations to understand the presence and distribution of missing data within a pandas dataframe. This can be in the form of either a barplot, matrix plot, heatmap, or a dendrogram. The original publication for the library can be found https://joss.theoj.org/papers/10.21105/joss.00547\n"
   ]
  },
  {
   "cell_type": "code",
   "execution_count": 69,
   "id": "b87b1231",
   "metadata": {},
   "outputs": [],
   "source": [
    "#!pip install missingno"
   ]
  },
  {
   "cell_type": "code",
   "execution_count": 70,
   "id": "03aaa066",
   "metadata": {},
   "outputs": [],
   "source": [
    "import missingno as msno"
   ]
  },
  {
   "cell_type": "code",
   "execution_count": 71,
   "id": "ff582082",
   "metadata": {},
   "outputs": [
    {
     "data": {
      "text/plain": [
       "<Axes: >"
      ]
     },
     "execution_count": 71,
     "metadata": {},
     "output_type": "execute_result"
    },
    {
     "data": {
      "image/png": "[encoded data removed]",
      "text/plain": [
       "<Figure size 2500x1000 with 3 Axes>"
      ]
     },
     "metadata": {},
     "output_type": "display_data"
    }
   ],
   "source": [
    "bar=msno.bar(df1)\n",
    "bar"
   ]
  },
  {
   "cell_type": "markdown",
   "id": "44ae09f8",
   "metadata": {},
   "source": [
    "Basically, this plot displays the number of missing values for each column represented as a bar chart. It’s similar to the matrix plot but simpler to interpret."
   ]
  },
  {
   "cell_type": "code",
   "execution_count": 72,
   "id": "a9786e91",
   "metadata": {},
   "outputs": [
    {
     "data": {
      "image/png": "[encoded data removed]",
      "text/plain": [
       "<Figure size 1200x800 with 1 Axes>"
      ]
     },
     "metadata": {},
     "output_type": "display_data"
    }
   ],
   "source": [
    "pct_missing_df1.loc[pct_missing_df1.pct_missing > 0].plot(kind='bar', figsize=(12,8))\n",
    "\n",
    "plt.show()\n"
   ]
  },
  {
   "cell_type": "code",
   "execution_count": 74,
   "id": "730456aa",
   "metadata": {},
   "outputs": [
    {
     "data": {
      "text/plain": [
       "<Axes: >"
      ]
     },
     "execution_count": 74,
     "metadata": {},
     "output_type": "execute_result"
    },
    {
     "data": {
      "image/png": "[encoded data removed]",
      "text/plain": [
       "<Figure size 2000x1200 with 2 Axes>"
      ]
     },
     "metadata": {},
     "output_type": "display_data"
    }
   ],
   "source": [
    "msno.heatmap(df1)"
   ]
  },
  {
   "cell_type": "markdown",
   "id": "a61e612a",
   "metadata": {},
   "source": [
    "The missingno correlation heatmap measures nullity correlation: how strongly the presence or absence of one variable affects the presence of another.\n",
    "\n",
    "\n",
    "Variables that are always full or always empty are not included in the visualization as they have no significant correlation.\n",
    "\n",
    "\n",
    "The nullity correlation ranges from -1 to 1.\n",
    "\n",
    "\n",
    "-1 - Exact Negative correlation represents that if the value of one variable is present then the value of other variables is definitely absent.\n",
    "\n",
    "0 - No correlation represents that variables values present or absent do not have any effect on one another\n",
    "\n",
    "1 - Exact Positive correlation represents that if the value of one variable is present then the value of the other is definitely present.\n",
    "\n",
    "The heatmap works great for picking out data completeness relationships between variable pairs, but its explanatory power is limited when it comes to larger relationships and it has no particular support for extremely large datasets. For those, try the dendrogram instead."
   ]
  },
  {
   "cell_type": "code",
   "execution_count": 75,
   "id": "2ed3ba5c",
   "metadata": {},
   "outputs": [
    {
     "data": {
      "text/plain": [
       "<Axes: >"
      ]
     },
     "execution_count": 75,
     "metadata": {},
     "output_type": "execute_result"
    },
    {
     "data": {
      "image/png": "[encoded data removed]",
      "text/plain": [
       "<Figure size 2500x1000 with 2 Axes>"
      ]
     },
     "metadata": {},
     "output_type": "display_data"
    }
   ],
   "source": [
    "msno.matrix(df1)"
   ]
  },
  {
   "cell_type": "markdown",
   "id": "8a36e7d3",
   "metadata": {},
   "source": [
    "White lines indicate the location of missing values.\n",
    "\n",
    "The sparkline at right summarizes the general shape of the data completeness and points out the rows with the maximum and minimum nullity in the dataset.\n",
    "\n",
    "From the sparkline, we can see that there are observations without any missing values and the minimum number of values is 10, even for rows with the maximum nullity.\n",
    "\n",
    "As you can see from above, we got a matrix-like plot, where each matrix cell color is based on whether the data exists or not.\n",
    "\n",
    "If the color is dark, the data exists. If the color is white, the data is missing. From this plot, we have a picture of the proportion of missing data inside a row or a column."
   ]
  },
  {
   "cell_type": "code",
   "execution_count": 76,
   "id": "9698deec",
   "metadata": {},
   "outputs": [
    {
     "data": {
      "text/plain": [
       "<Axes: >"
      ]
     },
     "execution_count": 76,
     "metadata": {},
     "output_type": "execute_result"
    },
    {
     "data": {
      "image/png": "[encoded data removed]",
      "text/plain": [
       "<Figure size 640x480 with 2 Axes>"
      ]
     },
     "metadata": {},
     "output_type": "display_data"
    }
   ],
   "source": [
    "import seaborn as sns\n",
    "sns.heatmap(df1.isna())"
   ]
  },
  {
   "cell_type": "markdown",
   "id": "9d372b3d",
   "metadata": {},
   "source": [
    "the y-axis show the index or number of rows"
   ]
  },
  {
   "cell_type": "code",
   "execution_count": 77,
   "id": "b1ae57c6",
   "metadata": {},
   "outputs": [
    {
     "data": {
      "text/plain": [
       "(133198, 22)"
      ]
     },
     "execution_count": 77,
     "metadata": {},
     "output_type": "execute_result"
    }
   ],
   "source": [
    "df1.shape"
   ]
  },
  {
   "cell_type": "markdown",
   "id": "36457499",
   "metadata": {},
   "source": [
    "Well, if the column names are not easily readable you can always create its transposed version as below."
   ]
  },
  {
   "cell_type": "code",
   "execution_count": 78,
   "id": "e7abee4b",
   "metadata": {},
   "outputs": [
    {
     "data": {
      "text/plain": [
       "<Axes: >"
      ]
     },
     "execution_count": 78,
     "metadata": {},
     "output_type": "execute_result"
    },
    {
     "data": {
      "image/png": "[encoded data removed]",
      "text/plain": [
       "<Figure size 640x480 with 2 Axes>"
      ]
     },
     "metadata": {},
     "output_type": "display_data"
    }
   ],
   "source": [
    "sns.heatmap(df1.isna().transpose())"
   ]
  },
  {
   "cell_type": "markdown",
   "id": "81f7ab45",
   "metadata": {},
   "source": [
    "Although heatmaps gives you an idea about the location of the missing data, it does not tell you about the amount of missing data"
   ]
  },
  {
   "cell_type": "markdown",
   "id": "ec509d9a",
   "metadata": {},
   "source": [
    "# Treating missing values "
   ]
  },
  {
   "cell_type": "markdown",
   "id": "91f55c59",
   "metadata": {},
   "source": [
    "#### Based on above observations you can use any of the below 3 methods to handle missing data.\n",
    "\n",
    "**Drop the record** — Drop an entire record at an index, when a specific column has a missing value. Please be aware that this technique can drastically reduce the number of records in the dataset if the mentioned column has a huge number of missing values.\n",
    "\n",
    "**Drop the column or feature** — This needs good research of a specific column to understand its importance in the future. You can do this only when you are confident that this feature does not provide any useful information, for example, PassengerId feature in this dataset.\n",
    "\n",
    "**Impute missing data** — In this technique, you can substitute the missing values or NaNs with the mean or median or mode of the same column."
   ]
  },
  {
   "cell_type": "markdown",
   "id": "039e6580",
   "metadata": {},
   "source": [
    "## Remove columns (features)"
   ]
  },
  {
   "cell_type": "code",
   "execution_count": 79,
   "id": "1f2717ec",
   "metadata": {},
   "outputs": [
    {
     "data": {
      "text/html": [
       "<div>\n",
       "<style scoped>\n",
       "    .dataframe tbody tr th:only-of-type {\n",
       "        vertical-align: middle;\n",
       "    }\n",
       "\n",
       "    .dataframe tbody tr th {\n",
       "        vertical-align: top;\n",
       "    }\n",
       "\n",
       "    .dataframe thead th {\n",
       "        text-align: right;\n",
       "    }\n",
       "</style>\n",
       "<table border=\"1\" class=\"dataframe\">\n",
       "  <thead>\n",
       "    <tr style=\"text-align: right;\">\n",
       "      <th></th>\n",
       "      <th>WELL</th>\n",
       "      <th>DEPTH_MD</th>\n",
       "      <th>X_LOC</th>\n",
       "      <th>Y_LOC</th>\n",
       "      <th>Z_LOC</th>\n",
       "      <th>GROUP</th>\n",
       "      <th>FORMATION</th>\n",
       "      <th>CALI</th>\n",
       "      <th>RSHA</th>\n",
       "      <th>RMED</th>\n",
       "      <th>...</th>\n",
       "      <th>GR</th>\n",
       "      <th>NPHI</th>\n",
       "      <th>PEF</th>\n",
       "      <th>DTC</th>\n",
       "      <th>SP</th>\n",
       "      <th>ROP</th>\n",
       "      <th>DTS</th>\n",
       "      <th>DCAL</th>\n",
       "      <th>DRHO</th>\n",
       "      <th>LITHOFACIES</th>\n",
       "    </tr>\n",
       "  </thead>\n",
       "  <tbody>\n",
       "    <tr>\n",
       "      <th>0</th>\n",
       "      <td>15/09/2013</td>\n",
       "      <td>494.528</td>\n",
       "      <td>437641.9688</td>\n",
       "      <td>6470972.5</td>\n",
       "      <td>-469.501831</td>\n",
       "      <td>NORDLAND GP.</td>\n",
       "      <td>NaN</td>\n",
       "      <td>19.480835</td>\n",
       "      <td>NaN</td>\n",
       "      <td>1.611410</td>\n",
       "      <td>...</td>\n",
       "      <td>80.200851</td>\n",
       "      <td>NaN</td>\n",
       "      <td>20.915468</td>\n",
       "      <td>161.131180</td>\n",
       "      <td>24.612379</td>\n",
       "      <td>34.636410</td>\n",
       "      <td>NaN</td>\n",
       "      <td>NaN</td>\n",
       "      <td>-0.574928</td>\n",
       "      <td>65000</td>\n",
       "    </tr>\n",
       "    <tr>\n",
       "      <th>1</th>\n",
       "      <td>15/09/2013</td>\n",
       "      <td>494.680</td>\n",
       "      <td>437641.9688</td>\n",
       "      <td>6470972.5</td>\n",
       "      <td>-469.653809</td>\n",
       "      <td>NORDLAND GP.</td>\n",
       "      <td>NaN</td>\n",
       "      <td>19.468800</td>\n",
       "      <td>NaN</td>\n",
       "      <td>1.618070</td>\n",
       "      <td>...</td>\n",
       "      <td>79.262886</td>\n",
       "      <td>NaN</td>\n",
       "      <td>19.383013</td>\n",
       "      <td>160.603470</td>\n",
       "      <td>23.895531</td>\n",
       "      <td>34.636410</td>\n",
       "      <td>NaN</td>\n",
       "      <td>NaN</td>\n",
       "      <td>-0.570188</td>\n",
       "      <td>65000</td>\n",
       "    </tr>\n",
       "    <tr>\n",
       "      <th>2</th>\n",
       "      <td>15/09/2013</td>\n",
       "      <td>494.832</td>\n",
       "      <td>437641.9688</td>\n",
       "      <td>6470972.5</td>\n",
       "      <td>-469.805786</td>\n",
       "      <td>NORDLAND GP.</td>\n",
       "      <td>NaN</td>\n",
       "      <td>19.468800</td>\n",
       "      <td>NaN</td>\n",
       "      <td>1.626459</td>\n",
       "      <td>...</td>\n",
       "      <td>74.821999</td>\n",
       "      <td>NaN</td>\n",
       "      <td>22.591518</td>\n",
       "      <td>160.173615</td>\n",
       "      <td>23.916357</td>\n",
       "      <td>34.779556</td>\n",
       "      <td>NaN</td>\n",
       "      <td>NaN</td>\n",
       "      <td>-0.574245</td>\n",
       "      <td>65000</td>\n",
       "    </tr>\n",
       "    <tr>\n",
       "      <th>3</th>\n",
       "      <td>15/09/2013</td>\n",
       "      <td>494.984</td>\n",
       "      <td>437641.9688</td>\n",
       "      <td>6470972.5</td>\n",
       "      <td>-469.957794</td>\n",
       "      <td>NORDLAND GP.</td>\n",
       "      <td>NaN</td>\n",
       "      <td>19.459282</td>\n",
       "      <td>NaN</td>\n",
       "      <td>1.621594</td>\n",
       "      <td>...</td>\n",
       "      <td>72.878922</td>\n",
       "      <td>NaN</td>\n",
       "      <td>32.191910</td>\n",
       "      <td>160.149429</td>\n",
       "      <td>23.793688</td>\n",
       "      <td>39.965164</td>\n",
       "      <td>NaN</td>\n",
       "      <td>NaN</td>\n",
       "      <td>-0.586315</td>\n",
       "      <td>65000</td>\n",
       "    </tr>\n",
       "    <tr>\n",
       "      <th>4</th>\n",
       "      <td>15/09/2013</td>\n",
       "      <td>495.136</td>\n",
       "      <td>437641.9688</td>\n",
       "      <td>6470972.5</td>\n",
       "      <td>-470.109772</td>\n",
       "      <td>NORDLAND GP.</td>\n",
       "      <td>NaN</td>\n",
       "      <td>19.453100</td>\n",
       "      <td>NaN</td>\n",
       "      <td>1.602679</td>\n",
       "      <td>...</td>\n",
       "      <td>71.729141</td>\n",
       "      <td>NaN</td>\n",
       "      <td>38.495632</td>\n",
       "      <td>160.128342</td>\n",
       "      <td>24.104078</td>\n",
       "      <td>57.483765</td>\n",
       "      <td>NaN</td>\n",
       "      <td>NaN</td>\n",
       "      <td>-0.597914</td>\n",
       "      <td>65000</td>\n",
       "    </tr>\n",
       "  </tbody>\n",
       "</table>\n",
       "<p>5 rows × 22 columns</p>\n",
       "</div>"
      ],
      "text/plain": [
       "         WELL  DEPTH_MD        X_LOC      Y_LOC       Z_LOC         GROUP  \\\n",
       "0  15/09/2013   494.528  437641.9688  6470972.5 -469.501831  NORDLAND GP.   \n",
       "1  15/09/2013   494.680  437641.9688  6470972.5 -469.653809  NORDLAND GP.   \n",
       "2  15/09/2013   494.832  437641.9688  6470972.5 -469.805786  NORDLAND GP.   \n",
       "3  15/09/2013   494.984  437641.9688  6470972.5 -469.957794  NORDLAND GP.   \n",
       "4  15/09/2013   495.136  437641.9688  6470972.5 -470.109772  NORDLAND GP.   \n",
       "\n",
       "  FORMATION       CALI  RSHA      RMED  ...         GR  NPHI        PEF  \\\n",
       "0       NaN  19.480835   NaN  1.611410  ...  80.200851   NaN  20.915468   \n",
       "1       NaN  19.468800   NaN  1.618070  ...  79.262886   NaN  19.383013   \n",
       "2       NaN  19.468800   NaN  1.626459  ...  74.821999   NaN  22.591518   \n",
       "3       NaN  19.459282   NaN  1.621594  ...  72.878922   NaN  32.191910   \n",
       "4       NaN  19.453100   NaN  1.602679  ...  71.729141   NaN  38.495632   \n",
       "\n",
       "          DTC         SP        ROP  DTS  DCAL      DRHO  LITHOFACIES  \n",
       "0  161.131180  24.612379  34.636410  NaN   NaN -0.574928        65000  \n",
       "1  160.603470  23.895531  34.636410  NaN   NaN -0.570188        65000  \n",
       "2  160.173615  23.916357  34.779556  NaN   NaN -0.574245        65000  \n",
       "3  160.149429  23.793688  39.965164  NaN   NaN -0.586315        65000  \n",
       "4  160.128342  24.104078  57.483765  NaN   NaN -0.597914        65000  \n",
       "\n",
       "[5 rows x 22 columns]"
      ]
     },
     "execution_count": 79,
     "metadata": {},
     "output_type": "execute_result"
    }
   ],
   "source": [
    "df1.head()"
   ]
  },
  {
   "cell_type": "code",
   "execution_count": 80,
   "id": "991357ef",
   "metadata": {},
   "outputs": [
    {
     "data": {
      "text/plain": [
       "WELL                0\n",
       "DEPTH_MD            0\n",
       "X_LOC            7393\n",
       "Y_LOC            7393\n",
       "Z_LOC            7393\n",
       "GROUP               0\n",
       "FORMATION       21566\n",
       "CALI              192\n",
       "RSHA            71159\n",
       "RMED             7642\n",
       "RDEP             7393\n",
       "RHOB            25145\n",
       "GR                  0\n",
       "NPHI            41473\n",
       "PEF             32358\n",
       "DTC               563\n",
       "SP              39518\n",
       "ROP              2744\n",
       "DTS            121014\n",
       "DCAL            76998\n",
       "DRHO            27659\n",
       "LITHOFACIES         0\n",
       "dtype: int64"
      ]
     },
     "execution_count": 80,
     "metadata": {},
     "output_type": "execute_result"
    }
   ],
   "source": [
    "df1.isnull().sum()"
   ]
  },
  {
   "cell_type": "code",
   "execution_count": 81,
   "id": "8ea63370",
   "metadata": {},
   "outputs": [
    {
     "data": {
      "text/html": [
       "<div>\n",
       "<style scoped>\n",
       "    .dataframe tbody tr th:only-of-type {\n",
       "        vertical-align: middle;\n",
       "    }\n",
       "\n",
       "    .dataframe tbody tr th {\n",
       "        vertical-align: top;\n",
       "    }\n",
       "\n",
       "    .dataframe thead th {\n",
       "        text-align: right;\n",
       "    }\n",
       "</style>\n",
       "<table border=\"1\" class=\"dataframe\">\n",
       "  <thead>\n",
       "    <tr style=\"text-align: right;\">\n",
       "      <th></th>\n",
       "      <th>WELL</th>\n",
       "      <th>DEPTH_MD</th>\n",
       "      <th>GROUP</th>\n",
       "      <th>GR</th>\n",
       "      <th>LITHOFACIES</th>\n",
       "    </tr>\n",
       "  </thead>\n",
       "  <tbody>\n",
       "    <tr>\n",
       "      <th>0</th>\n",
       "      <td>15/09/2013</td>\n",
       "      <td>494.528000</td>\n",
       "      <td>NORDLAND GP.</td>\n",
       "      <td>80.200851</td>\n",
       "      <td>65000</td>\n",
       "    </tr>\n",
       "    <tr>\n",
       "      <th>1</th>\n",
       "      <td>15/09/2013</td>\n",
       "      <td>494.680000</td>\n",
       "      <td>NORDLAND GP.</td>\n",
       "      <td>79.262886</td>\n",
       "      <td>65000</td>\n",
       "    </tr>\n",
       "    <tr>\n",
       "      <th>2</th>\n",
       "      <td>15/09/2013</td>\n",
       "      <td>494.832000</td>\n",
       "      <td>NORDLAND GP.</td>\n",
       "      <td>74.821999</td>\n",
       "      <td>65000</td>\n",
       "    </tr>\n",
       "    <tr>\n",
       "      <th>3</th>\n",
       "      <td>15/09/2013</td>\n",
       "      <td>494.984000</td>\n",
       "      <td>NORDLAND GP.</td>\n",
       "      <td>72.878922</td>\n",
       "      <td>65000</td>\n",
       "    </tr>\n",
       "    <tr>\n",
       "      <th>4</th>\n",
       "      <td>15/09/2013</td>\n",
       "      <td>495.136000</td>\n",
       "      <td>NORDLAND GP.</td>\n",
       "      <td>71.729141</td>\n",
       "      <td>65000</td>\n",
       "    </tr>\n",
       "    <tr>\n",
       "      <th>...</th>\n",
       "      <td>...</td>\n",
       "      <td>...</td>\n",
       "      <td>...</td>\n",
       "      <td>...</td>\n",
       "      <td>...</td>\n",
       "    </tr>\n",
       "    <tr>\n",
       "      <th>133193</th>\n",
       "      <td>16/02/2016</td>\n",
       "      <td>2207.310396</td>\n",
       "      <td>ROTLIEGENDES GP.</td>\n",
       "      <td>127.456139</td>\n",
       "      <td>30000</td>\n",
       "    </tr>\n",
       "    <tr>\n",
       "      <th>133194</th>\n",
       "      <td>16/02/2016</td>\n",
       "      <td>2207.462396</td>\n",
       "      <td>ROTLIEGENDES GP.</td>\n",
       "      <td>128.403305</td>\n",
       "      <td>30000</td>\n",
       "    </tr>\n",
       "    <tr>\n",
       "      <th>133195</th>\n",
       "      <td>16/02/2016</td>\n",
       "      <td>2207.614396</td>\n",
       "      <td>ROTLIEGENDES GP.</td>\n",
       "      <td>127.829262</td>\n",
       "      <td>30000</td>\n",
       "    </tr>\n",
       "    <tr>\n",
       "      <th>133196</th>\n",
       "      <td>16/02/2016</td>\n",
       "      <td>2207.766396</td>\n",
       "      <td>ROTLIEGENDES GP.</td>\n",
       "      <td>126.552277</td>\n",
       "      <td>30000</td>\n",
       "    </tr>\n",
       "    <tr>\n",
       "      <th>133197</th>\n",
       "      <td>16/02/2016</td>\n",
       "      <td>2207.918396</td>\n",
       "      <td>ROTLIEGENDES GP.</td>\n",
       "      <td>128.842270</td>\n",
       "      <td>30000</td>\n",
       "    </tr>\n",
       "  </tbody>\n",
       "</table>\n",
       "<p>133198 rows × 5 columns</p>\n",
       "</div>"
      ],
      "text/plain": [
       "              WELL     DEPTH_MD             GROUP          GR  LITHOFACIES\n",
       "0       15/09/2013   494.528000      NORDLAND GP.   80.200851        65000\n",
       "1       15/09/2013   494.680000      NORDLAND GP.   79.262886        65000\n",
       "2       15/09/2013   494.832000      NORDLAND GP.   74.821999        65000\n",
       "3       15/09/2013   494.984000      NORDLAND GP.   72.878922        65000\n",
       "4       15/09/2013   495.136000      NORDLAND GP.   71.729141        65000\n",
       "...            ...          ...               ...         ...          ...\n",
       "133193  16/02/2016  2207.310396  ROTLIEGENDES GP.  127.456139        30000\n",
       "133194  16/02/2016  2207.462396  ROTLIEGENDES GP.  128.403305        30000\n",
       "133195  16/02/2016  2207.614396  ROTLIEGENDES GP.  127.829262        30000\n",
       "133196  16/02/2016  2207.766396  ROTLIEGENDES GP.  126.552277        30000\n",
       "133197  16/02/2016  2207.918396  ROTLIEGENDES GP.  128.842270        30000\n",
       "\n",
       "[133198 rows x 5 columns]"
      ]
     },
     "execution_count": 81,
     "metadata": {},
     "output_type": "execute_result"
    }
   ],
   "source": [
    "df1.dropna(axis=1)   #remove columns with any single missing value\n",
    "# 'any' : If any NA values are present, drop that row or column."
   ]
  },
  {
   "cell_type": "code",
   "execution_count": 82,
   "id": "ea7dd060",
   "metadata": {},
   "outputs": [
    {
     "data": {
      "text/html": [
       "<div>\n",
       "<style scoped>\n",
       "    .dataframe tbody tr th:only-of-type {\n",
       "        vertical-align: middle;\n",
       "    }\n",
       "\n",
       "    .dataframe tbody tr th {\n",
       "        vertical-align: top;\n",
       "    }\n",
       "\n",
       "    .dataframe thead th {\n",
       "        text-align: right;\n",
       "    }\n",
       "</style>\n",
       "<table border=\"1\" class=\"dataframe\">\n",
       "  <thead>\n",
       "    <tr style=\"text-align: right;\">\n",
       "      <th></th>\n",
       "      <th>WELL</th>\n",
       "      <th>DEPTH_MD</th>\n",
       "      <th>X_LOC</th>\n",
       "      <th>Y_LOC</th>\n",
       "      <th>Z_LOC</th>\n",
       "      <th>GROUP</th>\n",
       "      <th>FORMATION</th>\n",
       "      <th>CALI</th>\n",
       "      <th>RSHA</th>\n",
       "      <th>RMED</th>\n",
       "      <th>...</th>\n",
       "      <th>GR</th>\n",
       "      <th>NPHI</th>\n",
       "      <th>PEF</th>\n",
       "      <th>DTC</th>\n",
       "      <th>SP</th>\n",
       "      <th>ROP</th>\n",
       "      <th>DTS</th>\n",
       "      <th>DCAL</th>\n",
       "      <th>DRHO</th>\n",
       "      <th>LITHOFACIES</th>\n",
       "    </tr>\n",
       "  </thead>\n",
       "  <tbody>\n",
       "    <tr>\n",
       "      <th>0</th>\n",
       "      <td>15/09/2013</td>\n",
       "      <td>494.528000</td>\n",
       "      <td>437641.9688</td>\n",
       "      <td>6470972.5</td>\n",
       "      <td>-469.501831</td>\n",
       "      <td>NORDLAND GP.</td>\n",
       "      <td>NaN</td>\n",
       "      <td>19.480835</td>\n",
       "      <td>NaN</td>\n",
       "      <td>1.611410</td>\n",
       "      <td>...</td>\n",
       "      <td>80.200851</td>\n",
       "      <td>NaN</td>\n",
       "      <td>20.915468</td>\n",
       "      <td>161.131180</td>\n",
       "      <td>24.612379</td>\n",
       "      <td>34.636410</td>\n",
       "      <td>NaN</td>\n",
       "      <td>NaN</td>\n",
       "      <td>-0.574928</td>\n",
       "      <td>65000</td>\n",
       "    </tr>\n",
       "    <tr>\n",
       "      <th>1</th>\n",
       "      <td>15/09/2013</td>\n",
       "      <td>494.680000</td>\n",
       "      <td>437641.9688</td>\n",
       "      <td>6470972.5</td>\n",
       "      <td>-469.653809</td>\n",
       "      <td>NORDLAND GP.</td>\n",
       "      <td>NaN</td>\n",
       "      <td>19.468800</td>\n",
       "      <td>NaN</td>\n",
       "      <td>1.618070</td>\n",
       "      <td>...</td>\n",
       "      <td>79.262886</td>\n",
       "      <td>NaN</td>\n",
       "      <td>19.383013</td>\n",
       "      <td>160.603470</td>\n",
       "      <td>23.895531</td>\n",
       "      <td>34.636410</td>\n",
       "      <td>NaN</td>\n",
       "      <td>NaN</td>\n",
       "      <td>-0.570188</td>\n",
       "      <td>65000</td>\n",
       "    </tr>\n",
       "    <tr>\n",
       "      <th>2</th>\n",
       "      <td>15/09/2013</td>\n",
       "      <td>494.832000</td>\n",
       "      <td>437641.9688</td>\n",
       "      <td>6470972.5</td>\n",
       "      <td>-469.805786</td>\n",
       "      <td>NORDLAND GP.</td>\n",
       "      <td>NaN</td>\n",
       "      <td>19.468800</td>\n",
       "      <td>NaN</td>\n",
       "      <td>1.626459</td>\n",
       "      <td>...</td>\n",
       "      <td>74.821999</td>\n",
       "      <td>NaN</td>\n",
       "      <td>22.591518</td>\n",
       "      <td>160.173615</td>\n",
       "      <td>23.916357</td>\n",
       "      <td>34.779556</td>\n",
       "      <td>NaN</td>\n",
       "      <td>NaN</td>\n",
       "      <td>-0.574245</td>\n",
       "      <td>65000</td>\n",
       "    </tr>\n",
       "    <tr>\n",
       "      <th>3</th>\n",
       "      <td>15/09/2013</td>\n",
       "      <td>494.984000</td>\n",
       "      <td>437641.9688</td>\n",
       "      <td>6470972.5</td>\n",
       "      <td>-469.957794</td>\n",
       "      <td>NORDLAND GP.</td>\n",
       "      <td>NaN</td>\n",
       "      <td>19.459282</td>\n",
       "      <td>NaN</td>\n",
       "      <td>1.621594</td>\n",
       "      <td>...</td>\n",
       "      <td>72.878922</td>\n",
       "      <td>NaN</td>\n",
       "      <td>32.191910</td>\n",
       "      <td>160.149429</td>\n",
       "      <td>23.793688</td>\n",
       "      <td>39.965164</td>\n",
       "      <td>NaN</td>\n",
       "      <td>NaN</td>\n",
       "      <td>-0.586315</td>\n",
       "      <td>65000</td>\n",
       "    </tr>\n",
       "    <tr>\n",
       "      <th>4</th>\n",
       "      <td>15/09/2013</td>\n",
       "      <td>495.136000</td>\n",
       "      <td>437641.9688</td>\n",
       "      <td>6470972.5</td>\n",
       "      <td>-470.109772</td>\n",
       "      <td>NORDLAND GP.</td>\n",
       "      <td>NaN</td>\n",
       "      <td>19.453100</td>\n",
       "      <td>NaN</td>\n",
       "      <td>1.602679</td>\n",
       "      <td>...</td>\n",
       "      <td>71.729141</td>\n",
       "      <td>NaN</td>\n",
       "      <td>38.495632</td>\n",
       "      <td>160.128342</td>\n",
       "      <td>24.104078</td>\n",
       "      <td>57.483765</td>\n",
       "      <td>NaN</td>\n",
       "      <td>NaN</td>\n",
       "      <td>-0.597914</td>\n",
       "      <td>65000</td>\n",
       "    </tr>\n",
       "    <tr>\n",
       "      <th>...</th>\n",
       "      <td>...</td>\n",
       "      <td>...</td>\n",
       "      <td>...</td>\n",
       "      <td>...</td>\n",
       "      <td>...</td>\n",
       "      <td>...</td>\n",
       "      <td>...</td>\n",
       "      <td>...</td>\n",
       "      <td>...</td>\n",
       "      <td>...</td>\n",
       "      <td>...</td>\n",
       "      <td>...</td>\n",
       "      <td>...</td>\n",
       "      <td>...</td>\n",
       "      <td>...</td>\n",
       "      <td>...</td>\n",
       "      <td>...</td>\n",
       "      <td>...</td>\n",
       "      <td>...</td>\n",
       "      <td>...</td>\n",
       "      <td>...</td>\n",
       "    </tr>\n",
       "    <tr>\n",
       "      <th>133193</th>\n",
       "      <td>16/02/2016</td>\n",
       "      <td>2207.310396</td>\n",
       "      <td>476770.1250</td>\n",
       "      <td>6523587.5</td>\n",
       "      <td>-2180.926514</td>\n",
       "      <td>ROTLIEGENDES GP.</td>\n",
       "      <td>Skagerrak Fm.</td>\n",
       "      <td>8.698007</td>\n",
       "      <td>NaN</td>\n",
       "      <td>5.382444</td>\n",
       "      <td>...</td>\n",
       "      <td>127.456139</td>\n",
       "      <td>NaN</td>\n",
       "      <td>3.607062</td>\n",
       "      <td>NaN</td>\n",
       "      <td>NaN</td>\n",
       "      <td>22.291321</td>\n",
       "      <td>NaN</td>\n",
       "      <td>NaN</td>\n",
       "      <td>0.107520</td>\n",
       "      <td>30000</td>\n",
       "    </tr>\n",
       "    <tr>\n",
       "      <th>133194</th>\n",
       "      <td>16/02/2016</td>\n",
       "      <td>2207.462396</td>\n",
       "      <td>476770.1563</td>\n",
       "      <td>6523587.5</td>\n",
       "      <td>-2181.078613</td>\n",
       "      <td>ROTLIEGENDES GP.</td>\n",
       "      <td>Skagerrak Fm.</td>\n",
       "      <td>8.721210</td>\n",
       "      <td>NaN</td>\n",
       "      <td>5.651109</td>\n",
       "      <td>...</td>\n",
       "      <td>128.403305</td>\n",
       "      <td>NaN</td>\n",
       "      <td>3.609151</td>\n",
       "      <td>NaN</td>\n",
       "      <td>NaN</td>\n",
       "      <td>22.230320</td>\n",
       "      <td>NaN</td>\n",
       "      <td>NaN</td>\n",
       "      <td>0.101821</td>\n",
       "      <td>30000</td>\n",
       "    </tr>\n",
       "    <tr>\n",
       "      <th>133195</th>\n",
       "      <td>16/02/2016</td>\n",
       "      <td>2207.614396</td>\n",
       "      <td>476770.1563</td>\n",
       "      <td>6523587.5</td>\n",
       "      <td>-2181.230469</td>\n",
       "      <td>ROTLIEGENDES GP.</td>\n",
       "      <td>Skagerrak Fm.</td>\n",
       "      <td>8.739136</td>\n",
       "      <td>NaN</td>\n",
       "      <td>5.870602</td>\n",
       "      <td>...</td>\n",
       "      <td>127.829262</td>\n",
       "      <td>NaN</td>\n",
       "      <td>3.594580</td>\n",
       "      <td>NaN</td>\n",
       "      <td>NaN</td>\n",
       "      <td>22.388054</td>\n",
       "      <td>NaN</td>\n",
       "      <td>NaN</td>\n",
       "      <td>0.097832</td>\n",
       "      <td>30000</td>\n",
       "    </tr>\n",
       "    <tr>\n",
       "      <th>133196</th>\n",
       "      <td>16/02/2016</td>\n",
       "      <td>2207.766396</td>\n",
       "      <td>476770.1563</td>\n",
       "      <td>6523587.5</td>\n",
       "      <td>-2181.382324</td>\n",
       "      <td>ROTLIEGENDES GP.</td>\n",
       "      <td>Skagerrak Fm.</td>\n",
       "      <td>8.749738</td>\n",
       "      <td>NaN</td>\n",
       "      <td>5.756996</td>\n",
       "      <td>...</td>\n",
       "      <td>126.552277</td>\n",
       "      <td>NaN</td>\n",
       "      <td>3.534883</td>\n",
       "      <td>NaN</td>\n",
       "      <td>NaN</td>\n",
       "      <td>23.331690</td>\n",
       "      <td>NaN</td>\n",
       "      <td>NaN</td>\n",
       "      <td>0.092334</td>\n",
       "      <td>30000</td>\n",
       "    </tr>\n",
       "    <tr>\n",
       "      <th>133197</th>\n",
       "      <td>16/02/2016</td>\n",
       "      <td>2207.918396</td>\n",
       "      <td>476770.1563</td>\n",
       "      <td>6523587.5</td>\n",
       "      <td>-2181.534424</td>\n",
       "      <td>ROTLIEGENDES GP.</td>\n",
       "      <td>Skagerrak Fm.</td>\n",
       "      <td>8.732694</td>\n",
       "      <td>NaN</td>\n",
       "      <td>5.544824</td>\n",
       "      <td>...</td>\n",
       "      <td>128.842270</td>\n",
       "      <td>NaN</td>\n",
       "      <td>3.499502</td>\n",
       "      <td>NaN</td>\n",
       "      <td>NaN</td>\n",
       "      <td>24.340328</td>\n",
       "      <td>NaN</td>\n",
       "      <td>NaN</td>\n",
       "      <td>0.090736</td>\n",
       "      <td>30000</td>\n",
       "    </tr>\n",
       "  </tbody>\n",
       "</table>\n",
       "<p>133198 rows × 22 columns</p>\n",
       "</div>"
      ],
      "text/plain": [
       "              WELL     DEPTH_MD        X_LOC      Y_LOC        Z_LOC  \\\n",
       "0       15/09/2013   494.528000  437641.9688  6470972.5  -469.501831   \n",
       "1       15/09/2013   494.680000  437641.9688  6470972.5  -469.653809   \n",
       "2       15/09/2013   494.832000  437641.9688  6470972.5  -469.805786   \n",
       "3       15/09/2013   494.984000  437641.9688  6470972.5  -469.957794   \n",
       "4       15/09/2013   495.136000  437641.9688  6470972.5  -470.109772   \n",
       "...            ...          ...          ...        ...          ...   \n",
       "133193  16/02/2016  2207.310396  476770.1250  6523587.5 -2180.926514   \n",
       "133194  16/02/2016  2207.462396  476770.1563  6523587.5 -2181.078613   \n",
       "133195  16/02/2016  2207.614396  476770.1563  6523587.5 -2181.230469   \n",
       "133196  16/02/2016  2207.766396  476770.1563  6523587.5 -2181.382324   \n",
       "133197  16/02/2016  2207.918396  476770.1563  6523587.5 -2181.534424   \n",
       "\n",
       "                   GROUP      FORMATION       CALI  RSHA      RMED  ...  \\\n",
       "0           NORDLAND GP.            NaN  19.480835   NaN  1.611410  ...   \n",
       "1           NORDLAND GP.            NaN  19.468800   NaN  1.618070  ...   \n",
       "2           NORDLAND GP.            NaN  19.468800   NaN  1.626459  ...   \n",
       "3           NORDLAND GP.            NaN  19.459282   NaN  1.621594  ...   \n",
       "4           NORDLAND GP.            NaN  19.453100   NaN  1.602679  ...   \n",
       "...                  ...            ...        ...   ...       ...  ...   \n",
       "133193  ROTLIEGENDES GP.  Skagerrak Fm.   8.698007   NaN  5.382444  ...   \n",
       "133194  ROTLIEGENDES GP.  Skagerrak Fm.   8.721210   NaN  5.651109  ...   \n",
       "133195  ROTLIEGENDES GP.  Skagerrak Fm.   8.739136   NaN  5.870602  ...   \n",
       "133196  ROTLIEGENDES GP.  Skagerrak Fm.   8.749738   NaN  5.756996  ...   \n",
       "133197  ROTLIEGENDES GP.  Skagerrak Fm.   8.732694   NaN  5.544824  ...   \n",
       "\n",
       "                GR  NPHI        PEF         DTC         SP        ROP  DTS  \\\n",
       "0        80.200851   NaN  20.915468  161.131180  24.612379  34.636410  NaN   \n",
       "1        79.262886   NaN  19.383013  160.603470  23.895531  34.636410  NaN   \n",
       "2        74.821999   NaN  22.591518  160.173615  23.916357  34.779556  NaN   \n",
       "3        72.878922   NaN  32.191910  160.149429  23.793688  39.965164  NaN   \n",
       "4        71.729141   NaN  38.495632  160.128342  24.104078  57.483765  NaN   \n",
       "...            ...   ...        ...         ...        ...        ...  ...   \n",
       "133193  127.456139   NaN   3.607062         NaN        NaN  22.291321  NaN   \n",
       "133194  128.403305   NaN   3.609151         NaN        NaN  22.230320  NaN   \n",
       "133195  127.829262   NaN   3.594580         NaN        NaN  22.388054  NaN   \n",
       "133196  126.552277   NaN   3.534883         NaN        NaN  23.331690  NaN   \n",
       "133197  128.842270   NaN   3.499502         NaN        NaN  24.340328  NaN   \n",
       "\n",
       "        DCAL      DRHO  LITHOFACIES  \n",
       "0        NaN -0.574928        65000  \n",
       "1        NaN -0.570188        65000  \n",
       "2        NaN -0.574245        65000  \n",
       "3        NaN -0.586315        65000  \n",
       "4        NaN -0.597914        65000  \n",
       "...      ...       ...          ...  \n",
       "133193   NaN  0.107520        30000  \n",
       "133194   NaN  0.101821        30000  \n",
       "133195   NaN  0.097832        30000  \n",
       "133196   NaN  0.092334        30000  \n",
       "133197   NaN  0.090736        30000  \n",
       "\n",
       "[133198 rows x 22 columns]"
      ]
     },
     "execution_count": 82,
     "metadata": {},
     "output_type": "execute_result"
    }
   ],
   "source": [
    "df1.dropna(axis=1,how=\"all\")   #remove columns with any single missing value  \n",
    "# 'all': If all values are NA, drop that row or column."
   ]
  },
  {
   "cell_type": "code",
   "execution_count": 83,
   "id": "21bda696",
   "metadata": {},
   "outputs": [
    {
     "data": {
      "text/plain": [
       "(133198, 22)"
      ]
     },
     "execution_count": 83,
     "metadata": {},
     "output_type": "execute_result"
    }
   ],
   "source": [
    "df1.shape"
   ]
  },
  {
   "cell_type": "markdown",
   "id": "02b3220b",
   "metadata": {},
   "source": [
    "## Removing Rows with Null Values"
   ]
  },
  {
   "cell_type": "code",
   "execution_count": 84,
   "id": "3241e19f",
   "metadata": {},
   "outputs": [
    {
     "data": {
      "text/html": [
       "<div>\n",
       "<style scoped>\n",
       "    .dataframe tbody tr th:only-of-type {\n",
       "        vertical-align: middle;\n",
       "    }\n",
       "\n",
       "    .dataframe tbody tr th {\n",
       "        vertical-align: top;\n",
       "    }\n",
       "\n",
       "    .dataframe thead th {\n",
       "        text-align: right;\n",
       "    }\n",
       "</style>\n",
       "<table border=\"1\" class=\"dataframe\">\n",
       "  <thead>\n",
       "    <tr style=\"text-align: right;\">\n",
       "      <th></th>\n",
       "      <th>WELL</th>\n",
       "      <th>DEPTH_MD</th>\n",
       "      <th>X_LOC</th>\n",
       "      <th>Y_LOC</th>\n",
       "      <th>Z_LOC</th>\n",
       "      <th>GROUP</th>\n",
       "      <th>FORMATION</th>\n",
       "      <th>CALI</th>\n",
       "      <th>RSHA</th>\n",
       "      <th>RMED</th>\n",
       "      <th>...</th>\n",
       "      <th>GR</th>\n",
       "      <th>NPHI</th>\n",
       "      <th>PEF</th>\n",
       "      <th>DTC</th>\n",
       "      <th>SP</th>\n",
       "      <th>ROP</th>\n",
       "      <th>DTS</th>\n",
       "      <th>DCAL</th>\n",
       "      <th>DRHO</th>\n",
       "      <th>LITHOFACIES</th>\n",
       "    </tr>\n",
       "  </thead>\n",
       "  <tbody>\n",
       "  </tbody>\n",
       "</table>\n",
       "<p>0 rows × 22 columns</p>\n",
       "</div>"
      ],
      "text/plain": [
       "Empty DataFrame\n",
       "Columns: [WELL, DEPTH_MD, X_LOC, Y_LOC, Z_LOC, GROUP, FORMATION, CALI, RSHA, RMED, RDEP, RHOB, GR, NPHI, PEF, DTC, SP, ROP, DTS, DCAL, DRHO, LITHOFACIES]\n",
       "Index: []\n",
       "\n",
       "[0 rows x 22 columns]"
      ]
     },
     "execution_count": 84,
     "metadata": {},
     "output_type": "execute_result"
    }
   ],
   "source": [
    "df1.dropna(axis=0)"
   ]
  },
  {
   "cell_type": "code",
   "execution_count": 85,
   "id": "2a40a84f",
   "metadata": {},
   "outputs": [],
   "source": [
    "# remove missing values from x_loc\n",
    "\n",
    "df1.dropna(subset=\"X_LOC\",inplace=True)"
   ]
  },
  {
   "cell_type": "code",
   "execution_count": 86,
   "id": "c7038cfe",
   "metadata": {},
   "outputs": [
    {
     "data": {
      "text/plain": [
       "WELL                0\n",
       "DEPTH_MD            0\n",
       "X_LOC               0\n",
       "Y_LOC               0\n",
       "Z_LOC               0\n",
       "GROUP               0\n",
       "FORMATION       21566\n",
       "CALI              192\n",
       "RSHA            67025\n",
       "RMED              264\n",
       "RDEP                0\n",
       "RHOB            21174\n",
       "GR                  0\n",
       "NPHI            37588\n",
       "PEF             24984\n",
       "DTC               544\n",
       "SP              32139\n",
       "ROP              2744\n",
       "DTS            113621\n",
       "DCAL            69615\n",
       "DRHO            23696\n",
       "LITHOFACIES         0\n",
       "dtype: int64"
      ]
     },
     "execution_count": 86,
     "metadata": {},
     "output_type": "execute_result"
    }
   ],
   "source": [
    "df1.isnull().sum()"
   ]
  },
  {
   "cell_type": "markdown",
   "id": "7280c1f6",
   "metadata": {},
   "source": [
    "### Remove columns of 40% missing values"
   ]
  },
  {
   "cell_type": "markdown",
   "id": "2fd07b08",
   "metadata": {},
   "source": [
    "Another way to tackle missing values in a dataset would be to drop those columns or features that have a significant percentage of values missing. Such columns don’t contain a lot of information and can be dropped altogether from the dataset. In our case, let us drop all those columns that have more than 40% values missing in them."
   ]
  },
  {
   "cell_type": "code",
   "execution_count": 88,
   "id": "9b8574d3",
   "metadata": {},
   "outputs": [
    {
     "data": {
      "text/plain": [
       "50322.0"
      ]
     },
     "execution_count": 88,
     "metadata": {},
     "output_type": "execute_result"
    }
   ],
   "source": [
    "# Calculate the threshold for missing values\n",
    "threshold = 0.4 * len(df1)\n",
    "threshold"
   ]
  },
  {
   "cell_type": "code",
   "execution_count": 89,
   "id": "ed9f927d",
   "metadata": {},
   "outputs": [
    {
     "data": {
      "text/plain": [
       "40.0"
      ]
     },
     "execution_count": 89,
     "metadata": {},
     "output_type": "execute_result"
    }
   ],
   "source": [
    "(threshold/len(df1) ) *100"
   ]
  },
  {
   "cell_type": "code",
   "execution_count": 90,
   "id": "00ead50a",
   "metadata": {},
   "outputs": [],
   "source": [
    "# Filter out columns with missing values equal to the threshold\n",
    "columns_to_keep = df1.columns[df1.isnull().sum() > threshold]\n",
    "df1_cleaned = df1[columns_to_keep]"
   ]
  },
  {
   "cell_type": "code",
   "execution_count": 91,
   "id": "348bde7c",
   "metadata": {
    "scrolled": true
   },
   "outputs": [
    {
     "data": {
      "text/plain": [
       "RSHA     67025\n",
       "DTS     113621\n",
       "DCAL     69615\n",
       "dtype: int64"
      ]
     },
     "execution_count": 91,
     "metadata": {},
     "output_type": "execute_result"
    }
   ],
   "source": [
    "df1_cleaned.isnull().sum()"
   ]
  },
  {
   "cell_type": "code",
   "execution_count": 92,
   "id": "5129f186",
   "metadata": {},
   "outputs": [
    {
     "data": {
      "text/plain": [
       "WELL                0\n",
       "DEPTH_MD            0\n",
       "X_LOC               0\n",
       "Y_LOC               0\n",
       "Z_LOC               0\n",
       "GROUP               0\n",
       "FORMATION       21566\n",
       "CALI              192\n",
       "RSHA            67025\n",
       "RMED              264\n",
       "RDEP                0\n",
       "RHOB            21174\n",
       "GR                  0\n",
       "NPHI            37588\n",
       "PEF             24984\n",
       "DTC               544\n",
       "SP              32139\n",
       "ROP              2744\n",
       "DTS            113621\n",
       "DCAL            69615\n",
       "DRHO            23696\n",
       "LITHOFACIES         0\n",
       "dtype: int64"
      ]
     },
     "execution_count": 92,
     "metadata": {},
     "output_type": "execute_result"
    }
   ],
   "source": [
    "df1.isnull().sum()"
   ]
  },
  {
   "cell_type": "code",
   "execution_count": 93,
   "id": "b5f9dec9",
   "metadata": {},
   "outputs": [],
   "source": [
    "df1.drop(columns_to_keep,axis=1,inplace=True)"
   ]
  },
  {
   "cell_type": "code",
   "execution_count": 94,
   "id": "bceed9df",
   "metadata": {},
   "outputs": [
    {
     "data": {
      "text/plain": [
       "WELL               0\n",
       "DEPTH_MD           0\n",
       "X_LOC              0\n",
       "Y_LOC              0\n",
       "Z_LOC              0\n",
       "GROUP              0\n",
       "FORMATION      21566\n",
       "CALI             192\n",
       "RMED             264\n",
       "RDEP               0\n",
       "RHOB           21174\n",
       "GR                 0\n",
       "NPHI           37588\n",
       "PEF            24984\n",
       "DTC              544\n",
       "SP             32139\n",
       "ROP             2744\n",
       "DRHO           23696\n",
       "LITHOFACIES        0\n",
       "dtype: int64"
      ]
     },
     "execution_count": 94,
     "metadata": {},
     "output_type": "execute_result"
    }
   ],
   "source": [
    "df1.isnull().sum()"
   ]
  },
  {
   "cell_type": "code",
   "execution_count": 95,
   "id": "03611def",
   "metadata": {},
   "outputs": [
    {
     "data": {
      "text/plain": [
       "(125805, 19)"
      ]
     },
     "execution_count": 95,
     "metadata": {},
     "output_type": "execute_result"
    }
   ],
   "source": [
    "df1.shape #reduced from 22 to 19"
   ]
  },
  {
   "cell_type": "markdown",
   "id": "1a8966a5",
   "metadata": {},
   "source": [
    "###  Imputing Missing Values\n",
    "It is important to keep in mind that imputing missing values with summary statistics like mean, median, or mode can introduce bias in the data, as it assumes that the missing values are similar to the non-missing values. Additionally, the choice of imputation method can also affect the performance of the machine learning model, as it can impact the relationships between variables in the dataset.\n",
    "\n",
    "\n",
    "**Mean imputation** is often used when the missing values are numerical and the distribution of the variable is approximately normal.\n",
    "\n",
    "**Median imputation** is preferred when the distribution is skewed, as the median is less sensitive to outliers than the mean.\n",
    "\n",
    "**Mode imputation** is suitable for categorical variables or numerical variables with a small number of unique values."
   ]
  },
  {
   "cell_type": "markdown",
   "id": "9ef1562d",
   "metadata": {},
   "source": [
    "## Using mean\n",
    "Outliers data points will have a significant impact on the mean and hence, in such cases, it is not recommended to use the mean for replacing the missing values. Using mean values for replacing missing values may not create a great model and hence gets ruled out. For symmetric data distribution, one can use the mean value for imputing missing values.\n",
    "\n",
    "One of the techniques is mean imputation in which the missing values are replaced with the mean value of the entire feature column. In the case of fields like salary, the data may be skewed as shown in the previous section. In such cases, it may not be a good idea to use mean imputation for replacing the missing values. Note that imputing missing data with mean values can only be done with numerical data."
   ]
  },
  {
   "cell_type": "code",
   "execution_count": 96,
   "id": "947ae7e4",
   "metadata": {},
   "outputs": [
    {
     "name": "stdout",
     "output_type": "stream",
     "text": [
      "<class 'pandas.core.frame.DataFrame'>\n",
      "Index: 125805 entries, 0 to 133197\n",
      "Data columns (total 19 columns):\n",
      " #   Column       Non-Null Count   Dtype  \n",
      "---  ------       --------------   -----  \n",
      " 0   WELL         125805 non-null  object \n",
      " 1   DEPTH_MD     125805 non-null  float64\n",
      " 2   X_LOC        125805 non-null  float64\n",
      " 3   Y_LOC        125805 non-null  float64\n",
      " 4   Z_LOC        125805 non-null  float64\n",
      " 5   GROUP        125805 non-null  object \n",
      " 6   FORMATION    104239 non-null  object \n",
      " 7   CALI         125613 non-null  float64\n",
      " 8   RMED         125541 non-null  float64\n",
      " 9   RDEP         125805 non-null  float64\n",
      " 10  RHOB         104631 non-null  float64\n",
      " 11  GR           125805 non-null  float64\n",
      " 12  NPHI         88217 non-null   float64\n",
      " 13  PEF          100821 non-null  float64\n",
      " 14  DTC          125261 non-null  float64\n",
      " 15  SP           93666 non-null   float64\n",
      " 16  ROP          123061 non-null  float64\n",
      " 17  DRHO         102109 non-null  float64\n",
      " 18  LITHOFACIES  125805 non-null  int64  \n",
      "dtypes: float64(15), int64(1), object(3)\n",
      "memory usage: 19.2+ MB\n"
     ]
    }
   ],
   "source": [
    "df1.info()"
   ]
  },
  {
   "cell_type": "code",
   "execution_count": 97,
   "id": "534f123c",
   "metadata": {},
   "outputs": [
    {
     "data": {
      "text/plain": [
       "Index(['WELL', 'DEPTH_MD', 'X_LOC', 'Y_LOC', 'Z_LOC', 'GROUP', 'FORMATION',\n",
       "       'CALI', 'RMED', 'RDEP', 'RHOB', 'GR', 'NPHI', 'PEF', 'DTC', 'SP', 'ROP',\n",
       "       'DRHO', 'LITHOFACIES'],\n",
       "      dtype='object')"
      ]
     },
     "execution_count": 97,
     "metadata": {},
     "output_type": "execute_result"
    }
   ],
   "source": [
    "df1.columns"
   ]
  },
  {
   "cell_type": "code",
   "execution_count": 98,
   "id": "b69ff8e0",
   "metadata": {},
   "outputs": [
    {
     "data": {
      "text/plain": [
       "32139"
      ]
     },
     "execution_count": 98,
     "metadata": {},
     "output_type": "execute_result"
    }
   ],
   "source": [
    "df1['SP'].isna().sum()"
   ]
  },
  {
   "cell_type": "code",
   "execution_count": 99,
   "id": "a4e149d7",
   "metadata": {},
   "outputs": [
    {
     "data": {
      "text/plain": [
       "91.61553655055185"
      ]
     },
     "execution_count": 99,
     "metadata": {},
     "output_type": "execute_result"
    }
   ],
   "source": [
    "Mean_SP=df1['SP'].mean()\n",
    "Mean_SP"
   ]
  },
  {
   "cell_type": "code",
   "execution_count": 100,
   "id": "ae969b33",
   "metadata": {},
   "outputs": [
    {
     "data": {
      "text/plain": [
       "0"
      ]
     },
     "execution_count": 100,
     "metadata": {},
     "output_type": "execute_result"
    }
   ],
   "source": [
    "df1['SP']=df1['SP'].fillna(Mean_SP)\n",
    "df1['SP'].isna().sum()"
   ]
  },
  {
   "cell_type": "code",
   "execution_count": 101,
   "id": "8af02d6f",
   "metadata": {},
   "outputs": [
    {
     "data": {
      "text/plain": [
       "DEPTH_MD       1.757635e+03\n",
       "X_LOC          4.512356e+05\n",
       "Y_LOC          6.471392e+06\n",
       "Z_LOC         -1.719215e+03\n",
       "CALI           1.321827e+01\n",
       "RMED           1.709011e+00\n",
       "RDEP           1.743774e+00\n",
       "RHOB           2.192840e+00\n",
       "GR             7.273220e+01\n",
       "NPHI           3.627092e-01\n",
       "PEF            4.511796e+00\n",
       "DTC            1.253845e+02\n",
       "SP             9.161554e+01\n",
       "ROP            2.941225e+01\n",
       "DRHO           9.263453e-03\n",
       "LITHOFACIES    6.233571e+04\n",
       "dtype: float64"
      ]
     },
     "execution_count": 101,
     "metadata": {},
     "output_type": "execute_result"
    }
   ],
   "source": [
    "df1.mean(numeric_only=True)"
   ]
  },
  {
   "cell_type": "code",
   "execution_count": 102,
   "id": "985823ff",
   "metadata": {},
   "outputs": [],
   "source": [
    "# Impute / Replace Missing Values with Mean\n",
    "df1.fillna(df1.mean(numeric_only=True),inplace=True)"
   ]
  },
  {
   "cell_type": "code",
   "execution_count": 103,
   "id": "a0e2f3fc",
   "metadata": {},
   "outputs": [
    {
     "data": {
      "text/plain": [
       "WELL               0\n",
       "DEPTH_MD           0\n",
       "X_LOC              0\n",
       "Y_LOC              0\n",
       "Z_LOC              0\n",
       "GROUP              0\n",
       "FORMATION      21566\n",
       "CALI               0\n",
       "RMED               0\n",
       "RDEP               0\n",
       "RHOB               0\n",
       "GR                 0\n",
       "NPHI               0\n",
       "PEF                0\n",
       "DTC                0\n",
       "SP                 0\n",
       "ROP                0\n",
       "DRHO               0\n",
       "LITHOFACIES        0\n",
       "dtype: int64"
      ]
     },
     "execution_count": 103,
     "metadata": {},
     "output_type": "execute_result"
    }
   ],
   "source": [
    "df1.isnull().sum()"
   ]
  },
  {
   "cell_type": "code",
   "execution_count": 104,
   "id": "72a00c02",
   "metadata": {},
   "outputs": [
    {
     "data": {
      "text/plain": [
       "FORMATION\n",
       "Utsira Fm.                40536\n",
       "Skade Fm.                  9673\n",
       "Skagerrak Fm.              7824\n",
       "Smith Bank Fm.             7352\n",
       "Hod Fm.                    6005\n",
       "Tor Fm.                    5830\n",
       "Lista Fm.                  4499\n",
       "Sele Fm.                   2297\n",
       "Aasgard Fm.                1980\n",
       "Balder Fm.                 1915\n",
       "Roedby Fm.                 1645\n",
       "Draupne Fm.                1508\n",
       "Ekofisk Fm.                1310\n",
       "Grid Fm.                   1293\n",
       "Frigg Fm.                  1190\n",
       "Heather Fm.                1157\n",
       "Svarte Fm.                 1071\n",
       "Blodoeks Fm.               1019\n",
       "Heimdal Fm.                1007\n",
       "Hugin Fm.                   940\n",
       "Kupferschiefer Fm.          718\n",
       "Mandal Fm.                  645\n",
       "Sola Fm.                    590\n",
       "Ula Fm.                     572\n",
       "Vaale Fm.                   546\n",
       "Intra Draupne Fm. Sst.      388\n",
       "Tuxen Fm.                   217\n",
       "Statfjord Fm.               217\n",
       "Hidra Fm.                   132\n",
       "Sleipner Fm.                 99\n",
       "Bryne Fm.                    64\n",
       "Name: count, dtype: int64"
      ]
     },
     "execution_count": 104,
     "metadata": {},
     "output_type": "execute_result"
    }
   ],
   "source": [
    "df1[\"FORMATION\"].value_counts()"
   ]
  },
  {
   "cell_type": "markdown",
   "id": "a3dc502f",
   "metadata": {},
   "source": [
    "## Impute / Replace Missing Values with Median\n",
    "Another technique is median imputation in which the missing values are replaced with the median value of the entire feature column. When the data is skewed, it is good to consider using the median value for replacing the missing values. Note that imputing missing data with median value can only be done with numerical data"
   ]
  },
  {
   "cell_type": "code",
   "execution_count": 105,
   "id": "71fa70f0",
   "metadata": {},
   "outputs": [],
   "source": [
    "#Let's read the data again\n",
    "df1 = pd.read_csv(\"xeek_train_subset.csv\")"
   ]
  },
  {
   "cell_type": "code",
   "execution_count": 106,
   "id": "b9844e1a",
   "metadata": {},
   "outputs": [
    {
     "data": {
      "text/html": [
       "<div>\n",
       "<style scoped>\n",
       "    .dataframe tbody tr th:only-of-type {\n",
       "        vertical-align: middle;\n",
       "    }\n",
       "\n",
       "    .dataframe tbody tr th {\n",
       "        vertical-align: top;\n",
       "    }\n",
       "\n",
       "    .dataframe thead th {\n",
       "        text-align: right;\n",
       "    }\n",
       "</style>\n",
       "<table border=\"1\" class=\"dataframe\">\n",
       "  <thead>\n",
       "    <tr style=\"text-align: right;\">\n",
       "      <th></th>\n",
       "      <th>WELL</th>\n",
       "      <th>DEPTH_MD</th>\n",
       "      <th>X_LOC</th>\n",
       "      <th>Y_LOC</th>\n",
       "      <th>Z_LOC</th>\n",
       "      <th>GROUP</th>\n",
       "      <th>FORMATION</th>\n",
       "      <th>CALI</th>\n",
       "      <th>RSHA</th>\n",
       "      <th>RMED</th>\n",
       "      <th>...</th>\n",
       "      <th>GR</th>\n",
       "      <th>NPHI</th>\n",
       "      <th>PEF</th>\n",
       "      <th>DTC</th>\n",
       "      <th>SP</th>\n",
       "      <th>ROP</th>\n",
       "      <th>DTS</th>\n",
       "      <th>DCAL</th>\n",
       "      <th>DRHO</th>\n",
       "      <th>LITHOFACIES</th>\n",
       "    </tr>\n",
       "  </thead>\n",
       "  <tbody>\n",
       "    <tr>\n",
       "      <th>0</th>\n",
       "      <td>15/09/2013</td>\n",
       "      <td>494.528</td>\n",
       "      <td>437641.9688</td>\n",
       "      <td>6470972.5</td>\n",
       "      <td>-469.501831</td>\n",
       "      <td>NORDLAND GP.</td>\n",
       "      <td>NaN</td>\n",
       "      <td>19.480835</td>\n",
       "      <td>NaN</td>\n",
       "      <td>1.611410</td>\n",
       "      <td>...</td>\n",
       "      <td>80.200851</td>\n",
       "      <td>NaN</td>\n",
       "      <td>20.915468</td>\n",
       "      <td>161.131180</td>\n",
       "      <td>24.612379</td>\n",
       "      <td>34.636410</td>\n",
       "      <td>NaN</td>\n",
       "      <td>NaN</td>\n",
       "      <td>-0.574928</td>\n",
       "      <td>65000</td>\n",
       "    </tr>\n",
       "    <tr>\n",
       "      <th>1</th>\n",
       "      <td>15/09/2013</td>\n",
       "      <td>494.680</td>\n",
       "      <td>437641.9688</td>\n",
       "      <td>6470972.5</td>\n",
       "      <td>-469.653809</td>\n",
       "      <td>NORDLAND GP.</td>\n",
       "      <td>NaN</td>\n",
       "      <td>19.468800</td>\n",
       "      <td>NaN</td>\n",
       "      <td>1.618070</td>\n",
       "      <td>...</td>\n",
       "      <td>79.262886</td>\n",
       "      <td>NaN</td>\n",
       "      <td>19.383013</td>\n",
       "      <td>160.603470</td>\n",
       "      <td>23.895531</td>\n",
       "      <td>34.636410</td>\n",
       "      <td>NaN</td>\n",
       "      <td>NaN</td>\n",
       "      <td>-0.570188</td>\n",
       "      <td>65000</td>\n",
       "    </tr>\n",
       "    <tr>\n",
       "      <th>2</th>\n",
       "      <td>15/09/2013</td>\n",
       "      <td>494.832</td>\n",
       "      <td>437641.9688</td>\n",
       "      <td>6470972.5</td>\n",
       "      <td>-469.805786</td>\n",
       "      <td>NORDLAND GP.</td>\n",
       "      <td>NaN</td>\n",
       "      <td>19.468800</td>\n",
       "      <td>NaN</td>\n",
       "      <td>1.626459</td>\n",
       "      <td>...</td>\n",
       "      <td>74.821999</td>\n",
       "      <td>NaN</td>\n",
       "      <td>22.591518</td>\n",
       "      <td>160.173615</td>\n",
       "      <td>23.916357</td>\n",
       "      <td>34.779556</td>\n",
       "      <td>NaN</td>\n",
       "      <td>NaN</td>\n",
       "      <td>-0.574245</td>\n",
       "      <td>65000</td>\n",
       "    </tr>\n",
       "    <tr>\n",
       "      <th>3</th>\n",
       "      <td>15/09/2013</td>\n",
       "      <td>494.984</td>\n",
       "      <td>437641.9688</td>\n",
       "      <td>6470972.5</td>\n",
       "      <td>-469.957794</td>\n",
       "      <td>NORDLAND GP.</td>\n",
       "      <td>NaN</td>\n",
       "      <td>19.459282</td>\n",
       "      <td>NaN</td>\n",
       "      <td>1.621594</td>\n",
       "      <td>...</td>\n",
       "      <td>72.878922</td>\n",
       "      <td>NaN</td>\n",
       "      <td>32.191910</td>\n",
       "      <td>160.149429</td>\n",
       "      <td>23.793688</td>\n",
       "      <td>39.965164</td>\n",
       "      <td>NaN</td>\n",
       "      <td>NaN</td>\n",
       "      <td>-0.586315</td>\n",
       "      <td>65000</td>\n",
       "    </tr>\n",
       "    <tr>\n",
       "      <th>4</th>\n",
       "      <td>15/09/2013</td>\n",
       "      <td>495.136</td>\n",
       "      <td>437641.9688</td>\n",
       "      <td>6470972.5</td>\n",
       "      <td>-470.109772</td>\n",
       "      <td>NORDLAND GP.</td>\n",
       "      <td>NaN</td>\n",
       "      <td>19.453100</td>\n",
       "      <td>NaN</td>\n",
       "      <td>1.602679</td>\n",
       "      <td>...</td>\n",
       "      <td>71.729141</td>\n",
       "      <td>NaN</td>\n",
       "      <td>38.495632</td>\n",
       "      <td>160.128342</td>\n",
       "      <td>24.104078</td>\n",
       "      <td>57.483765</td>\n",
       "      <td>NaN</td>\n",
       "      <td>NaN</td>\n",
       "      <td>-0.597914</td>\n",
       "      <td>65000</td>\n",
       "    </tr>\n",
       "  </tbody>\n",
       "</table>\n",
       "<p>5 rows × 22 columns</p>\n",
       "</div>"
      ],
      "text/plain": [
       "         WELL  DEPTH_MD        X_LOC      Y_LOC       Z_LOC         GROUP  \\\n",
       "0  15/09/2013   494.528  437641.9688  6470972.5 -469.501831  NORDLAND GP.   \n",
       "1  15/09/2013   494.680  437641.9688  6470972.5 -469.653809  NORDLAND GP.   \n",
       "2  15/09/2013   494.832  437641.9688  6470972.5 -469.805786  NORDLAND GP.   \n",
       "3  15/09/2013   494.984  437641.9688  6470972.5 -469.957794  NORDLAND GP.   \n",
       "4  15/09/2013   495.136  437641.9688  6470972.5 -470.109772  NORDLAND GP.   \n",
       "\n",
       "  FORMATION       CALI  RSHA      RMED  ...         GR  NPHI        PEF  \\\n",
       "0       NaN  19.480835   NaN  1.611410  ...  80.200851   NaN  20.915468   \n",
       "1       NaN  19.468800   NaN  1.618070  ...  79.262886   NaN  19.383013   \n",
       "2       NaN  19.468800   NaN  1.626459  ...  74.821999   NaN  22.591518   \n",
       "3       NaN  19.459282   NaN  1.621594  ...  72.878922   NaN  32.191910   \n",
       "4       NaN  19.453100   NaN  1.602679  ...  71.729141   NaN  38.495632   \n",
       "\n",
       "          DTC         SP        ROP  DTS  DCAL      DRHO  LITHOFACIES  \n",
       "0  161.131180  24.612379  34.636410  NaN   NaN -0.574928        65000  \n",
       "1  160.603470  23.895531  34.636410  NaN   NaN -0.570188        65000  \n",
       "2  160.173615  23.916357  34.779556  NaN   NaN -0.574245        65000  \n",
       "3  160.149429  23.793688  39.965164  NaN   NaN -0.586315        65000  \n",
       "4  160.128342  24.104078  57.483765  NaN   NaN -0.597914        65000  \n",
       "\n",
       "[5 rows x 22 columns]"
      ]
     },
     "execution_count": 106,
     "metadata": {},
     "output_type": "execute_result"
    }
   ],
   "source": [
    "df1.head()"
   ]
  },
  {
   "cell_type": "code",
   "execution_count": 107,
   "id": "94cfe32c",
   "metadata": {},
   "outputs": [],
   "source": [
    "df1.fillna(df1.median(numeric_only=True),inplace=True)"
   ]
  },
  {
   "cell_type": "code",
   "execution_count": 108,
   "id": "795a6b4b",
   "metadata": {},
   "outputs": [
    {
     "data": {
      "text/plain": [
       "WELL               0\n",
       "DEPTH_MD           0\n",
       "X_LOC              0\n",
       "Y_LOC              0\n",
       "Z_LOC              0\n",
       "GROUP              0\n",
       "FORMATION      21566\n",
       "CALI               0\n",
       "RSHA               0\n",
       "RMED               0\n",
       "RDEP               0\n",
       "RHOB               0\n",
       "GR                 0\n",
       "NPHI               0\n",
       "PEF                0\n",
       "DTC                0\n",
       "SP                 0\n",
       "ROP                0\n",
       "DTS                0\n",
       "DCAL               0\n",
       "DRHO               0\n",
       "LITHOFACIES        0\n",
       "dtype: int64"
      ]
     },
     "execution_count": 108,
     "metadata": {},
     "output_type": "execute_result"
    }
   ],
   "source": [
    "df1.isnull().sum()"
   ]
  },
  {
   "cell_type": "code",
   "execution_count": 109,
   "id": "ca038aa8",
   "metadata": {},
   "outputs": [
    {
     "name": "stdout",
     "output_type": "stream",
     "text": [
      "230.4329529\n",
      "7.415132046\n",
      "[161.1311798  160.6034699  160.1736145  ...  70.4621582   70.33759308\n",
      "  70.00798035]\n",
      "130456\n"
     ]
    }
   ],
   "source": [
    "print(df1['DTC'].max())\n",
    "print(df1['DTC'].min())\n",
    "print(df1['DTC'].unique())\n",
    "print(df1['DTC'].nunique())"
   ]
  },
  {
   "cell_type": "markdown",
   "id": "59a17d87",
   "metadata": {},
   "source": [
    "## Impute / Replace Missing Values with Mode\n",
    "Yet another technique is mode imputation in which the missing values are replaced with the mode value or most frequent value of the entire feature column. When the data is skewed, it is good to consider using mode values for replacing the missing values. For data points such as the salary field, you may consider using mode for replacing the values. Note that imputing missing data with mode values can be done with numerical and categorical data."
   ]
  },
  {
   "cell_type": "code",
   "execution_count": 110,
   "id": "1a070ee7",
   "metadata": {},
   "outputs": [
    {
     "data": {
      "text/plain": [
       "WELL               0\n",
       "DEPTH_MD           0\n",
       "X_LOC              0\n",
       "Y_LOC              0\n",
       "Z_LOC              0\n",
       "GROUP              0\n",
       "FORMATION      21566\n",
       "CALI               0\n",
       "RSHA               0\n",
       "RMED               0\n",
       "RDEP               0\n",
       "RHOB               0\n",
       "GR                 0\n",
       "NPHI               0\n",
       "PEF                0\n",
       "DTC                0\n",
       "SP                 0\n",
       "ROP                0\n",
       "DTS                0\n",
       "DCAL               0\n",
       "DRHO               0\n",
       "LITHOFACIES        0\n",
       "dtype: int64"
      ]
     },
     "execution_count": 110,
     "metadata": {},
     "output_type": "execute_result"
    }
   ],
   "source": [
    "df1.isnull().sum()"
   ]
  },
  {
   "cell_type": "code",
   "execution_count": 111,
   "id": "8eed053f",
   "metadata": {},
   "outputs": [],
   "source": [
    "#categorical column\n",
    "df1[\"FORMATION\"].fillna(df1[\"FORMATION\"].mode()[0],inplace=True)"
   ]
  },
  {
   "cell_type": "code",
   "execution_count": 112,
   "id": "4234c644",
   "metadata": {},
   "outputs": [
    {
     "data": {
      "text/plain": [
       "WELL           0\n",
       "DEPTH_MD       0\n",
       "X_LOC          0\n",
       "Y_LOC          0\n",
       "Z_LOC          0\n",
       "GROUP          0\n",
       "FORMATION      0\n",
       "CALI           0\n",
       "RSHA           0\n",
       "RMED           0\n",
       "RDEP           0\n",
       "RHOB           0\n",
       "GR             0\n",
       "NPHI           0\n",
       "PEF            0\n",
       "DTC            0\n",
       "SP             0\n",
       "ROP            0\n",
       "DTS            0\n",
       "DCAL           0\n",
       "DRHO           0\n",
       "LITHOFACIES    0\n",
       "dtype: int64"
      ]
     },
     "execution_count": 112,
     "metadata": {},
     "output_type": "execute_result"
    }
   ],
   "source": [
    "df1.isnull().sum()"
   ]
  },
  {
   "attachments": {
    "image.png": {
     "image/png": "[encoded data removed]"
    }
   },
   "cell_type": "markdown",
   "id": "bb993861",
   "metadata": {},
   "source": [
    "![image.png](attachment:image.png)"
   ]
  },
  {
   "cell_type": "code",
   "execution_count": 113,
   "id": "0992ea88",
   "metadata": {},
   "outputs": [],
   "source": [
    "#Let's read the data again\n",
    "df1 = pd.read_csv(\"xeek_train_subset.csv\")"
   ]
  },
  {
   "cell_type": "markdown",
   "id": "456de736",
   "metadata": {},
   "source": [
    "## Replacing with the previous value – forward fill\n",
    "In some cases, imputing the values with the previous value instead of the mean, mode, or median is more appropriate. This is called forward fill. It is mostly used in time series data. You can use the ‘fillna’ function with the parameter ‘method = ffill’"
   ]
  },
  {
   "cell_type": "code",
   "execution_count": 114,
   "id": "172e0656",
   "metadata": {},
   "outputs": [
    {
     "data": {
      "text/plain": [
       "Index(['WELL', 'DEPTH_MD', 'X_LOC', 'Y_LOC', 'Z_LOC', 'GROUP', 'FORMATION',\n",
       "       'CALI', 'RSHA', 'RMED', 'RDEP', 'RHOB', 'GR', 'NPHI', 'PEF', 'DTC',\n",
       "       'SP', 'ROP', 'DTS', 'DCAL', 'DRHO', 'LITHOFACIES'],\n",
       "      dtype='object')"
      ]
     },
     "execution_count": 114,
     "metadata": {},
     "output_type": "execute_result"
    }
   ],
   "source": [
    "df1.columns"
   ]
  },
  {
   "cell_type": "code",
   "execution_count": 115,
   "id": "4ece80ef",
   "metadata": {},
   "outputs": [
    {
     "data": {
      "text/plain": [
       "0"
      ]
     },
     "execution_count": 115,
     "metadata": {},
     "output_type": "execute_result"
    }
   ],
   "source": [
    "df1['FORMATION']=df1['FORMATION'].fillna('ffill')\n",
    "df1['FORMATION'].isnull().sum()"
   ]
  },
  {
   "cell_type": "code",
   "execution_count": 116,
   "id": "7bf38b1f",
   "metadata": {},
   "outputs": [],
   "source": [
    "#df1.isnull().sum()"
   ]
  },
  {
   "cell_type": "markdown",
   "id": "5792168c",
   "metadata": {},
   "source": [
    "## Replacing with the next value – backward fill\n",
    "\n",
    "In backward fill, the missing value is imputed using the next value."
   ]
  },
  {
   "cell_type": "code",
   "execution_count": 117,
   "id": "05cfd7b0",
   "metadata": {},
   "outputs": [
    {
     "data": {
      "text/plain": [
       "0"
      ]
     },
     "execution_count": 117,
     "metadata": {},
     "output_type": "execute_result"
    }
   ],
   "source": [
    "df1['ROP']=df1['ROP'].fillna('bfill')\n",
    "df1['ROP'].isnull().sum()"
   ]
  },
  {
   "cell_type": "code",
   "execution_count": 118,
   "id": "af576b81",
   "metadata": {},
   "outputs": [
    {
     "data": {
      "text/plain": [
       "WELL                0\n",
       "DEPTH_MD            0\n",
       "X_LOC            7393\n",
       "Y_LOC            7393\n",
       "Z_LOC            7393\n",
       "GROUP               0\n",
       "FORMATION           0\n",
       "CALI              192\n",
       "RSHA            71159\n",
       "RMED             7642\n",
       "RDEP             7393\n",
       "RHOB            25145\n",
       "GR                  0\n",
       "NPHI            41473\n",
       "PEF             32358\n",
       "DTC               563\n",
       "SP              39518\n",
       "ROP                 0\n",
       "DTS            121014\n",
       "DCAL            76998\n",
       "DRHO            27659\n",
       "LITHOFACIES         0\n",
       "dtype: int64"
      ]
     },
     "execution_count": 118,
     "metadata": {},
     "output_type": "execute_result"
    }
   ],
   "source": [
    "df1.isnull().sum()"
   ]
  },
  {
   "cell_type": "markdown",
   "id": "0fb9257f",
   "metadata": {},
   "source": [
    " "
   ]
  }
 ],
 "metadata": {
  "kernelspec": {
   "display_name": "Python 3 (ipykernel)",
   "language": "python",
   "name": "python3"
  },
  "language_info": {
   "codemirror_mode": {
    "name": "ipython",
    "version": 3
   },
   "file_extension": ".py",
   "mimetype": "text/x-python",
   "name": "python",
   "nbconvert_exporter": "python",
   "pygments_lexer": "ipython3",
   "version": "3.11.5"
  }
 },
 "nbformat": 4,
 "nbformat_minor": 5
}
