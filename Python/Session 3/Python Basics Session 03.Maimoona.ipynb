{
 "cells": [
  {
   "cell_type": "markdown",
   "id": "e0983d74",
   "metadata": {},
   "source": [
    "# Sequence Data types\n",
    "\n",
    "    - String\n",
    "    - List\n",
    "    - Tuple "
   ]
  },
  {
   "cell_type": "code",
   "execution_count": 1,
   "id": "88e0f66a",
   "metadata": {},
   "outputs": [
    {
     "data": {
      "text/plain": [
       "str"
      ]
     },
     "execution_count": 1,
     "metadata": {},
     "output_type": "execute_result"
    }
   ],
   "source": [
    "name = \"Maimoona - 123\"\n",
    "type(name)"
   ]
  },
  {
   "cell_type": "code",
   "execution_count": 2,
   "id": "6169ab3d",
   "metadata": {},
   "outputs": [
    {
     "data": {
      "text/plain": [
       "list"
      ]
     },
     "execution_count": 2,
     "metadata": {},
     "output_type": "execute_result"
    }
   ],
   "source": [
    "Basket = [ \"Apple\",\"banana\",\"kiwi\"]\n",
    "type(Basket)  #mutable"
   ]
  },
  {
   "cell_type": "code",
   "execution_count": 3,
   "id": "57a1ce75",
   "metadata": {},
   "outputs": [
    {
     "data": {
      "text/plain": [
       "'Apple'"
      ]
     },
     "execution_count": 3,
     "metadata": {},
     "output_type": "execute_result"
    }
   ],
   "source": [
    "Basket[0]"
   ]
  },
  {
   "cell_type": "code",
   "execution_count": null,
   "id": "e028d205",
   "metadata": {},
   "outputs": [],
   "source": []
  },
  {
   "cell_type": "code",
   "execution_count": 4,
   "id": "70f9f03c",
   "metadata": {},
   "outputs": [
    {
     "data": {
      "text/plain": [
       "tuple"
      ]
     },
     "execution_count": 4,
     "metadata": {},
     "output_type": "execute_result"
    }
   ],
   "source": [
    "Tuple = (\"apple\",\"banana\",\"kiwi\")\n",
    "type(Tuple)"
   ]
  },
  {
   "cell_type": "markdown",
   "id": "3f5c16c7",
   "metadata": {},
   "source": [
    "## Dictionary\n",
    "\n",
    "    - Key value pairs\n",
    "    - collection of values but they indexed using keys\n",
    "    - they are mutable\n",
    "    - { key : value } "
   ]
  },
  {
   "cell_type": "code",
   "execution_count": 5,
   "id": "7bc2a610",
   "metadata": {},
   "outputs": [
    {
     "data": {
      "text/plain": [
       "{'key': 'value'}"
      ]
     },
     "execution_count": 5,
     "metadata": {},
     "output_type": "execute_result"
    }
   ],
   "source": [
    "dictionary = {\"key\":\"value\"}\n",
    "dictionary"
   ]
  },
  {
   "cell_type": "code",
   "execution_count": 6,
   "id": "67b728fe",
   "metadata": {},
   "outputs": [
    {
     "data": {
      "text/plain": [
       "'value'"
      ]
     },
     "execution_count": 6,
     "metadata": {},
     "output_type": "execute_result"
    }
   ],
   "source": [
    "dictionary[\"key\"]"
   ]
  },
  {
   "cell_type": "code",
   "execution_count": 7,
   "id": "994351b9",
   "metadata": {},
   "outputs": [
    {
     "data": {
      "text/plain": [
       "{'One': 'Aik', ' Two': 'do', 'Three': 'Teen'}"
      ]
     },
     "execution_count": 7,
     "metadata": {},
     "output_type": "execute_result"
    }
   ],
   "source": [
    "#traditional Dictionary\n",
    "\n",
    "numeric_dictionary = { \"One\": \"Aik\",\" Two\":\"do\",\"Three\":\"Teen\"}\n",
    "\n",
    "numeric_dictionary"
   ]
  },
  {
   "cell_type": "code",
   "execution_count": 8,
   "id": "c8f20ae6",
   "metadata": {},
   "outputs": [
    {
     "data": {
      "text/plain": [
       "{'Chezious': ['Pizza', 'Pasta', 'Roll'], 'Chief': ['Burger']}"
      ]
     },
     "execution_count": 8,
     "metadata": {},
     "output_type": "execute_result"
    }
   ],
   "source": [
    "#Restaurants\n",
    "\n",
    "restaurants = {\"Chezious\": [\"Pizza\",\"Pasta\",\"Roll\"],\"Chief\":[\"Burger\"]}\n",
    "restaurants"
   ]
  },
  {
   "cell_type": "markdown",
   "id": "a79b714e",
   "metadata": {},
   "source": [
    "**Key() and values()**"
   ]
  },
  {
   "cell_type": "code",
   "execution_count": 9,
   "id": "277a63ad",
   "metadata": {},
   "outputs": [
    {
     "data": {
      "text/plain": [
       "dict_keys(['Chezious', 'Chief'])"
      ]
     },
     "execution_count": 9,
     "metadata": {},
     "output_type": "execute_result"
    }
   ],
   "source": [
    "restaurants.keys()"
   ]
  },
  {
   "cell_type": "code",
   "execution_count": 10,
   "id": "0e92b8f6",
   "metadata": {},
   "outputs": [
    {
     "data": {
      "text/plain": [
       "dict_values([['Pizza', 'Pasta', 'Roll'], ['Burger']])"
      ]
     },
     "execution_count": 10,
     "metadata": {},
     "output_type": "execute_result"
    }
   ],
   "source": [
    "restaurants.values()"
   ]
  },
  {
   "cell_type": "code",
   "execution_count": 11,
   "id": "7ff451e7",
   "metadata": {},
   "outputs": [
    {
     "data": {
      "text/plain": [
       "{1: 'pizza', 2: 'burger', 3: 'Pasta', 4: 'Roll'}"
      ]
     },
     "execution_count": 11,
     "metadata": {},
     "output_type": "execute_result"
    }
   ],
   "source": [
    "menu = { 1: \"pizza\", 2: \"burger\", 3:\"Pasta\", 4: \"Roll\"}\n",
    "menu"
   ]
  },
  {
   "cell_type": "markdown",
   "id": "2a2c540f",
   "metadata": {},
   "source": [
    "**You can't store the values with the same key or you can't use same key twice**"
   ]
  },
  {
   "cell_type": "code",
   "execution_count": 12,
   "id": "4dd02846",
   "metadata": {},
   "outputs": [
    {
     "data": {
      "text/plain": [
       "{1: 'Biryani', 2: 'burger', 3: 'Pasta', 4: 'Roll'}"
      ]
     },
     "execution_count": 12,
     "metadata": {},
     "output_type": "execute_result"
    }
   ],
   "source": [
    "menu = { 1: \"pizza\", 2: \"burger\", 3:\"Pasta\", 4: \"Roll\", 1: \"Biryani\" }\n",
    "menu"
   ]
  },
  {
   "cell_type": "markdown",
   "id": "e810e0fd",
   "metadata": {},
   "source": [
    "**Keys**\n",
    "\n",
    "    - String { \"One\": \"Aik\",\" Two\":\"do\",\"Three\":\"Teen\"}\n",
    "    - Numeric { 1: \"pizza\", 2: \"burger\", 3:\"Pasta\", 4: \"Roll\" }\n",
    "    - Tuple { (0,1) : \"Apple\", (0,2): \"banana\"}\n"
   ]
  },
  {
   "cell_type": "code",
   "execution_count": 13,
   "id": "b2aa4165",
   "metadata": {},
   "outputs": [
    {
     "data": {
      "text/plain": [
       "{(0, 1): 'Apple', (0, 2): 'banana'}"
      ]
     },
     "execution_count": 13,
     "metadata": {},
     "output_type": "execute_result"
    }
   ],
   "source": [
    "tup_key_dictionary = { (0,1) : \"Apple\", (0,2): \"banana\"}\n",
    "tup_key_dictionary"
   ]
  },
  {
   "cell_type": "code",
   "execution_count": 14,
   "id": "c7c9dbd9",
   "metadata": {},
   "outputs": [
    {
     "data": {
      "text/plain": [
       "dict_keys([(0, 1), (0, 2)])"
      ]
     },
     "execution_count": 14,
     "metadata": {},
     "output_type": "execute_result"
    }
   ],
   "source": [
    "tup_key_dictionary.keys()"
   ]
  },
  {
   "cell_type": "code",
   "execution_count": 15,
   "id": "f236ed8f",
   "metadata": {},
   "outputs": [
    {
     "ename": "TypeError",
     "evalue": "unhashable type: 'list'",
     "output_type": "error",
     "traceback": [
      "\u001b[1;31m---------------------------------------------------------------------------\u001b[0m",
      "\u001b[1;31mTypeError\u001b[0m                                 Traceback (most recent call last)",
      "Cell \u001b[1;32mIn[15], line 2\u001b[0m\n\u001b[0;32m      1\u001b[0m \u001b[38;5;66;03m# We can not use list and dictionaries data types as keys\u001b[39;00m\n\u001b[1;32m----> 2\u001b[0m list_dictionary \u001b[38;5;241m=\u001b[39m{ [\u001b[38;5;241m0\u001b[39m,\u001b[38;5;241m1\u001b[39m]:\u001b[38;5;124m\"\u001b[39m\u001b[38;5;124mApple\u001b[39m\u001b[38;5;124m\"\u001b[39m}\n",
      "\u001b[1;31mTypeError\u001b[0m: unhashable type: 'list'"
     ]
    }
   ],
   "source": [
    "# We can not use list and dictionaries data types as keys\n",
    "list_dictionary ={ [0,1]:\"Apple\"}\n"
   ]
  },
  {
   "cell_type": "markdown",
   "id": "2a98a489",
   "metadata": {},
   "source": [
    "**Value**\n",
    "\n",
    "    - String { \"One\": \"Aik\",\" Two\":\"do\",\"Three\":\"Teen\"}\n",
    "    - List   {\"Chezious\": [\"Pizza\",\"Pasta\",\"Roll\"],\"Chief\":[\"Burger\"]}\n",
    "    - Tuple  {\"Chezious\": (\"pizza\",\"Burger\",\"roll\"), \"chief\": (\"burger\",)}\n",
    "    - Dictionary"
   ]
  },
  {
   "cell_type": "code",
   "execution_count": 16,
   "id": "3bc99a43",
   "metadata": {},
   "outputs": [
    {
     "data": {
      "text/plain": [
       "{'Chezious': ('pizza', 'Burger', 'roll'), 'chief': ('burger',)}"
      ]
     },
     "execution_count": 16,
     "metadata": {},
     "output_type": "execute_result"
    }
   ],
   "source": [
    "Menu = {\"Chezious\": (\"pizza\",\"Burger\",\"roll\"), \"chief\": (\"burger\",)}\n",
    "Menu"
   ]
  },
  {
   "cell_type": "code",
   "execution_count": 17,
   "id": "03f6ef7e",
   "metadata": {},
   "outputs": [
    {
     "data": {
      "text/plain": [
       "dict_values([('pizza', 'Burger', 'roll'), ('burger',)])"
      ]
     },
     "execution_count": 17,
     "metadata": {},
     "output_type": "execute_result"
    }
   ],
   "source": [
    "Menu.values()"
   ]
  },
  {
   "cell_type": "code",
   "execution_count": 18,
   "id": "12b42ae2",
   "metadata": {
    "scrolled": true
   },
   "outputs": [
    {
     "data": {
      "text/plain": [
       "dict_keys(['Chezious', 'chief'])"
      ]
     },
     "execution_count": 18,
     "metadata": {},
     "output_type": "execute_result"
    }
   ],
   "source": [
    "Menu.keys()"
   ]
  },
  {
   "cell_type": "markdown",
   "id": "c4bbcc73",
   "metadata": {},
   "source": [
    "### Indexing"
   ]
  },
  {
   "cell_type": "code",
   "execution_count": 19,
   "id": "18d3f4ae",
   "metadata": {},
   "outputs": [],
   "source": [
    "# Grading System\n",
    "# three students data \n",
    "# of three different subjects like english urdu and maths"
   ]
  },
  {
   "cell_type": "code",
   "execution_count": 20,
   "id": "8f0fa1f2",
   "metadata": {},
   "outputs": [
    {
     "data": {
      "text/plain": [
       "{'Ahmad': [78, 80, 90], 'Ali': [75, 79, 95], 'Zara': [77, 85, 90]}"
      ]
     },
     "execution_count": 20,
     "metadata": {},
     "output_type": "execute_result"
    }
   ],
   "source": [
    "# {student_name: [urdu_score, english_score, maths_score]}\n",
    "\n",
    "grades = { \"Ahmad\": [78,80,90], \"Ali\":[75,79,95], \"Zara\": [77, 85,90]}\n",
    "grades"
   ]
  },
  {
   "cell_type": "code",
   "execution_count": 21,
   "id": "69c111a1",
   "metadata": {},
   "outputs": [
    {
     "data": {
      "text/plain": [
       "[78, 80, 90]"
      ]
     },
     "execution_count": 21,
     "metadata": {},
     "output_type": "execute_result"
    }
   ],
   "source": [
    "grades[\"Ahmad\"]"
   ]
  },
  {
   "cell_type": "code",
   "execution_count": 22,
   "id": "bd8216fd",
   "metadata": {},
   "outputs": [
    {
     "data": {
      "text/plain": [
       "80"
      ]
     },
     "execution_count": 22,
     "metadata": {},
     "output_type": "execute_result"
    }
   ],
   "source": [
    "grades[\"Ahmad\"][1]"
   ]
  },
  {
   "cell_type": "code",
   "execution_count": 23,
   "id": "282322e7",
   "metadata": {},
   "outputs": [
    {
     "data": {
      "text/plain": [
       "(80, 90)"
      ]
     },
     "execution_count": 23,
     "metadata": {},
     "output_type": "execute_result"
    }
   ],
   "source": [
    "#displaying multiple values\n",
    "grades[\"Ahmad\"][1], grades[\"Zara\"][2]\n"
   ]
  },
  {
   "cell_type": "code",
   "execution_count": 24,
   "id": "b4e410bf",
   "metadata": {},
   "outputs": [
    {
     "data": {
      "text/plain": [
       "dict_keys(['Ahmad', 'Ali', 'Zara'])"
      ]
     },
     "execution_count": 24,
     "metadata": {},
     "output_type": "execute_result"
    }
   ],
   "source": [
    "grades.keys()"
   ]
  },
  {
   "cell_type": "code",
   "execution_count": 25,
   "id": "b9a1511a",
   "metadata": {},
   "outputs": [
    {
     "data": {
      "text/plain": [
       "dict_values([[78, 80, 90], [75, 79, 95], [77, 85, 90]])"
      ]
     },
     "execution_count": 25,
     "metadata": {},
     "output_type": "execute_result"
    }
   ],
   "source": [
    "grades.values()"
   ]
  },
  {
   "cell_type": "markdown",
   "id": "c42d28b2",
   "metadata": {},
   "source": [
    "### Updating the data"
   ]
  },
  {
   "cell_type": "code",
   "execution_count": 26,
   "id": "b0a6f185",
   "metadata": {},
   "outputs": [
    {
     "data": {
      "text/plain": [
       "{'Ahmad': [78, 80, 90], 'Ali': [75, 79, 95], 'Zara': [77, 85, 90]}"
      ]
     },
     "execution_count": 26,
     "metadata": {},
     "output_type": "execute_result"
    }
   ],
   "source": [
    "grades"
   ]
  },
  {
   "cell_type": "code",
   "execution_count": 27,
   "id": "ee1d1c67",
   "metadata": {},
   "outputs": [],
   "source": [
    "# updating single value\n",
    "grades[\"Ali\"][0] = 80"
   ]
  },
  {
   "cell_type": "code",
   "execution_count": 28,
   "id": "180c21cb",
   "metadata": {},
   "outputs": [
    {
     "data": {
      "text/plain": [
       "{'Ahmad': [78, 80, 90], 'Ali': [80, 79, 95], 'Zara': [77, 85, 90]}"
      ]
     },
     "execution_count": 28,
     "metadata": {},
     "output_type": "execute_result"
    }
   ],
   "source": [
    "grades"
   ]
  },
  {
   "cell_type": "code",
   "execution_count": 29,
   "id": "a29347e9",
   "metadata": {},
   "outputs": [],
   "source": [
    "grades[\"Zara\"] = 80"
   ]
  },
  {
   "cell_type": "code",
   "execution_count": 30,
   "id": "3429ba36",
   "metadata": {},
   "outputs": [
    {
     "data": {
      "text/plain": [
       "{'Ahmad': [78, 80, 90], 'Ali': [80, 79, 95], 'Zara': 80}"
      ]
     },
     "execution_count": 30,
     "metadata": {},
     "output_type": "execute_result"
    }
   ],
   "source": [
    "grades"
   ]
  },
  {
   "cell_type": "markdown",
   "id": "0ccaae92",
   "metadata": {},
   "source": [
    "#### Adding a new key-value pair"
   ]
  },
  {
   "cell_type": "code",
   "execution_count": 31,
   "id": "3dcedca4",
   "metadata": {},
   "outputs": [
    {
     "data": {
      "text/plain": [
       "{'Ahmad': [78, 80, 90], 'Ali': [80, 79, 95], 'Zara': 80}"
      ]
     },
     "execution_count": 31,
     "metadata": {},
     "output_type": "execute_result"
    }
   ],
   "source": [
    "grades"
   ]
  },
  {
   "cell_type": "code",
   "execution_count": 32,
   "id": "48b50949",
   "metadata": {},
   "outputs": [],
   "source": [
    "grades[\"Mahnoor\"] = [90 ,91, 95]"
   ]
  },
  {
   "cell_type": "code",
   "execution_count": 33,
   "id": "0b9f8da9",
   "metadata": {},
   "outputs": [
    {
     "data": {
      "text/plain": [
       "{'Ahmad': [78, 80, 90],\n",
       " 'Ali': [80, 79, 95],\n",
       " 'Zara': 80,\n",
       " 'Mahnoor': [90, 91, 95]}"
      ]
     },
     "execution_count": 33,
     "metadata": {},
     "output_type": "execute_result"
    }
   ],
   "source": [
    "grades"
   ]
  },
  {
   "cell_type": "code",
   "execution_count": 34,
   "id": "6be64694",
   "metadata": {},
   "outputs": [],
   "source": [
    "grades[\"Mahnoor\"] = [0 , 0, 0]"
   ]
  },
  {
   "cell_type": "code",
   "execution_count": 35,
   "id": "117748e6",
   "metadata": {},
   "outputs": [
    {
     "data": {
      "text/plain": [
       "{'Ahmad': [78, 80, 90], 'Ali': [80, 79, 95], 'Zara': 80, 'Mahnoor': [0, 0, 0]}"
      ]
     },
     "execution_count": 35,
     "metadata": {},
     "output_type": "execute_result"
    }
   ],
   "source": [
    "grades"
   ]
  },
  {
   "cell_type": "markdown",
   "id": "bdf800a1",
   "metadata": {},
   "source": [
    "### Indexing the int value will throw error"
   ]
  },
  {
   "cell_type": "code",
   "execution_count": 36,
   "id": "6204c4b3",
   "metadata": {},
   "outputs": [
    {
     "ename": "TypeError",
     "evalue": "'int' object is not subscriptable",
     "output_type": "error",
     "traceback": [
      "\u001b[1;31m---------------------------------------------------------------------------\u001b[0m",
      "\u001b[1;31mTypeError\u001b[0m                                 Traceback (most recent call last)",
      "Cell \u001b[1;32mIn[36], line 1\u001b[0m\n\u001b[1;32m----> 1\u001b[0m grades[\u001b[38;5;124m\"\u001b[39m\u001b[38;5;124mZara\u001b[39m\u001b[38;5;124m\"\u001b[39m][\u001b[38;5;241m1\u001b[39m][\u001b[38;5;241m0\u001b[39m]\n",
      "\u001b[1;31mTypeError\u001b[0m: 'int' object is not subscriptable"
     ]
    }
   ],
   "source": [
    "grades[\"Zara\"][1][0]"
   ]
  },
  {
   "cell_type": "code",
   "execution_count": 37,
   "id": "d18006ef",
   "metadata": {},
   "outputs": [
    {
     "data": {
      "text/plain": [
       "10"
      ]
     },
     "execution_count": 37,
     "metadata": {},
     "output_type": "execute_result"
    }
   ],
   "source": [
    "num = 5\n",
    "num += 5   # num = num +5\n",
    "num"
   ]
  },
  {
   "cell_type": "markdown",
   "id": "244c23c8",
   "metadata": {},
   "source": [
    "### Data Manipulation"
   ]
  },
  {
   "cell_type": "code",
   "execution_count": 38,
   "id": "c6961034",
   "metadata": {},
   "outputs": [
    {
     "data": {
      "text/plain": [
       "{'Mahnoor': 23, 'Maham': 24, 'Zara': 20}"
      ]
     },
     "execution_count": 38,
     "metadata": {},
     "output_type": "execute_result"
    }
   ],
   "source": [
    "students = {\"Mahnoor\":23, \"Maham\": 24,\"Zara\":20}    # {name: age}\n",
    "students"
   ]
  },
  {
   "cell_type": "code",
   "execution_count": 39,
   "id": "b951fd12",
   "metadata": {},
   "outputs": [],
   "source": [
    "students[\"Zara\"] += 2"
   ]
  },
  {
   "cell_type": "code",
   "execution_count": 40,
   "id": "b98da1d0",
   "metadata": {},
   "outputs": [
    {
     "data": {
      "text/plain": [
       "{'Mahnoor': 23, 'Maham': 24, 'Zara': 22}"
      ]
     },
     "execution_count": 40,
     "metadata": {},
     "output_type": "execute_result"
    }
   ],
   "source": [
    "students"
   ]
  },
  {
   "cell_type": "markdown",
   "id": "abd22ecc",
   "metadata": {},
   "source": [
    "## Nested Dictionary"
   ]
  },
  {
   "cell_type": "code",
   "execution_count": 41,
   "id": "a05fcd90",
   "metadata": {},
   "outputs": [
    {
     "data": {
      "text/plain": [
       "{'Ahmad': {'urdu': 75, 'english': 78},\n",
       " 'Bilal': {'urdu': 79, 'english': 80},\n",
       " 'Zara': {'urdu': 81, 'english': 80}}"
      ]
     },
     "execution_count": 41,
     "metadata": {},
     "output_type": "execute_result"
    }
   ],
   "source": [
    "# {student_name: {urdu_score: numeric, english_score:numeric, maths_score:numeric}}\n",
    "\n",
    "subject_grades = { \"Ahmad\":{\"urdu\":75, \"english\": 78} , \"Bilal\": {\"urdu\": 79, \"english\":80}, \"Zara\" :{\"urdu\":81,\"english\":80} }\n",
    "subject_grades\n"
   ]
  },
  {
   "cell_type": "code",
   "execution_count": 42,
   "id": "d4e15968",
   "metadata": {},
   "outputs": [
    {
     "data": {
      "text/plain": [
       "78"
      ]
     },
     "execution_count": 42,
     "metadata": {},
     "output_type": "execute_result"
    }
   ],
   "source": [
    "subject_grades[\"Ahmad\"][\"english\"]"
   ]
  },
  {
   "cell_type": "code",
   "execution_count": 43,
   "id": "468a61a2",
   "metadata": {},
   "outputs": [],
   "source": [
    "subject_grades[\"Ahmad\"][\"english\"] = 90"
   ]
  },
  {
   "cell_type": "code",
   "execution_count": 44,
   "id": "ad02f33c",
   "metadata": {},
   "outputs": [
    {
     "data": {
      "text/plain": [
       "{'Ahmad': {'urdu': 75, 'english': 90},\n",
       " 'Bilal': {'urdu': 79, 'english': 80},\n",
       " 'Zara': {'urdu': 81, 'english': 80}}"
      ]
     },
     "execution_count": 44,
     "metadata": {},
     "output_type": "execute_result"
    }
   ],
   "source": [
    "subject_grades"
   ]
  },
  {
   "cell_type": "markdown",
   "id": "67799b8d",
   "metadata": {},
   "source": [
    "### Remove the elements "
   ]
  },
  {
   "cell_type": "markdown",
   "id": "90cb3859",
   "metadata": {},
   "source": [
    "**pop**"
   ]
  },
  {
   "cell_type": "code",
   "execution_count": 45,
   "id": "beafde6a",
   "metadata": {},
   "outputs": [
    {
     "data": {
      "text/plain": [
       "{'urdu': 81, 'english': 80}"
      ]
     },
     "execution_count": 45,
     "metadata": {},
     "output_type": "execute_result"
    }
   ],
   "source": [
    "subject_grades.pop(\"Zara\")  # using the desired key"
   ]
  },
  {
   "cell_type": "code",
   "execution_count": 46,
   "id": "0e0e49fe",
   "metadata": {},
   "outputs": [
    {
     "data": {
      "text/plain": [
       "{'Ahmad': {'urdu': 75, 'english': 90}, 'Bilal': {'urdu': 79, 'english': 80}}"
      ]
     },
     "execution_count": 46,
     "metadata": {},
     "output_type": "execute_result"
    }
   ],
   "source": [
    "subject_grades"
   ]
  },
  {
   "cell_type": "markdown",
   "id": "6d76e3c8",
   "metadata": {},
   "source": [
    "**pop item**"
   ]
  },
  {
   "cell_type": "code",
   "execution_count": 47,
   "id": "4d7d117d",
   "metadata": {},
   "outputs": [
    {
     "data": {
      "text/plain": [
       "('Bilal', {'urdu': 79, 'english': 80})"
      ]
     },
     "execution_count": 47,
     "metadata": {},
     "output_type": "execute_result"
    }
   ],
   "source": [
    "subject_grades.popitem()  #delete the last element"
   ]
  },
  {
   "cell_type": "code",
   "execution_count": 48,
   "id": "849505f6",
   "metadata": {},
   "outputs": [
    {
     "data": {
      "text/plain": [
       "{'Ahmad': {'urdu': 75, 'english': 90}}"
      ]
     },
     "execution_count": 48,
     "metadata": {},
     "output_type": "execute_result"
    }
   ],
   "source": [
    "subject_grades"
   ]
  },
  {
   "cell_type": "markdown",
   "id": "c7ab381d",
   "metadata": {},
   "source": [
    "### Clear"
   ]
  },
  {
   "cell_type": "code",
   "execution_count": 49,
   "id": "e902286f",
   "metadata": {},
   "outputs": [],
   "source": [
    "subject_grades.clear()        #removing all elements"
   ]
  },
  {
   "cell_type": "code",
   "execution_count": 50,
   "id": "193dfc69",
   "metadata": {},
   "outputs": [
    {
     "data": {
      "text/plain": [
       "{}"
      ]
     },
     "execution_count": 50,
     "metadata": {},
     "output_type": "execute_result"
    }
   ],
   "source": [
    "subject_grades"
   ]
  },
  {
   "cell_type": "markdown",
   "id": "14d3c497",
   "metadata": {},
   "source": [
    "## Sets\n",
    "\n",
    "    - They are ordered\n",
    "    - They don't allow duplicates\n",
    "    - They can not be accessed using indexes"
   ]
  },
  {
   "cell_type": "code",
   "execution_count": 51,
   "id": "26682763",
   "metadata": {},
   "outputs": [
    {
     "data": {
      "text/plain": [
       "{45, 80, 90}"
      ]
     },
     "execution_count": 51,
     "metadata": {},
     "output_type": "execute_result"
    }
   ],
   "source": [
    "score = { 90, 80, 45}\n",
    "score"
   ]
  },
  {
   "cell_type": "code",
   "execution_count": 52,
   "id": "4866aec7",
   "metadata": {
    "scrolled": true
   },
   "outputs": [
    {
     "data": {
      "text/plain": [
       "set"
      ]
     },
     "execution_count": 52,
     "metadata": {},
     "output_type": "execute_result"
    }
   ],
   "source": [
    "type(score)"
   ]
  },
  {
   "cell_type": "code",
   "execution_count": 53,
   "id": "33427c6f",
   "metadata": {},
   "outputs": [
    {
     "ename": "TypeError",
     "evalue": "'set' object is not subscriptable",
     "output_type": "error",
     "traceback": [
      "\u001b[1;31m---------------------------------------------------------------------------\u001b[0m",
      "\u001b[1;31mTypeError\u001b[0m                                 Traceback (most recent call last)",
      "Cell \u001b[1;32mIn[53], line 3\u001b[0m\n\u001b[0;32m      1\u001b[0m \u001b[38;5;66;03m# You cannot access items in a set by referring to an index or a key. \u001b[39;00m\n\u001b[0;32m      2\u001b[0m \u001b[38;5;66;03m# You can loop through the set items using a for loop.\u001b[39;00m\n\u001b[1;32m----> 3\u001b[0m score[\u001b[38;5;241m0\u001b[39m]\n",
      "\u001b[1;31mTypeError\u001b[0m: 'set' object is not subscriptable"
     ]
    }
   ],
   "source": [
    "# You cannot access items in a set by referring to an index or a key. \n",
    "# You can loop through the set items using a for loop.\n",
    "score[0]   "
   ]
  },
  {
   "cell_type": "code",
   "execution_count": 54,
   "id": "5993b31e",
   "metadata": {},
   "outputs": [
    {
     "name": "stdout",
     "output_type": "stream",
     "text": [
      "80\n",
      "90\n",
      "45\n"
     ]
    }
   ],
   "source": [
    "for i in score:\n",
    "    print(i)"
   ]
  },
  {
   "cell_type": "code",
   "execution_count": 55,
   "id": "3d97415e",
   "metadata": {},
   "outputs": [
    {
     "data": {
      "text/plain": [
       "{45, 80, 90}"
      ]
     },
     "execution_count": 55,
     "metadata": {},
     "output_type": "execute_result"
    }
   ],
   "source": [
    "score = { 90, 80, 45, 80, 80 ,45}\n",
    "score"
   ]
  },
  {
   "cell_type": "code",
   "execution_count": 56,
   "id": "5606526a",
   "metadata": {},
   "outputs": [
    {
     "data": {
      "text/plain": [
       "[90, 80, 45, 80, 80, 45]"
      ]
     },
     "execution_count": 56,
     "metadata": {},
     "output_type": "execute_result"
    }
   ],
   "source": [
    "score =  [90, 80, 45, 80, 80 ,45]\n",
    "score"
   ]
  },
  {
   "cell_type": "markdown",
   "id": "e1df9145",
   "metadata": {},
   "source": [
    "union\n",
    "intersection\n",
    "difference"
   ]
  },
  {
   "cell_type": "code",
   "execution_count": 61,
   "id": "b6cbedd4",
   "metadata": {},
   "outputs": [
    {
     "data": {
      "text/plain": [
       "{45, 80, 90}"
      ]
     },
     "execution_count": 61,
     "metadata": {},
     "output_type": "execute_result"
    }
   ],
   "source": [
    "score = { 90, 80, 45, 80, 80 ,45}\n",
    "score"
   ]
  },
  {
   "cell_type": "code",
   "execution_count": 62,
   "id": "a7b4a569",
   "metadata": {},
   "outputs": [
    {
     "data": {
      "text/plain": [
       "{1, 23, 45, 80, 90}"
      ]
     },
     "execution_count": 62,
     "metadata": {},
     "output_type": "execute_result"
    }
   ],
   "source": [
    "score.union({1,23})"
   ]
  },
  {
   "cell_type": "code",
   "execution_count": 63,
   "id": "64d6de15",
   "metadata": {},
   "outputs": [
    {
     "data": {
      "text/plain": [
       "{45, 80, 90}"
      ]
     },
     "execution_count": 63,
     "metadata": {},
     "output_type": "execute_result"
    }
   ],
   "source": [
    "score"
   ]
  },
  {
   "cell_type": "code",
   "execution_count": 64,
   "id": "1ffed92d",
   "metadata": {},
   "outputs": [
    {
     "data": {
      "text/plain": [
       "{45}"
      ]
     },
     "execution_count": 64,
     "metadata": {},
     "output_type": "execute_result"
    }
   ],
   "source": [
    "score.intersection({45,66,32})"
   ]
  },
  {
   "cell_type": "code",
   "execution_count": 65,
   "id": "5171333c",
   "metadata": {},
   "outputs": [
    {
     "name": "stdout",
     "output_type": "stream",
     "text": [
      "Help on class set in module builtins:\n",
      "\n",
      "class set(object)\n",
      " |  set() -> new empty set object\n",
      " |  set(iterable) -> new set object\n",
      " |  \n",
      " |  Build an unordered collection of unique elements.\n",
      " |  \n",
      " |  Methods defined here:\n",
      " |  \n",
      " |  __and__(self, value, /)\n",
      " |      Return self&value.\n",
      " |  \n",
      " |  __contains__(...)\n",
      " |      x.__contains__(y) <==> y in x.\n",
      " |  \n",
      " |  __eq__(self, value, /)\n",
      " |      Return self==value.\n",
      " |  \n",
      " |  __ge__(self, value, /)\n",
      " |      Return self>=value.\n",
      " |  \n",
      " |  __getattribute__(self, name, /)\n",
      " |      Return getattr(self, name).\n",
      " |  \n",
      " |  __gt__(self, value, /)\n",
      " |      Return self>value.\n",
      " |  \n",
      " |  __iand__(self, value, /)\n",
      " |      Return self&=value.\n",
      " |  \n",
      " |  __init__(self, /, *args, **kwargs)\n",
      " |      Initialize self.  See help(type(self)) for accurate signature.\n",
      " |  \n",
      " |  __ior__(self, value, /)\n",
      " |      Return self|=value.\n",
      " |  \n",
      " |  __isub__(self, value, /)\n",
      " |      Return self-=value.\n",
      " |  \n",
      " |  __iter__(self, /)\n",
      " |      Implement iter(self).\n",
      " |  \n",
      " |  __ixor__(self, value, /)\n",
      " |      Return self^=value.\n",
      " |  \n",
      " |  __le__(self, value, /)\n",
      " |      Return self<=value.\n",
      " |  \n",
      " |  __len__(self, /)\n",
      " |      Return len(self).\n",
      " |  \n",
      " |  __lt__(self, value, /)\n",
      " |      Return self<value.\n",
      " |  \n",
      " |  __ne__(self, value, /)\n",
      " |      Return self!=value.\n",
      " |  \n",
      " |  __or__(self, value, /)\n",
      " |      Return self|value.\n",
      " |  \n",
      " |  __rand__(self, value, /)\n",
      " |      Return value&self.\n",
      " |  \n",
      " |  __reduce__(...)\n",
      " |      Return state information for pickling.\n",
      " |  \n",
      " |  __repr__(self, /)\n",
      " |      Return repr(self).\n",
      " |  \n",
      " |  __ror__(self, value, /)\n",
      " |      Return value|self.\n",
      " |  \n",
      " |  __rsub__(self, value, /)\n",
      " |      Return value-self.\n",
      " |  \n",
      " |  __rxor__(self, value, /)\n",
      " |      Return value^self.\n",
      " |  \n",
      " |  __sizeof__(...)\n",
      " |      S.__sizeof__() -> size of S in memory, in bytes\n",
      " |  \n",
      " |  __sub__(self, value, /)\n",
      " |      Return self-value.\n",
      " |  \n",
      " |  __xor__(self, value, /)\n",
      " |      Return self^value.\n",
      " |  \n",
      " |  add(...)\n",
      " |      Add an element to a set.\n",
      " |      \n",
      " |      This has no effect if the element is already present.\n",
      " |  \n",
      " |  clear(...)\n",
      " |      Remove all elements from this set.\n",
      " |  \n",
      " |  copy(...)\n",
      " |      Return a shallow copy of a set.\n",
      " |  \n",
      " |  difference(...)\n",
      " |      Return the difference of two or more sets as a new set.\n",
      " |      \n",
      " |      (i.e. all elements that are in this set but not the others.)\n",
      " |  \n",
      " |  difference_update(...)\n",
      " |      Remove all elements of another set from this set.\n",
      " |  \n",
      " |  discard(...)\n",
      " |      Remove an element from a set if it is a member.\n",
      " |      \n",
      " |      Unlike set.remove(), the discard() method does not raise\n",
      " |      an exception when an element is missing from the set.\n",
      " |  \n",
      " |  intersection(...)\n",
      " |      Return the intersection of two sets as a new set.\n",
      " |      \n",
      " |      (i.e. all elements that are in both sets.)\n",
      " |  \n",
      " |  intersection_update(...)\n",
      " |      Update a set with the intersection of itself and another.\n",
      " |  \n",
      " |  isdisjoint(...)\n",
      " |      Return True if two sets have a null intersection.\n",
      " |  \n",
      " |  issubset(...)\n",
      " |      Report whether another set contains this set.\n",
      " |  \n",
      " |  issuperset(...)\n",
      " |      Report whether this set contains another set.\n",
      " |  \n",
      " |  pop(...)\n",
      " |      Remove and return an arbitrary set element.\n",
      " |      Raises KeyError if the set is empty.\n",
      " |  \n",
      " |  remove(...)\n",
      " |      Remove an element from a set; it must be a member.\n",
      " |      \n",
      " |      If the element is not a member, raise a KeyError.\n",
      " |  \n",
      " |  symmetric_difference(...)\n",
      " |      Return the symmetric difference of two sets as a new set.\n",
      " |      \n",
      " |      (i.e. all elements that are in exactly one of the sets.)\n",
      " |  \n",
      " |  symmetric_difference_update(...)\n",
      " |      Update a set with the symmetric difference of itself and another.\n",
      " |  \n",
      " |  union(...)\n",
      " |      Return the union of sets as a new set.\n",
      " |      \n",
      " |      (i.e. all elements that are in either set.)\n",
      " |  \n",
      " |  update(...)\n",
      " |      Update a set with the union of itself and others.\n",
      " |  \n",
      " |  ----------------------------------------------------------------------\n",
      " |  Class methods defined here:\n",
      " |  \n",
      " |  __class_getitem__(...) from builtins.type\n",
      " |      See PEP 585\n",
      " |  \n",
      " |  ----------------------------------------------------------------------\n",
      " |  Static methods defined here:\n",
      " |  \n",
      " |  __new__(*args, **kwargs) from builtins.type\n",
      " |      Create and return a new object.  See help(type) for accurate signature.\n",
      " |  \n",
      " |  ----------------------------------------------------------------------\n",
      " |  Data and other attributes defined here:\n",
      " |  \n",
      " |  __hash__ = None\n",
      "\n"
     ]
    }
   ],
   "source": [
    "help(set)"
   ]
  },
  {
   "cell_type": "markdown",
   "id": "76b5c697",
   "metadata": {},
   "source": [
    "## For loop"
   ]
  },
  {
   "cell_type": "code",
   "execution_count": 66,
   "id": "8affd94e",
   "metadata": {},
   "outputs": [
    {
     "name": "stdout",
     "output_type": "stream",
     "text": [
      "Hello\n",
      "Hello\n",
      "Hello\n",
      "Hello\n",
      "Hello\n"
     ]
    }
   ],
   "source": [
    "# you have to print hello 1000 times\n",
    "print(\"Hello\") \n",
    "print(\"Hello\") \n",
    "print(\"Hello\") \n",
    "print(\"Hello\") \n",
    "print(\"Hello\") "
   ]
  },
  {
   "cell_type": "code",
   "execution_count": 67,
   "id": "b8fc60e4",
   "metadata": {},
   "outputs": [
    {
     "data": {
      "text/plain": [
       "'Dt cec'"
      ]
     },
     "execution_count": 67,
     "metadata": {},
     "output_type": "execute_result"
    }
   ],
   "source": [
    "string = \"Data Science\"\n",
    "string[::2]   #start, end, step"
   ]
  },
  {
   "cell_type": "code",
   "execution_count": 68,
   "id": "54bb410c",
   "metadata": {},
   "outputs": [
    {
     "data": {
      "text/plain": [
       "range(0, 10)"
      ]
     },
     "execution_count": 68,
     "metadata": {},
     "output_type": "execute_result"
    }
   ],
   "source": [
    "#start, end, step\n",
    "\n",
    "range(0,10)\n",
    "#0 1 2 3 4 5 6 7 8 9 "
   ]
  },
  {
   "cell_type": "code",
   "execution_count": 69,
   "id": "7592f7d2",
   "metadata": {},
   "outputs": [
    {
     "data": {
      "text/plain": [
       "[0, 2, 4, 6, 8]"
      ]
     },
     "execution_count": 69,
     "metadata": {},
     "output_type": "execute_result"
    }
   ],
   "source": [
    "list(range(0, 10,2))"
   ]
  },
  {
   "cell_type": "code",
   "execution_count": 70,
   "id": "f0c4daff",
   "metadata": {},
   "outputs": [
    {
     "name": "stdout",
     "output_type": "stream",
     "text": [
      "[0, 1, 2, 3, 4, 5, 6, 7, 8, 9, 10]\n",
      "[0, 2, 4, 6, 8]\n",
      "[9, 8, 7, 6, 5, 4, 3, 2, 1, 0]\n"
     ]
    }
   ],
   "source": [
    "# if you need the numeric data in specific sequence, go for Range(start, stop, step)\n",
    "\n",
    "print(list(range(0, 11)))\n",
    "print(list(range(0, 10, 2)))\n",
    "print(list(range(9, -1 ,-1)))\n",
    "\n",
    "#range(0,10,-1)"
   ]
  },
  {
   "cell_type": "code",
   "execution_count": 71,
   "id": "3c5e4a02",
   "metadata": {},
   "outputs": [
    {
     "name": "stdout",
     "output_type": "stream",
     "text": [
      "[9, 8, 7, 6, 5, 4, 3, 2, 1]\n"
     ]
    }
   ],
   "source": [
    "print(list(range(9, 0 ,-1)))\n"
   ]
  },
  {
   "cell_type": "code",
   "execution_count": 72,
   "id": "976978c7",
   "metadata": {},
   "outputs": [
    {
     "name": "stdout",
     "output_type": "stream",
     "text": [
      "9\n",
      "8\n",
      "7\n",
      "6\n",
      "5\n",
      "4\n",
      "3\n",
      "2\n",
      "1\n"
     ]
    }
   ],
   "source": [
    "for i in range(9, 0 ,-1):\n",
    "    print(i)"
   ]
  },
  {
   "cell_type": "code",
   "execution_count": 73,
   "id": "69eb0b7b",
   "metadata": {},
   "outputs": [
    {
     "name": "stdout",
     "output_type": "stream",
     "text": [
      "1\n",
      "2\n",
      "3\n",
      "4\n",
      "5\n"
     ]
    }
   ],
   "source": [
    "for i in range(1,6):\n",
    "    print(i)"
   ]
  },
  {
   "cell_type": "code",
   "execution_count": 74,
   "id": "30562a6b",
   "metadata": {},
   "outputs": [
    {
     "name": "stdout",
     "output_type": "stream",
     "text": [
      "hello\n",
      "World\n",
      "!\n",
      "hello\n",
      "World\n",
      "!\n",
      "hello\n",
      "World\n",
      "!\n",
      "hello\n",
      "World\n",
      "!\n",
      "hello\n",
      "World\n",
      "!\n"
     ]
    }
   ],
   "source": [
    "# to print hello five time\n",
    "for num in range(1,6):\n",
    "    \n",
    "    print(\"hello\")\n",
    "    print(\"World\")    #indent => Tab = > 8 spaces\n",
    "    print(\"!\")"
   ]
  },
  {
   "cell_type": "code",
   "execution_count": 75,
   "id": "534a578f",
   "metadata": {},
   "outputs": [
    {
     "name": "stdout",
     "output_type": "stream",
     "text": [
      "1 hello\n",
      "2 hello\n",
      "3 hello\n",
      "4 hello\n",
      "5 hello\n"
     ]
    }
   ],
   "source": [
    "# to print numeric value + hello five time\n",
    "for num in range(1,6):\n",
    "    \n",
    "    print(num, \"hello\")"
   ]
  },
  {
   "cell_type": "code",
   "execution_count": 76,
   "id": "8f07fb54",
   "metadata": {},
   "outputs": [
    {
     "name": "stdout",
     "output_type": "stream",
     "text": [
      "2  x  0  =  0\n",
      "2  x  1  =  2\n",
      "2  x  2  =  4\n",
      "2  x  3  =  6\n",
      "2  x  4  =  8\n",
      "2  x  5  =  10\n",
      "2  x  6  =  12\n",
      "2  x  7  =  14\n",
      "2  x  8  =  16\n",
      "2  x  9  =  18\n",
      "2  x  10  =  20\n"
     ]
    }
   ],
   "source": [
    "\n",
    "for i in range(0,11):\n",
    "    print(2, \" x \", i, \" = \", 2 * i)\n",
    "\n"
   ]
  },
  {
   "cell_type": "code",
   "execution_count": 77,
   "id": "d3c27fda",
   "metadata": {},
   "outputs": [
    {
     "data": {
      "text/plain": [
       "3"
      ]
     },
     "execution_count": 77,
     "metadata": {},
     "output_type": "execute_result"
    }
   ],
   "source": [
    "salary = [2500, 2000, 3000]\n",
    "len(salary)"
   ]
  },
  {
   "cell_type": "code",
   "execution_count": 78,
   "id": "da4df1bd",
   "metadata": {},
   "outputs": [],
   "source": [
    "# Add Eidi Bonus to salary of all employees\n",
    "\n",
    "salary = [2500, 2000, 3000, 6000, 4000,2300]\n",
    "\n",
    "\n",
    "for i in range(0, len(salary)):\n",
    "    salary[i] += 5000\n"
   ]
  },
  {
   "cell_type": "code",
   "execution_count": 79,
   "id": "944d3a1e",
   "metadata": {},
   "outputs": [
    {
     "data": {
      "text/plain": [
       "[7500, 7000, 8000, 11000, 9000, 7300]"
      ]
     },
     "execution_count": 79,
     "metadata": {},
     "output_type": "execute_result"
    }
   ],
   "source": [
    "salary"
   ]
  },
  {
   "cell_type": "code",
   "execution_count": 80,
   "id": "f7f36c41",
   "metadata": {},
   "outputs": [
    {
     "name": "stdout",
     "output_type": "stream",
     "text": [
      "0\n",
      "1\n",
      "2\n",
      "3\n",
      "4\n"
     ]
    }
   ],
   "source": [
    "for i in range(0,5):\n",
    "    print(i)"
   ]
  },
  {
   "cell_type": "code",
   "execution_count": 81,
   "id": "02d44ace",
   "metadata": {},
   "outputs": [
    {
     "name": "stdout",
     "output_type": "stream",
     "text": [
      "hello\n",
      "hello\n",
      "hello\n",
      "hello\n",
      "hello\n"
     ]
    }
   ],
   "source": [
    "for task in range(0,5):\n",
    "    print(\"hello\")"
   ]
  },
  {
   "cell_type": "code",
   "execution_count": null,
   "id": "004c3b9d",
   "metadata": {},
   "outputs": [],
   "source": []
  },
  {
   "cell_type": "code",
   "execution_count": 82,
   "id": "fdfbb4b5",
   "metadata": {},
   "outputs": [
    {
     "name": "stdout",
     "output_type": "stream",
     "text": [
      "34\n",
      "67\n",
      "55\n",
      "90\n",
      "76\n"
     ]
    }
   ],
   "source": [
    "# Set\n",
    "score = {90, 76, 34,55,67}\n",
    "for i in score:\n",
    "    print(i)"
   ]
  },
  {
   "cell_type": "code",
   "execution_count": 83,
   "id": "ed07a382",
   "metadata": {},
   "outputs": [
    {
     "name": "stdout",
     "output_type": "stream",
     "text": [
      "apple\n",
      "mango\n",
      "banana\n"
     ]
    }
   ],
   "source": [
    "#list\n",
    "fruits = [\"apple\",\"mango\",\"banana\"]\n",
    "\n",
    "for i in fruits:\n",
    "    print(i)"
   ]
  },
  {
   "cell_type": "markdown",
   "id": "7292bd4d",
   "metadata": {},
   "source": [
    "### Nested loop\n",
    "\n",
    "    ***\n",
    "    ***\n",
    "    ***"
   ]
  },
  {
   "cell_type": "code",
   "execution_count": 85,
   "id": "f5d99d4c",
   "metadata": {},
   "outputs": [
    {
     "name": "stdout",
     "output_type": "stream",
     "text": [
      "*\n",
      "*\n",
      "*\n"
     ]
    }
   ],
   "source": [
    "#Patterns\n",
    "for i in range(0,3):\n",
    "    print(\"*\")"
   ]
  },
  {
   "cell_type": "code",
   "execution_count": 87,
   "id": "756b51d6",
   "metadata": {},
   "outputs": [
    {
     "name": "stdout",
     "output_type": "stream",
     "text": [
      "* * * \n",
      "* * * \n",
      "* * * \n"
     ]
    }
   ],
   "source": [
    "#Patterns\n",
    "# 2d patterns => Nested loop \n",
    "for i in range(0,3):\n",
    "    for j in range(0,3):\n",
    "        print(\"*\", end=\" \")  #horizontal pattern\n",
    "    print()\n"
   ]
  },
  {
   "cell_type": "code",
   "execution_count": 95,
   "id": "cdc8ed10",
   "metadata": {},
   "outputs": [],
   "source": [
    "Ahmad = {\"Urdu\": 98, \"English\": 85}\n",
    "\n",
    "Grades_system = {\"A+\":range(90,101), \"B\":range(79,90)}\n"
   ]
  },
  {
   "cell_type": "code",
   "execution_count": 96,
   "id": "eecb268e",
   "metadata": {},
   "outputs": [
    {
     "data": {
      "text/plain": [
       "{'Urdu': 98, 'English': 85}"
      ]
     },
     "execution_count": 96,
     "metadata": {},
     "output_type": "execute_result"
    }
   ],
   "source": [
    "Ahmad"
   ]
  },
  {
   "cell_type": "code",
   "execution_count": 97,
   "id": "e3f10371",
   "metadata": {},
   "outputs": [],
   "source": [
    "for subject in Ahmad:\n",
    "  #  print(subject)\n",
    "   # print(Ahmad[subject])\n",
    "    \n",
    "    for grade in Grades_system:\n",
    "      #  print(grade)\n",
    "        \n",
    "        if Ahmad[subject] in Grades_system[grade]:\n",
    "            Ahmad[subject] = [ Ahmad[subject], grade]\n",
    "            "
   ]
  },
  {
   "cell_type": "code",
   "execution_count": 98,
   "id": "dd3ed0ca",
   "metadata": {},
   "outputs": [
    {
     "data": {
      "text/plain": [
       "{'Urdu': [98, 'A+'], 'English': [85, 'B']}"
      ]
     },
     "execution_count": 98,
     "metadata": {},
     "output_type": "execute_result"
    }
   ],
   "source": [
    "Ahmad"
   ]
  },
  {
   "cell_type": "code",
   "execution_count": 99,
   "id": "28737542",
   "metadata": {},
   "outputs": [
    {
     "name": "stdout",
     "output_type": "stream",
     "text": [
      "maimoona  enrolled in subject of  English\n",
      "maimoona  enrolled in subject of  Urdu\n",
      "Zara  enrolled in subject of  English\n",
      "Zara  enrolled in subject of  Urdu\n"
     ]
    }
   ],
   "source": [
    "first_name = [\"maimoona\",\"Zara\"]\n",
    "subject = [\"English\",\"Urdu\"]\n",
    "\n",
    "for i in first_name:\n",
    "    for j in subject:\n",
    "        print(i, \" enrolled in subject of \", j)"
   ]
  },
  {
   "cell_type": "markdown",
   "id": "e152070a",
   "metadata": {},
   "source": [
    "student_name   subject (english, maths)\n",
    "\n",
    "\n",
    "student_name english\n",
    "student_name maths"
   ]
  },
  {
   "cell_type": "code",
   "execution_count": 101,
   "id": "d84ab496",
   "metadata": {},
   "outputs": [],
   "source": [
    "# next session Pass, continue, break"
   ]
  },
  {
   "cell_type": "code",
   "execution_count": null,
   "id": "24a9e46f",
   "metadata": {},
   "outputs": [],
   "source": []
  },
  {
   "cell_type": "code",
   "execution_count": null,
   "id": "225ee779",
   "metadata": {},
   "outputs": [],
   "source": []
  }
 ],
 "metadata": {
  "kernelspec": {
   "display_name": "Python 3 (ipykernel)",
   "language": "python",
   "name": "python3"
  },
  "language_info": {
   "codemirror_mode": {
    "name": "ipython",
    "version": 3
   },
   "file_extension": ".py",
   "mimetype": "text/x-python",
   "name": "python",
   "nbconvert_exporter": "python",
   "pygments_lexer": "ipython3",
   "version": "3.11.5"
  }
 },
 "nbformat": 4,
 "nbformat_minor": 5
}
