{
 "cells": [
  {
   "cell_type": "code",
   "execution_count": 1,
   "metadata": {},
   "outputs": [
    {
     "data": {
      "text/plain": [
       "{'key': 'value'}"
      ]
     },
     "execution_count": 1,
     "metadata": {},
     "output_type": "execute_result"
    }
   ],
   "source": [
    "# dictionery \n",
    "# {key:value}\n",
    "\n",
    "dictionery = {\"key\":\"value\"}\n",
    "dictionery"
   ]
  },
  {
   "cell_type": "code",
   "execution_count": 3,
   "metadata": {},
   "outputs": [
    {
     "data": {
      "text/plain": [
       "'value'"
      ]
     },
     "execution_count": 3,
     "metadata": {},
     "output_type": "execute_result"
    }
   ],
   "source": [
    "dictionery[\"key\"]"
   ]
  },
  {
   "cell_type": "code",
   "execution_count": 10,
   "metadata": {},
   "outputs": [
    {
     "data": {
      "text/plain": [
       "{'one': 'aik', 'two': 'doo', 'three': 'teen'}"
      ]
     },
     "execution_count": 10,
     "metadata": {},
     "output_type": "execute_result"
    }
   ],
   "source": [
    "# traditional dictionery \n",
    "numeric_dictionery = {\"one\":\"aik\",\"two\":\"doo\",\"three\":\"teen\"}\n",
    "numeric_dictionery"
   ]
  },
  {
   "cell_type": "code",
   "execution_count": 8,
   "metadata": {},
   "outputs": [
    {
     "data": {
      "text/plain": [
       "dict_keys(['Chezious', 'macdonald'])"
      ]
     },
     "execution_count": 8,
     "metadata": {},
     "output_type": "execute_result"
    }
   ],
   "source": [
    "# resturent dictionery\n",
    "resturent_dictionery = {\n",
    "    \"Chezious\":[\"pizza\",\"pasta\",\"salad\"],\n",
    "    \"macdonald\":[\"burger\",\"pasta\",\"salad\"],\n",
    "}\n",
    "resturent_dictionery.keys()"
   ]
  },
  {
   "cell_type": "code",
   "execution_count": 9,
   "metadata": {},
   "outputs": [
    {
     "data": {
      "text/plain": [
       "dict_values([['pizza', 'pasta', 'salad'], ['burger', 'pasta', 'salad']])"
      ]
     },
     "execution_count": 9,
     "metadata": {},
     "output_type": "execute_result"
    }
   ],
   "source": [
    "resturent_dictionery.values()"
   ]
  },
  {
   "cell_type": "code",
   "execution_count": 12,
   "metadata": {},
   "outputs": [
    {
     "data": {
      "text/plain": [
       "{1: 'pizza', 2: 'pasta', 3: 'salad'}"
      ]
     },
     "execution_count": 12,
     "metadata": {},
     "output_type": "execute_result"
    }
   ],
   "source": [
    "menu = {1:\"pizza\",2:\"pasta\",3:\"salad\"}\n",
    "menu"
   ]
  },
  {
   "cell_type": "code",
   "execution_count": 13,
   "metadata": {},
   "outputs": [
    {
     "data": {
      "text/plain": [
       "{1: 'burger', 2: 'pasta', 3: 'salad'}"
      ]
     },
     "execution_count": 13,
     "metadata": {},
     "output_type": "execute_result"
    }
   ],
   "source": [
    "# you can't store the values with the same key and you can't store the key with the same value\n",
    "# is we use same key then it will update the value\n",
    "menu = {1:\"pizza\",2:\"pasta\",3:\"salad\",1:\"burger\"}\n",
    "menu"
   ]
  },
  {
   "cell_type": "code",
   "execution_count": 20,
   "metadata": {},
   "outputs": [
    {
     "name": "stdout",
     "output_type": "stream",
     "text": [
      "value\n"
     ]
    }
   ],
   "source": [
    "# keys in dictionery can be of any data type\n",
    "# string  {\"key\":\"value\"}\n",
    "# numeric {1:\"value\"}\n",
    "\n",
    "tuplees = {(1,2,3):\"value\",(4,5,6):\"value2\"}\n",
    "tuplees.keys()\n",
    "# print the value using key form tupplees\n",
    "print(tuplees[(1,2,3)])"
   ]
  },
  {
   "cell_type": "code",
   "execution_count": 25,
   "metadata": {},
   "outputs": [
    {
     "data": {
      "text/plain": [
       "45"
      ]
     },
     "execution_count": 25,
     "metadata": {},
     "output_type": "execute_result"
    }
   ],
   "source": [
    "# nested dictionery\n",
    "# indexing in dictionery\n",
    "grades = {\n",
    "    \"ahmad\":[23,45,65],\n",
    "    \"ali\":[45,56,75],\n",
    "    \"zara\":[67,78,89],\n",
    "}\n",
    "grades[\"ahmad\"][1]"
   ]
  },
  {
   "cell_type": "code",
   "execution_count": 27,
   "metadata": {},
   "outputs": [
    {
     "data": {
      "text/plain": [
       "{'ahmad': [23, 45, 65], 'ali': [45, 70, 75], 'zara': [67, 78, 89]}"
      ]
     },
     "execution_count": 27,
     "metadata": {},
     "output_type": "execute_result"
    }
   ],
   "source": [
    "# updating dictionery\n",
    "grades[\"ali\"][1] = 70\n",
    "grades"
   ]
  },
  {
   "cell_type": "code",
   "execution_count": 30,
   "metadata": {},
   "outputs": [
    {
     "name": "stdout",
     "output_type": "stream",
     "text": [
      "{'ahmad': [23, 45, 65], 'ali': [45, 70, 75], 'zara': [67, 89, 90]}\n"
     ]
    },
    {
     "data": {
      "text/plain": [
       "{'ahmad': [23, 45, 65], 'ali': [45, 70, 75], 'zara': 67}"
      ]
     },
     "execution_count": 30,
     "metadata": {},
     "output_type": "execute_result"
    }
   ],
   "source": [
    "grades[\"zara\"] = [67,89,90]\n",
    "print(grades)\n",
    "grades[\"zara\"] = 67\n",
    "grades"
   ]
  },
  {
   "cell_type": "code",
   "execution_count": 31,
   "metadata": {},
   "outputs": [
    {
     "data": {
      "text/plain": [
       "{'ahmad': [23, 45, 65],\n",
       " 'ali': [45, 70, 75],\n",
       " 'zara': 67,\n",
       " 'mohammad': [78, 89, 90]}"
      ]
     },
     "execution_count": 31,
     "metadata": {},
     "output_type": "execute_result"
    }
   ],
   "source": [
    "# adding new value pairs\n",
    "grades[\"mohammad\"] = [78,89,90]\n",
    "grades"
   ]
  },
  {
   "cell_type": "code",
   "execution_count": 33,
   "metadata": {},
   "outputs": [
    {
     "data": {
      "text/plain": [
       "{'ahmad': [78, 45, 65],\n",
       " 'ali': [45, 70, 75],\n",
       " 'zara': 67,\n",
       " 'mohammad': [78, 89, 90]}"
      ]
     },
     "execution_count": 33,
     "metadata": {},
     "output_type": "execute_result"
    }
   ],
   "source": [
    "grades[\"ahmad\"][0] +=50\n",
    "grades"
   ]
  },
  {
   "cell_type": "code",
   "execution_count": 35,
   "metadata": {},
   "outputs": [
    {
     "data": {
      "text/plain": [
       "{'ahmad': {'urdu': 80, 'english': 70, 'math': 90},\n",
       " 'ali': {'urdu': 90, 'english': 80, 'math': 70},\n",
       " 'zara': {'urdu': 70, 'english': 60, 'math': 90}}"
      ]
     },
     "execution_count": 35,
     "metadata": {},
     "output_type": "execute_result"
    }
   ],
   "source": [
    "# nested dictionery\n",
    "subject_grades = {\n",
    "    \"ahmad\":{\n",
    "        \"urdu\":80,\n",
    "        \"english\":70,\n",
    "        \"math\":90\n",
    "    },\n",
    "    \"ali\":{\n",
    "        \"urdu\":90,\n",
    "        \"english\":80,\n",
    "        \"math\":70\n",
    "    },\n",
    "    \"zara\":{\n",
    "        \"urdu\":70,\n",
    "        \"english\":60,\n",
    "        \"math\":90\n",
    "    }\n",
    "}\n",
    "subject_grades"
   ]
  },
  {
   "cell_type": "code",
   "execution_count": 36,
   "metadata": {},
   "outputs": [
    {
     "name": "stdout",
     "output_type": "stream",
     "text": [
      "80\n"
     ]
    }
   ],
   "source": [
    "# accesing the elements in nested dictionery\n",
    "print(subject_grades[\"ahmad\"][\"urdu\"])"
   ]
  },
  {
   "cell_type": "code",
   "execution_count": 37,
   "metadata": {},
   "outputs": [
    {
     "data": {
      "text/plain": [
       "{'urdu': 90, 'english': 80, 'math': 70}"
      ]
     },
     "execution_count": 37,
     "metadata": {},
     "output_type": "execute_result"
    }
   ],
   "source": [
    "# remove the elements\n",
    "# by pop\n",
    "subject_grades.pop(\"ali\")"
   ]
  },
  {
   "cell_type": "code",
   "execution_count": 38,
   "metadata": {},
   "outputs": [
    {
     "data": {
      "text/plain": [
       "{'ahmad': {'urdu': 80, 'english': 70, 'math': 90},\n",
       " 'zara': {'urdu': 70, 'english': 60, 'math': 90}}"
      ]
     },
     "execution_count": 38,
     "metadata": {},
     "output_type": "execute_result"
    }
   ],
   "source": [
    "subject_grades"
   ]
  },
  {
   "cell_type": "code",
   "execution_count": 39,
   "metadata": {},
   "outputs": [
    {
     "data": {
      "text/plain": [
       "('zara', {'urdu': 70, 'english': 60, 'math': 90})"
      ]
     },
     "execution_count": 39,
     "metadata": {},
     "output_type": "execute_result"
    }
   ],
   "source": [
    "# remove by using popitem it deletes the last element\n",
    "subject_grades.popitem()"
   ]
  },
  {
   "cell_type": "code",
   "execution_count": null,
   "metadata": {},
   "outputs": [],
   "source": [
    "# wht dose clear do \n",
    "# clear removes all the elements from the dictionary"
   ]
  },
  {
   "cell_type": "code",
   "execution_count": 42,
   "metadata": {},
   "outputs": [
    {
     "data": {
      "text/plain": [
       "{1, 3, 4, 5, 6, 7, 8, 9, 10, 22}"
      ]
     },
     "execution_count": 42,
     "metadata": {},
     "output_type": "execute_result"
    }
   ],
   "source": [
    "# an example of sets in python \n",
    "# sets in python\n",
    "# they are order collection of elements\n",
    "# they dont allow duplecate elements\n",
    "# they canot be indexed\n",
    "# can use unique elements, intersection diffrence\n",
    "score = {1,1,22,3,4,5,6,7,8,9,10}\n",
    "score"
   ]
  },
  {
   "cell_type": "code",
   "execution_count": 48,
   "metadata": {},
   "outputs": [
    {
     "name": "stdout",
     "output_type": "stream",
     "text": [
      "0\n",
      "1\n",
      "2\n",
      "3\n",
      "4\n",
      "5\n",
      "6\n",
      "7\n",
      "8\n",
      "9\n"
     ]
    }
   ],
   "source": [
    "# for loop in python\n",
    "for i in range(0,10):\n",
    "    print(i)"
   ]
  },
  {
   "cell_type": "code",
   "execution_count": 49,
   "metadata": {},
   "outputs": [
    {
     "data": {
      "text/plain": [
       "'Dt cec'"
      ]
     },
     "execution_count": 49,
     "metadata": {},
     "output_type": "execute_result"
    }
   ],
   "source": [
    "string = \"Data science\"\n",
    "string[::2]"
   ]
  },
  {
   "cell_type": "code",
   "execution_count": 53,
   "metadata": {},
   "outputs": [
    {
     "name": "stdout",
     "output_type": "stream",
     "text": [
      "[0, 2, 4, 6, 8]\n",
      "[10, 9, 8, 7, 6, 5, 4, 3, 2, 1]\n",
      "10\n",
      "8\n",
      "6\n",
      "4\n",
      "2\n"
     ]
    }
   ],
   "source": [
    "print(list(range(0,10,2)))\n",
    "print(list(range(10,0,-1)))\n",
    "# this same range is used in for loop\n",
    "for i in range(10,0,-2):\n",
    "    print(i)"
   ]
  },
  {
   "cell_type": "code",
   "execution_count": 54,
   "metadata": {},
   "outputs": [
    {
     "name": "stdout",
     "output_type": "stream",
     "text": [
      "0 hello\n",
      "1 hello\n",
      "2 hello\n",
      "3 hello\n",
      "4 hello\n"
     ]
    }
   ],
   "source": [
    "# print numeric valus and + hello 5 times\n",
    "for i in range(0,5):\n",
    "    print(i,\"hello\")"
   ]
  },
  {
   "cell_type": "code",
   "execution_count": 55,
   "metadata": {},
   "outputs": [
    {
     "name": "stdout",
     "output_type": "stream",
     "text": [
      "2 * 0 = 0\n",
      "2 * 1 = 2\n",
      "2 * 2 = 4\n",
      "2 * 3 = 6\n",
      "2 * 4 = 8\n",
      "2 * 5 = 10\n",
      "2 * 6 = 12\n",
      "2 * 7 = 14\n",
      "2 * 8 = 16\n",
      "2 * 9 = 18\n",
      "2 * 10 = 20\n"
     ]
    }
   ],
   "source": [
    "for i in range(0,11):\n",
    "    print(2,\"*\",i,\"=\",2*i)"
   ]
  },
  {
   "cell_type": "code",
   "execution_count": 56,
   "metadata": {},
   "outputs": [
    {
     "name": "stdout",
     "output_type": "stream",
     "text": [
      "0 1000\n",
      "1 2000\n",
      "2 3000\n",
      "3 4000\n",
      "4 5000\n"
     ]
    }
   ],
   "source": [
    "salary = [1000,2000,3000,4000,5000]\n",
    "for i in range(0,5):\n",
    "    print(i,salary[i])"
   ]
  },
  {
   "cell_type": "code",
   "execution_count": 57,
   "metadata": {},
   "outputs": [
    {
     "name": "stdout",
     "output_type": "stream",
     "text": [
      "apple\n",
      "banana\n",
      "cherry\n"
     ]
    }
   ],
   "source": [
    "# list \n",
    "list = [\"apple\",\"banana\",\"cherry\"]\n",
    "for i in list:\n",
    "    print(i)"
   ]
  },
  {
   "cell_type": "code",
   "execution_count": 58,
   "metadata": {},
   "outputs": [
    {
     "name": "stdout",
     "output_type": "stream",
     "text": [
      "* * * * * "
     ]
    }
   ],
   "source": [
    "for i in range(0,5):\n",
    "    print('*', end=\" \")"
   ]
  },
  {
   "cell_type": "code",
   "execution_count": 63,
   "metadata": {},
   "outputs": [
    {
     "name": "stdout",
     "output_type": "stream",
     "text": [
      "* * *\n",
      "* * *\n",
      "* * *\n",
      "* * *\n",
      "* * *\n"
     ]
    }
   ],
   "source": [
    "for i in range(0,5):\n",
    "    print('* * *' )"
   ]
  },
  {
   "cell_type": "code",
   "execution_count": 69,
   "metadata": {},
   "outputs": [
    {
     "name": "stdout",
     "output_type": "stream",
     "text": [
      "* * * * * \n",
      "* * * * * \n",
      "* * * * * \n",
      "* * * * * \n",
      "* * * * * \n"
     ]
    }
   ],
   "source": [
    "for i in range(0,5):\n",
    "    for j in range(0,5):\n",
    "        print('*', end=\" \")\n",
    "    print()"
   ]
  },
  {
   "cell_type": "code",
   "execution_count": 70,
   "metadata": {},
   "outputs": [
    {
     "name": "stdout",
     "output_type": "stream",
     "text": [
      "ahmad 90\n",
      "ali 80\n",
      "zara 70\n",
      "mohammad 60\n"
     ]
    }
   ],
   "source": [
    "students = [\"ahmad\",\"ali\",\"zara\",\"mohammad\"]\n",
    "grades = [90,80,70,60]\n",
    "for i in range(0,4):\n",
    "    print(students[i],grades[i])"
   ]
  },
  {
   "cell_type": "code",
   "execution_count": null,
   "metadata": {},
   "outputs": [],
   "source": []
  }
 ],
 "metadata": {
  "kernelspec": {
   "display_name": "Python 3",
   "language": "python",
   "name": "python3"
  },
  "language_info": {
   "codemirror_mode": {
    "name": "ipython",
    "version": 3
   },
   "file_extension": ".py",
   "mimetype": "text/x-python",
   "name": "python",
   "nbconvert_exporter": "python",
   "pygments_lexer": "ipython3",
   "version": "3.11.4"
  }
 },
 "nbformat": 4,
 "nbformat_minor": 2
}
