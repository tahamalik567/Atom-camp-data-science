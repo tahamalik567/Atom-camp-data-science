{
 "cells": [
  {
   "cell_type": "code",
   "execution_count": 4,
   "metadata": {},
   "outputs": [
    {
     "name": "stdout",
     "output_type": "stream",
     "text": [
      "i\n",
      " \n",
      "h\n",
      "a\n"
     ]
    }
   ],
   "source": [
    "# continue break pass\n",
    "my_str = \"i have orders a pizza\"\n",
    "for i in my_str:\n",
    "    print(i)\n",
    "    if i == \"a\":\n",
    "        break\n",
    "        print(\"found w\")\n",
    "        "
   ]
  },
  {
   "cell_type": "code",
   "execution_count": 8,
   "metadata": {},
   "outputs": [
    {
     "name": "stdout",
     "output_type": "stream",
     "text": [
      "H\n",
      "e\n",
      "l\n",
      "l\n",
      "o\n",
      " \n",
      "o\n",
      "r\n",
      "l\n",
      "d\n"
     ]
    }
   ],
   "source": [
    "# continue break pass\n",
    "my_str = \"Hello World\"\n",
    "for i in my_str:\n",
    "    # print(i)\n",
    "    if i == \"W\":\n",
    "        continue\n",
    "    print(i)\n",
    "        "
   ]
  },
  {
   "cell_type": "code",
   "execution_count": 9,
   "metadata": {},
   "outputs": [
    {
     "name": "stdout",
     "output_type": "stream",
     "text": [
      "H\n",
      "e\n",
      "l\n",
      "l\n",
      "o\n",
      " \n",
      "W\n",
      "o\n",
      "r\n",
      "l\n",
      "d\n"
     ]
    }
   ],
   "source": [
    "# pass does nothing\n",
    "# pass is used in a place where we don't want to do anything in the loop can be used were we are not sure what to do \n",
    "# continue break pass\n",
    "my_str = \"Hello World\"\n",
    "for i in my_str:\n",
    "    # print(i)\n",
    "    if i == \"W\":\n",
    "        pass    # we know about the condition but we are not sure what to do \n",
    "    print(i)\n",
    "        "
   ]
  },
  {
   "cell_type": "code",
   "execution_count": 10,
   "metadata": {},
   "outputs": [
    {
     "name": "stdout",
     "output_type": "stream",
     "text": [
      "1 is odd\n",
      "2 is even \n",
      "3 is odd\n",
      "4 is even \n",
      "5 is odd\n",
      "6 is even \n",
      "7 is odd\n",
      "8 is even \n",
      "9 is odd\n",
      "10 is even \n"
     ]
    }
   ],
   "source": [
    "# for + condition \n",
    "even_check = [1,2,3,4,5,6,7,8,9,10]\n",
    "for i in even_check:\n",
    "    if i % 2 == 0:\n",
    "        print(i,\"is even \")\n",
    "    else:\n",
    "        print(i,\"is odd\")"
   ]
  },
  {
   "cell_type": "code",
   "execution_count": 12,
   "metadata": {},
   "outputs": [
    {
     "name": "stdout",
     "output_type": "stream",
     "text": [
      "0\n",
      "1\n",
      "2\n",
      "3\n"
     ]
    }
   ],
   "source": [
    "# for else to check if loop has ended or not \n",
    "# else block will run if the loop has ended and completed all the iterations other wise it will not run\n",
    "for i in range(0,5):\n",
    "    print(i)\n",
    "    if i == 3:\n",
    "        break\n",
    "else:\n",
    "    print(\"done\")\n"
   ]
  },
  {
   "cell_type": "code",
   "execution_count": 13,
   "metadata": {},
   "outputs": [
    {
     "name": "stdout",
     "output_type": "stream",
     "text": [
      "Help on class enumerate in module builtins:\n",
      "\n",
      "class enumerate(object)\n",
      " |  enumerate(iterable, start=0)\n",
      " |  \n",
      " |  Return an enumerate object.\n",
      " |  \n",
      " |    iterable\n",
      " |      an object supporting iteration\n",
      " |  \n",
      " |  The enumerate object yields pairs containing a count (from start, which\n",
      " |  defaults to zero) and a value yielded by the iterable argument.\n",
      " |  \n",
      " |  enumerate is useful for obtaining an indexed list:\n",
      " |      (0, seq[0]), (1, seq[1]), (2, seq[2]), ...\n",
      " |  \n",
      " |  Methods defined here:\n",
      " |  \n",
      " |  __getattribute__(self, name, /)\n",
      " |      Return getattr(self, name).\n",
      " |  \n",
      " |  __iter__(self, /)\n",
      " |      Implement iter(self).\n",
      " |  \n",
      " |  __next__(self, /)\n",
      " |      Implement next(self).\n",
      " |  \n",
      " |  __reduce__(...)\n",
      " |      Return state information for pickling.\n",
      " |  \n",
      " |  ----------------------------------------------------------------------\n",
      " |  Class methods defined here:\n",
      " |  \n",
      " |  __class_getitem__(...) from builtins.type\n",
      " |      See PEP 585\n",
      " |  \n",
      " |  ----------------------------------------------------------------------\n",
      " |  Static methods defined here:\n",
      " |  \n",
      " |  __new__(*args, **kwargs) from builtins.type\n",
      " |      Create and return a new object.  See help(type) for accurate signature.\n",
      "\n"
     ]
    }
   ],
   "source": [
    "help(enumerate)"
   ]
  },
  {
   "cell_type": "code",
   "execution_count": 14,
   "metadata": {},
   "outputs": [
    {
     "name": "stdout",
     "output_type": "stream",
     "text": [
      "apple\n",
      "apple\n",
      "['banana', 'mango', 'orange', 'kiwi', 'banana', 'apple']\n"
     ]
    }
   ],
   "source": [
    "basket = [\"apple\",\"banana\",\"mango\",\"orange\",\"kiwi\",\"banana\",\"apple\",\"apple\"]\n",
    "for i in basket:\n",
    "        print(i)\n"
   ]
  },
  {
   "cell_type": "code",
   "execution_count": 16,
   "metadata": {},
   "outputs": [
    {
     "name": "stdout",
     "output_type": "stream",
     "text": [
      "index  0 fruitname  banana\n",
      "index  1 fruitname  mango\n",
      "index  2 fruitname  orange\n",
      "index  3 fruitname  kiwi\n",
      "index  4 fruitname  banana\n",
      "index  5 fruitname  apple\n"
     ]
    }
   ],
   "source": [
    "for i in range(0,len(basket)):\n",
    "    print(\"index \",i,\"fruitname \",basket[i])"
   ]
  },
  {
   "cell_type": "code",
   "execution_count": 17,
   "metadata": {},
   "outputs": [
    {
     "name": "stdout",
     "output_type": "stream",
     "text": [
      "index  0 fruitname  banana\n",
      "index  1 fruitname  mango\n",
      "index  2 fruitname  orange\n",
      "index  3 fruitname  kiwi\n",
      "index  4 fruitname  banana\n",
      "index  5 fruitname  apple\n"
     ]
    }
   ],
   "source": [
    "for i , fruit_name in enumerate(basket):\n",
    "    print(\"index \",i,\"fruitname \",fruit_name)"
   ]
  },
  {
   "cell_type": "code",
   "execution_count": null,
   "metadata": {},
   "outputs": [],
   "source": [
    "# while loop it iterates as long as the condition is true\n",
    "while condition:\n",
    "    result_block"
   ]
  },
  {
   "cell_type": "code",
   "execution_count": null,
   "metadata": {},
   "outputs": [],
   "source": [
    "for i in range(0,5):\n",
    "    print(i)"
   ]
  },
  {
   "cell_type": "code",
   "execution_count": 19,
   "metadata": {},
   "outputs": [
    {
     "name": "stdout",
     "output_type": "stream",
     "text": [
      "0\n",
      "1\n",
      "2\n",
      "3\n",
      "4\n",
      "5\n"
     ]
    }
   ],
   "source": [
    "i = 0 \n",
    "while i<6:\n",
    "    print(i)\n",
    "    i += 1"
   ]
  },
  {
   "cell_type": "code",
   "execution_count": 1,
   "metadata": {},
   "outputs": [],
   "source": [
    "user_input = 0\n",
    "secret_number = 9\n",
    "while user_input != secret_number:\n",
    "    try:\n",
    "        user_input = int(input(\"enter a number guess the number \"))\n",
    "        if user_input == secret_number:\n",
    "            print(\"correct\")\n",
    "        elif user_input > secret_number:\n",
    "            print(\"too high\")\n",
    "        else:\n",
    "            print(\"too low\")\n",
    "    except ValueError:\n",
    "        print(\"please enter a number\")"
   ]
  },
  {
   "cell_type": "code",
   "execution_count": 1,
   "metadata": {},
   "outputs": [],
   "source": [
    "input(\"enter a number guess the number \")"
   ]
  },
  {
   "cell_type": "code",
   "execution_count": 1,
   "metadata": {},
   "outputs": [],
   "source": [
    "# while else \n",
    "# if we break using the break then the else conditon will not run\n",
    "user_input = 0\n",
    "secret_number = 9\n",
    "while user_input != secret_number:\n",
    "    try:\n",
    "        user_input = int(input(\"enter a number guess the number \"))\n",
    "        if user_input == secret_number:\n",
    "            print(\"correct\")\n",
    "            break\n",
    "        elif user_input > secret_number:\n",
    "            print(\"too high\")\n",
    "        else:\n",
    "            print(\"too low\")\n",
    "    except ValueError:\n",
    "        print(\"please enter a number\")\n",
    "else:\n",
    "    print(\"the end\")"
   ]
  },
  {
   "cell_type": "code",
   "execution_count": 2,
   "metadata": {},
   "outputs": [
    {
     "name": "stdout",
     "output_type": "stream",
     "text": [
      "1\n",
      "22\n",
      "333\n",
      "4444\n",
      "55555\n"
     ]
    }
   ],
   "source": [
    "# nested loop \n",
    "i = 1 \n",
    "while i<6:\n",
    "    j=0\n",
    "    while j<i:\n",
    "        print(i,end=\"\")\n",
    "        j += 1\n",
    "    print()\n",
    "    i += 1"
   ]
  },
  {
   "cell_type": "code",
   "execution_count": null,
   "metadata": {},
   "outputs": [],
   "source": [
    "# funtions\n",
    "# standard library  like print() len() input() \n",
    "# user defined funtions\n",
    "def function_name():\n",
    "    # block of code\n",
    "    pass\n"
   ]
  },
  {
   "cell_type": "code",
   "execution_count": 4,
   "metadata": {},
   "outputs": [],
   "source": [
    "# parameters \n",
    "def name_greeting(value):  # this value is parameter\n",
    "    pass\n",
    "# arguments \n",
    "name_greeting(\"taha\") # this taha is argument"
   ]
  },
  {
   "cell_type": "code",
   "execution_count": 7,
   "metadata": {},
   "outputs": [
    {
     "name": "stdout",
     "output_type": "stream",
     "text": [
      "hello taha\n"
     ]
    }
   ],
   "source": [
    "def name_greeting(value):  \n",
    "    print(\"hello\",value)\n",
    "    \n",
    "name_greeting(\"taha\")"
   ]
  },
  {
   "cell_type": "code",
   "execution_count": 9,
   "metadata": {},
   "outputs": [
    {
     "name": "stdout",
     "output_type": "stream",
     "text": [
      "taha khan\n",
      "taha khan\n"
     ]
    }
   ],
   "source": [
    "# positional arguments \n",
    "def positional_arguments(first_name,last_name):\n",
    "    print(first_name,last_name)\n",
    "\n",
    "positional_arguments(\"taha\",\"khan\")\n",
    "\n",
    "positional_arguments(last_name=\"khan\",first_name=\"taha\")"
   ]
  },
  {
   "cell_type": "code",
   "execution_count": 16,
   "metadata": {},
   "outputs": [
    {
     "name": "stdout",
     "output_type": "stream",
     "text": [
      "taha khan\n"
     ]
    }
   ],
   "source": [
    "# print \n",
    "# return \n",
    "def positional_arguments(first_name,last_name):\n",
    "    print(first_name,last_name)\n",
    "\n",
    "greeating = positional_arguments(\"taha\",\"khan\")\n"
   ]
  },
  {
   "cell_type": "code",
   "execution_count": 11,
   "metadata": {},
   "outputs": [],
   "source": [
    "greeating"
   ]
  },
  {
   "cell_type": "code",
   "execution_count": 12,
   "metadata": {},
   "outputs": [
    {
     "data": {
      "text/plain": [
       "NoneType"
      ]
     },
     "execution_count": 12,
     "metadata": {},
     "output_type": "execute_result"
    }
   ],
   "source": [
    "type(greeating)"
   ]
  },
  {
   "cell_type": "code",
   "execution_count": 19,
   "metadata": {},
   "outputs": [],
   "source": [
    "def positional_arguments(first_name,last_name):\n",
    "    return(\"hello\",first_name,last_name)"
   ]
  },
  {
   "cell_type": "code",
   "execution_count": 20,
   "metadata": {},
   "outputs": [],
   "source": [
    "greeating"
   ]
  },
  {
   "cell_type": "code",
   "execution_count": null,
   "metadata": {},
   "outputs": [],
   "source": [
    "def even_check(number):\n",
    "    try: \n",
    "        if number % 2 == 0:\n",
    "            print(num,\"is even\")\n",
    "        else:\n",
    "            print(num,\"is odd\")\n",
    "    except TypeError:\n",
    "        print(\"please enter a number\")    \n",
    "\n",
    "\n",
    "def even_check(number):\n",
    "    if num != int:\n",
    "        print(\"please enter a number\")    \n",
    "    if number % 2 == 0:\n",
    "        print(num,\"is even\")\n",
    "    else:\n",
    "        print(num,\"is odd\")\n",
    "   \n",
    "        "
   ]
  },
  {
   "cell_type": "code",
   "execution_count": 23,
   "metadata": {},
   "outputs": [
    {
     "name": "stdout",
     "output_type": "stream",
     "text": [
      "0 is even\n"
     ]
    }
   ],
   "source": [
    "# example of default parameter methods\n",
    "def even_check(num=0):\n",
    "    if num % 2 == 0:\n",
    "        print(num,\"is even\")\n",
    "    else:\n",
    "        print(num,\"is odd\")\n",
    "\n",
    "even_check()\n"
   ]
  },
  {
   "cell_type": "code",
   "execution_count": 26,
   "metadata": {},
   "outputs": [
    {
     "data": {
      "text/plain": [
       "55"
      ]
     },
     "execution_count": 26,
     "metadata": {},
     "output_type": "execute_result"
    }
   ],
   "source": [
    "def sum_funtion(num1=0,num2=0):\n",
    "    sum = 0\n",
    "    for i in args:\n",
    "        sum += i\n",
    "    return sum\n",
    "\n",
    "# -----------------\n",
    "# list of aruguments \n",
    "def sum_funtion(*args):\n",
    "    sum = 0\n",
    "    for i in args:\n",
    "        sum += i\n",
    "    return sum\n",
    "\n",
    "sum_funtion(1,2,3,4,5,6,7,8,9,10)  # can now give as many values in parameters as i want "
   ]
  },
  {
   "cell_type": "code",
   "execution_count": 27,
   "metadata": {},
   "outputs": [
    {
     "data": {
      "text/plain": [
       "11"
      ]
     },
     "execution_count": 27,
     "metadata": {},
     "output_type": "execute_result"
    }
   ],
   "source": [
    "# lambda\n",
    "# reduse code \n",
    "total = lambda num1,num2 : num1+num2\n",
    "total(5,6) \n"
   ]
  },
  {
   "cell_type": "code",
   "execution_count": 29,
   "metadata": {},
   "outputs": [
    {
     "data": {
      "text/plain": [
       "[1, 4, 9, 16, 25, 36, 49, 64, 81, 100]"
      ]
     },
     "execution_count": 29,
     "metadata": {},
     "output_type": "execute_result"
    }
   ],
   "source": [
    "numerric_lsit = [1,2,3,4,5,6,7,8,9,10]\n",
    "squared = list(map(lambda x: x**2,numerric_lsit))\n",
    "squared"
   ]
  },
  {
   "cell_type": "code",
   "execution_count": 30,
   "metadata": {},
   "outputs": [
    {
     "data": {
      "text/plain": [
       "[0, 1, 2, 3]"
      ]
     },
     "execution_count": 30,
     "metadata": {},
     "output_type": "execute_result"
    }
   ],
   "source": [
    "list(range(0,4))"
   ]
  },
  {
   "cell_type": "code",
   "execution_count": 31,
   "metadata": {},
   "outputs": [
    {
     "data": {
      "text/plain": [
       "False"
      ]
     },
     "execution_count": 31,
     "metadata": {},
     "output_type": "execute_result"
    }
   ],
   "source": [
    "even_check = lambda x: x % 2 == 0\n",
    "even_check(5)"
   ]
  }
 ],
 "metadata": {
  "kernelspec": {
   "display_name": "Python 3",
   "language": "python",
   "name": "python3"
  },
  "language_info": {
   "codemirror_mode": {
    "name": "ipython",
    "version": 3
   },
   "file_extension": ".py",
   "mimetype": "text/x-python",
   "name": "python",
   "nbconvert_exporter": "python",
   "pygments_lexer": "ipython3",
   "version": "3.11.4"
  }
 },
 "nbformat": 4,
 "nbformat_minor": 2
}
