{
 "cells": [
  {
   "cell_type": "markdown",
   "id": "d2cb0725",
   "metadata": {},
   "source": [
    "## For loops"
   ]
  },
  {
   "cell_type": "code",
   "execution_count": 1,
   "id": "aea8291f",
   "metadata": {},
   "outputs": [
    {
     "name": "stdout",
     "output_type": "stream",
     "text": [
      "Hello\n",
      "Hello\n",
      "Hello\n",
      "Hello\n",
      "Hello\n"
     ]
    }
   ],
   "source": [
    "for i in range(0,5):\n",
    "    print(\"Hello\")"
   ]
  },
  {
   "cell_type": "code",
   "execution_count": 2,
   "id": "b318e939",
   "metadata": {},
   "outputs": [
    {
     "name": "stdout",
     "output_type": "stream",
     "text": [
      "apple\n",
      "banana\n",
      "orange\n"
     ]
    }
   ],
   "source": [
    "basket = [\"apple\",\"banana\",\"orange\"]\n",
    "for i in basket:\n",
    "    print(i)"
   ]
  },
  {
   "cell_type": "markdown",
   "id": "e41a2864",
   "metadata": {},
   "source": [
    "# continue, break, pass"
   ]
  },
  {
   "cell_type": "code",
   "execution_count": 3,
   "id": "c119b8d0",
   "metadata": {},
   "outputs": [
    {
     "name": "stdout",
     "output_type": "stream",
     "text": [
      "H\n",
      "e\n",
      "l\n",
      "l\n",
      "o\n",
      " \n",
      "W\n",
      "o\n",
      "r\n",
      "l\n",
      "d\n",
      "!\n"
     ]
    }
   ],
   "source": [
    "my_str =\"Hello World!\"\n",
    "\n",
    "for i in my_str:\n",
    "    print(i)"
   ]
  },
  {
   "cell_type": "markdown",
   "id": "49e8b9ab",
   "metadata": {},
   "source": [
    "### Break\n",
    "\n",
    "=> terminates the loop\n"
   ]
  },
  {
   "cell_type": "code",
   "execution_count": 7,
   "id": "545e5263",
   "metadata": {},
   "outputs": [
    {
     "name": "stdout",
     "output_type": "stream",
     "text": [
      "H\n",
      "e\n",
      "l\n",
      "l\n",
      "o\n",
      " \n",
      "W\n",
      "The end\n"
     ]
    }
   ],
   "source": [
    "my_str =\"Hello World!\"\n",
    "\n",
    "for i in my_str:\n",
    "    print(i)\n",
    "    if (i == \"W\"):\n",
    "        break\n",
    "        print(\"found w\")\n",
    "        \n",
    "print(\"The end\")"
   ]
  },
  {
   "cell_type": "markdown",
   "id": "ce7a6455",
   "metadata": {},
   "source": [
    "## Continue\n",
    "\n",
    "=> it will skip that iteration and will jump to the next one"
   ]
  },
  {
   "cell_type": "code",
   "execution_count": 14,
   "id": "9e4b48a6",
   "metadata": {},
   "outputs": [
    {
     "name": "stdout",
     "output_type": "stream",
     "text": [
      "H\n",
      "e\n",
      "l\n",
      "l\n",
      "o\n",
      " \n",
      "o\n",
      "r\n",
      "l\n",
      "d\n",
      "!\n"
     ]
    }
   ],
   "source": [
    "my_str =\"Hello World!\"\n",
    "\n",
    "for i in my_str:\n",
    "    \n",
    "    if (i == \"W\"):  #True\n",
    "        continue\n",
    "        \n",
    "    print(i)\n",
    "    \n",
    "# top 5 A+ A B+\n"
   ]
  },
  {
   "cell_type": "markdown",
   "id": "4d2a0c62",
   "metadata": {},
   "source": [
    "## Pass \n",
    "\n",
    "=> It does nothing"
   ]
  },
  {
   "cell_type": "code",
   "execution_count": 17,
   "id": "71669fe1",
   "metadata": {},
   "outputs": [
    {
     "name": "stdout",
     "output_type": "stream",
     "text": [
      "H\n",
      "e\n",
      "l\n",
      "l\n",
      "o\n",
      " \n",
      "W\n",
      "o\n",
      "r\n",
      "l\n",
      "d\n",
      "!\n"
     ]
    }
   ],
   "source": [
    "my_str =\"Hello World!\"\n",
    "\n",
    "for i in my_str:\n",
    "    \n",
    "    if (i == \"W\"):  \n",
    "        pass   #\n",
    "        \n",
    "    print(i)\n",
    "\n",
    "#  score > 90  => True => print(\"Grade is A+\")\n",
    "# score >80\n",
    "# score >50"
   ]
  },
  {
   "cell_type": "markdown",
   "id": "a3550561",
   "metadata": {},
   "source": [
    "# for + condition"
   ]
  },
  {
   "cell_type": "code",
   "execution_count": 20,
   "id": "954b43d4",
   "metadata": {},
   "outputs": [
    {
     "name": "stdout",
     "output_type": "stream",
     "text": [
      "2  is Even\n"
     ]
    }
   ],
   "source": [
    "even_check = [1 ,11, 13,63, 2 ,3,5]\n",
    "\n",
    "for i in even_check:\n",
    "    if (i%2==0):\n",
    "        print(i, \" is Even\")\n",
    "        break\n",
    "        "
   ]
  },
  {
   "cell_type": "markdown",
   "id": "2f92627f",
   "metadata": {},
   "source": [
    "## For else\n"
   ]
  },
  {
   "cell_type": "code",
   "execution_count": 24,
   "id": "ecce7b27",
   "metadata": {},
   "outputs": [
    {
     "name": "stdout",
     "output_type": "stream",
     "text": [
      "2\n"
     ]
    }
   ],
   "source": [
    "for i in range(0,5):\n",
    "    if (i==2):\n",
    "        print(i)\n",
    "        break\n",
    "\n",
    "else:\n",
    "    print(\"The END!\")"
   ]
  },
  {
   "cell_type": "code",
   "execution_count": 26,
   "id": "800babf7",
   "metadata": {
    "collapsed": true
   },
   "outputs": [
    {
     "name": "stdout",
     "output_type": "stream",
     "text": [
      "hello\n",
      "hello\n",
      "hello\n",
      "hello\n",
      "hello\n",
      "hello\n",
      "hello\n",
      "hello\n",
      "hello\n",
      "hello\n",
      "hello\n",
      "hello\n",
      "hello\n",
      "hello\n",
      "hello\n",
      "hello\n",
      "hello\n",
      "hello\n",
      "hello\n",
      "hello\n",
      "hello\n",
      "hello\n",
      "hello\n",
      "hello\n",
      "hello\n",
      "hello\n",
      "hello\n",
      "hello\n",
      "hello\n",
      "hello\n",
      "hello\n",
      "hello\n",
      "hello\n",
      "hello\n",
      "hello\n",
      "hello\n",
      "hello\n",
      "hello\n",
      "hello\n",
      "hello\n",
      "hello\n",
      "hello\n",
      "hello\n",
      "hello\n",
      "hello\n",
      "hello\n",
      "hello\n",
      "hello\n",
      "hello\n",
      "hello\n",
      "hello\n",
      "hello\n",
      "hello\n",
      "hello\n",
      "hello\n",
      "hello\n",
      "hello\n",
      "hello\n",
      "hello\n",
      "hello\n",
      "hello\n",
      "hello\n",
      "hello\n",
      "hello\n",
      "hello\n",
      "hello\n",
      "hello\n",
      "hello\n",
      "hello\n",
      "hello\n",
      "hello\n",
      "hello\n",
      "hello\n",
      "hello\n",
      "hello\n",
      "hello\n",
      "hello\n",
      "hello\n",
      "hello\n",
      "hello\n",
      "hello\n",
      "hello\n",
      "hello\n",
      "hello\n",
      "hello\n",
      "hello\n",
      "hello\n",
      "hello\n",
      "hello\n",
      "hello\n",
      "hello\n",
      "hello\n",
      "hello\n",
      "hello\n",
      "hello\n",
      "hello\n",
      "hello\n",
      "hello\n",
      "hello\n",
      "hello\n",
      "hello\n",
      "hello\n",
      "hello\n",
      "hello\n",
      "hello\n",
      "hello\n",
      "hello\n",
      "hello\n",
      "hello\n",
      "hello\n",
      "hello\n",
      "hello\n",
      "hello\n",
      "hello\n",
      "hello\n",
      "hello\n",
      "hello\n",
      "hello\n",
      "hello\n",
      "hello\n",
      "hello\n",
      "hello\n",
      "hello\n",
      "hello\n",
      "hello\n",
      "hello\n",
      "hello\n",
      "hello\n",
      "hello\n",
      "hello\n",
      "hello\n",
      "hello\n",
      "hello\n",
      "hello\n",
      "hello\n",
      "hello\n",
      "hello\n",
      "hello\n",
      "hello\n",
      "hello\n",
      "hello\n",
      "hello\n",
      "hello\n",
      "hello\n",
      "hello\n",
      "hello\n",
      "hello\n",
      "hello\n",
      "hello\n",
      "hello\n",
      "hello\n",
      "hello\n",
      "hello\n",
      "hello\n",
      "hello\n",
      "hello\n",
      "hello\n",
      "hello\n",
      "hello\n",
      "hello\n",
      "hello\n",
      "hello\n",
      "hello\n",
      "hello\n",
      "hello\n",
      "hello\n",
      "hello\n",
      "hello\n",
      "hello\n",
      "hello\n",
      "hello\n",
      "hello\n",
      "hello\n",
      "hello\n",
      "hello\n",
      "hello\n",
      "hello\n",
      "hello\n",
      "hello\n",
      "hello\n",
      "hello\n",
      "hello\n",
      "hello\n",
      "hello\n",
      "hello\n",
      "hello\n",
      "hello\n",
      "hello\n",
      "hello\n",
      "hello\n",
      "hello\n",
      "hello\n",
      "hello\n",
      "hello\n",
      "hello\n",
      "hello\n",
      "hello\n",
      "hello\n",
      "hello\n",
      "hello\n",
      "hello\n",
      "hello\n",
      "hello\n",
      "hello\n",
      "hello\n",
      "hello\n",
      "hello\n",
      "hello\n",
      "hello\n",
      "hello\n",
      "hello\n",
      "hello\n",
      "hello\n",
      "hello\n",
      "hello\n",
      "hello\n",
      "hello\n",
      "hello\n",
      "hello\n",
      "hello\n",
      "hello\n",
      "hello\n",
      "hello\n",
      "hello\n",
      "hello\n",
      "hello\n",
      "hello\n",
      "hello\n",
      "hello\n",
      "hello\n",
      "hello\n",
      "hello\n",
      "hello\n",
      "hello\n",
      "hello\n",
      "hello\n",
      "hello\n",
      "hello\n",
      "hello\n",
      "hello\n",
      "hello\n",
      "hello\n",
      "hello\n",
      "hello\n",
      "hello\n",
      "hello\n",
      "hello\n",
      "hello\n",
      "hello\n",
      "hello\n",
      "hello\n",
      "hello\n",
      "hello\n",
      "hello\n",
      "hello\n",
      "hello\n",
      "hello\n",
      "hello\n",
      "hello\n",
      "hello\n",
      "hello\n",
      "hello\n",
      "hello\n",
      "hello\n",
      "hello\n",
      "hello\n",
      "hello\n",
      "hello\n",
      "hello\n",
      "hello\n",
      "hello\n",
      "hello\n",
      "hello\n",
      "hello\n",
      "hello\n",
      "hello\n",
      "hello\n",
      "hello\n",
      "hello\n",
      "hello\n",
      "hello\n",
      "hello\n",
      "hello\n",
      "hello\n",
      "hello\n",
      "hello\n",
      "hello\n",
      "hello\n",
      "hello\n",
      "hello\n",
      "hello\n",
      "hello\n",
      "hello\n",
      "hello\n",
      "hello\n",
      "hello\n",
      "hello\n",
      "hello\n",
      "hello\n",
      "hello\n",
      "hello\n",
      "hello\n",
      "hello\n",
      "hello\n",
      "hello\n",
      "hello\n",
      "hello\n",
      "hello\n",
      "hello\n",
      "hello\n",
      "hello\n",
      "hello\n",
      "hello\n",
      "hello\n",
      "hello\n",
      "hello\n",
      "hello\n",
      "hello\n",
      "hello\n",
      "hello\n",
      "hello\n",
      "hello\n",
      "hello\n",
      "hello\n",
      "hello\n",
      "hello\n",
      "hello\n",
      "hello\n",
      "hello\n",
      "hello\n",
      "hello\n",
      "hello\n",
      "hello\n",
      "hello\n",
      "hello\n",
      "hello\n",
      "hello\n",
      "hello\n",
      "hello\n",
      "hello\n",
      "hello\n",
      "hello\n",
      "hello\n",
      "hello\n",
      "hello\n",
      "hello\n",
      "hello\n",
      "hello\n",
      "hello\n",
      "hello\n",
      "hello\n",
      "hello\n",
      "hello\n",
      "hello\n",
      "hello\n",
      "hello\n",
      "hello\n",
      "hello\n",
      "hello\n",
      "hello\n",
      "hello\n",
      "hello\n",
      "hello\n",
      "hello\n",
      "hello\n",
      "hello\n",
      "hello\n",
      "hello\n",
      "hello\n",
      "hello\n",
      "hello\n",
      "hello\n",
      "hello\n",
      "hello\n",
      "hello\n",
      "hello\n",
      "hello\n",
      "hello\n",
      "hello\n",
      "hello\n",
      "hello\n",
      "hello\n",
      "hello\n",
      "hello\n",
      "hello\n",
      "hello\n",
      "hello\n",
      "hello\n",
      "hello\n",
      "hello\n",
      "hello\n",
      "hello\n",
      "hello\n",
      "hello\n",
      "hello\n",
      "hello\n",
      "hello\n",
      "hello\n",
      "hello\n",
      "hello\n",
      "hello\n",
      "hello\n",
      "hello\n",
      "hello\n",
      "hello\n",
      "hello\n",
      "hello\n",
      "hello\n",
      "hello\n",
      "hello\n",
      "hello\n",
      "hello\n",
      "hello\n",
      "hello\n",
      "hello\n",
      "hello\n",
      "hello\n",
      "hello\n",
      "hello\n",
      "hello\n",
      "hello\n",
      "hello\n",
      "hello\n",
      "hello\n",
      "hello\n",
      "hello\n",
      "hello\n",
      "hello\n",
      "hello\n",
      "hello\n",
      "hello\n",
      "hello\n",
      "hello\n",
      "hello\n",
      "hello\n",
      "hello\n",
      "hello\n",
      "hello\n",
      "hello\n",
      "hello\n",
      "hello\n",
      "hello\n",
      "hello\n",
      "hello\n",
      "hello\n",
      "hello\n",
      "hello\n",
      "hello\n",
      "hello\n",
      "hello\n",
      "hello\n",
      "hello\n",
      "hello\n",
      "hello\n",
      "hello\n",
      "hello\n",
      "hello\n",
      "hello\n",
      "hello\n",
      "hello\n",
      "hello\n",
      "hello\n",
      "hello\n",
      "hello\n",
      "hello\n",
      "hello\n",
      "hello\n",
      "hello\n",
      "hello\n",
      "hello\n",
      "hello\n",
      "hello\n",
      "hello\n",
      "hello\n",
      "hello\n",
      "hello\n",
      "hello\n",
      "hello\n",
      "hello\n",
      "hello\n",
      "hello\n",
      "hello\n",
      "hello\n",
      "hello\n",
      "hello\n",
      "hello\n",
      "hello\n",
      "hello\n",
      "hello\n",
      "hello\n",
      "hello\n",
      "hello\n",
      "hello\n",
      "hello\n",
      "hello\n",
      "hello\n",
      "hello\n",
      "hello\n",
      "hello\n",
      "hello\n",
      "hello\n",
      "hello\n",
      "hello\n",
      "hello\n",
      "hello\n",
      "hello\n",
      "hello\n",
      "hello\n",
      "hello\n",
      "hello\n",
      "hello\n",
      "hello\n",
      "hello\n",
      "hello\n",
      "hello\n",
      "hello\n",
      "hello\n",
      "hello\n",
      "hello\n",
      "hello\n",
      "hello\n",
      "hello\n",
      "hello\n",
      "hello\n",
      "hello\n",
      "hello\n",
      "hello\n",
      "hello\n",
      "hello\n",
      "hello\n",
      "hello\n",
      "hello\n",
      "hello\n",
      "hello\n",
      "hello\n",
      "hello\n",
      "hello\n",
      "hello\n",
      "hello\n",
      "hello\n",
      "hello\n",
      "hello\n",
      "hello\n",
      "hello\n",
      "hello\n",
      "hello\n",
      "hello\n",
      "hello\n",
      "hello\n",
      "hello\n",
      "hello\n",
      "hello\n",
      "hello\n",
      "hello\n",
      "hello\n",
      "hello\n",
      "hello\n",
      "hello\n",
      "hello\n",
      "hello\n",
      "hello\n",
      "hello\n",
      "hello\n",
      "hello\n",
      "hello\n",
      "hello\n",
      "hello\n",
      "hello\n",
      "hello\n",
      "hello\n",
      "hello\n",
      "hello\n",
      "hello\n",
      "hello\n",
      "hello\n",
      "hello\n",
      "hello\n",
      "hello\n",
      "hello\n",
      "hello\n",
      "hello\n",
      "hello\n",
      "hello\n",
      "hello\n",
      "hello\n",
      "hello\n",
      "hello\n",
      "hello\n",
      "hello\n",
      "hello\n",
      "hello\n",
      "hello\n",
      "hello\n",
      "hello\n",
      "hello\n",
      "hello\n",
      "hello\n",
      "hello\n",
      "hello\n",
      "hello\n",
      "hello\n",
      "hello\n",
      "hello\n",
      "hello\n",
      "hello\n",
      "hello\n",
      "hello\n",
      "hello\n",
      "hello\n",
      "hello\n",
      "hello\n",
      "hello\n",
      "hello\n",
      "hello\n",
      "hello\n",
      "hello\n",
      "hello\n",
      "hello\n",
      "hello\n",
      "hello\n",
      "hello\n",
      "hello\n",
      "hello\n",
      "hello\n",
      "hello\n",
      "hello\n",
      "hello\n",
      "hello\n",
      "hello\n",
      "hello\n",
      "hello\n",
      "hello\n",
      "hello\n",
      "hello\n",
      "hello\n",
      "hello\n",
      "hello\n",
      "hello\n",
      "hello\n",
      "hello\n",
      "hello\n",
      "hello\n",
      "hello\n",
      "hello\n",
      "hello\n",
      "hello\n",
      "hello\n",
      "hello\n",
      "hello\n",
      "hello\n",
      "hello\n",
      "hello\n",
      "hello\n",
      "hello\n",
      "hello\n",
      "hello\n",
      "hello\n",
      "hello\n",
      "hello\n",
      "hello\n",
      "hello\n",
      "hello\n",
      "hello\n",
      "hello\n",
      "hello\n",
      "hello\n",
      "hello\n",
      "hello\n",
      "hello\n",
      "hello\n",
      "hello\n",
      "hello\n",
      "hello\n",
      "hello\n",
      "hello\n",
      "hello\n",
      "hello\n",
      "hello\n",
      "hello\n",
      "hello\n",
      "hello\n",
      "hello\n",
      "hello\n",
      "hello\n",
      "hello\n",
      "hello\n",
      "hello\n",
      "hello\n",
      "hello\n",
      "hello\n",
      "hello\n",
      "hello\n",
      "hello\n",
      "hello\n",
      "hello\n",
      "hello\n",
      "hello\n",
      "hello\n",
      "hello\n",
      "hello\n",
      "hello\n",
      "hello\n",
      "hello\n",
      "hello\n",
      "hello\n",
      "hello\n",
      "hello\n",
      "hello\n",
      "hello\n",
      "hello\n",
      "hello\n",
      "hello\n",
      "hello\n",
      "hello\n",
      "hello\n",
      "hello\n",
      "hello\n",
      "hello\n",
      "hello\n",
      "hello\n",
      "hello\n",
      "hello\n",
      "hello\n",
      "hello\n",
      "hello\n",
      "hello\n",
      "hello\n",
      "hello\n",
      "hello\n",
      "hello\n",
      "hello\n",
      "hello\n",
      "hello\n",
      "hello\n",
      "hello\n",
      "hello\n",
      "hello\n",
      "hello\n",
      "hello\n",
      "hello\n",
      "hello\n",
      "hello\n",
      "hello\n",
      "hello\n",
      "hello\n",
      "hello\n",
      "hello\n",
      "hello\n",
      "hello\n",
      "hello\n",
      "hello\n",
      "hello\n",
      "hello\n",
      "hello\n",
      "hello\n",
      "hello\n",
      "hello\n",
      "hello\n",
      "hello\n",
      "hello\n",
      "hello\n",
      "hello\n",
      "hello\n",
      "hello\n",
      "hello\n",
      "hello\n",
      "hello\n",
      "hello\n",
      "hello\n",
      "hello\n",
      "hello\n",
      "hello\n",
      "hello\n",
      "hello\n",
      "hello\n",
      "hello\n",
      "hello\n",
      "hello\n",
      "hello\n",
      "hello\n",
      "hello\n",
      "hello\n",
      "hello\n",
      "hello\n",
      "hello\n",
      "hello\n",
      "hello\n",
      "hello\n",
      "hello\n",
      "hello\n",
      "hello\n",
      "hello\n",
      "hello\n",
      "hello\n",
      "hello\n",
      "hello\n",
      "hello\n",
      "hello\n",
      "hello\n",
      "hello\n",
      "hello\n",
      "hello\n",
      "hello\n",
      "hello\n",
      "hello\n",
      "hello\n",
      "hello\n",
      "hello\n",
      "hello\n",
      "hello\n",
      "hello\n",
      "hello\n",
      "hello\n",
      "hello\n",
      "hello\n",
      "hello\n",
      "hello\n",
      "hello\n",
      "hello\n",
      "hello\n",
      "hello\n",
      "hello\n",
      "hello\n",
      "hello\n",
      "hello\n",
      "hello\n",
      "hello\n",
      "hello\n",
      "hello\n",
      "hello\n",
      "hello\n",
      "hello\n",
      "hello\n",
      "hello\n",
      "hello\n",
      "hello\n",
      "hello\n",
      "hello\n",
      "hello\n",
      "hello\n",
      "hello\n",
      "hello\n",
      "hello\n",
      "hello\n",
      "hello\n",
      "hello\n",
      "hello\n",
      "hello\n",
      "hello\n",
      "hello\n",
      "hello\n",
      "hello\n",
      "hello\n",
      "hello\n",
      "hello\n",
      "hello\n",
      "hello\n",
      "hello\n",
      "hello\n",
      "hello\n",
      "hello\n",
      "hello\n",
      "hello\n",
      "hello\n",
      "hello\n",
      "hello\n",
      "hello\n",
      "hello\n",
      "hello\n",
      "hello\n",
      "hello\n",
      "hello\n",
      "hello\n",
      "hello\n",
      "hello\n",
      "hello\n",
      "hello\n",
      "hello\n",
      "hello\n",
      "hello\n",
      "hello\n",
      "hello\n",
      "hello\n",
      "hello\n",
      "hello\n",
      "hello\n",
      "hello\n",
      "hello\n",
      "hello\n",
      "hello\n",
      "hello\n",
      "hello\n",
      "hello\n",
      "hello\n",
      "hello\n",
      "hello\n",
      "hello\n",
      "hello\n",
      "hello\n",
      "hello\n",
      "hello\n",
      "hello\n",
      "hello\n",
      "hello\n",
      "hello\n",
      "hello\n",
      "hello\n",
      "hello\n",
      "hello\n",
      "hello\n",
      "hello\n",
      "hello\n",
      "hello\n",
      "hello\n",
      "hello\n",
      "hello\n",
      "hello\n",
      "hello\n",
      "hello\n",
      "hello\n",
      "hello\n",
      "hello\n",
      "hello\n",
      "hello\n",
      "hello\n",
      "hello\n",
      "hello\n",
      "hello\n",
      "hello\n",
      "hello\n",
      "hello\n",
      "hello\n",
      "hello\n",
      "hello\n",
      "hello\n",
      "hello\n",
      "hello\n",
      "hello\n",
      "hello\n",
      "hello\n",
      "hello\n",
      "hello\n",
      "hello\n",
      "hello\n",
      "hello\n",
      "hello\n",
      "hello\n",
      "hello\n",
      "hello\n",
      "hello\n",
      "hello\n",
      "hello\n",
      "hello\n",
      "hello\n",
      "hello\n",
      "hello\n",
      "hello\n",
      "hello\n",
      "hello\n",
      "hello\n",
      "hello\n",
      "hello\n",
      "hello\n",
      "hello\n",
      "hello\n",
      "hello\n",
      "hello\n",
      "hello\n",
      "hello\n",
      "hello\n",
      "hello\n",
      "hello\n",
      "hello\n",
      "hello\n",
      "hello\n",
      "hello\n",
      "hello\n",
      "hello\n",
      "hello\n",
      "hello\n",
      "hello\n",
      "hello\n",
      "hello\n",
      "hello\n",
      "hello\n",
      "hello\n",
      "hello\n",
      "hello\n",
      "hello\n",
      "hello\n",
      "hello\n",
      "hello\n",
      "hello\n",
      "hello\n",
      "hello\n",
      "hello\n",
      "hello\n",
      "hello\n",
      "hello\n",
      "hello\n",
      "The END!\n"
     ]
    }
   ],
   "source": [
    "for i in range(0,1000):\n",
    "    print(\"hello\")\n",
    "\n",
    "\n",
    "else:\n",
    "    print(\"The END!\")"
   ]
  },
  {
   "cell_type": "code",
   "execution_count": 27,
   "id": "40a17d74",
   "metadata": {},
   "outputs": [
    {
     "name": "stdout",
     "output_type": "stream",
     "text": [
      "Help on class enumerate in module builtins:\n",
      "\n",
      "class enumerate(object)\n",
      " |  enumerate(iterable, start=0)\n",
      " |  \n",
      " |  Return an enumerate object.\n",
      " |  \n",
      " |    iterable\n",
      " |      an object supporting iteration\n",
      " |  \n",
      " |  The enumerate object yields pairs containing a count (from start, which\n",
      " |  defaults to zero) and a value yielded by the iterable argument.\n",
      " |  \n",
      " |  enumerate is useful for obtaining an indexed list:\n",
      " |      (0, seq[0]), (1, seq[1]), (2, seq[2]), ...\n",
      " |  \n",
      " |  Methods defined here:\n",
      " |  \n",
      " |  __getattribute__(self, name, /)\n",
      " |      Return getattr(self, name).\n",
      " |  \n",
      " |  __iter__(self, /)\n",
      " |      Implement iter(self).\n",
      " |  \n",
      " |  __next__(self, /)\n",
      " |      Implement next(self).\n",
      " |  \n",
      " |  __reduce__(...)\n",
      " |      Return state information for pickling.\n",
      " |  \n",
      " |  ----------------------------------------------------------------------\n",
      " |  Class methods defined here:\n",
      " |  \n",
      " |  __class_getitem__(...) from builtins.type\n",
      " |      See PEP 585\n",
      " |  \n",
      " |  ----------------------------------------------------------------------\n",
      " |  Static methods defined here:\n",
      " |  \n",
      " |  __new__(*args, **kwargs) from builtins.type\n",
      " |      Create and return a new object.  See help(type) for accurate signature.\n",
      "\n"
     ]
    }
   ],
   "source": [
    "help(enumerate)"
   ]
  },
  {
   "cell_type": "code",
   "execution_count": 28,
   "id": "3b7562f9",
   "metadata": {},
   "outputs": [
    {
     "name": "stdout",
     "output_type": "stream",
     "text": [
      "apple\n",
      "banana\n",
      "kiwi\n",
      "orange\n"
     ]
    }
   ],
   "source": [
    "basket = [\"apple\",\"banana\",\"kiwi\",\"orange\"]\n",
    "for i in basket:\n",
    "    print(i)"
   ]
  },
  {
   "cell_type": "code",
   "execution_count": 29,
   "id": "b037991d",
   "metadata": {},
   "outputs": [
    {
     "name": "stdout",
     "output_type": "stream",
     "text": [
      "index:  0  Fruit_Name:  apple\n",
      "index:  1  Fruit_Name:  banana\n",
      "index:  2  Fruit_Name:  kiwi\n",
      "index:  3  Fruit_Name:  orange\n"
     ]
    }
   ],
   "source": [
    "for i in range(0,len(basket)):\n",
    "    \n",
    "    print(\"index: \", i, \" Fruit_Name: \",basket[i])"
   ]
  },
  {
   "cell_type": "code",
   "execution_count": 30,
   "id": "8b919161",
   "metadata": {},
   "outputs": [
    {
     "name": "stdout",
     "output_type": "stream",
     "text": [
      "index:  0  Fruit_Name:  apple\n",
      "index:  1  Fruit_Name:  banana\n",
      "index:  2  Fruit_Name:  kiwi\n",
      "index:  3  Fruit_Name:  orange\n"
     ]
    }
   ],
   "source": [
    "basket = [\"apple\",\"banana\",\"kiwi\",\"orange\"]\n",
    "\n",
    "for i, fruit_name in enumerate(basket):\n",
    "    print(\"index: \", i, \" Fruit_Name: \",fruit_name)"
   ]
  },
  {
   "cell_type": "markdown",
   "id": "d34aa35d",
   "metadata": {},
   "source": [
    "## While Loop\n",
    "\n",
    "=> it iterates the same way but it checks the condition\n",
    "\n",
    "    while condition:\n",
    "        result_block"
   ]
  },
  {
   "cell_type": "code",
   "execution_count": 32,
   "id": "9fc88225",
   "metadata": {},
   "outputs": [
    {
     "name": "stdout",
     "output_type": "stream",
     "text": [
      "0\n",
      "1\n",
      "2\n",
      "3\n",
      "4\n",
      "5\n"
     ]
    }
   ],
   "source": [
    "# [ 0,1,2,3,4,5]\n",
    "for i in range(0,6):\n",
    "    print(i)"
   ]
  },
  {
   "cell_type": "code",
   "execution_count": 34,
   "id": "bf5260e3",
   "metadata": {},
   "outputs": [
    {
     "name": "stdout",
     "output_type": "stream",
     "text": [
      "0\n",
      "1\n",
      "2\n",
      "3\n",
      "4\n",
      "5\n"
     ]
    }
   ],
   "source": [
    "i = 0\n",
    "\n",
    "while i < 6 :\n",
    "    print(i)\n",
    "    i = i +1 \n"
   ]
  },
  {
   "cell_type": "code",
   "execution_count": 36,
   "id": "6d8c159b",
   "metadata": {},
   "outputs": [
    {
     "name": "stdout",
     "output_type": "stream",
     "text": [
      "Guess the number: 1\n",
      "Guess the number: 23\n",
      "Guess the number: 9\n",
      "Congratulations!\n"
     ]
    }
   ],
   "source": [
    "secret_number = 9\n",
    "user_input = 0\n",
    "\n",
    "while user_input != secret_number:\n",
    "    user_input = int(input(\"Guess the number: \"))\n",
    "    if ( user_input == secret_number):\n",
    "        print(\"Congratulations!\")\n",
    "        "
   ]
  },
  {
   "cell_type": "code",
   "execution_count": 40,
   "id": "d192558f",
   "metadata": {},
   "outputs": [
    {
     "name": "stdout",
     "output_type": "stream",
     "text": [
      "Guess the number: a\n",
      "Invalid Input.\n",
      "Guess the number: 3\n",
      "Guess the number: 1\n",
      "Guess the number: 9\n",
      "Congratulations!\n"
     ]
    }
   ],
   "source": [
    "secret_number = 9\n",
    "user_input = 0\n",
    "\n",
    "while user_input != secret_number:\n",
    "    \n",
    "    try:\n",
    "        user_input = int(input(\"Guess the number: \"))\n",
    "        if ( user_input == secret_number):\n",
    "            print(\"Congratulations!\")\n",
    "    except :\n",
    "        print(\"Invalid Input.\")\n"
   ]
  },
  {
   "cell_type": "markdown",
   "id": "c70f53b1",
   "metadata": {},
   "source": [
    "## While /Else\n",
    "\n"
   ]
  },
  {
   "cell_type": "code",
   "execution_count": 43,
   "id": "b0fa8afb",
   "metadata": {},
   "outputs": [
    {
     "name": "stdout",
     "output_type": "stream",
     "text": [
      "Guess the number: a\n",
      "Invalid Input.\n",
      "Guess the number: 1\n",
      "Guess the number: 9\n",
      "Congratulations!\n",
      "The end!\n"
     ]
    }
   ],
   "source": [
    "secret_number = 9\n",
    "user_input = 0\n",
    "\n",
    "while user_input != secret_number:\n",
    "    \n",
    "    try:\n",
    "        user_input = int(input(\"Guess the number: \"))\n",
    "        if ( user_input == secret_number):\n",
    "            print(\"Congratulations!\")\n",
    "    except :\n",
    "        print(\"Invalid Input.\")\n",
    "else:\n",
    "    print(\"The end!\")\n",
    "    "
   ]
  },
  {
   "cell_type": "code",
   "execution_count": 44,
   "id": "7204164b",
   "metadata": {},
   "outputs": [
    {
     "name": "stdout",
     "output_type": "stream",
     "text": [
      "Guess the number: a\n",
      "Invalid Input.\n",
      "Guess the number: 1\n",
      "Guess the number: 9\n",
      "Congratulations!\n"
     ]
    }
   ],
   "source": [
    "# if we break the loop, it won't execute the else block\n",
    "secret_number = 9\n",
    "user_input = 0\n",
    "\n",
    "while user_input != secret_number:\n",
    "    \n",
    "    try:\n",
    "        user_input = int(input(\"Guess the number: \"))\n",
    "        if ( user_input == secret_number):\n",
    "            print(\"Congratulations!\")\n",
    "            break\n",
    "    except :\n",
    "        print(\"Invalid Input.\")\n",
    "        \n",
    "else:\n",
    "    print(\"The end!\")\n",
    "    "
   ]
  },
  {
   "cell_type": "markdown",
   "id": "10c65e18",
   "metadata": {},
   "source": [
    "### Nested loop"
   ]
  },
  {
   "cell_type": "code",
   "execution_count": 46,
   "id": "6a574cf8",
   "metadata": {},
   "outputs": [
    {
     "name": "stdout",
     "output_type": "stream",
     "text": [
      "1 \n",
      "2 2 \n",
      "3 3 3 \n",
      "4 4 4 4 \n",
      "5 5 5 5 5 \n",
      "6 6 6 6 6 6 \n",
      "7 7 7 7 7 7 7 \n",
      "8 8 8 8 8 8 8 8 \n",
      "9 9 9 9 9 9 9 9 9 \n"
     ]
    }
   ],
   "source": [
    "i = 1\n",
    "\n",
    "while (i<10):\n",
    "    j = 0\n",
    "    while (j < i ):\n",
    "        print(i, end=\" \")\n",
    "        j = j+1 \n",
    "    i= i+1\n",
    "    print()"
   ]
  },
  {
   "cell_type": "markdown",
   "id": "ef0c667e",
   "metadata": {},
   "source": [
    "## Functions\n",
    "\n",
    "\n",
    "    - Standard FUnction = Built-in Function\n",
    "    - User defined "
   ]
  },
  {
   "cell_type": "code",
   "execution_count": 47,
   "id": "ff5cae03",
   "metadata": {},
   "outputs": [
    {
     "name": "stdout",
     "output_type": "stream",
     "text": [
      "Hello\n"
     ]
    }
   ],
   "source": [
    "print(\"Hello\")"
   ]
  },
  {
   "cell_type": "code",
   "execution_count": 48,
   "id": "b0b7be5e",
   "metadata": {},
   "outputs": [
    {
     "data": {
      "text/plain": [
       "8"
      ]
     },
     "execution_count": 48,
     "metadata": {},
     "output_type": "execute_result"
    }
   ],
   "source": [
    "len(\"Maimoona\")"
   ]
  },
  {
   "cell_type": "code",
   "execution_count": 50,
   "id": "eb3c9d77",
   "metadata": {},
   "outputs": [
    {
     "data": {
      "text/plain": [
       "8"
      ]
     },
     "execution_count": 50,
     "metadata": {},
     "output_type": "execute_result"
    }
   ],
   "source": [
    "len(\"maimoona\")"
   ]
  },
  {
   "cell_type": "markdown",
   "id": "5c4a6077",
   "metadata": {},
   "source": [
    "##### Parameters\n",
    "def name_greeting(value): value is paramter\n",
    "\n",
    "#### Arguments\n",
    "name_greeting(\"MAimoona\")= > Actual value is Argument"
   ]
  },
  {
   "cell_type": "code",
   "execution_count": 54,
   "id": "3b02253a",
   "metadata": {},
   "outputs": [],
   "source": [
    "def name_greeting(first_name, last_name):\n",
    "    print(\"Hello\", first_name, last_name,\"!\")\n"
   ]
  },
  {
   "cell_type": "code",
   "execution_count": 55,
   "id": "e27b345a",
   "metadata": {},
   "outputs": [
    {
     "name": "stdout",
     "output_type": "stream",
     "text": [
      "Hello  Maimoona khilji !\n"
     ]
    }
   ],
   "source": [
    "name_greeting(\"Maimoona\",\"khilji\")"
   ]
  },
  {
   "cell_type": "markdown",
   "id": "ed0a03b8",
   "metadata": {},
   "source": [
    "### Positional Arguments"
   ]
  },
  {
   "cell_type": "code",
   "execution_count": 56,
   "id": "c1493359",
   "metadata": {},
   "outputs": [
    {
     "name": "stdout",
     "output_type": "stream",
     "text": [
      "Hello  khilji Maimoona !\n"
     ]
    }
   ],
   "source": [
    "name_greeting(\"khilji\",\"Maimoona\")   #first_name = Khilji,,, last_name= maimoona"
   ]
  },
  {
   "cell_type": "code",
   "execution_count": 61,
   "id": "d0e1e00b",
   "metadata": {},
   "outputs": [
    {
     "name": "stdout",
     "output_type": "stream",
     "text": [
      "Hello  Maimoona khilji !\n"
     ]
    }
   ],
   "source": [
    "name_greeting( last_name = \"khilji\", first_name=\"Maimoona\")"
   ]
  },
  {
   "cell_type": "code",
   "execution_count": 57,
   "id": "2c1459d0",
   "metadata": {},
   "outputs": [],
   "source": [
    "def subtract(num1, num2):\n",
    "    print(num1 - num2)"
   ]
  },
  {
   "cell_type": "code",
   "execution_count": 58,
   "id": "04638b11",
   "metadata": {},
   "outputs": [
    {
     "name": "stdout",
     "output_type": "stream",
     "text": [
      "98\n"
     ]
    }
   ],
   "source": [
    "subtract(100,2)"
   ]
  },
  {
   "cell_type": "code",
   "execution_count": 60,
   "id": "0fa058f2",
   "metadata": {},
   "outputs": [
    {
     "name": "stdout",
     "output_type": "stream",
     "text": [
      "98\n"
     ]
    }
   ],
   "source": [
    "subtract(num2= 2,num1 = 100)"
   ]
  },
  {
   "cell_type": "markdown",
   "id": "1f1843f9",
   "metadata": {},
   "source": [
    "##### Print\n",
    "\n"
   ]
  },
  {
   "cell_type": "code",
   "execution_count": 62,
   "id": "4acd78b5",
   "metadata": {},
   "outputs": [],
   "source": [
    "def name_greeting(first_name, last_name):\n",
    "    print(\"Hello\", first_name, last_name,\"!\")\n"
   ]
  },
  {
   "cell_type": "code",
   "execution_count": 63,
   "id": "ee321490",
   "metadata": {},
   "outputs": [
    {
     "name": "stdout",
     "output_type": "stream",
     "text": [
      "Hello Maimoona Khilji !\n"
     ]
    }
   ],
   "source": [
    "name_greeting(\"Maimoona\",\"Khilji\")"
   ]
  },
  {
   "cell_type": "code",
   "execution_count": 64,
   "id": "9b8b3e22",
   "metadata": {},
   "outputs": [
    {
     "name": "stdout",
     "output_type": "stream",
     "text": [
      "Hello Maimoona Khilji !\n"
     ]
    }
   ],
   "source": [
    "greeetings = name_greeting(\"Maimoona\",\"Khilji\")\n"
   ]
  },
  {
   "cell_type": "code",
   "execution_count": 65,
   "id": "839f93c1",
   "metadata": {},
   "outputs": [],
   "source": [
    "greeetings"
   ]
  },
  {
   "cell_type": "code",
   "execution_count": 66,
   "id": "4da2e368",
   "metadata": {},
   "outputs": [
    {
     "data": {
      "text/plain": [
       "NoneType"
      ]
     },
     "execution_count": 66,
     "metadata": {},
     "output_type": "execute_result"
    }
   ],
   "source": [
    "type(greeetings)"
   ]
  },
  {
   "cell_type": "markdown",
   "id": "670155aa",
   "metadata": {},
   "source": [
    "#### Return"
   ]
  },
  {
   "cell_type": "code",
   "execution_count": 67,
   "id": "a87325fb",
   "metadata": {},
   "outputs": [],
   "source": [
    "def name_greeting(first_name, last_name):\n",
    "    return(\"Hello\", first_name, last_name,\"!\")\n"
   ]
  },
  {
   "cell_type": "code",
   "execution_count": 68,
   "id": "a8300ff5",
   "metadata": {},
   "outputs": [
    {
     "data": {
      "text/plain": [
       "('Hello', 'Maimoona', 'Khilji', '!')"
      ]
     },
     "execution_count": 68,
     "metadata": {},
     "output_type": "execute_result"
    }
   ],
   "source": [
    "name_greeting(\"Maimoona\",\"Khilji\")\n"
   ]
  },
  {
   "cell_type": "code",
   "execution_count": 69,
   "id": "e550f468",
   "metadata": {},
   "outputs": [],
   "source": [
    "greeetings = name_greeting(\"Maimoona\",\"Khilji\")\n"
   ]
  },
  {
   "cell_type": "code",
   "execution_count": 70,
   "id": "1a1242f4",
   "metadata": {},
   "outputs": [
    {
     "data": {
      "text/plain": [
       "('Hello', 'Maimoona', 'Khilji', '!')"
      ]
     },
     "execution_count": 70,
     "metadata": {},
     "output_type": "execute_result"
    }
   ],
   "source": [
    "greeetings\n"
   ]
  },
  {
   "cell_type": "code",
   "execution_count": 71,
   "id": "a056cd3b",
   "metadata": {},
   "outputs": [],
   "source": [
    "# you can't store the print value\n",
    "# While you can store the value using Return"
   ]
  },
  {
   "cell_type": "code",
   "execution_count": 73,
   "id": "fe82256c",
   "metadata": {},
   "outputs": [],
   "source": [
    "def even_check(num):\n",
    "    if num % 2==0:\n",
    "        print(num, \"is even\")\n",
    "    else:\n",
    "        print(num, \"is odd\")"
   ]
  },
  {
   "cell_type": "code",
   "execution_count": 74,
   "id": "c422b11b",
   "metadata": {},
   "outputs": [
    {
     "name": "stdout",
     "output_type": "stream",
     "text": [
      "9 is odd\n"
     ]
    }
   ],
   "source": [
    "even_check(9)"
   ]
  },
  {
   "cell_type": "code",
   "execution_count": 76,
   "id": "f3b122e0",
   "metadata": {},
   "outputs": [
    {
     "name": "stdout",
     "output_type": "stream",
     "text": [
      "Input must be integer.\n"
     ]
    }
   ],
   "source": [
    "def even_check(num):\n",
    "    try:\n",
    "        if num % 2==0:\n",
    "            print(num, \"is even\")\n",
    "        else:\n",
    "            print(num, \"is odd\")\n",
    "            \n",
    "    except TypeError:\n",
    "        print(\"Input must be integer.\")\n",
    "\n",
    "even_check(\"A\")"
   ]
  },
  {
   "cell_type": "code",
   "execution_count": 79,
   "id": "a17a6652",
   "metadata": {},
   "outputs": [],
   "source": [
    "def even_check(num):\n",
    "    if type(num) != int:\n",
    "        print(\"Value is invalid\")\n",
    "    elif num % 2==0:\n",
    "        print(num, \"is even\")\n",
    "    else:\n",
    "        print(num, \"is odd\")"
   ]
  },
  {
   "cell_type": "code",
   "execution_count": 80,
   "id": "f08b9648",
   "metadata": {},
   "outputs": [
    {
     "name": "stdout",
     "output_type": "stream",
     "text": [
      "Value is invalid\n"
     ]
    }
   ],
   "source": [
    "even_check(\"a\")\n"
   ]
  },
  {
   "cell_type": "markdown",
   "id": "a4ff5fee",
   "metadata": {},
   "source": [
    "### Default parameter"
   ]
  },
  {
   "cell_type": "code",
   "execution_count": 84,
   "id": "776f5f48",
   "metadata": {},
   "outputs": [],
   "source": [
    "def name_greeting(first_name =\"Unknown\", last_name=\"Unknown\"):\n",
    "    print(\"Hello\", first_name, last_name,\"!\")\n"
   ]
  },
  {
   "cell_type": "code",
   "execution_count": 85,
   "id": "23171720",
   "metadata": {},
   "outputs": [
    {
     "name": "stdout",
     "output_type": "stream",
     "text": [
      "Hello maimoona khilji !\n"
     ]
    }
   ],
   "source": [
    "name_greeting(\"maimoona\",\"khilji\")"
   ]
  },
  {
   "cell_type": "code",
   "execution_count": 86,
   "id": "ae160186",
   "metadata": {},
   "outputs": [
    {
     "name": "stdout",
     "output_type": "stream",
     "text": [
      "Hello Unknown Unknown !\n"
     ]
    }
   ],
   "source": [
    "name_greeting()"
   ]
  },
  {
   "cell_type": "code",
   "execution_count": 104,
   "id": "b93aecca",
   "metadata": {},
   "outputs": [],
   "source": [
    "def sum_function(num1=0, num2=0):\n",
    "    print(num1+num2)"
   ]
  },
  {
   "cell_type": "code",
   "execution_count": 106,
   "id": "211ce073",
   "metadata": {},
   "outputs": [
    {
     "ename": "TypeError",
     "evalue": "sum_function() takes from 0 to 2 positional arguments but 3 were given",
     "output_type": "error",
     "traceback": [
      "\u001b[1;31m---------------------------------------------------------------------------\u001b[0m",
      "\u001b[1;31mTypeError\u001b[0m                                 Traceback (most recent call last)",
      "Cell \u001b[1;32mIn[106], line 1\u001b[0m\n\u001b[1;32m----> 1\u001b[0m sum_function(\u001b[38;5;241m1\u001b[39m,\u001b[38;5;241m2\u001b[39m,\u001b[38;5;241m4\u001b[39m)\n",
      "\u001b[1;31mTypeError\u001b[0m: sum_function() takes from 0 to 2 positional arguments but 3 were given"
     ]
    }
   ],
   "source": [
    "sum_function(1,2,4)"
   ]
  },
  {
   "cell_type": "markdown",
   "id": "ae70ba19",
   "metadata": {},
   "source": [
    "### list of arguments"
   ]
  },
  {
   "cell_type": "code",
   "execution_count": 107,
   "id": "01e0e11a",
   "metadata": {},
   "outputs": [],
   "source": [
    "def sum_function(num1=0, num2=0,num3 = 0):\n",
    "    print(num1+num2+num3)"
   ]
  },
  {
   "cell_type": "code",
   "execution_count": 108,
   "id": "80de306b",
   "metadata": {},
   "outputs": [
    {
     "name": "stdout",
     "output_type": "stream",
     "text": [
      "3\n"
     ]
    }
   ],
   "source": [
    "sum_function(1,2)"
   ]
  },
  {
   "cell_type": "code",
   "execution_count": 109,
   "id": "3dd92f58",
   "metadata": {},
   "outputs": [
    {
     "name": "stdout",
     "output_type": "stream",
     "text": [
      "6\n"
     ]
    }
   ],
   "source": [
    "sum_function(1,2,3)"
   ]
  },
  {
   "cell_type": "code",
   "execution_count": 112,
   "id": "822d2567",
   "metadata": {},
   "outputs": [],
   "source": [
    "def sum_function(*num):\n",
    "    total = 0\n",
    "    for i in num:\n",
    "        total +=i\n",
    "        \n",
    "    return total"
   ]
  },
  {
   "cell_type": "code",
   "execution_count": 113,
   "id": "ddd82513",
   "metadata": {},
   "outputs": [
    {
     "data": {
      "text/plain": [
       "1050"
      ]
     },
     "execution_count": 113,
     "metadata": {},
     "output_type": "execute_result"
    }
   ],
   "source": [
    "sum_function(1,2,3,1000,4,3,5,6,8,9,9)"
   ]
  },
  {
   "cell_type": "markdown",
   "id": "92b6e12f",
   "metadata": {},
   "source": [
    "## Lambda"
   ]
  },
  {
   "cell_type": "code",
   "execution_count": 116,
   "id": "0defba8f",
   "metadata": {},
   "outputs": [],
   "source": [
    "def sum_function(num1=0, num2=0):\n",
    "    print(num1+num2)"
   ]
  },
  {
   "cell_type": "code",
   "execution_count": 117,
   "id": "cba25fc3",
   "metadata": {},
   "outputs": [
    {
     "name": "stdout",
     "output_type": "stream",
     "text": [
      "8\n"
     ]
    }
   ],
   "source": [
    "sum_function(3,5)"
   ]
  },
  {
   "cell_type": "code",
   "execution_count": 114,
   "id": "6b5ec2de",
   "metadata": {},
   "outputs": [],
   "source": [
    "total = lambda num1,num2: num1 + num2"
   ]
  },
  {
   "cell_type": "code",
   "execution_count": 115,
   "id": "a692074b",
   "metadata": {},
   "outputs": [
    {
     "data": {
      "text/plain": [
       "8"
      ]
     },
     "execution_count": 115,
     "metadata": {},
     "output_type": "execute_result"
    }
   ],
   "source": [
    "total(3,5)"
   ]
  },
  {
   "cell_type": "code",
   "execution_count": 119,
   "id": "ddb540e4",
   "metadata": {},
   "outputs": [
    {
     "data": {
      "text/plain": [
       "36"
      ]
     },
     "execution_count": 119,
     "metadata": {},
     "output_type": "execute_result"
    }
   ],
   "source": [
    "squared_value = lambda num1: num1**2\n",
    "squared_value(6)"
   ]
  },
  {
   "cell_type": "code",
   "execution_count": 125,
   "id": "47e0d09a",
   "metadata": {},
   "outputs": [],
   "source": [
    "numeric_list = [ 1,2,3,4,5,6,7,8,9,10]\n",
    "# [ 1, 4, 9, 16, .... ]   a**2\n",
    "\n",
    "squared_list = list(map(lambda num1: num1**2, numeric_list))"
   ]
  },
  {
   "cell_type": "code",
   "execution_count": 126,
   "id": "9db13b22",
   "metadata": {},
   "outputs": [
    {
     "data": {
      "text/plain": [
       "[1, 4, 9, 16, 25, 36, 49, 64, 81, 100]"
      ]
     },
     "execution_count": 126,
     "metadata": {},
     "output_type": "execute_result"
    }
   ],
   "source": [
    "squared_list"
   ]
  },
  {
   "cell_type": "code",
   "execution_count": 128,
   "id": "65c563d0",
   "metadata": {},
   "outputs": [
    {
     "data": {
      "text/plain": [
       "[0, 1, 2, 3]"
      ]
     },
     "execution_count": 128,
     "metadata": {},
     "output_type": "execute_result"
    }
   ],
   "source": [
    "list(range(0,4))"
   ]
  },
  {
   "cell_type": "code",
   "execution_count": 131,
   "id": "581fddf2",
   "metadata": {},
   "outputs": [],
   "source": [
    "even_check = lambda num1: num1 % 2 == 0"
   ]
  },
  {
   "cell_type": "code",
   "execution_count": 132,
   "id": "0adca638",
   "metadata": {},
   "outputs": [
    {
     "data": {
      "text/plain": [
       "False"
      ]
     },
     "execution_count": 132,
     "metadata": {},
     "output_type": "execute_result"
    }
   ],
   "source": [
    "even_check(23)"
   ]
  },
  {
   "cell_type": "code",
   "execution_count": null,
   "id": "d097abaa",
   "metadata": {},
   "outputs": [],
   "source": [
    "numeric_list = [ 1,2,3,4,5,6,7,8,9,10]\n",
    "# [ 1, 4, 9, 16, .... ]   a**2\n",
    "\n",
    "squared_list = list(map(lambda num1: num1**2, numeric_list))"
   ]
  },
  {
   "cell_type": "markdown",
   "id": "9659846e",
   "metadata": {},
   "source": [
    "Explanation of above code in terms of def function and for loop"
   ]
  },
  {
   "cell_type": "code",
   "execution_count": 135,
   "id": "403d310b",
   "metadata": {},
   "outputs": [
    {
     "data": {
      "text/plain": [
       "[1, 4, 9, 16, 25, 36, 49, 64, 81, 100]"
      ]
     },
     "execution_count": 135,
     "metadata": {},
     "output_type": "execute_result"
    }
   ],
   "source": [
    "def power(num):\n",
    "    return(num**2)\n",
    "\n",
    "numeric_list = [ 1,2,3,4,5,6,7,8,9,10]\n",
    "for i in range(0,len(numeric_list)):\n",
    "    \n",
    "    numeric_list[i]=power(numeric_list[i])\n",
    "    \n",
    "numeric_list"
   ]
  },
  {
   "cell_type": "code",
   "execution_count": null,
   "id": "cf882519",
   "metadata": {},
   "outputs": [],
   "source": []
  },
  {
   "cell_type": "code",
   "execution_count": null,
   "id": "ec73a829",
   "metadata": {},
   "outputs": [],
   "source": []
  }
 ],
 "metadata": {
  "kernelspec": {
   "display_name": "Python 3 (ipykernel)",
   "language": "python",
   "name": "python3"
  },
  "language_info": {
   "codemirror_mode": {
    "name": "ipython",
    "version": 3
   },
   "file_extension": ".py",
   "mimetype": "text/x-python",
   "name": "python",
   "nbconvert_exporter": "python",
   "pygments_lexer": "ipython3",
   "version": "3.11.5"
  }
 },
 "nbformat": 4,
 "nbformat_minor": 5
}
