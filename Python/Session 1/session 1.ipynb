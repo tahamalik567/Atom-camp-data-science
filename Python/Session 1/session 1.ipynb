{
 "cells": [
  {
   "cell_type": "markdown",
   "id": "460ac915",
   "metadata": {},
   "source": [
    "# Python\n",
    "- programming language + Mainly for data science \n",
    "- named after a show \"Monty Python\"\n",
    "advantages:\n",
    "    - Similer to english\n",
    "    - Easy to use\n",
    "    we can use it for (application, web dev, for any data field)\n",
    "    \n"
   ]
  },
  {
   "cell_type": "markdown",
   "id": "197002a3",
   "metadata": {},
   "source": [
    "# Basic Concepts "
   ]
  },
  {
   "cell_type": "markdown",
   "id": "58275b76",
   "metadata": {},
   "source": []
  },
  {
   "cell_type": "code",
   "execution_count": 1,
   "id": "b2abbb4e",
   "metadata": {},
   "outputs": [
    {
     "name": "stdout",
     "output_type": "stream",
     "text": [
      "Hello Everyone!\n"
     ]
    }
   ],
   "source": [
    "# Display Test \n",
    "\n",
    "print(\"Hello Everyone!\") # shift + enter"
   ]
  },
  {
   "cell_type": "code",
   "execution_count": null,
   "id": "d6cb6170",
   "metadata": {},
   "outputs": [],
   "source": [
    "print(\"Hello\",\"Everyone!\")"
   ]
  },
  {
   "cell_type": "code",
   "execution_count": 4,
   "id": "b2800a26",
   "metadata": {},
   "outputs": [
    {
     "name": "stdout",
     "output_type": "stream",
     "text": [
      "Hello-Everyone!\n"
     ]
    }
   ],
   "source": [
    "print(\"Hello\",\"Everyone!\",sep=\"-\")"
   ]
  },
  {
   "cell_type": "code",
   "execution_count": 5,
   "id": "14b92c4d",
   "metadata": {},
   "outputs": [
    {
     "name": "stdout",
     "output_type": "stream",
     "text": [
      "Hello:-:Hello:-:"
     ]
    }
   ],
   "source": [
    "print(\"Hello\",end=\":-:\")\n",
    "print(\"Hello\",end=\":-:\")"
   ]
  },
  {
   "cell_type": "markdown",
   "id": "6b944d08",
   "metadata": {},
   "source": [
    "#Variables "
   ]
  },
  {
   "cell_type": "code",
   "execution_count": 2,
   "id": "b6bc1a06",
   "metadata": {},
   "outputs": [],
   "source": [
    "#Help \n",
    "print?"
   ]
  },
  {
   "cell_type": "code",
   "execution_count": 3,
   "id": "316caa55",
   "metadata": {
    "scrolled": true
   },
   "outputs": [
    {
     "name": "stdout",
     "output_type": "stream",
     "text": [
      "Help on built-in function print in module builtins:\n",
      "\n",
      "print(...)\n",
      "    print(value, ..., sep=' ', end='\\n', file=sys.stdout, flush=False)\n",
      "    \n",
      "    Prints the values to a stream, or to sys.stdout by default.\n",
      "    Optional keyword arguments:\n",
      "    file:  a file-like object (stream); defaults to the current sys.stdout.\n",
      "    sep:   string inserted between values, default a space.\n",
      "    end:   string appended after the last value, default a newline.\n",
      "    flush: whether to forcibly flush the stream.\n",
      "\n"
     ]
    }
   ],
   "source": [
    "help(print)"
   ]
  },
  {
   "cell_type": "code",
   "execution_count": 8,
   "id": "167adbde",
   "metadata": {},
   "outputs": [],
   "source": [
    "Name = \"Taha\""
   ]
  },
  {
   "cell_type": "code",
   "execution_count": 9,
   "id": "888dfb97",
   "metadata": {},
   "outputs": [
    {
     "data": {
      "text/plain": [
       "'Taha'"
      ]
     },
     "execution_count": 9,
     "metadata": {},
     "output_type": "execute_result"
    }
   ],
   "source": [
    "Name"
   ]
  },
  {
   "cell_type": "code",
   "execution_count": 10,
   "id": "390dd0f4",
   "metadata": {},
   "outputs": [],
   "source": [
    "# ways to write variable name \n",
    "Fullname = \"Muhammad taha malik\""
   ]
  },
  {
   "cell_type": "code",
   "execution_count": 13,
   "id": "455e82cf",
   "metadata": {},
   "outputs": [
    {
     "name": "stdout",
     "output_type": "stream",
     "text": [
      "tahaa\n"
     ]
    }
   ],
   "source": [
    "#  storing Multiple values\n",
    "tirst_name = \" taha\"\n",
    "last_name = \"Malik\"\n",
    "age = 24\n",
    "\n",
    "full_name, last_name = \"tahaa\", 'malik'\n",
    "print(full_name)"
   ]
  },
  {
   "cell_type": "code",
   "execution_count": 14,
   "id": "84ee5633",
   "metadata": {},
   "outputs": [],
   "source": [
    "# data types \n",
    "full_name = \"taha \"  # string \n",
    "enrollment = True # boolean\n",
    "\n",
    "batch = 1 # int \n",
    "score = 55.5 # float \n",
    "complex_data = 3+4j # complex number "
   ]
  },
  {
   "cell_type": "code",
   "execution_count": 18,
   "id": "3f0fd8f3",
   "metadata": {},
   "outputs": [
    {
     "name": "stdout",
     "output_type": "stream",
     "text": [
      "<class 'complex'>\n",
      "<class 'str'>\n"
     ]
    }
   ],
   "source": [
    "print(type(complex_data))\n",
    "print(type(full_name))"
   ]
  },
  {
   "cell_type": "markdown",
   "id": "7a53c6cc",
   "metadata": {},
   "source": [
    "#Data type conversions"
   ]
  },
  {
   "cell_type": "code",
   "execution_count": null,
   "id": "1c911417",
   "metadata": {},
   "outputs": [],
   "source": [
    "# funtions for conversion \n",
    "int()\n",
    "str()\n",
    "float()\n",
    "bool()"
   ]
  },
  {
   "cell_type": "code",
   "execution_count": 22,
   "id": "6ae61c45",
   "metadata": {},
   "outputs": [
    {
     "name": "stdout",
     "output_type": "stream",
     "text": [
      "Height:  3.5 <class 'float'>\n",
      "Width:  5 <class 'int'>\n"
     ]
    }
   ],
   "source": [
    "height = float(\"3.5\")   #str => float\n",
    "width = int(\"5\")        # str => int\n",
    "print(\"Height: \", height,type(height))\n",
    "print(\"Width: \", width,type(width))"
   ]
  },
  {
   "cell_type": "code",
   "execution_count": 24,
   "id": "ce37fda6",
   "metadata": {},
   "outputs": [
    {
     "data": {
      "text/plain": [
       "str"
      ]
     },
     "execution_count": 24,
     "metadata": {},
     "output_type": "execute_result"
    }
   ],
   "source": [
    "data = str(923425347852)\n",
    "type(data)"
   ]
  },
  {
   "cell_type": "code",
   "execution_count": 27,
   "id": "be5cbd86",
   "metadata": {},
   "outputs": [
    {
     "data": {
      "text/plain": [
       "bool"
      ]
     },
     "execution_count": 27,
     "metadata": {},
     "output_type": "execute_result"
    }
   ],
   "source": [
    "enrollment = bool(1) # 1 = Yes,  0 = No\n",
    "type(enrollment)"
   ]
  },
  {
   "cell_type": "code",
   "execution_count": 32,
   "id": "f7bdd0e9",
   "metadata": {},
   "outputs": [
    {
     "name": "stdout",
     "output_type": "stream",
     "text": [
      "a -100 <class 'int'>\n",
      "a True <class 'bool'>\n"
     ]
    }
   ],
   "source": [
    "a = -100\n",
    "print(\"a\",a,type(a))\n",
    "\n",
    "a = bool(a)\n",
    "\n",
    "print(\"a\",a,type(a))\n",
    "\n",
    "# value = 0 then false \n",
    "# other wise true\n"
   ]
  },
  {
   "cell_type": "markdown",
   "id": "1b59c135",
   "metadata": {},
   "source": []
  },
  {
   "cell_type": "code",
   "execution_count": 34,
   "id": "59fa70a0",
   "metadata": {},
   "outputs": [
    {
     "ename": "ValueError",
     "evalue": "invalid literal for int() with base 10: '2.5'",
     "output_type": "error",
     "traceback": [
      "\u001b[1;31m---------------------------------------------------------------------------\u001b[0m",
      "\u001b[1;31mValueError\u001b[0m                                Traceback (most recent call last)",
      "\u001b[1;32m~\\AppData\\Local\\Temp\\ipykernel_10096\\4049224944.py\u001b[0m in \u001b[0;36m<module>\u001b[1;34m\u001b[0m\n\u001b[0;32m      1\u001b[0m \u001b[1;31m# if we want to convert float into string then floatstring\u001b[0m\u001b[1;33m\u001b[0m\u001b[1;33m\u001b[0m\u001b[0m\n\u001b[0;32m      2\u001b[0m \u001b[0mint\u001b[0m\u001b[1;33m(\u001b[0m\u001b[0mfloat\u001b[0m\u001b[1;33m(\u001b[0m\u001b[1;34m\"2.5\"\u001b[0m\u001b[1;33m)\u001b[0m\u001b[1;33m)\u001b[0m\u001b[1;33m\u001b[0m\u001b[1;33m\u001b[0m\u001b[0m\n\u001b[1;32m----> 3\u001b[1;33m \u001b[0mint\u001b[0m\u001b[1;33m(\u001b[0m\u001b[1;34m\"2.5\"\u001b[0m\u001b[1;33m)\u001b[0m\u001b[1;33m\u001b[0m\u001b[1;33m\u001b[0m\u001b[0m\n\u001b[0m",
      "\u001b[1;31mValueError\u001b[0m: invalid literal for int() with base 10: '2.5'"
     ]
    }
   ],
   "source": [
    "# if we want to convert float into string then floatstring \n",
    "int(float(\"2.5\"))\n",
    "# int(\"2.5\") will give error "
   ]
  },
  {
   "cell_type": "markdown",
   "id": "b5e994ea",
   "metadata": {},
   "source": [
    "# user input"
   ]
  },
  {
   "cell_type": "code",
   "execution_count": 35,
   "id": "31d9af28",
   "metadata": {},
   "outputs": [
    {
     "name": "stdout",
     "output_type": "stream",
     "text": [
      "Welcome to this application\n"
     ]
    }
   ],
   "source": [
    "print(\"Welcome to this application\")"
   ]
  },
  {
   "cell_type": "code",
   "execution_count": 37,
   "id": "e23bf455",
   "metadata": {},
   "outputs": [
    {
     "name": "stdout",
     "output_type": "stream",
     "text": [
      "enter your nameasd\n",
      "welcome asd to this application\n"
     ]
    }
   ],
   "source": [
    "name = input(\"enter your name\")\n",
    "print(\"welcome\",name,\"to this application\" )"
   ]
  },
  {
   "cell_type": "code",
   "execution_count": null,
   "id": "2a4b528a",
   "metadata": {},
   "outputs": [],
   "source": [
    "# input is taken in string if variable not initilized before"
   ]
  },
  {
   "cell_type": "markdown",
   "id": "2f0a785c",
   "metadata": {},
   "source": [
    "# Arithmatic operrations"
   ]
  },
  {
   "cell_type": "code",
   "execution_count": 38,
   "id": "e3a788de",
   "metadata": {},
   "outputs": [],
   "source": [
    "num1 = 100\n",
    "num2 = 25"
   ]
  },
  {
   "cell_type": "code",
   "execution_count": 39,
   "id": "fc1c742d",
   "metadata": {},
   "outputs": [
    {
     "name": "stdout",
     "output_type": "stream",
     "text": [
      "addition:  125\n"
     ]
    }
   ],
   "source": [
    "print(\"addition: \",num1 + num2)"
   ]
  },
  {
   "cell_type": "code",
   "execution_count": 42,
   "id": "59d9c0cd",
   "metadata": {},
   "outputs": [
    {
     "name": "stdout",
     "output_type": "stream",
     "text": [
      "subtraction:  75\n"
     ]
    }
   ],
   "source": [
    "print(\"subtraction: \",num1 - num2)"
   ]
  },
  {
   "cell_type": "code",
   "execution_count": 41,
   "id": "f2385615",
   "metadata": {},
   "outputs": [
    {
     "name": "stdout",
     "output_type": "stream",
     "text": [
      "multiplication:  2500\n"
     ]
    }
   ],
   "source": [
    "print(\"multiplication: \",num1 * num2)"
   ]
  },
  {
   "cell_type": "code",
   "execution_count": 40,
   "id": "5c6d6831",
   "metadata": {},
   "outputs": [
    {
     "name": "stdout",
     "output_type": "stream",
     "text": [
      "division:  4.0\n"
     ]
    }
   ],
   "source": [
    "print(\"division: \",num1 / num2)"
   ]
  },
  {
   "cell_type": "code",
   "execution_count": 43,
   "id": "ff8cb083",
   "metadata": {},
   "outputs": [
    {
     "name": "stdout",
     "output_type": "stream",
     "text": [
      "floor:  4\n"
     ]
    }
   ],
   "source": [
    "print(\"floor: \",num1 // num2)"
   ]
  },
  {
   "cell_type": "code",
   "execution_count": 44,
   "id": "3ae30b70",
   "metadata": {},
   "outputs": [
    {
     "name": "stdout",
     "output_type": "stream",
     "text": [
      "exponantial:  8\n"
     ]
    }
   ],
   "source": [
    "print(\"exponantial: \",2**3)  #2^3"
   ]
  },
  {
   "cell_type": "code",
   "execution_count": 45,
   "id": "f2e1f702",
   "metadata": {},
   "outputs": [
    {
     "name": "stdout",
     "output_type": "stream",
     "text": [
      "reminder:  9\n"
     ]
    }
   ],
   "source": [
    "print(\"reminder: \",49 % 10)"
   ]
  },
  {
   "cell_type": "code",
   "execution_count": null,
   "id": "41166c92",
   "metadata": {},
   "outputs": [],
   "source": [
    "# less then <\n",
    "# less than or equal <=\n",
    "# greter than >\n",
    "# greater than or equal >=\n"
   ]
  },
  {
   "cell_type": "code",
   "execution_count": 46,
   "id": "dea33fa1",
   "metadata": {},
   "outputs": [
    {
     "name": "stdout",
     "output_type": "stream",
     "text": [
      "equal False\n"
     ]
    }
   ],
   "source": [
    "print(\"equal\",4==3)"
   ]
  },
  {
   "cell_type": "markdown",
   "id": "fb80b418",
   "metadata": {},
   "source": [
    "#logical operator "
   ]
  },
  {
   "cell_type": "code",
   "execution_count": null,
   "id": "5d9032dd",
   "metadata": {},
   "outputs": [],
   "source": [
    "# and\n",
    "# or\n",
    "# not"
   ]
  },
  {
   "cell_type": "markdown",
   "id": "aa84a19e",
   "metadata": {},
   "source": [
    "# test\n",
    "## test\n",
    "### test \n",
    "#### test "
   ]
  }
 ],
 "metadata": {
  "kernelspec": {
   "display_name": "Python 3 (ipykernel)",
   "language": "python",
   "name": "python3"
  },
  "language_info": {
   "codemirror_mode": {
    "name": "ipython",
    "version": 3
   },
   "file_extension": ".py",
   "mimetype": "text/x-python",
   "name": "python",
   "nbconvert_exporter": "python",
   "pygments_lexer": "ipython3",
   "version": "3.9.13"
  }
 },
 "nbformat": 4,
 "nbformat_minor": 5
}
