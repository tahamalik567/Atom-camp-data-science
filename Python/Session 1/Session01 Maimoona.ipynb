{
 "cells": [
  {
   "cell_type": "markdown",
   "id": "6b07dd8a",
   "metadata": {},
   "source": [
    "# Python\n",
    "\n",
    "    - Programming Language + Mainly used for Data Science\n",
    "    - named after a show \"Monty Python\"\n",
    " \n",
    "Advantages:\n",
    " \n",
    "    - Similar to English\n",
    "    - Easy to use\n",
    "    - We can use it for anything ( application, web development + For any data field)"
   ]
  },
  {
   "cell_type": "markdown",
   "id": "e47c0dad",
   "metadata": {},
   "source": [
    "Jupyter Notebook keyboard shortcuts:\n",
    "\n",
    "| Shortcut          | Action                                      |\n",
    "|-------------------|---------------------------------------------|\n",
    "| `Enter`           | Enter Edit Mode                             |\n",
    "| `Shift + Enter`   | Run current cell and select next cell       |\n",
    "| `Ctrl + Enter`    | Run current cell                            |\n",
    "| `A`               | Insert new cell above current cell          |\n",
    "| `B`               | Insert new cell below current cell          |\n",
    "| `D, D`            | Delete current cell                         |\n",
    "| `Z`               | Undo cell deletion                          |\n",
    "| `Y`               | Change cell type to Code                    |\n",
    "| `M`               | Change cell type to Markdown                |\n",
    "| `Shift + M`       | Merge selected cells                        |\n",
    "| `Up Arrow`        | Select cell above                           |\n",
    "| `Down Arrow`      | Select cell below                           |\n",
    "| `Shift + K`       | Extend selection above                      |\n",
    "| `Shift + J`       | Extend selection below                      |\n",
    "| `Shift + Space`   | Scroll notebook up                          |\n",
    "| `Space`           | Scroll notebook down                        |\n"
   ]
  },
  {
   "cell_type": "markdown",
   "id": "fa9f2a2b",
   "metadata": {},
   "source": [
    "### Basic Concepts"
   ]
  },
  {
   "cell_type": "markdown",
   "id": "4a932cc9",
   "metadata": {},
   "source": [
    "#### Display Text"
   ]
  },
  {
   "cell_type": "code",
   "execution_count": 1,
   "id": "2026809c",
   "metadata": {},
   "outputs": [
    {
     "name": "stdout",
     "output_type": "stream",
     "text": [
      "Hello Everyone!\n"
     ]
    }
   ],
   "source": [
    "print(\"Hello Everyone!\")   #shift +enter to run or execute the code"
   ]
  },
  {
   "cell_type": "code",
   "execution_count": 2,
   "id": "8b63baa0",
   "metadata": {},
   "outputs": [
    {
     "name": "stdout",
     "output_type": "stream",
     "text": [
      "Hello Everyone!\n"
     ]
    }
   ],
   "source": [
    "print(\"Hello\",\"Everyone!\")"
   ]
  },
  {
   "cell_type": "code",
   "execution_count": 3,
   "id": "82c365b7",
   "metadata": {},
   "outputs": [
    {
     "name": "stdout",
     "output_type": "stream",
     "text": [
      "Hello-Everyone!\n"
     ]
    }
   ],
   "source": [
    "print(\"Hello\",\"Everyone!\",sep=\"-\")"
   ]
  },
  {
   "cell_type": "code",
   "execution_count": 4,
   "id": "7b881c9b",
   "metadata": {},
   "outputs": [
    {
     "name": "stdout",
     "output_type": "stream",
     "text": [
      "Hello._.Everyone._."
     ]
    }
   ],
   "source": [
    "print(\"Hello\", end=\"._.\")\n",
    "print(\"Everyone\",end=\"._.\")"
   ]
  },
  {
   "cell_type": "markdown",
   "id": "55cf0357",
   "metadata": {},
   "source": [
    "#### Help"
   ]
  },
  {
   "cell_type": "code",
   "execution_count": 5,
   "id": "b025aabf",
   "metadata": {},
   "outputs": [],
   "source": [
    "print?"
   ]
  },
  {
   "cell_type": "code",
   "execution_count": 6,
   "id": "f661de04",
   "metadata": {},
   "outputs": [
    {
     "name": "stdout",
     "output_type": "stream",
     "text": [
      "Help on built-in function print in module builtins:\n",
      "\n",
      "print(*args, sep=' ', end='\\n', file=None, flush=False)\n",
      "    Prints the values to a stream, or to sys.stdout by default.\n",
      "    \n",
      "    sep\n",
      "      string inserted between values, default a space.\n",
      "    end\n",
      "      string appended after the last value, default a newline.\n",
      "    file\n",
      "      a file-like object (stream); defaults to the current sys.stdout.\n",
      "    flush\n",
      "      whether to forcibly flush the stream.\n",
      "\n"
     ]
    }
   ],
   "source": [
    "help(print)"
   ]
  },
  {
   "cell_type": "markdown",
   "id": "44c97e77",
   "metadata": {},
   "source": [
    "## Variables\n",
    "\n",
    "\n",
    "    - They are like Containers to store something"
   ]
  },
  {
   "cell_type": "code",
   "execution_count": 7,
   "id": "a4eae3f5",
   "metadata": {},
   "outputs": [],
   "source": [
    "Jug = \"Water\""
   ]
  },
  {
   "cell_type": "code",
   "execution_count": 8,
   "id": "52cbdc32",
   "metadata": {},
   "outputs": [
    {
     "data": {
      "text/plain": [
       "'Water'"
      ]
     },
     "execution_count": 8,
     "metadata": {},
     "output_type": "execute_result"
    }
   ],
   "source": [
    "Jug"
   ]
  },
  {
   "cell_type": "code",
   "execution_count": 9,
   "id": "84b039a7",
   "metadata": {},
   "outputs": [],
   "source": [
    "Purse = \"Money\""
   ]
  },
  {
   "cell_type": "code",
   "execution_count": 10,
   "id": "fab6b2ef",
   "metadata": {},
   "outputs": [],
   "source": [
    "Name = \"Maimoona\""
   ]
  },
  {
   "cell_type": "code",
   "execution_count": 11,
   "id": "901a3a06",
   "metadata": {},
   "outputs": [
    {
     "data": {
      "text/plain": [
       "'Maimoona'"
      ]
     },
     "execution_count": 11,
     "metadata": {},
     "output_type": "execute_result"
    }
   ],
   "source": [
    "Name"
   ]
  },
  {
   "cell_type": "code",
   "execution_count": 12,
   "id": "708c9eff",
   "metadata": {},
   "outputs": [
    {
     "data": {
      "text/plain": [
       "'Maimoona'"
      ]
     },
     "execution_count": 12,
     "metadata": {},
     "output_type": "execute_result"
    }
   ],
   "source": [
    "Name"
   ]
  },
  {
   "cell_type": "code",
   "execution_count": 13,
   "id": "b181da42",
   "metadata": {},
   "outputs": [],
   "source": [
    "# ways to write variable name\n",
    "\n",
    "Fullname = \"Maimoona Khilji\"\n"
   ]
  },
  {
   "cell_type": "code",
   "execution_count": 14,
   "id": "c6ba2fea",
   "metadata": {},
   "outputs": [],
   "source": [
    "FullName =\"Maimoona Khilji\""
   ]
  },
  {
   "cell_type": "code",
   "execution_count": 15,
   "id": "194e20a2",
   "metadata": {},
   "outputs": [],
   "source": [
    "Full_name =\"Maimoona Khilji\""
   ]
  },
  {
   "cell_type": "code",
   "execution_count": 16,
   "id": "aec68ef1",
   "metadata": {},
   "outputs": [],
   "source": [
    "_FullName =\"Maimoona Khilji\""
   ]
  },
  {
   "cell_type": "code",
   "execution_count": 17,
   "id": "31f31519",
   "metadata": {},
   "outputs": [],
   "source": [
    "Full_name1234556 = \"Maimoona Khilji\""
   ]
  },
  {
   "cell_type": "code",
   "execution_count": 18,
   "id": "643c01df",
   "metadata": {},
   "outputs": [
    {
     "ename": "SyntaxError",
     "evalue": "invalid decimal literal (4079374473.py, line 1)",
     "output_type": "error",
     "traceback": [
      "\u001b[1;36m  Cell \u001b[1;32mIn[18], line 1\u001b[1;36m\u001b[0m\n\u001b[1;33m    12Full_Name = \"Maimoona Khilji\" #It will throw error\u001b[0m\n\u001b[1;37m     ^\u001b[0m\n\u001b[1;31mSyntaxError\u001b[0m\u001b[1;31m:\u001b[0m invalid decimal literal\n"
     ]
    }
   ],
   "source": [
    "12Full_Name = \"Maimoona Khilji\" #It will throw error"
   ]
  },
  {
   "cell_type": "code",
   "execution_count": 19,
   "id": "3875c996",
   "metadata": {},
   "outputs": [],
   "source": [
    "_FullName =\"Maimoona Khilji\""
   ]
  },
  {
   "cell_type": "code",
   "execution_count": 20,
   "id": "0dedad4c",
   "metadata": {},
   "outputs": [
    {
     "name": "stdout",
     "output_type": "stream",
     "text": [
      "Maimoona\n",
      "khilji\n",
      "23\n"
     ]
    }
   ],
   "source": [
    "# Storing Multiple Values\n",
    "\n",
    "First_name = \"Maimoona\"\n",
    "Last_Name = \"khilji\"\n",
    "Age = 23\n",
    "\n",
    "print(First_name)\n",
    "print(Last_Name)\n",
    "print(Age)"
   ]
  },
  {
   "cell_type": "code",
   "execution_count": 21,
   "id": "026fa17d",
   "metadata": {},
   "outputs": [
    {
     "name": "stdout",
     "output_type": "stream",
     "text": [
      "Maimoona\n",
      "Khilji\n",
      "23\n"
     ]
    }
   ],
   "source": [
    "First_name ,Last_Name , Age = \"Maimoona\", \"Khilji\", 23\n",
    "\n",
    "print(First_name)\n",
    "print(Last_Name)\n",
    "print(Age)"
   ]
  },
  {
   "cell_type": "markdown",
   "id": "9092794a",
   "metadata": {},
   "source": [
    " ### Data types\n",
    " \n",
    "For single value-Variable:\n",
    "\n",
    "     - String\n",
    "     - Boolean\n",
    "     - Integer\n",
    "     - Float\n",
    "     \n",
    "For Multiple value-Variable:\n",
    "  \n",
    "     - list, set, dictionary for storing multiple data values\n",
    "     "
   ]
  },
  {
   "cell_type": "code",
   "execution_count": 22,
   "id": "8399612b",
   "metadata": {},
   "outputs": [],
   "source": [
    "Full_name =\"Maimoona Khilji\"  # String or str\n",
    "enrollment = True             # Boolean (True or False)\n",
    "\n",
    "# Numeric\n",
    "Batch = 1          #int = discrete value of exact digit                     \n",
    "Score = 95.5      #float = Decimal\n",
    "complex_data = 3 + 4j  #complex "
   ]
  },
  {
   "cell_type": "code",
   "execution_count": 23,
   "id": "56baf6a4",
   "metadata": {},
   "outputs": [
    {
     "data": {
      "text/plain": [
       "float"
      ]
     },
     "execution_count": 23,
     "metadata": {},
     "output_type": "execute_result"
    }
   ],
   "source": [
    "type(Score)"
   ]
  },
  {
   "cell_type": "code",
   "execution_count": 24,
   "id": "a5e4fcb8",
   "metadata": {},
   "outputs": [
    {
     "data": {
      "text/plain": [
       "complex"
      ]
     },
     "execution_count": 24,
     "metadata": {},
     "output_type": "execute_result"
    }
   ],
   "source": [
    "type(complex_data)"
   ]
  },
  {
   "cell_type": "code",
   "execution_count": 25,
   "id": "1e05e60e",
   "metadata": {},
   "outputs": [
    {
     "data": {
      "text/plain": [
       "str"
      ]
     },
     "execution_count": 25,
     "metadata": {},
     "output_type": "execute_result"
    }
   ],
   "source": [
    "type(Full_name)"
   ]
  },
  {
   "cell_type": "code",
   "execution_count": 26,
   "id": "3240b295",
   "metadata": {},
   "outputs": [
    {
     "data": {
      "text/plain": [
       "bool"
      ]
     },
     "execution_count": 26,
     "metadata": {},
     "output_type": "execute_result"
    }
   ],
   "source": [
    "type(enrollment)"
   ]
  },
  {
   "cell_type": "code",
   "execution_count": 27,
   "id": "2441a3bc",
   "metadata": {},
   "outputs": [
    {
     "data": {
      "text/plain": [
       "int"
      ]
     },
     "execution_count": 27,
     "metadata": {},
     "output_type": "execute_result"
    }
   ],
   "source": [
    "type(Batch)"
   ]
  },
  {
   "cell_type": "code",
   "execution_count": 28,
   "id": "c783b1de",
   "metadata": {},
   "outputs": [
    {
     "data": {
      "text/plain": [
       "bool"
      ]
     },
     "execution_count": 28,
     "metadata": {},
     "output_type": "execute_result"
    }
   ],
   "source": [
    "enrollment = True             # Boolean (True or False)\n",
    "type(enrollment)"
   ]
  },
  {
   "cell_type": "code",
   "execution_count": 29,
   "id": "34772246",
   "metadata": {},
   "outputs": [
    {
     "data": {
      "text/plain": [
       "int"
      ]
     },
     "execution_count": 29,
     "metadata": {},
     "output_type": "execute_result"
    }
   ],
   "source": [
    "batch = 1\n",
    "type(batch)"
   ]
  },
  {
   "cell_type": "markdown",
   "id": "19878ff8",
   "metadata": {},
   "source": [
    "### Data Type Conversions"
   ]
  },
  {
   "cell_type": "code",
   "execution_count": 30,
   "id": "32a871ea",
   "metadata": {},
   "outputs": [
    {
     "name": "stdout",
     "output_type": "stream",
     "text": [
      "Height:  3.5 <class 'str'>\n",
      "Width:  5 <class 'str'>\n"
     ]
    }
   ],
   "source": [
    "Height = \"3.5\"\n",
    "Width = \"5\"\n",
    "\n",
    "print(\"Height: \", Height, type (Height))\n",
    "print(\"Width: \", Width, type (Width))\n"
   ]
  },
  {
   "cell_type": "code",
   "execution_count": 31,
   "id": "f95a693e",
   "metadata": {},
   "outputs": [
    {
     "data": {
      "text/plain": [
       "False"
      ]
     },
     "execution_count": 31,
     "metadata": {},
     "output_type": "execute_result"
    }
   ],
   "source": [
    "# Python Functions for converting the data type\n",
    "int()\n",
    "str()\n",
    "float()\n",
    "bool()"
   ]
  },
  {
   "cell_type": "code",
   "execution_count": 32,
   "id": "d0da250d",
   "metadata": {},
   "outputs": [
    {
     "name": "stdout",
     "output_type": "stream",
     "text": [
      "Height:  3.5 <class 'float'>\n",
      "Width:  5 <class 'int'>\n"
     ]
    }
   ],
   "source": [
    "Height = float(\"3.5\")   # Str - > Float\n",
    "Width = int(\"5\")      # Str -> int\n",
    "\n",
    "print(\"Height: \", Height, type (Height))\n",
    "print(\"Width: \", Width, type (Width))\n"
   ]
  },
  {
   "cell_type": "code",
   "execution_count": 33,
   "id": "6c20dc30",
   "metadata": {},
   "outputs": [
    {
     "data": {
      "text/plain": [
       "str"
      ]
     },
     "execution_count": 33,
     "metadata": {},
     "output_type": "execute_result"
    }
   ],
   "source": [
    "data = str(9232190909090)\n",
    "\n",
    "type(data)"
   ]
  },
  {
   "cell_type": "code",
   "execution_count": 34,
   "id": "ff545bc6",
   "metadata": {},
   "outputs": [
    {
     "data": {
      "text/plain": [
       "'9232190909090'"
      ]
     },
     "execution_count": 34,
     "metadata": {},
     "output_type": "execute_result"
    }
   ],
   "source": [
    "data"
   ]
  },
  {
   "cell_type": "code",
   "execution_count": 35,
   "id": "f6dcb1b2",
   "metadata": {},
   "outputs": [
    {
     "data": {
      "text/plain": [
       "bool"
      ]
     },
     "execution_count": 35,
     "metadata": {},
     "output_type": "execute_result"
    }
   ],
   "source": [
    "Enrollment = bool(1)  # 1= Yes and 0 = No\n",
    "\n",
    "type(Enrollment)"
   ]
  },
  {
   "cell_type": "code",
   "execution_count": 36,
   "id": "1e7ebc59",
   "metadata": {},
   "outputs": [
    {
     "data": {
      "text/plain": [
       "True"
      ]
     },
     "execution_count": 36,
     "metadata": {},
     "output_type": "execute_result"
    }
   ],
   "source": [
    "Enrollment"
   ]
  },
  {
   "cell_type": "code",
   "execution_count": 37,
   "id": "6b8819cf",
   "metadata": {},
   "outputs": [
    {
     "name": "stdout",
     "output_type": "stream",
     "text": [
      "a:  500 <class 'int'>\n",
      "a:  True <class 'bool'>\n"
     ]
    }
   ],
   "source": [
    "a = 500\n",
    "\n",
    "print(\"a: \",a,type(a))\n",
    "\n",
    "\n",
    "\n",
    "a = bool(a)\n",
    "\n",
    "print(\"a: \",a,type(a))"
   ]
  },
  {
   "cell_type": "code",
   "execution_count": 38,
   "id": "42783d37",
   "metadata": {},
   "outputs": [
    {
     "data": {
      "text/plain": [
       "bool"
      ]
     },
     "execution_count": 38,
     "metadata": {},
     "output_type": "execute_result"
    }
   ],
   "source": [
    "type(a)"
   ]
  },
  {
   "cell_type": "code",
   "execution_count": 39,
   "id": "557e2532",
   "metadata": {},
   "outputs": [
    {
     "data": {
      "text/plain": [
       "True"
      ]
     },
     "execution_count": 39,
     "metadata": {},
     "output_type": "execute_result"
    }
   ],
   "source": [
    "bool(-10000)"
   ]
  },
  {
   "cell_type": "code",
   "execution_count": 40,
   "id": "7a9e4630",
   "metadata": {},
   "outputs": [],
   "source": [
    "# Value = 0 Then False\n",
    "# Value > 0  or Value < 0 Then True "
   ]
  },
  {
   "cell_type": "code",
   "execution_count": 41,
   "id": "127e6b9e",
   "metadata": {},
   "outputs": [
    {
     "data": {
      "text/plain": [
       "True"
      ]
     },
     "execution_count": 41,
     "metadata": {},
     "output_type": "execute_result"
    }
   ],
   "source": [
    "bool(\"ahbjsln\")"
   ]
  },
  {
   "cell_type": "code",
   "execution_count": 42,
   "id": "02613dda",
   "metadata": {},
   "outputs": [
    {
     "data": {
      "text/plain": [
       "4"
      ]
     },
     "execution_count": 42,
     "metadata": {},
     "output_type": "execute_result"
    }
   ],
   "source": [
    "int(4.5)"
   ]
  },
  {
   "cell_type": "code",
   "execution_count": 43,
   "id": "c602122c",
   "metadata": {},
   "outputs": [
    {
     "data": {
      "text/plain": [
       "2.0"
      ]
     },
     "execution_count": 43,
     "metadata": {},
     "output_type": "execute_result"
    }
   ],
   "source": [
    "float(2)"
   ]
  },
  {
   "cell_type": "code",
   "execution_count": 44,
   "id": "78e23036",
   "metadata": {},
   "outputs": [
    {
     "data": {
      "text/plain": [
       "2.5"
      ]
     },
     "execution_count": 44,
     "metadata": {},
     "output_type": "execute_result"
    }
   ],
   "source": [
    "float(\"2.5\")"
   ]
  },
  {
   "cell_type": "code",
   "execution_count": 45,
   "id": "21325048",
   "metadata": {},
   "outputs": [
    {
     "ename": "ValueError",
     "evalue": "invalid literal for int() with base 10: '2.5'",
     "output_type": "error",
     "traceback": [
      "\u001b[1;31m---------------------------------------------------------------------------\u001b[0m",
      "\u001b[1;31mValueError\u001b[0m                                Traceback (most recent call last)",
      "Cell \u001b[1;32mIn[45], line 4\u001b[0m\n\u001b[0;32m      1\u001b[0m \u001b[38;5;66;03m# If you want to convert float-string into int\u001b[39;00m\n\u001b[0;32m      2\u001b[0m \u001b[38;5;66;03m#  Str -> float - > int\u001b[39;00m\n\u001b[1;32m----> 4\u001b[0m \u001b[38;5;28mint\u001b[39m(\u001b[38;5;124m\"\u001b[39m\u001b[38;5;124m2.5\u001b[39m\u001b[38;5;124m\"\u001b[39m)\n",
      "\u001b[1;31mValueError\u001b[0m: invalid literal for int() with base 10: '2.5'"
     ]
    }
   ],
   "source": [
    "# If you want to convert float-string into int\n",
    "#  Str -> float - > int\n",
    "\n",
    "int(\"2.5\")"
   ]
  },
  {
   "cell_type": "code",
   "execution_count": null,
   "id": "0517c586",
   "metadata": {},
   "outputs": [],
   "source": [
    "a = \"2.5\"\n",
    "\n",
    "a = float(a)\n",
    " \n",
    "a = int(a)\n",
    "\n",
    "print(a,type(a))"
   ]
  },
  {
   "cell_type": "code",
   "execution_count": null,
   "id": "249fdf09",
   "metadata": {},
   "outputs": [],
   "source": [
    "int(float(\"2.5\"))"
   ]
  },
  {
   "cell_type": "markdown",
   "id": "11a0a6fd",
   "metadata": {},
   "source": [
    "### User Input"
   ]
  },
  {
   "cell_type": "code",
   "execution_count": null,
   "id": "08e899b4",
   "metadata": {},
   "outputs": [],
   "source": [
    "print(\"Welcome to this application!\")"
   ]
  },
  {
   "cell_type": "code",
   "execution_count": null,
   "id": "f5ff4daf",
   "metadata": {},
   "outputs": [],
   "source": [
    "Name = input(\"Enter your Name: \")\n",
    "print(\"Welcome\",Name, \"to this application!\")"
   ]
  },
  {
   "cell_type": "code",
   "execution_count": null,
   "id": "f8c54011",
   "metadata": {},
   "outputs": [],
   "source": [
    "type(Name)"
   ]
  },
  {
   "cell_type": "code",
   "execution_count": null,
   "id": "129be266",
   "metadata": {},
   "outputs": [],
   "source": [
    "Age = int(input(\"Enter your Age: \"))\n"
   ]
  },
  {
   "cell_type": "code",
   "execution_count": 46,
   "id": "dbda7515",
   "metadata": {},
   "outputs": [
    {
     "data": {
      "text/plain": [
       "int"
      ]
     },
     "execution_count": 46,
     "metadata": {},
     "output_type": "execute_result"
    }
   ],
   "source": [
    "type(Age)"
   ]
  },
  {
   "cell_type": "markdown",
   "id": "ad919326",
   "metadata": {},
   "source": [
    "## Arithmetic Operations"
   ]
  },
  {
   "cell_type": "code",
   "execution_count": 47,
   "id": "e3899aa3",
   "metadata": {},
   "outputs": [],
   "source": [
    "num1 = 100\n",
    "num2 = 25"
   ]
  },
  {
   "cell_type": "code",
   "execution_count": 48,
   "id": "df3eb338",
   "metadata": {},
   "outputs": [
    {
     "name": "stdout",
     "output_type": "stream",
     "text": [
      "Addition:  125\n"
     ]
    }
   ],
   "source": [
    "print(\"Addition: \", num1 + num2)"
   ]
  },
  {
   "cell_type": "code",
   "execution_count": 49,
   "id": "c26726c7",
   "metadata": {},
   "outputs": [
    {
     "name": "stdout",
     "output_type": "stream",
     "text": [
      "Subtraction:  75\n"
     ]
    }
   ],
   "source": [
    "print(\"Subtraction: \", num1 - num2)"
   ]
  },
  {
   "cell_type": "code",
   "execution_count": 50,
   "id": "4a49947c",
   "metadata": {},
   "outputs": [
    {
     "name": "stdout",
     "output_type": "stream",
     "text": [
      "Multiplication:  2500\n"
     ]
    }
   ],
   "source": [
    "print(\"Multiplication: \",num1 * num2)"
   ]
  },
  {
   "cell_type": "code",
   "execution_count": 51,
   "id": "325890da",
   "metadata": {},
   "outputs": [
    {
     "name": "stdout",
     "output_type": "stream",
     "text": [
      "Division:  4.16\n"
     ]
    }
   ],
   "source": [
    "print(\"Division: \", 104 / 25)"
   ]
  },
  {
   "cell_type": "code",
   "execution_count": 52,
   "id": "f9b3dadf",
   "metadata": {},
   "outputs": [
    {
     "name": "stdout",
     "output_type": "stream",
     "text": [
      "Floor:  4\n"
     ]
    }
   ],
   "source": [
    "print(\"Floor: \", 104 // 25)"
   ]
  },
  {
   "cell_type": "code",
   "execution_count": 53,
   "id": "7d8a1f4d",
   "metadata": {},
   "outputs": [
    {
     "name": "stdout",
     "output_type": "stream",
     "text": [
      "100\n",
      "25\n"
     ]
    }
   ],
   "source": [
    "print(num1)\n",
    "print(num2)"
   ]
  },
  {
   "cell_type": "code",
   "execution_count": 54,
   "id": "0d2e3c01",
   "metadata": {},
   "outputs": [
    {
     "name": "stdout",
     "output_type": "stream",
     "text": [
      "Exponential:  8\n"
     ]
    }
   ],
   "source": [
    "print(\"Exponential: \", 2**3)  #2^3 = 2 x2 x2"
   ]
  },
  {
   "cell_type": "code",
   "execution_count": 55,
   "id": "9b5e19ca",
   "metadata": {
    "scrolled": true
   },
   "outputs": [
    {
     "name": "stdout",
     "output_type": "stream",
     "text": [
      "Remainder:  9\n"
     ]
    }
   ],
   "source": [
    "print(\"Remainder: \",49 % 10)"
   ]
  },
  {
   "cell_type": "markdown",
   "id": "a37822a2",
   "metadata": {},
   "source": [
    "## Comparison operators"
   ]
  },
  {
   "cell_type": "code",
   "execution_count": 56,
   "id": "d6754c65",
   "metadata": {},
   "outputs": [],
   "source": [
    "# less than < \n",
    "# less than or equal <= \n",
    "\n",
    "# greater than   >\n",
    "# greater than or equal   >=\n",
    "\n",
    "# equal ==\n",
    "# Not equal !="
   ]
  },
  {
   "cell_type": "code",
   "execution_count": 57,
   "id": "b61bb593",
   "metadata": {},
   "outputs": [
    {
     "name": "stdout",
     "output_type": "stream",
     "text": [
      "less than?  False\n"
     ]
    }
   ],
   "source": [
    "print(\"less than? \", 8 < 5)"
   ]
  },
  {
   "cell_type": "code",
   "execution_count": 58,
   "id": "14aa3c87",
   "metadata": {},
   "outputs": [
    {
     "name": "stdout",
     "output_type": "stream",
     "text": [
      "less than or equal?  True\n"
     ]
    }
   ],
   "source": [
    "print(\"less than or equal? \", 5 <= 5)   # 5 <5 ?   or 5 == 5 ?"
   ]
  },
  {
   "cell_type": "code",
   "execution_count": 59,
   "id": "9840607a",
   "metadata": {},
   "outputs": [
    {
     "name": "stdout",
     "output_type": "stream",
     "text": [
      "greater than?  False\n"
     ]
    }
   ],
   "source": [
    "print(\"greater than? \", 5 >8 )"
   ]
  },
  {
   "cell_type": "code",
   "execution_count": 60,
   "id": "5bb74236",
   "metadata": {},
   "outputs": [
    {
     "name": "stdout",
     "output_type": "stream",
     "text": [
      "greater than or equal?  True\n"
     ]
    }
   ],
   "source": [
    "print(\"greater than or equal? \", 8 >= 8 )"
   ]
  },
  {
   "cell_type": "code",
   "execution_count": 61,
   "id": "4321d47a",
   "metadata": {},
   "outputs": [
    {
     "name": "stdout",
     "output_type": "stream",
     "text": [
      "Equal?  False\n"
     ]
    }
   ],
   "source": [
    "print(\"Equal? \", 4==3)"
   ]
  },
  {
   "cell_type": "code",
   "execution_count": 62,
   "id": "8f140db5",
   "metadata": {},
   "outputs": [
    {
     "name": "stdout",
     "output_type": "stream",
     "text": [
      "Not equal? True\n"
     ]
    }
   ],
   "source": [
    "print(\"Not equal?\", 4 != 3)"
   ]
  },
  {
   "cell_type": "code",
   "execution_count": 63,
   "id": "da4dd591",
   "metadata": {},
   "outputs": [
    {
     "data": {
      "text/plain": [
       "True"
      ]
     },
     "execution_count": 63,
     "metadata": {},
     "output_type": "execute_result"
    }
   ],
   "source": [
    "3 < 4"
   ]
  },
  {
   "cell_type": "code",
   "execution_count": 64,
   "id": "89b00bea",
   "metadata": {},
   "outputs": [
    {
     "data": {
      "text/plain": [
       "True"
      ]
     },
     "execution_count": 64,
     "metadata": {},
     "output_type": "execute_result"
    }
   ],
   "source": [
    "int(\"3\") < 4    #make sure to convert string into int or float for comparison"
   ]
  },
  {
   "cell_type": "markdown",
   "id": "8d9b22f7",
   "metadata": {},
   "source": [
    "### Logical operators"
   ]
  },
  {
   "cell_type": "code",
   "execution_count": 65,
   "id": "088318de",
   "metadata": {},
   "outputs": [],
   "source": [
    "# and \n",
    "# or\n",
    "# not"
   ]
  },
  {
   "cell_type": "markdown",
   "id": "7e481507",
   "metadata": {},
   "source": [
    "And\n",
    "\n",
    "    - True True = True\n",
    "    - True False = False\n",
    "    - False True = False\n",
    "    - False False = False"
   ]
  },
  {
   "cell_type": "code",
   "execution_count": 66,
   "id": "ec206ae5",
   "metadata": {},
   "outputs": [
    {
     "name": "stdout",
     "output_type": "stream",
     "text": [
      "False\n"
     ]
    }
   ],
   "source": [
    "print( 1< 5 and 1 >2 )"
   ]
  },
  {
   "cell_type": "markdown",
   "id": "33fa4101",
   "metadata": {},
   "source": [
    "Or\n",
    "    \n",
    "    - True True = True\n",
    "    - True False = True\n",
    "    - False True = True\n",
    "    - False Fasle = False"
   ]
  },
  {
   "cell_type": "code",
   "execution_count": 67,
   "id": "c17eece8",
   "metadata": {},
   "outputs": [
    {
     "name": "stdout",
     "output_type": "stream",
     "text": [
      "True\n"
     ]
    }
   ],
   "source": [
    "print( 1< 5 or 1 >2 )"
   ]
  },
  {
   "cell_type": "code",
   "execution_count": 68,
   "id": "35c41096",
   "metadata": {},
   "outputs": [
    {
     "name": "stdout",
     "output_type": "stream",
     "text": [
      "True\n"
     ]
    }
   ],
   "source": [
    "print( not  1 > 2)"
   ]
  },
  {
   "cell_type": "markdown",
   "id": "7cac7d12",
   "metadata": {},
   "source": [
    "# The End!\n",
    "## The End!\n",
    "### The End!\n",
    "#### The End!\n",
    "##### The End!\n",
    "**The End!**"
   ]
  },
  {
   "cell_type": "markdown",
   "id": "6c6c2336",
   "metadata": {},
   "source": [
    "# Practice Questions"
   ]
  },
  {
   "cell_type": "markdown",
   "id": "8d50a826",
   "metadata": {},
   "source": [
    "Write a Python program that declares three variables: name, age, and country, and then prints them out in a single line."
   ]
  },
  {
   "cell_type": "code",
   "execution_count": null,
   "id": "e4975aff",
   "metadata": {},
   "outputs": [],
   "source": []
  },
  {
   "cell_type": "markdown",
   "id": "5fc8e8e4",
   "metadata": {},
   "source": [
    "Write a program that prompts the user for their name and then greets them \n",
    "(hint: store the user input in a variable and then use that variable to print out a greeting + name)\n"
   ]
  },
  {
   "cell_type": "code",
   "execution_count": null,
   "id": "66ba48c0",
   "metadata": {},
   "outputs": [],
   "source": []
  },
  {
   "cell_type": "markdown",
   "id": "e23afc89",
   "metadata": {},
   "source": [
    "Display the result of 7 multiplied by 8 using the print() function."
   ]
  },
  {
   "cell_type": "code",
   "execution_count": null,
   "id": "96780770",
   "metadata": {},
   "outputs": [],
   "source": []
  },
  {
   "cell_type": "markdown",
   "id": "fdeb2d98",
   "metadata": {},
   "source": [
    "Ask the user for an input, store it in a variable, and then display its data type."
   ]
  },
  {
   "cell_type": "code",
   "execution_count": null,
   "id": "92c3fe04",
   "metadata": {},
   "outputs": [],
   "source": []
  }
 ],
 "metadata": {
  "kernelspec": {
   "display_name": "Python 3 (ipykernel)",
   "language": "python",
   "name": "python3"
  },
  "language_info": {
   "codemirror_mode": {
    "name": "ipython",
    "version": 3
   },
   "file_extension": ".py",
   "mimetype": "text/x-python",
   "name": "python",
   "nbconvert_exporter": "python",
   "pygments_lexer": "ipython3",
   "version": "3.11.5"
  }
 },
 "nbformat": 4,
 "nbformat_minor": 5
}
