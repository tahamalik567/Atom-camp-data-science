{
 "cells": [
  {
   "cell_type": "code",
   "execution_count": 1,
   "metadata": {},
   "outputs": [],
   "source": [
    "# Task 1: Variables and Data Types\n",
    "# a) Create three variables: one for storing your age (integer), one for your name (string), and one\n",
    "# to check if you are a student (Boolean). Print the variables.\n",
    "# b) Perform the following operations and print the results: - Add 25 to your age variable. -\n",
    "# Concatenate your name with the string \"Smith.\" - Negate the Boolean variable (if True, make it\n",
    "# False, and vice versa)\n",
    "age = 24\n",
    "name = \"Taha Malik\"\n",
    "is_student = True\n",
    "age += 25\n",
    "name = name + \" Smith\"\n",
    "is_student = not is_student\n",
    "\n"
   ]
  },
  {
   "cell_type": "code",
   "execution_count": 8,
   "metadata": {},
   "outputs": [
    {
     "name": "stdout",
     "output_type": "stream",
     "text": [
      "Python is a powerful programming language.\n",
      "42\n",
      "True\n",
      "Python is a versatile programming language.\n",
      "['Python', 'is', 'a', 'versatile', 'programming', 'language.']\n"
     ]
    }
   ],
   "source": [
    "# Task 2: String Manipulation\n",
    "# a) Create a string variable called \"sentence\" containing the sentence \"Python is a powerful\n",
    "# programming language.\" Print the sentence.\n",
    "# b) Count the number of characters in the \"sentence\" and print the result.\n",
    "# c) Check if the word \"Python\" is present in the \"sentence\" and print the result (True/False).\n",
    "# d) Replace the word \"powerful\" with \"versatile\" in the \"sentence\" and print the updated\n",
    "# sentence.\n",
    "# e) Split the \"sentence\" into a list of words and print the list.\n",
    "sentence = \"Python is a powerful programming language.\"\n",
    "print(sentence)\n",
    "print(len(sentence))\n",
    "print(\"Python\" in sentence)\n",
    "sentence = sentence.replace(\"powerful\",\"versatile\")\n",
    "print(sentence)\n",
    "list = sentence.split()\n",
    "print(list)"
   ]
  },
  {
   "cell_type": "code",
   "execution_count": 15,
   "metadata": {},
   "outputs": [
    {
     "name": "stdout",
     "output_type": "stream",
     "text": [
      "17.875\n",
      "95.0\n",
      "78.53975\n"
     ]
    }
   ],
   "source": [
    "# Task 3: Expressions and Operators\n",
    "# a) A rectangle has a width of 5.5 units and a height of 3.25 units. Store width and height in\n",
    "# variables. Create a new variable called area and write an expression to calculate the area. Print\n",
    "# the area in the output.\n",
    "width = 5.5\n",
    "height = 3.25\n",
    "area = width * height\n",
    "print(area)\n",
    "# b) Create a temperature variable in Celsius. Convert it to Fahrenheit using the formula: F = (C *\n",
    "# 9/5) + 32. Store this temperature in a variable called Fahrenheit and print this variable. \n",
    "temprature = 35\n",
    "fahrenheit = (temprature * 9/5) + 32\n",
    "print(fahrenheit)\n",
    "# a) Create a variable called radius and give it a value of 5. Calculate the area of a circle with this radius\n",
    "# and store it in a variable called area. Print area at the end of your code. (Use the formula: area =\n",
    "# π * radius^2, where π (pi) is approximately 3.14159).\n",
    "radius = 5\n",
    "area = 3.14159 * radius**2 \n",
    "print(area)"
   ]
  },
  {
   "cell_type": "code",
   "execution_count": 19,
   "metadata": {},
   "outputs": [
    {
     "name": "stdout",
     "output_type": "stream",
     "text": [
      "['apple', 'banana', 'orange', 'grape', 'kiwi']\n",
      "['apple', 'banana', 'orange', 'grape', 'kiwi', 'carrot', 'lettuce', 'tomato', 'broccoli', 'spinach']\n",
      "['apple', 'banana', 'broccoli', 'carrot', 'grape', 'kiwi', 'lettuce', 'orange', 'spinach', 'tomato']\n",
      "['apple', 'orange', 'grape', 'kiwi']\n"
     ]
    }
   ],
   "source": [
    "# Task 4: Introduction to Data Structures\n",
    "# List\n",
    "# a) Create a list called \"fruits\" containing the following fruits: \"apple,\" \"banana,\" \"orange,\"\n",
    "# \"grape,\" and \"kiwi.\" Print the list.\n",
    "fruits = [\"apple\",\"banana\",\"orange\",\"grape\",\"kiwi\"]\n",
    "print(fruits)\n",
    "# b) Create another list called \"vegetables\" containing the following vegetables: \"carrot,\" \"lettuce,\"\n",
    "# \"tomato,\" \"broccoli,\" and \"spinach.\" Print the list.\n",
    "vegetables = [\"carrot\",\"lettuce\",\"tomato\",\"broccoli\",\"spinach\"]\n",
    "# c) Concatenate the \"fruits\" list with the \"vegetables\" list and store the result in a new list called\n",
    "# \"groceries\". Print the \"groceries\" list.\n",
    "groceries = fruits + vegetables\n",
    "print(groceries)\n",
    "# d) Sort the \"groceries\" list in alphabetical order and print it.\n",
    "groceries.sort()\n",
    "print(groceries)\n",
    "# e) Remove the \"banana\" from the \"fruits\" list and print the updated \"fruits\" list.\n",
    "fruits.remove(\"banana\")\n",
    "print(fruits)\n",
    "\n"
   ]
  },
  {
   "cell_type": "code",
   "execution_count": 21,
   "metadata": {},
   "outputs": [
    {
     "name": "stdout",
     "output_type": "stream",
     "text": [
      "('red', 'blue', 'green')\n",
      "blue\n",
      "('January', 'February', 'March', 'April', 'May', 'June', 'July', 'August', 'September', 'October', 'November', 'December', 'red', 'blue', 'green')\n"
     ]
    }
   ],
   "source": [
    "# Tuple\n",
    "# a) Create a tuple named \"colors\" with the names of three colors of your choice. Print the tuple.\n",
    "colors = (\"red\", \"blue\", \"green\")\n",
    "print(colors)\n",
    "# b) Access the second element of the \"colors\" tuple and print it.\n",
    "print(colors[1])\n",
    "# c) Concatenate the \"months\" tuple with the \"colors\" tuple and store the result in a new tuple\n",
    "# called \"combined_tuple\". Print the \"combined_tuple\".\n",
    "months = (\"January\", \"February\", \"March\", \"April\", \"May\", \"June\", \"July\", \"August\", \"September\", \"October\", \"November\", \"December\")\n",
    "combined_tuple = months + colors\n",
    "print(combined_tuple)"
   ]
  }
 ],
 "metadata": {
  "kernelspec": {
   "display_name": "Python 3",
   "language": "python",
   "name": "python3"
  },
  "language_info": {
   "codemirror_mode": {
    "name": "ipython",
    "version": 3
   },
   "file_extension": ".py",
   "mimetype": "text/x-python",
   "name": "python",
   "nbconvert_exporter": "python",
   "pygments_lexer": "ipython3",
   "version": "3.11.4"
  }
 },
 "nbformat": 4,
 "nbformat_minor": 2
}
