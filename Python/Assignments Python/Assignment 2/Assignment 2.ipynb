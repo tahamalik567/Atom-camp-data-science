{
 "cells": [
  {
   "cell_type": "code",
   "execution_count": 18,
   "metadata": {},
   "outputs": [
    {
     "name": "stdout",
     "output_type": "stream",
     "text": [
      "1\n",
      "3\n",
      "6\n",
      "10\n",
      "15\n",
      "21\n",
      "28\n",
      "36\n",
      "45\n",
      "55\n",
      "Pandas\n",
      "Numpy\n",
      "Python\n"
     ]
    }
   ],
   "source": [
    "'''Task 01:\n",
    "Question 01: Write a for loop that calculates the sum of numbers from 1 to 10.'''\n",
    "save = 0\n",
    "for i in range(1,11):\n",
    "    save = save + i\n",
    "    print(save)\n",
    "\n",
    "'''Question 02: Print the items of the list [“Python”, “Numpy”, “Pandas”] in reverse order\n",
    "using a for loop.'''\n",
    "list = ['Python', 'Numpy', 'Pandas']\n",
    "for i in range(len(list)-1,-1,-1):\n",
    "    print(list[i])\n",
    " "
   ]
  },
  {
   "cell_type": "code",
   "execution_count": 30,
   "metadata": {},
   "outputs": [
    {
     "name": "stdout",
     "output_type": "stream",
     "text": [
      "Number is =  1\n",
      "Your gussed number is =  1\n",
      "You Win\n"
     ]
    }
   ],
   "source": [
    "'''Task 02:\n",
    "Question 01: Implement a guessing game with a while loop where the user\n",
    "has to guess a set number (e.g., 3). The loop terminates once the user\n",
    "guesses correctly.'''\n",
    "import random\n",
    "answer = int(input(\"guess number form 0 - 3\"))\n",
    "rand_num = random.randint(0,3)\n",
    "print(\"Number is = \",rand_num)\n",
    "print(\"Your gussed number is = \",answer)\n",
    "if rand_num == answer :\n",
    "    print(\"You Win\")\n",
    "else:\n",
    "    print(\"You Lose\")"
   ]
  },
  {
   "cell_type": "code",
   "execution_count": 2,
   "metadata": {},
   "outputs": [
    {
     "name": "stdout",
     "output_type": "stream",
     "text": [
      "['taha', 'malik']\n"
     ]
    }
   ],
   "source": [
    "'''Question 02: Write a while loop that asks for user input and adds it to a list.\n",
    "Exit the loop when the user types \"done\".'''\n",
    "\n",
    "\n",
    "# list = []\n",
    "# stop = True\n",
    "# while stop:\n",
    "#     val = input(\"add item to list\")\n",
    "#     if val == \"done\":\n",
    "#         break\n",
    "#     list.append(val)\n",
    "#     print(list)\n",
    "    \n",
    "user_input = ''\n",
    "user_list = []\n",
    "while user_input != \"done\":\n",
    "    user_input = input(\"Enter val for list\")\n",
    "    if user_input != 'done':\n",
    "        user_list.append(user_input)\n",
    "        \n",
    "print(user_list)"
   ]
  },
  {
   "cell_type": "code",
   "execution_count": 3,
   "metadata": {},
   "outputs": [
    {
     "name": "stdout",
     "output_type": "stream",
     "text": [
      "2\n",
      "4\n",
      "6\n",
      "8\n",
      "10\n",
      "12\n",
      "14\n",
      "16\n",
      "18\n",
      "20\n"
     ]
    }
   ],
   "source": [
    "'''Task 03:\n",
    "Question 01: Write a function that prints all even numbers between 1 and 20.'''\n",
    "def print_even_numbers():\n",
    "    for i in range(1,21):\n",
    "        if i % 2 == 0:\n",
    "            print(i)\n",
    "\n",
    "print_even_numbers()\n"
   ]
  },
  {
   "cell_type": "code",
   "execution_count": 4,
   "metadata": {},
   "outputs": [
    {
     "name": "stdout",
     "output_type": "stream",
     "text": [
      "4\n"
     ]
    }
   ],
   "source": [
    "'''Question\n",
    "02: Write a function that takes a list and a number as arguments and returns.'''\n",
    "def my_function(list, number):\n",
    "    return list[number]\n",
    "\n",
    "print(my_function([1,2,3,4,5], 3))"
   ]
  },
  {
   "cell_type": "code",
   "execution_count": 7,
   "metadata": {},
   "outputs": [
    {
     "name": "stdout",
     "output_type": "stream",
     "text": [
      "invalid operation enter only \"add\", \"subtract\", \"multiply\", \"divide\"\n",
      "None\n"
     ]
    }
   ],
   "source": [
    "'''Question 03: Write a function calculator that takes three arguments: two numbers and an\n",
    "operation (as a string, e.g., \"add\", \"subtract\", \"multiply\", \"divide\") and returns the result\n",
    "of the operation.'''\n",
    "def funtion(num1,num2,operation):\n",
    "    operation = operation.lower()\n",
    "    if operation == \"add\":\n",
    "        return num1 + num2\n",
    "    if operation == \"subtract\":\n",
    "        return num1 - num2\n",
    "    if operation == 'multiply':\n",
    "        return num1 * num2\n",
    "    if operation == 'divide':\n",
    "        return num1 / num2\n",
    "    print('invalid operation enter only \"add\", \"subtract\", \"multiply\", \"divide\"')\n",
    "    \n",
    "print(funtion(2,3,\"aadd\"))\n",
    "        \n",
    "    "
   ]
  },
  {
   "cell_type": "code",
   "execution_count": 8,
   "metadata": {},
   "outputs": [
    {
     "name": "stdout",
     "output_type": "stream",
     "text": [
      "10\n"
     ]
    }
   ],
   "source": [
    "'''Question 04: Write a function that takes a list of numbers and returns the maximum\n",
    "number in the list?'''\n",
    "def funtion_max(list):\n",
    "    return max(list)\n",
    "\n",
    "print(funtion_max([1,2,3,4,5,6,7,8,9,10]))"
   ]
  },
  {
   "cell_type": "code",
   "execution_count": 9,
   "metadata": {},
   "outputs": [
    {
     "name": "stdout",
     "output_type": "stream",
     "text": [
      "6\n"
     ]
    }
   ],
   "source": [
    "'''Question 05: Create a lambda function that takes two numbers and returns their product.'''\n",
    "product = lambda num1, num2: num1 * num2\n",
    "print(product(2,3))\n"
   ]
  },
  {
   "cell_type": "code",
   "execution_count": 10,
   "metadata": {},
   "outputs": [
    {
     "name": "stdout",
     "output_type": "stream",
     "text": [
      "[2, 4, 6, 8, 10]\n"
     ]
    }
   ],
   "source": [
    "'''Question 06: Write a function that takes a list and returns a new list containing only the\n",
    "even numbers from the original list.'''\n",
    "def funtion(list):\n",
    "    return [i for i in list if i % 2 == 0]\n",
    "\n",
    "print(funtion([1,2,3,4,5,6,7,8,9,10]))"
   ]
  }
 ],
 "metadata": {
  "kernelspec": {
   "display_name": "Python 3",
   "language": "python",
   "name": "python3"
  },
  "language_info": {
   "codemirror_mode": {
    "name": "ipython",
    "version": 3
   },
   "file_extension": ".py",
   "mimetype": "text/x-python",
   "name": "python",
   "nbconvert_exporter": "python",
   "pygments_lexer": "ipython3",
   "version": "3.10.11"
  }
 },
 "nbformat": 4,
 "nbformat_minor": 2
}
