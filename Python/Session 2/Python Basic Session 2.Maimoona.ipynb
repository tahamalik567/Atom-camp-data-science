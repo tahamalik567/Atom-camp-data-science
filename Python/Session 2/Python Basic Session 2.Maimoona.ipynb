{
 "cells": [
  {
   "cell_type": "code",
   "execution_count": 1,
   "id": "8d05bfec",
   "metadata": {},
   "outputs": [
    {
     "name": "stdout",
     "output_type": "stream",
     "text": [
      "2\n",
      "4\n"
     ]
    }
   ],
   "source": [
    "# Variables and updates\n",
    "\n",
    "num = 2\n",
    "print(num)\n",
    "\n",
    "num = num + 2\n",
    "print(num)"
   ]
  },
  {
   "cell_type": "code",
   "execution_count": 2,
   "id": "b862a228",
   "metadata": {},
   "outputs": [],
   "source": [
    "num = 2\n",
    "num += 2"
   ]
  },
  {
   "cell_type": "code",
   "execution_count": 3,
   "id": "7b3edf2f",
   "metadata": {},
   "outputs": [
    {
     "name": "stdout",
     "output_type": "stream",
     "text": [
      "4\n"
     ]
    }
   ],
   "source": [
    "print(num)"
   ]
  },
  {
   "cell_type": "code",
   "execution_count": 4,
   "id": "7d20f58e",
   "metadata": {},
   "outputs": [
    {
     "name": "stdout",
     "output_type": "stream",
     "text": [
      "15\n"
     ]
    }
   ],
   "source": [
    "num = 20\n",
    "num -= 5\n",
    "print(num)"
   ]
  },
  {
   "cell_type": "markdown",
   "id": "a1fe04d0",
   "metadata": {},
   "source": [
    "## Conditional Statements\n",
    "\n",
    "If , else, elif\n",
    "\n",
    "If (condition):\n",
    "    Result\n",
    "    \n",
    "Elif (condition2):\n",
    "    Result2\n",
    "\n",
    "Else:\n",
    "    print(Result3)"
   ]
  },
  {
   "cell_type": "markdown",
   "id": "0d252f49",
   "metadata": {},
   "source": [
    "## IF, Else, Elif"
   ]
  },
  {
   "cell_type": "code",
   "execution_count": 5,
   "id": "7bafed25",
   "metadata": {},
   "outputs": [
    {
     "name": "stdout",
     "output_type": "stream",
     "text": [
      "45\n"
     ]
    }
   ],
   "source": [
    "# If num < 5, then multiple it with 10, else return the same value\n",
    "\n",
    "num = 45\n",
    "\n",
    "if num < 5:\n",
    "    print(num * 10 )\n",
    "\n",
    "else:\n",
    "    print(num)\n",
    "    "
   ]
  },
  {
   "cell_type": "markdown",
   "id": "bcd3b73e",
   "metadata": {},
   "source": [
    "**Grading System**\n",
    "\n",
    "    A: 89 - 100\n",
    "    B: 70 - 88\n",
    "    C: 61 - 69\n",
    "    F: < 60\n"
   ]
  },
  {
   "cell_type": "code",
   "execution_count": 7,
   "id": "b0289536",
   "metadata": {},
   "outputs": [
    {
     "name": "stdout",
     "output_type": "stream",
     "text": [
      "Enter your score: 45\n",
      "Fail :(\n"
     ]
    }
   ],
   "source": [
    "score = int(input(\"Enter your score: \"))\n",
    "\n",
    "if score >=89:\n",
    "    print(\"Grade A\")\n",
    "\n",
    "elif score >=70:\n",
    "    print(\"Grade B\")\n",
    "    \n",
    "elif score >=60:\n",
    "    print(\"Grade C\")\n",
    "    \n",
    "else:\n",
    "    print(\"Fail :(\")"
   ]
  },
  {
   "cell_type": "code",
   "execution_count": 8,
   "id": "7ac38be8",
   "metadata": {},
   "outputs": [
    {
     "name": "stdout",
     "output_type": "stream",
     "text": [
      "What dish would you like to eat? ( pizza/ burger) Pizza\n",
      "pizza\n"
     ]
    }
   ],
   "source": [
    "#Restaurant System for ordering food\n",
    "\n",
    "dish = input(\"What dish would you like to eat? ( pizza/ burger) \").lower()\n",
    "\n",
    "if dish == \"burger\":\n",
    "    print(dish)\n",
    "elif dish == \"pizza\":\n",
    "    print(dish)\n",
    "else:\n",
    "    print(\"not found\")"
   ]
  },
  {
   "cell_type": "markdown",
   "id": "6ef7f811",
   "metadata": {},
   "source": [
    "## Nested IF\n"
   ]
  },
  {
   "cell_type": "code",
   "execution_count": 9,
   "id": "3bf89df9",
   "metadata": {},
   "outputs": [],
   "source": [
    "# When condition is dependendant n the other condition"
   ]
  },
  {
   "cell_type": "code",
   "execution_count": 11,
   "id": "5b80c574",
   "metadata": {},
   "outputs": [
    {
     "name": "stdout",
     "output_type": "stream",
     "text": [
      "What dish would you like to eat? ( pizza/ burger) Pizza\n",
      "How much many do you have? 2000\n",
      "Your order has been placed!\n"
     ]
    }
   ],
   "source": [
    "#Restaurant System for ordering food\n",
    "\n",
    "dish = input(\"What dish would you like to eat? ( pizza/ burger) \").lower()\n",
    "money = float(input(\"How much many do you have? \"))\n",
    "\n",
    "\n",
    "if dish == \"burger\":\n",
    "    if money >=500:\n",
    "        print(\"Your order has been placed!\")\n",
    "    else:\n",
    "        print(\"Sorry you don't have enough money\")\n",
    "        \n",
    "elif dish == \"pizza\":\n",
    "    if money >= 1000:\n",
    "         print(\"Your order has been placed!\")\n",
    "    else:\n",
    "        print(\"Sorry you don't have enough money\")\n",
    "    "
   ]
  },
  {
   "cell_type": "markdown",
   "id": "0a138898",
   "metadata": {},
   "source": [
    "## Sequence Data types\n",
    "\n",
    "    - String\n",
    "    - List\n",
    "    - Tuple\n",
    "    - Dictionary"
   ]
  },
  {
   "cell_type": "markdown",
   "id": "1a0030ae",
   "metadata": {},
   "source": [
    "## String\n",
    "    - Collection of characters \n",
    "    - They are immutable"
   ]
  },
  {
   "cell_type": "code",
   "execution_count": 12,
   "id": "69f58548",
   "metadata": {},
   "outputs": [
    {
     "name": "stdout",
     "output_type": "stream",
     "text": [
      "<class 'str'> <class 'str'> <class 'str'>\n"
     ]
    }
   ],
   "source": [
    "a = \"a\"\n",
    "b = \"apple\"\n",
    "c = \" apple is a fruit\"\n",
    "\n",
    "print(type(a),type(b),type(c))"
   ]
  },
  {
   "cell_type": "markdown",
   "id": "c0a6ff06",
   "metadata": {},
   "source": [
    "### String Indexing"
   ]
  },
  {
   "cell_type": "code",
   "execution_count": 13,
   "id": "76606202",
   "metadata": {},
   "outputs": [],
   "source": [
    "word = \"Apple\""
   ]
  },
  {
   "cell_type": "code",
   "execution_count": 14,
   "id": "9b046999",
   "metadata": {},
   "outputs": [
    {
     "data": {
      "text/plain": [
       "5"
      ]
     },
     "execution_count": 14,
     "metadata": {},
     "output_type": "execute_result"
    }
   ],
   "source": [
    "len(word)"
   ]
  },
  {
   "cell_type": "code",
   "execution_count": 15,
   "id": "f94a0240",
   "metadata": {},
   "outputs": [
    {
     "data": {
      "text/plain": [
       "'p'"
      ]
     },
     "execution_count": 15,
     "metadata": {},
     "output_type": "execute_result"
    }
   ],
   "source": [
    "# By default, python indexing starts from 0 \n",
    "# A p p l e\n",
    "# 0 1 2 3 4 \n",
    "\n",
    "\n",
    "word[2]"
   ]
  },
  {
   "cell_type": "code",
   "execution_count": 16,
   "id": "79b1f934",
   "metadata": {},
   "outputs": [
    {
     "name": "stdout",
     "output_type": "stream",
     "text": [
      "A\n",
      "p\n",
      "p\n",
      "l\n",
      "e\n"
     ]
    }
   ],
   "source": [
    "print(word[0])\n",
    "print(word[1])\n",
    "print(word[2])\n",
    "print(word[3])\n",
    "print(word[4])"
   ]
  },
  {
   "cell_type": "code",
   "execution_count": 17,
   "id": "71208f3a",
   "metadata": {},
   "outputs": [
    {
     "data": {
      "text/plain": [
       "'Apple'"
      ]
     },
     "execution_count": 17,
     "metadata": {},
     "output_type": "execute_result"
    }
   ],
   "source": [
    "word"
   ]
  },
  {
   "cell_type": "code",
   "execution_count": 18,
   "id": "908ea040",
   "metadata": {},
   "outputs": [
    {
     "data": {
      "text/plain": [
       "'e'"
      ]
     },
     "execution_count": 18,
     "metadata": {},
     "output_type": "execute_result"
    }
   ],
   "source": [
    "# Negative Indexing\n",
    "# A   p   p   l   e\n",
    "# -5 -4  -3  -2   -1 \n",
    "\n",
    "word[-1]"
   ]
  },
  {
   "cell_type": "code",
   "execution_count": 19,
   "id": "9d184267",
   "metadata": {},
   "outputs": [
    {
     "name": "stdout",
     "output_type": "stream",
     "text": [
      "A\n",
      "p\n",
      "p\n",
      "l\n",
      "e\n"
     ]
    }
   ],
   "source": [
    "print(word[-5])\n",
    "print(word[-4])\n",
    "print(word[-3])\n",
    "print(word[-2])\n",
    "print(word[-1])"
   ]
  },
  {
   "cell_type": "code",
   "execution_count": 20,
   "id": "50b5f9d8",
   "metadata": {},
   "outputs": [
    {
     "data": {
      "text/plain": [
       "'Apple'"
      ]
     },
     "execution_count": 20,
     "metadata": {},
     "output_type": "execute_result"
    }
   ],
   "source": [
    "# Slicing\n",
    "\n",
    "word"
   ]
  },
  {
   "cell_type": "code",
   "execution_count": 21,
   "id": "f7bee39f",
   "metadata": {},
   "outputs": [
    {
     "data": {
      "text/plain": [
       "'App'"
      ]
     },
     "execution_count": 21,
     "metadata": {},
     "output_type": "execute_result"
    }
   ],
   "source": [
    "word[:3]  # first is included and last value is always excluded"
   ]
  },
  {
   "cell_type": "code",
   "execution_count": 22,
   "id": "b4c379be",
   "metadata": {},
   "outputs": [
    {
     "data": {
      "text/plain": [
       "'le'"
      ]
     },
     "execution_count": 22,
     "metadata": {},
     "output_type": "execute_result"
    }
   ],
   "source": [
    "word[3:] "
   ]
  },
  {
   "cell_type": "code",
   "execution_count": 23,
   "id": "2ee5c7ed",
   "metadata": {},
   "outputs": [
    {
     "data": {
      "text/plain": [
       "'0123456789'"
      ]
     },
     "execution_count": 23,
     "metadata": {},
     "output_type": "execute_result"
    }
   ],
   "source": [
    "numeric_values=\"0123456789\"\n",
    "numeric_values"
   ]
  },
  {
   "cell_type": "code",
   "execution_count": 24,
   "id": "495e5ac6",
   "metadata": {},
   "outputs": [
    {
     "data": {
      "text/plain": [
       "'012345'"
      ]
     },
     "execution_count": 24,
     "metadata": {},
     "output_type": "execute_result"
    }
   ],
   "source": [
    "numeric_values[:6]"
   ]
  },
  {
   "cell_type": "code",
   "execution_count": 25,
   "id": "86a3c5a7",
   "metadata": {},
   "outputs": [
    {
     "data": {
      "text/plain": [
       "'0369'"
      ]
     },
     "execution_count": 25,
     "metadata": {},
     "output_type": "execute_result"
    }
   ],
   "source": [
    "# string[starting_Value : ending_value : Steps]\n",
    "numeric_values[::3]"
   ]
  },
  {
   "cell_type": "code",
   "execution_count": 26,
   "id": "ad338174",
   "metadata": {},
   "outputs": [
    {
     "data": {
      "text/plain": [
       "'Apple'"
      ]
     },
     "execution_count": 26,
     "metadata": {},
     "output_type": "execute_result"
    }
   ],
   "source": [
    "word = \"Apple\"\n",
    "word"
   ]
  },
  {
   "cell_type": "code",
   "execution_count": 27,
   "id": "21c0e36e",
   "metadata": {},
   "outputs": [
    {
     "data": {
      "text/plain": [
       "'elppA'"
      ]
     },
     "execution_count": 27,
     "metadata": {},
     "output_type": "execute_result"
    }
   ],
   "source": [
    "# Reversing the string\n",
    "word[::-1]"
   ]
  },
  {
   "cell_type": "code",
   "execution_count": 28,
   "id": "321d9c76",
   "metadata": {},
   "outputs": [
    {
     "name": "stdout",
     "output_type": "stream",
     "text": [
      "Help on class str in module builtins:\n",
      "\n",
      "class str(object)\n",
      " |  str(object='') -> str\n",
      " |  str(bytes_or_buffer[, encoding[, errors]]) -> str\n",
      " |  \n",
      " |  Create a new string object from the given object. If encoding or\n",
      " |  errors is specified, then the object must expose a data buffer\n",
      " |  that will be decoded using the given encoding and error handler.\n",
      " |  Otherwise, returns the result of object.__str__() (if defined)\n",
      " |  or repr(object).\n",
      " |  encoding defaults to sys.getdefaultencoding().\n",
      " |  errors defaults to 'strict'.\n",
      " |  \n",
      " |  Methods defined here:\n",
      " |  \n",
      " |  __add__(self, value, /)\n",
      " |      Return self+value.\n",
      " |  \n",
      " |  __contains__(self, key, /)\n",
      " |      Return key in self.\n",
      " |  \n",
      " |  __eq__(self, value, /)\n",
      " |      Return self==value.\n",
      " |  \n",
      " |  __format__(self, format_spec, /)\n",
      " |      Return a formatted version of the string as described by format_spec.\n",
      " |  \n",
      " |  __ge__(self, value, /)\n",
      " |      Return self>=value.\n",
      " |  \n",
      " |  __getattribute__(self, name, /)\n",
      " |      Return getattr(self, name).\n",
      " |  \n",
      " |  __getitem__(self, key, /)\n",
      " |      Return self[key].\n",
      " |  \n",
      " |  __getnewargs__(...)\n",
      " |  \n",
      " |  __gt__(self, value, /)\n",
      " |      Return self>value.\n",
      " |  \n",
      " |  __hash__(self, /)\n",
      " |      Return hash(self).\n",
      " |  \n",
      " |  __iter__(self, /)\n",
      " |      Implement iter(self).\n",
      " |  \n",
      " |  __le__(self, value, /)\n",
      " |      Return self<=value.\n",
      " |  \n",
      " |  __len__(self, /)\n",
      " |      Return len(self).\n",
      " |  \n",
      " |  __lt__(self, value, /)\n",
      " |      Return self<value.\n",
      " |  \n",
      " |  __mod__(self, value, /)\n",
      " |      Return self%value.\n",
      " |  \n",
      " |  __mul__(self, value, /)\n",
      " |      Return self*value.\n",
      " |  \n",
      " |  __ne__(self, value, /)\n",
      " |      Return self!=value.\n",
      " |  \n",
      " |  __repr__(self, /)\n",
      " |      Return repr(self).\n",
      " |  \n",
      " |  __rmod__(self, value, /)\n",
      " |      Return value%self.\n",
      " |  \n",
      " |  __rmul__(self, value, /)\n",
      " |      Return value*self.\n",
      " |  \n",
      " |  __sizeof__(self, /)\n",
      " |      Return the size of the string in memory, in bytes.\n",
      " |  \n",
      " |  __str__(self, /)\n",
      " |      Return str(self).\n",
      " |  \n",
      " |  capitalize(self, /)\n",
      " |      Return a capitalized version of the string.\n",
      " |      \n",
      " |      More specifically, make the first character have upper case and the rest lower\n",
      " |      case.\n",
      " |  \n",
      " |  casefold(self, /)\n",
      " |      Return a version of the string suitable for caseless comparisons.\n",
      " |  \n",
      " |  center(self, width, fillchar=' ', /)\n",
      " |      Return a centered string of length width.\n",
      " |      \n",
      " |      Padding is done using the specified fill character (default is a space).\n",
      " |  \n",
      " |  count(...)\n",
      " |      S.count(sub[, start[, end]]) -> int\n",
      " |      \n",
      " |      Return the number of non-overlapping occurrences of substring sub in\n",
      " |      string S[start:end].  Optional arguments start and end are\n",
      " |      interpreted as in slice notation.\n",
      " |  \n",
      " |  encode(self, /, encoding='utf-8', errors='strict')\n",
      " |      Encode the string using the codec registered for encoding.\n",
      " |      \n",
      " |      encoding\n",
      " |        The encoding in which to encode the string.\n",
      " |      errors\n",
      " |        The error handling scheme to use for encoding errors.\n",
      " |        The default is 'strict' meaning that encoding errors raise a\n",
      " |        UnicodeEncodeError.  Other possible values are 'ignore', 'replace' and\n",
      " |        'xmlcharrefreplace' as well as any other name registered with\n",
      " |        codecs.register_error that can handle UnicodeEncodeErrors.\n",
      " |  \n",
      " |  endswith(...)\n",
      " |      S.endswith(suffix[, start[, end]]) -> bool\n",
      " |      \n",
      " |      Return True if S ends with the specified suffix, False otherwise.\n",
      " |      With optional start, test S beginning at that position.\n",
      " |      With optional end, stop comparing S at that position.\n",
      " |      suffix can also be a tuple of strings to try.\n",
      " |  \n",
      " |  expandtabs(self, /, tabsize=8)\n",
      " |      Return a copy where all tab characters are expanded using spaces.\n",
      " |      \n",
      " |      If tabsize is not given, a tab size of 8 characters is assumed.\n",
      " |  \n",
      " |  find(...)\n",
      " |      S.find(sub[, start[, end]]) -> int\n",
      " |      \n",
      " |      Return the lowest index in S where substring sub is found,\n",
      " |      such that sub is contained within S[start:end].  Optional\n",
      " |      arguments start and end are interpreted as in slice notation.\n",
      " |      \n",
      " |      Return -1 on failure.\n",
      " |  \n",
      " |  format(...)\n",
      " |      S.format(*args, **kwargs) -> str\n",
      " |      \n",
      " |      Return a formatted version of S, using substitutions from args and kwargs.\n",
      " |      The substitutions are identified by braces ('{' and '}').\n",
      " |  \n",
      " |  format_map(...)\n",
      " |      S.format_map(mapping) -> str\n",
      " |      \n",
      " |      Return a formatted version of S, using substitutions from mapping.\n",
      " |      The substitutions are identified by braces ('{' and '}').\n",
      " |  \n",
      " |  index(...)\n",
      " |      S.index(sub[, start[, end]]) -> int\n",
      " |      \n",
      " |      Return the lowest index in S where substring sub is found,\n",
      " |      such that sub is contained within S[start:end].  Optional\n",
      " |      arguments start and end are interpreted as in slice notation.\n",
      " |      \n",
      " |      Raises ValueError when the substring is not found.\n",
      " |  \n",
      " |  isalnum(self, /)\n",
      " |      Return True if the string is an alpha-numeric string, False otherwise.\n",
      " |      \n",
      " |      A string is alpha-numeric if all characters in the string are alpha-numeric and\n",
      " |      there is at least one character in the string.\n",
      " |  \n",
      " |  isalpha(self, /)\n",
      " |      Return True if the string is an alphabetic string, False otherwise.\n",
      " |      \n",
      " |      A string is alphabetic if all characters in the string are alphabetic and there\n",
      " |      is at least one character in the string.\n",
      " |  \n",
      " |  isascii(self, /)\n",
      " |      Return True if all characters in the string are ASCII, False otherwise.\n",
      " |      \n",
      " |      ASCII characters have code points in the range U+0000-U+007F.\n",
      " |      Empty string is ASCII too.\n",
      " |  \n",
      " |  isdecimal(self, /)\n",
      " |      Return True if the string is a decimal string, False otherwise.\n",
      " |      \n",
      " |      A string is a decimal string if all characters in the string are decimal and\n",
      " |      there is at least one character in the string.\n",
      " |  \n",
      " |  isdigit(self, /)\n",
      " |      Return True if the string is a digit string, False otherwise.\n",
      " |      \n",
      " |      A string is a digit string if all characters in the string are digits and there\n",
      " |      is at least one character in the string.\n",
      " |  \n",
      " |  isidentifier(self, /)\n",
      " |      Return True if the string is a valid Python identifier, False otherwise.\n",
      " |      \n",
      " |      Call keyword.iskeyword(s) to test whether string s is a reserved identifier,\n",
      " |      such as \"def\" or \"class\".\n",
      " |  \n",
      " |  islower(self, /)\n",
      " |      Return True if the string is a lowercase string, False otherwise.\n",
      " |      \n",
      " |      A string is lowercase if all cased characters in the string are lowercase and\n",
      " |      there is at least one cased character in the string.\n",
      " |  \n",
      " |  isnumeric(self, /)\n",
      " |      Return True if the string is a numeric string, False otherwise.\n",
      " |      \n",
      " |      A string is numeric if all characters in the string are numeric and there is at\n",
      " |      least one character in the string.\n",
      " |  \n",
      " |  isprintable(self, /)\n",
      " |      Return True if the string is printable, False otherwise.\n",
      " |      \n",
      " |      A string is printable if all of its characters are considered printable in\n",
      " |      repr() or if it is empty.\n",
      " |  \n",
      " |  isspace(self, /)\n",
      " |      Return True if the string is a whitespace string, False otherwise.\n",
      " |      \n",
      " |      A string is whitespace if all characters in the string are whitespace and there\n",
      " |      is at least one character in the string.\n",
      " |  \n",
      " |  istitle(self, /)\n",
      " |      Return True if the string is a title-cased string, False otherwise.\n",
      " |      \n",
      " |      In a title-cased string, upper- and title-case characters may only\n",
      " |      follow uncased characters and lowercase characters only cased ones.\n",
      " |  \n",
      " |  isupper(self, /)\n",
      " |      Return True if the string is an uppercase string, False otherwise.\n",
      " |      \n",
      " |      A string is uppercase if all cased characters in the string are uppercase and\n",
      " |      there is at least one cased character in the string.\n",
      " |  \n",
      " |  join(self, iterable, /)\n",
      " |      Concatenate any number of strings.\n",
      " |      \n",
      " |      The string whose method is called is inserted in between each given string.\n",
      " |      The result is returned as a new string.\n",
      " |      \n",
      " |      Example: '.'.join(['ab', 'pq', 'rs']) -> 'ab.pq.rs'\n",
      " |  \n",
      " |  ljust(self, width, fillchar=' ', /)\n",
      " |      Return a left-justified string of length width.\n",
      " |      \n",
      " |      Padding is done using the specified fill character (default is a space).\n",
      " |  \n",
      " |  lower(self, /)\n",
      " |      Return a copy of the string converted to lowercase.\n",
      " |  \n",
      " |  lstrip(self, chars=None, /)\n",
      " |      Return a copy of the string with leading whitespace removed.\n",
      " |      \n",
      " |      If chars is given and not None, remove characters in chars instead.\n",
      " |  \n",
      " |  partition(self, sep, /)\n",
      " |      Partition the string into three parts using the given separator.\n",
      " |      \n",
      " |      This will search for the separator in the string.  If the separator is found,\n",
      " |      returns a 3-tuple containing the part before the separator, the separator\n",
      " |      itself, and the part after it.\n",
      " |      \n",
      " |      If the separator is not found, returns a 3-tuple containing the original string\n",
      " |      and two empty strings.\n",
      " |  \n",
      " |  removeprefix(self, prefix, /)\n",
      " |      Return a str with the given prefix string removed if present.\n",
      " |      \n",
      " |      If the string starts with the prefix string, return string[len(prefix):].\n",
      " |      Otherwise, return a copy of the original string.\n",
      " |  \n",
      " |  removesuffix(self, suffix, /)\n",
      " |      Return a str with the given suffix string removed if present.\n",
      " |      \n",
      " |      If the string ends with the suffix string and that suffix is not empty,\n",
      " |      return string[:-len(suffix)]. Otherwise, return a copy of the original\n",
      " |      string.\n",
      " |  \n",
      " |  replace(self, old, new, count=-1, /)\n",
      " |      Return a copy with all occurrences of substring old replaced by new.\n",
      " |      \n",
      " |        count\n",
      " |          Maximum number of occurrences to replace.\n",
      " |          -1 (the default value) means replace all occurrences.\n",
      " |      \n",
      " |      If the optional argument count is given, only the first count occurrences are\n",
      " |      replaced.\n",
      " |  \n",
      " |  rfind(...)\n",
      " |      S.rfind(sub[, start[, end]]) -> int\n",
      " |      \n",
      " |      Return the highest index in S where substring sub is found,\n",
      " |      such that sub is contained within S[start:end].  Optional\n",
      " |      arguments start and end are interpreted as in slice notation.\n",
      " |      \n",
      " |      Return -1 on failure.\n",
      " |  \n",
      " |  rindex(...)\n",
      " |      S.rindex(sub[, start[, end]]) -> int\n",
      " |      \n",
      " |      Return the highest index in S where substring sub is found,\n",
      " |      such that sub is contained within S[start:end].  Optional\n",
      " |      arguments start and end are interpreted as in slice notation.\n",
      " |      \n",
      " |      Raises ValueError when the substring is not found.\n",
      " |  \n",
      " |  rjust(self, width, fillchar=' ', /)\n",
      " |      Return a right-justified string of length width.\n",
      " |      \n",
      " |      Padding is done using the specified fill character (default is a space).\n",
      " |  \n",
      " |  rpartition(self, sep, /)\n",
      " |      Partition the string into three parts using the given separator.\n",
      " |      \n",
      " |      This will search for the separator in the string, starting at the end. If\n",
      " |      the separator is found, returns a 3-tuple containing the part before the\n",
      " |      separator, the separator itself, and the part after it.\n",
      " |      \n",
      " |      If the separator is not found, returns a 3-tuple containing two empty strings\n",
      " |      and the original string.\n",
      " |  \n",
      " |  rsplit(self, /, sep=None, maxsplit=-1)\n",
      " |      Return a list of the substrings in the string, using sep as the separator string.\n",
      " |      \n",
      " |        sep\n",
      " |          The separator used to split the string.\n",
      " |      \n",
      " |          When set to None (the default value), will split on any whitespace\n",
      " |          character (including \\\\n \\\\r \\\\t \\\\f and spaces) and will discard\n",
      " |          empty strings from the result.\n",
      " |        maxsplit\n",
      " |          Maximum number of splits (starting from the left).\n",
      " |          -1 (the default value) means no limit.\n",
      " |      \n",
      " |      Splitting starts at the end of the string and works to the front.\n",
      " |  \n",
      " |  rstrip(self, chars=None, /)\n",
      " |      Return a copy of the string with trailing whitespace removed.\n",
      " |      \n",
      " |      If chars is given and not None, remove characters in chars instead.\n",
      " |  \n",
      " |  split(self, /, sep=None, maxsplit=-1)\n",
      " |      Return a list of the substrings in the string, using sep as the separator string.\n",
      " |      \n",
      " |        sep\n",
      " |          The separator used to split the string.\n",
      " |      \n",
      " |          When set to None (the default value), will split on any whitespace\n",
      " |          character (including \\\\n \\\\r \\\\t \\\\f and spaces) and will discard\n",
      " |          empty strings from the result.\n",
      " |        maxsplit\n",
      " |          Maximum number of splits (starting from the left).\n",
      " |          -1 (the default value) means no limit.\n",
      " |      \n",
      " |      Note, str.split() is mainly useful for data that has been intentionally\n",
      " |      delimited.  With natural text that includes punctuation, consider using\n",
      " |      the regular expression module.\n",
      " |  \n",
      " |  splitlines(self, /, keepends=False)\n",
      " |      Return a list of the lines in the string, breaking at line boundaries.\n",
      " |      \n",
      " |      Line breaks are not included in the resulting list unless keepends is given and\n",
      " |      true.\n",
      " |  \n",
      " |  startswith(...)\n",
      " |      S.startswith(prefix[, start[, end]]) -> bool\n",
      " |      \n",
      " |      Return True if S starts with the specified prefix, False otherwise.\n",
      " |      With optional start, test S beginning at that position.\n",
      " |      With optional end, stop comparing S at that position.\n",
      " |      prefix can also be a tuple of strings to try.\n",
      " |  \n",
      " |  strip(self, chars=None, /)\n",
      " |      Return a copy of the string with leading and trailing whitespace removed.\n",
      " |      \n",
      " |      If chars is given and not None, remove characters in chars instead.\n",
      " |  \n",
      " |  swapcase(self, /)\n",
      " |      Convert uppercase characters to lowercase and lowercase characters to uppercase.\n",
      " |  \n",
      " |  title(self, /)\n",
      " |      Return a version of the string where each word is titlecased.\n",
      " |      \n",
      " |      More specifically, words start with uppercased characters and all remaining\n",
      " |      cased characters have lower case.\n",
      " |  \n",
      " |  translate(self, table, /)\n",
      " |      Replace each character in the string using the given translation table.\n",
      " |      \n",
      " |        table\n",
      " |          Translation table, which must be a mapping of Unicode ordinals to\n",
      " |          Unicode ordinals, strings, or None.\n",
      " |      \n",
      " |      The table must implement lookup/indexing via __getitem__, for instance a\n",
      " |      dictionary or list.  If this operation raises LookupError, the character is\n",
      " |      left untouched.  Characters mapped to None are deleted.\n",
      " |  \n",
      " |  upper(self, /)\n",
      " |      Return a copy of the string converted to uppercase.\n",
      " |  \n",
      " |  zfill(self, width, /)\n",
      " |      Pad a numeric string with zeros on the left, to fill a field of the given width.\n",
      " |      \n",
      " |      The string is never truncated.\n",
      " |  \n",
      " |  ----------------------------------------------------------------------\n",
      " |  Static methods defined here:\n",
      " |  \n",
      " |  __new__(*args, **kwargs) from builtins.type\n",
      " |      Create and return a new object.  See help(type) for accurate signature.\n",
      " |  \n",
      " |  maketrans(...)\n",
      " |      Return a translation table usable for str.translate().\n",
      " |      \n",
      " |      If there is only one argument, it must be a dictionary mapping Unicode\n",
      " |      ordinals (integers) or characters to Unicode ordinals, strings or None.\n",
      " |      Character keys will be then converted to ordinals.\n",
      " |      If there are two arguments, they must be strings of equal length, and\n",
      " |      in the resulting dictionary, each character in x will be mapped to the\n",
      " |      character at the same position in y. If there is a third argument, it\n",
      " |      must be a string, whose characters will be mapped to None in the result.\n",
      "\n"
     ]
    }
   ],
   "source": [
    "help(str)"
   ]
  },
  {
   "cell_type": "markdown",
   "id": "b4665ed9",
   "metadata": {},
   "source": [
    "## String Functions"
   ]
  },
  {
   "cell_type": "markdown",
   "id": "b7e5c3c5",
   "metadata": {},
   "source": [
    "#### Replace\n"
   ]
  },
  {
   "cell_type": "code",
   "execution_count": 34,
   "id": "59cc008c",
   "metadata": {},
   "outputs": [
    {
     "data": {
      "text/plain": [
       "' I have ordered a Pizza.'"
      ]
     },
     "execution_count": 34,
     "metadata": {},
     "output_type": "execute_result"
    }
   ],
   "source": [
    "my_str = \" I have ordered a Pizza.\"\n",
    "my_str"
   ]
  },
  {
   "cell_type": "code",
   "execution_count": 36,
   "id": "e1645793",
   "metadata": {},
   "outputs": [
    {
     "data": {
      "text/plain": [
       "' I have ordered a Pizza.'"
      ]
     },
     "execution_count": 36,
     "metadata": {},
     "output_type": "execute_result"
    }
   ],
   "source": [
    "my_str.replace(\"Pizza\",\"Burger\")   #string.replace(Old_value, new_value)\n",
    "my_str"
   ]
  },
  {
   "cell_type": "code",
   "execution_count": 25,
   "id": "5822128e",
   "metadata": {},
   "outputs": [
    {
     "data": {
      "text/plain": [
       "' I have ordered a Burger.'"
      ]
     },
     "execution_count": 25,
     "metadata": {},
     "output_type": "execute_result"
    }
   ],
   "source": [
    "my_str = my_str.replace(\"Pizza\",\"Burger\")\n",
    "my_str"
   ]
  },
  {
   "cell_type": "markdown",
   "id": "4f100f29",
   "metadata": {},
   "source": [
    "#### Index\n"
   ]
  },
  {
   "cell_type": "code",
   "execution_count": 32,
   "id": "4b586145",
   "metadata": {},
   "outputs": [
    {
     "data": {
      "text/plain": [
       "' I have ordered a Burger.'"
      ]
     },
     "execution_count": 32,
     "metadata": {},
     "output_type": "execute_result"
    }
   ],
   "source": [
    "my_str"
   ]
  },
  {
   "cell_type": "code",
   "execution_count": 33,
   "id": "0a15c6b0",
   "metadata": {},
   "outputs": [
    {
     "data": {
      "text/plain": [
       "18"
      ]
     },
     "execution_count": 33,
     "metadata": {},
     "output_type": "execute_result"
    }
   ],
   "source": [
    "my_str.index(\"B\")"
   ]
  },
  {
   "cell_type": "code",
   "execution_count": 34,
   "id": "95ff6212",
   "metadata": {
    "scrolled": true
   },
   "outputs": [
    {
     "data": {
      "text/plain": [
       "'Burger.'"
      ]
     },
     "execution_count": 34,
     "metadata": {},
     "output_type": "execute_result"
    }
   ],
   "source": [
    "my_str[18:]"
   ]
  },
  {
   "cell_type": "code",
   "execution_count": 35,
   "id": "954923c3",
   "metadata": {},
   "outputs": [
    {
     "data": {
      "text/plain": [
       "' I have ordered a Burger.'"
      ]
     },
     "execution_count": 35,
     "metadata": {},
     "output_type": "execute_result"
    }
   ],
   "source": [
    "my_str"
   ]
  },
  {
   "cell_type": "code",
   "execution_count": 36,
   "id": "8b3f0f64",
   "metadata": {},
   "outputs": [
    {
     "ename": "ValueError",
     "evalue": "substring not found",
     "output_type": "error",
     "traceback": [
      "\u001b[1;31m---------------------------------------------------------------------------\u001b[0m",
      "\u001b[1;31mValueError\u001b[0m                                Traceback (most recent call last)",
      "Cell \u001b[1;32mIn[36], line 1\u001b[0m\n\u001b[1;32m----> 1\u001b[0m my_str\u001b[38;5;241m.\u001b[39mindex(\u001b[38;5;124m\"\u001b[39m\u001b[38;5;124mz\u001b[39m\u001b[38;5;124m\"\u001b[39m)\n",
      "\u001b[1;31mValueError\u001b[0m: substring not found"
     ]
    }
   ],
   "source": [
    "my_str.index(\"z\")          #It will throw error if value = not found"
   ]
  },
  {
   "cell_type": "markdown",
   "id": "c39de597",
   "metadata": {},
   "source": [
    "#### Find"
   ]
  },
  {
   "cell_type": "code",
   "execution_count": 37,
   "id": "2a4ea173",
   "metadata": {},
   "outputs": [
    {
     "data": {
      "text/plain": [
       "-1"
      ]
     },
     "execution_count": 37,
     "metadata": {},
     "output_type": "execute_result"
    }
   ],
   "source": [
    "my_str.find(\"z\")     #It will return -1 if value doesn't exist"
   ]
  },
  {
   "cell_type": "markdown",
   "id": "91b8e071",
   "metadata": {},
   "source": [
    "#### Upper and lower\n"
   ]
  },
  {
   "cell_type": "code",
   "execution_count": 38,
   "id": "a9641931",
   "metadata": {},
   "outputs": [
    {
     "data": {
      "text/plain": [
       "' I have ordered a Burger.'"
      ]
     },
     "execution_count": 38,
     "metadata": {},
     "output_type": "execute_result"
    }
   ],
   "source": [
    "my_str"
   ]
  },
  {
   "cell_type": "code",
   "execution_count": 39,
   "id": "44e66745",
   "metadata": {},
   "outputs": [
    {
     "data": {
      "text/plain": [
       "' I HAVE ORDERED A BURGER.'"
      ]
     },
     "execution_count": 39,
     "metadata": {},
     "output_type": "execute_result"
    }
   ],
   "source": [
    "my_str.upper()"
   ]
  },
  {
   "cell_type": "code",
   "execution_count": 40,
   "id": "a18c0882",
   "metadata": {},
   "outputs": [
    {
     "data": {
      "text/plain": [
       "' i have ordered a burger.'"
      ]
     },
     "execution_count": 40,
     "metadata": {},
     "output_type": "execute_result"
    }
   ],
   "source": [
    "my_str.lower()"
   ]
  },
  {
   "cell_type": "code",
   "execution_count": 41,
   "id": "13e9bbc4",
   "metadata": {},
   "outputs": [
    {
     "data": {
      "text/plain": [
       "'Abc Def'"
      ]
     },
     "execution_count": 41,
     "metadata": {},
     "output_type": "execute_result"
    }
   ],
   "source": [
    "\"abc def\".title()  ##to capitalize first letter of each word"
   ]
  },
  {
   "cell_type": "markdown",
   "id": "2aa609b0",
   "metadata": {},
   "source": [
    "#### IsAlpha, Isnumeric, Isalnum"
   ]
  },
  {
   "cell_type": "code",
   "execution_count": 42,
   "id": "0e7dfd7d",
   "metadata": {},
   "outputs": [
    {
     "data": {
      "text/plain": [
       "True"
      ]
     },
     "execution_count": 42,
     "metadata": {},
     "output_type": "execute_result"
    }
   ],
   "source": [
    "\"123\".isnumeric()"
   ]
  },
  {
   "cell_type": "code",
   "execution_count": 43,
   "id": "577cc0af",
   "metadata": {},
   "outputs": [
    {
     "data": {
      "text/plain": [
       "True"
      ]
     },
     "execution_count": 43,
     "metadata": {},
     "output_type": "execute_result"
    }
   ],
   "source": [
    "\"abc\".isalpha()"
   ]
  },
  {
   "cell_type": "code",
   "execution_count": 44,
   "id": "fe910913",
   "metadata": {},
   "outputs": [
    {
     "data": {
      "text/plain": [
       "True"
      ]
     },
     "execution_count": 44,
     "metadata": {},
     "output_type": "execute_result"
    }
   ],
   "source": [
    "\"abc1234\".isalnum()"
   ]
  },
  {
   "cell_type": "markdown",
   "id": "2d979068",
   "metadata": {},
   "source": [
    "#### String Concatenation"
   ]
  },
  {
   "cell_type": "code",
   "execution_count": 45,
   "id": "2806ab27",
   "metadata": {},
   "outputs": [
    {
     "data": {
      "text/plain": [
       "'Data Science and AI'"
      ]
     },
     "execution_count": 45,
     "metadata": {},
     "output_type": "execute_result"
    }
   ],
   "source": [
    "\"Data\" + \" \" + \"Science\" + \" \" + \"and\" + \" \" + \"AI\""
   ]
  },
  {
   "cell_type": "code",
   "execution_count": 46,
   "id": "7b0494b6",
   "metadata": {},
   "outputs": [
    {
     "data": {
      "text/plain": [
       "'Data Science AI'"
      ]
     },
     "execution_count": 46,
     "metadata": {},
     "output_type": "execute_result"
    }
   ],
   "source": [
    "my_str = 'Data Science AI'\n",
    "my_str"
   ]
  },
  {
   "cell_type": "code",
   "execution_count": 47,
   "id": "f1810be9",
   "metadata": {},
   "outputs": [
    {
     "data": {
      "text/plain": [
       "13"
      ]
     },
     "execution_count": 47,
     "metadata": {},
     "output_type": "execute_result"
    }
   ],
   "source": [
    "my_str.index(\"A\")"
   ]
  },
  {
   "cell_type": "code",
   "execution_count": 48,
   "id": "46e9ff18",
   "metadata": {},
   "outputs": [
    {
     "data": {
      "text/plain": [
       "'Data Science And  AI'"
      ]
     },
     "execution_count": 48,
     "metadata": {},
     "output_type": "execute_result"
    }
   ],
   "source": [
    "my_str[:12] + \" And \" + my_str[12:]"
   ]
  },
  {
   "cell_type": "markdown",
   "id": "053f9e14",
   "metadata": {},
   "source": [
    "#### Delete the string"
   ]
  },
  {
   "cell_type": "code",
   "execution_count": 49,
   "id": "f9ec0fa7",
   "metadata": {},
   "outputs": [],
   "source": [
    "my_str = \" \""
   ]
  },
  {
   "cell_type": "code",
   "execution_count": 50,
   "id": "50c46303",
   "metadata": {},
   "outputs": [
    {
     "data": {
      "text/plain": [
       "' '"
      ]
     },
     "execution_count": 50,
     "metadata": {},
     "output_type": "execute_result"
    }
   ],
   "source": [
    "my_str"
   ]
  },
  {
   "cell_type": "code",
   "execution_count": 51,
   "id": "d57ecc9f",
   "metadata": {},
   "outputs": [],
   "source": [
    "del my_str"
   ]
  },
  {
   "cell_type": "code",
   "execution_count": 52,
   "id": "9692fcc5",
   "metadata": {},
   "outputs": [
    {
     "ename": "NameError",
     "evalue": "name 'my_str' is not defined",
     "output_type": "error",
     "traceback": [
      "\u001b[1;31m---------------------------------------------------------------------------\u001b[0m",
      "\u001b[1;31mNameError\u001b[0m                                 Traceback (most recent call last)",
      "Cell \u001b[1;32mIn[52], line 1\u001b[0m\n\u001b[1;32m----> 1\u001b[0m my_str\n",
      "\u001b[1;31mNameError\u001b[0m: name 'my_str' is not defined"
     ]
    }
   ],
   "source": [
    "my_str"
   ]
  },
  {
   "cell_type": "markdown",
   "id": "736c12f2",
   "metadata": {},
   "source": [
    "#### Strings are immutable"
   ]
  },
  {
   "cell_type": "code",
   "execution_count": 53,
   "id": "f181f028",
   "metadata": {},
   "outputs": [
    {
     "data": {
      "text/plain": [
       "' I have ordered a Pizza.'"
      ]
     },
     "execution_count": 53,
     "metadata": {},
     "output_type": "execute_result"
    }
   ],
   "source": [
    "my_str = \" I have ordered a Pizza.\"\n",
    "my_str"
   ]
  },
  {
   "cell_type": "code",
   "execution_count": 54,
   "id": "fe3a8a59",
   "metadata": {},
   "outputs": [
    {
     "ename": "TypeError",
     "evalue": "'str' object does not support item assignment",
     "output_type": "error",
     "traceback": [
      "\u001b[1;31m---------------------------------------------------------------------------\u001b[0m",
      "\u001b[1;31mTypeError\u001b[0m                                 Traceback (most recent call last)",
      "Cell \u001b[1;32mIn[54], line 1\u001b[0m\n\u001b[1;32m----> 1\u001b[0m my_str[\u001b[38;5;241m18\u001b[39m:\u001b[38;5;241m23\u001b[39m]\u001b[38;5;241m=\u001b[39m\u001b[38;5;124m\"\u001b[39m\u001b[38;5;124mBurger\u001b[39m\u001b[38;5;124m\"\u001b[39m\n",
      "\u001b[1;31mTypeError\u001b[0m: 'str' object does not support item assignment"
     ]
    }
   ],
   "source": [
    "my_str[18:23]=\"Burger\""
   ]
  },
  {
   "cell_type": "markdown",
   "id": "f01e08c7",
   "metadata": {},
   "source": [
    "## List\n",
    "\n",
    "    - Collection of object like string int list anything\n",
    "    - They are mutable"
   ]
  },
  {
   "cell_type": "code",
   "execution_count": 55,
   "id": "09ff935f",
   "metadata": {},
   "outputs": [
    {
     "data": {
      "text/plain": [
       "['Apple', 'Mango', 'Orange', 'Kiwi', 'Mango']"
      ]
     },
     "execution_count": 55,
     "metadata": {},
     "output_type": "execute_result"
    }
   ],
   "source": [
    "basket = [\"Apple\", \"Mango\",\"Orange\",\"Kiwi\",\"Mango\"]\n",
    "basket"
   ]
  },
  {
   "cell_type": "code",
   "execution_count": 56,
   "id": "4f265c79",
   "metadata": {},
   "outputs": [
    {
     "data": {
      "text/plain": [
       "list"
      ]
     },
     "execution_count": 56,
     "metadata": {},
     "output_type": "execute_result"
    }
   ],
   "source": [
    "type(basket)"
   ]
  },
  {
   "cell_type": "code",
   "execution_count": 57,
   "id": "251f9aa2",
   "metadata": {},
   "outputs": [
    {
     "data": {
      "text/plain": [
       "['Apple', 100, 5.6]"
      ]
     },
     "execution_count": 57,
     "metadata": {},
     "output_type": "execute_result"
    }
   ],
   "source": [
    "mix = [\"Apple\", 100 , 5.6 ]\n",
    "mix"
   ]
  },
  {
   "cell_type": "code",
   "execution_count": 58,
   "id": "19d6c42e",
   "metadata": {},
   "outputs": [
    {
     "data": {
      "text/plain": [
       "list"
      ]
     },
     "execution_count": 58,
     "metadata": {},
     "output_type": "execute_result"
    }
   ],
   "source": [
    "type(mix)"
   ]
  },
  {
   "cell_type": "markdown",
   "id": "ef66a2a0",
   "metadata": {},
   "source": [
    "#### List indexing"
   ]
  },
  {
   "cell_type": "code",
   "execution_count": 59,
   "id": "3d565abf",
   "metadata": {},
   "outputs": [
    {
     "data": {
      "text/plain": [
       "['Apple', 'Mango', 'Orange', 'Kiwi', 'Mango']"
      ]
     },
     "execution_count": 59,
     "metadata": {},
     "output_type": "execute_result"
    }
   ],
   "source": [
    "basket"
   ]
  },
  {
   "cell_type": "code",
   "execution_count": 60,
   "id": "987f17f5",
   "metadata": {},
   "outputs": [
    {
     "data": {
      "text/plain": [
       "['Apple', 'Orange']"
      ]
     },
     "execution_count": 60,
     "metadata": {},
     "output_type": "execute_result"
    }
   ],
   "source": [
    "basket[0:4:2]  #list_name[starting_value, ending_value, steps]"
   ]
  },
  {
   "cell_type": "code",
   "execution_count": 61,
   "id": "3b7e1fd7",
   "metadata": {},
   "outputs": [
    {
     "data": {
      "text/plain": [
       "['Apple', 'Mango', 'Orange', 'Kiwi', 'Mango']"
      ]
     },
     "execution_count": 61,
     "metadata": {},
     "output_type": "execute_result"
    }
   ],
   "source": [
    "basket"
   ]
  },
  {
   "cell_type": "code",
   "execution_count": 62,
   "id": "c3a5bbdf",
   "metadata": {
    "scrolled": true
   },
   "outputs": [
    {
     "data": {
      "text/plain": [
       "['Apple', 'Kiwi']"
      ]
     },
     "execution_count": 62,
     "metadata": {},
     "output_type": "execute_result"
    }
   ],
   "source": [
    "basket[0:5:3] "
   ]
  },
  {
   "cell_type": "markdown",
   "id": "58f42524",
   "metadata": {},
   "source": [
    "### Lists are Mutable"
   ]
  },
  {
   "cell_type": "code",
   "execution_count": 63,
   "id": "880eeae1",
   "metadata": {
    "scrolled": true
   },
   "outputs": [
    {
     "data": {
      "text/plain": [
       "['Apple', 'Mango', 'Orange', 'Kiwi', 'Mango']"
      ]
     },
     "execution_count": 63,
     "metadata": {},
     "output_type": "execute_result"
    }
   ],
   "source": [
    "basket"
   ]
  },
  {
   "cell_type": "code",
   "execution_count": 64,
   "id": "d83c925c",
   "metadata": {},
   "outputs": [],
   "source": [
    "basket[0]=\"Strawberry\""
   ]
  },
  {
   "cell_type": "code",
   "execution_count": 65,
   "id": "032f11b8",
   "metadata": {},
   "outputs": [
    {
     "data": {
      "text/plain": [
       "['Strawberry', 'Mango', 'Orange', 'Kiwi', 'Mango']"
      ]
     },
     "execution_count": 65,
     "metadata": {},
     "output_type": "execute_result"
    }
   ],
   "source": [
    "basket"
   ]
  },
  {
   "cell_type": "markdown",
   "id": "d92002f5",
   "metadata": {},
   "source": [
    "#### Adding new values to the list"
   ]
  },
  {
   "cell_type": "code",
   "execution_count": 66,
   "id": "e1f44c56",
   "metadata": {},
   "outputs": [
    {
     "data": {
      "text/plain": [
       "['Strawberry', 'Mango', 'Orange', 'Kiwi', 'Mango']"
      ]
     },
     "execution_count": 66,
     "metadata": {},
     "output_type": "execute_result"
    }
   ],
   "source": [
    "basket"
   ]
  },
  {
   "cell_type": "code",
   "execution_count": 67,
   "id": "ddb4cd8d",
   "metadata": {},
   "outputs": [],
   "source": [
    "basket.append(\"Apple\")  #add the value at the end"
   ]
  },
  {
   "cell_type": "code",
   "execution_count": 68,
   "id": "b1328616",
   "metadata": {},
   "outputs": [
    {
     "data": {
      "text/plain": [
       "['Strawberry', 'Mango', 'Orange', 'Kiwi', 'Mango', 'Apple']"
      ]
     },
     "execution_count": 68,
     "metadata": {},
     "output_type": "execute_result"
    }
   ],
   "source": [
    "basket"
   ]
  },
  {
   "cell_type": "code",
   "execution_count": 69,
   "id": "ed2e8403",
   "metadata": {},
   "outputs": [],
   "source": [
    "# If you want to add value at some specific index, then use insert()\n",
    "\n",
    "basket.insert(1,\"Banana\")"
   ]
  },
  {
   "cell_type": "code",
   "execution_count": 70,
   "id": "4b840208",
   "metadata": {},
   "outputs": [
    {
     "data": {
      "text/plain": [
       "['Strawberry', 'Banana', 'Mango', 'Orange', 'Kiwi', 'Mango', 'Apple']"
      ]
     },
     "execution_count": 70,
     "metadata": {},
     "output_type": "execute_result"
    }
   ],
   "source": [
    "basket"
   ]
  },
  {
   "cell_type": "code",
   "execution_count": null,
   "id": "9f1f5ccd",
   "metadata": {},
   "outputs": [],
   "source": []
  },
  {
   "cell_type": "code",
   "execution_count": 71,
   "id": "d484aa46",
   "metadata": {},
   "outputs": [
    {
     "data": {
      "text/plain": [
       "['Strawberry', 'Banana', 'Mango', 'Orange', 'Kiwi', 'Mango', 'Apple', 'new']"
      ]
     },
     "execution_count": 71,
     "metadata": {},
     "output_type": "execute_result"
    }
   ],
   "source": [
    "basket.append(\"new\")\n",
    "basket"
   ]
  },
  {
   "cell_type": "code",
   "execution_count": 72,
   "id": "3d817d52",
   "metadata": {},
   "outputs": [
    {
     "data": {
      "text/plain": [
       "['Strawberry',\n",
       " 'Banana',\n",
       " 'Mango',\n",
       " 'Orange',\n",
       " 'Kiwi',\n",
       " 'Mango',\n",
       " 'Apple',\n",
       " 'new',\n",
       " ['plum', 'blueberry']]"
      ]
     },
     "execution_count": 72,
     "metadata": {},
     "output_type": "execute_result"
    }
   ],
   "source": [
    "basket.append([\"plum\",\"blueberry\"])\n",
    "basket"
   ]
  },
  {
   "cell_type": "code",
   "execution_count": 73,
   "id": "406165b8",
   "metadata": {},
   "outputs": [
    {
     "data": {
      "text/plain": [
       "['plum', 'blueberry']"
      ]
     },
     "execution_count": 73,
     "metadata": {},
     "output_type": "execute_result"
    }
   ],
   "source": [
    "basket[8]"
   ]
  },
  {
   "cell_type": "code",
   "execution_count": 74,
   "id": "4287507c",
   "metadata": {},
   "outputs": [
    {
     "data": {
      "text/plain": [
       "['Strawberry',\n",
       " 'Banana',\n",
       " 'Mango',\n",
       " 'Orange',\n",
       " 'Kiwi',\n",
       " 'Mango',\n",
       " 'Apple',\n",
       " 'new',\n",
       " ['plum', 'blueberry'],\n",
       " 'plum',\n",
       " 'blueberry']"
      ]
     },
     "execution_count": 74,
     "metadata": {},
     "output_type": "execute_result"
    }
   ],
   "source": [
    "# Extend\n",
    "\n",
    "basket.extend([\"plum\",\"blueberry\"])\n",
    "basket"
   ]
  },
  {
   "cell_type": "markdown",
   "id": "36fec459",
   "metadata": {},
   "source": [
    "#### Reverse the list"
   ]
  },
  {
   "cell_type": "code",
   "execution_count": 75,
   "id": "a39f7039",
   "metadata": {},
   "outputs": [],
   "source": [
    "basket.reverse()"
   ]
  },
  {
   "cell_type": "code",
   "execution_count": 76,
   "id": "1ae19cc4",
   "metadata": {},
   "outputs": [
    {
     "data": {
      "text/plain": [
       "['blueberry',\n",
       " 'plum',\n",
       " ['plum', 'blueberry'],\n",
       " 'new',\n",
       " 'Apple',\n",
       " 'Mango',\n",
       " 'Kiwi',\n",
       " 'Orange',\n",
       " 'Mango',\n",
       " 'Banana',\n",
       " 'Strawberry']"
      ]
     },
     "execution_count": 76,
     "metadata": {},
     "output_type": "execute_result"
    }
   ],
   "source": [
    "basket"
   ]
  },
  {
   "cell_type": "markdown",
   "id": "563eca40",
   "metadata": {},
   "source": [
    "#### Remove the values from the list"
   ]
  },
  {
   "cell_type": "code",
   "execution_count": 77,
   "id": "8dba3f8a",
   "metadata": {},
   "outputs": [],
   "source": [
    "basket.remove(['plum', 'blueberry'])"
   ]
  },
  {
   "cell_type": "code",
   "execution_count": 78,
   "id": "b4cf1958",
   "metadata": {},
   "outputs": [
    {
     "data": {
      "text/plain": [
       "['blueberry',\n",
       " 'plum',\n",
       " 'new',\n",
       " 'Apple',\n",
       " 'Mango',\n",
       " 'Kiwi',\n",
       " 'Orange',\n",
       " 'Mango',\n",
       " 'Banana',\n",
       " 'Strawberry']"
      ]
     },
     "execution_count": 78,
     "metadata": {},
     "output_type": "execute_result"
    }
   ],
   "source": [
    "basket"
   ]
  },
  {
   "cell_type": "code",
   "execution_count": 79,
   "id": "ed3b036f",
   "metadata": {},
   "outputs": [],
   "source": [
    "basket.remove(\"Mango\")   #will remove the first instance from the list"
   ]
  },
  {
   "cell_type": "code",
   "execution_count": 80,
   "id": "88a03583",
   "metadata": {},
   "outputs": [
    {
     "data": {
      "text/plain": [
       "['blueberry',\n",
       " 'plum',\n",
       " 'new',\n",
       " 'Apple',\n",
       " 'Kiwi',\n",
       " 'Orange',\n",
       " 'Mango',\n",
       " 'Banana',\n",
       " 'Strawberry']"
      ]
     },
     "execution_count": 80,
     "metadata": {},
     "output_type": "execute_result"
    }
   ],
   "source": [
    "basket"
   ]
  },
  {
   "cell_type": "markdown",
   "id": "fce9d97f",
   "metadata": {},
   "source": [
    "### Pop"
   ]
  },
  {
   "cell_type": "code",
   "execution_count": 81,
   "id": "38e670a6",
   "metadata": {},
   "outputs": [
    {
     "data": {
      "text/plain": [
       "'plum'"
      ]
     },
     "execution_count": 81,
     "metadata": {},
     "output_type": "execute_result"
    }
   ],
   "source": [
    "basket.pop(1)"
   ]
  },
  {
   "cell_type": "code",
   "execution_count": 82,
   "id": "10d4a056",
   "metadata": {},
   "outputs": [
    {
     "data": {
      "text/plain": [
       "['blueberry',\n",
       " 'new',\n",
       " 'Apple',\n",
       " 'Kiwi',\n",
       " 'Orange',\n",
       " 'Mango',\n",
       " 'Banana',\n",
       " 'Strawberry']"
      ]
     },
     "execution_count": 82,
     "metadata": {},
     "output_type": "execute_result"
    }
   ],
   "source": [
    "basket"
   ]
  },
  {
   "cell_type": "code",
   "execution_count": 83,
   "id": "1d5d98c6",
   "metadata": {},
   "outputs": [
    {
     "name": "stdout",
     "output_type": "stream",
     "text": [
      "['new', 'Apple', 'Kiwi', 'Orange', 'Mango', 'Banana', 'Strawberry']\n",
      "blueberry\n"
     ]
    }
   ],
   "source": [
    "removed_element = basket.pop(0)\n",
    "print(basket)\n",
    "print(removed_element)"
   ]
  },
  {
   "cell_type": "markdown",
   "id": "321c7034",
   "metadata": {},
   "source": [
    "#### List concatenation"
   ]
  },
  {
   "cell_type": "code",
   "execution_count": 84,
   "id": "c2e62578",
   "metadata": {},
   "outputs": [
    {
     "data": {
      "text/plain": [
       "[1, 2, 3, 'a', 'b']"
      ]
     },
     "execution_count": 84,
     "metadata": {},
     "output_type": "execute_result"
    }
   ],
   "source": [
    "[1,2,3] + [\"a\",\"b\"]"
   ]
  },
  {
   "cell_type": "code",
   "execution_count": 85,
   "id": "219cbeb9",
   "metadata": {},
   "outputs": [
    {
     "data": {
      "text/plain": [
       "5"
      ]
     },
     "execution_count": 85,
     "metadata": {},
     "output_type": "execute_result"
    }
   ],
   "source": [
    "a = [1, 2, [4,5]]\n",
    "\n",
    "a[2][1]"
   ]
  },
  {
   "cell_type": "markdown",
   "id": "6ec9dac2",
   "metadata": {},
   "source": [
    "### Tuples\n",
    "\n",
    "    - collection of objects\n",
    "    - Immutable"
   ]
  },
  {
   "cell_type": "markdown",
   "id": "f38e6973",
   "metadata": {},
   "source": [
    "    str \" \"\n",
    "    list [ ]\n",
    "    tuple ( )"
   ]
  },
  {
   "cell_type": "code",
   "execution_count": 86,
   "id": "2c1ce604",
   "metadata": {},
   "outputs": [
    {
     "data": {
      "text/plain": [
       "('Orange', 'Kiwi', 'Mango', 'Apple')"
      ]
     },
     "execution_count": 86,
     "metadata": {},
     "output_type": "execute_result"
    }
   ],
   "source": [
    "basket = (\"Orange\",'Kiwi', 'Mango', 'Apple')\n",
    "\n",
    "basket"
   ]
  },
  {
   "cell_type": "code",
   "execution_count": 87,
   "id": "253388f7",
   "metadata": {},
   "outputs": [
    {
     "data": {
      "text/plain": [
       "tuple"
      ]
     },
     "execution_count": 87,
     "metadata": {},
     "output_type": "execute_result"
    }
   ],
   "source": [
    "type(basket)"
   ]
  },
  {
   "cell_type": "code",
   "execution_count": 88,
   "id": "735bd064",
   "metadata": {},
   "outputs": [],
   "source": [
    "# Make sure whenever you want to create as single value tuple, add comma after first value\n",
    "new_tuple = (\"apple\",)"
   ]
  },
  {
   "cell_type": "code",
   "execution_count": 89,
   "id": "d5c63d13",
   "metadata": {},
   "outputs": [
    {
     "data": {
      "text/plain": [
       "('apple',)"
      ]
     },
     "execution_count": 89,
     "metadata": {},
     "output_type": "execute_result"
    }
   ],
   "source": [
    "new_tuple"
   ]
  },
  {
   "cell_type": "code",
   "execution_count": 90,
   "id": "784e1b49",
   "metadata": {},
   "outputs": [
    {
     "data": {
      "text/plain": [
       "tuple"
      ]
     },
     "execution_count": 90,
     "metadata": {},
     "output_type": "execute_result"
    }
   ],
   "source": [
    "type(new_tuple)"
   ]
  },
  {
   "cell_type": "code",
   "execution_count": 91,
   "id": "55719848",
   "metadata": {},
   "outputs": [],
   "source": [
    "new_tuple = (\"Apple\",1 ,5.6,[\"a\",\"b\"],1,1,1)"
   ]
  },
  {
   "cell_type": "code",
   "execution_count": 92,
   "id": "1236ac0e",
   "metadata": {},
   "outputs": [
    {
     "data": {
      "text/plain": [
       "('Apple', 1, 5.6, ['a', 'b'], 1, 1, 1)"
      ]
     },
     "execution_count": 92,
     "metadata": {},
     "output_type": "execute_result"
    }
   ],
   "source": [
    "new_tuple"
   ]
  },
  {
   "cell_type": "code",
   "execution_count": 93,
   "id": "7627a32d",
   "metadata": {},
   "outputs": [
    {
     "data": {
      "text/plain": [
       "4"
      ]
     },
     "execution_count": 93,
     "metadata": {},
     "output_type": "execute_result"
    }
   ],
   "source": [
    "new_tuple.count(1)"
   ]
  },
  {
   "cell_type": "code",
   "execution_count": 94,
   "id": "afc2d40a",
   "metadata": {},
   "outputs": [
    {
     "data": {
      "text/plain": [
       "2"
      ]
     },
     "execution_count": 94,
     "metadata": {},
     "output_type": "execute_result"
    }
   ],
   "source": [
    "new_tuple.index(5.6)"
   ]
  },
  {
   "cell_type": "code",
   "execution_count": 95,
   "id": "010077ea",
   "metadata": {},
   "outputs": [
    {
     "data": {
      "text/plain": [
       "('Maham', 'Maimoona', 'Ali', 'Maimoona', 'Maimoona')"
      ]
     },
     "execution_count": 95,
     "metadata": {},
     "output_type": "execute_result"
    }
   ],
   "source": [
    "students = (\"Maham\",\"Maimoona\",\"Ali\",\"Maimoona\",\"Maimoona\")\n",
    "students"
   ]
  },
  {
   "cell_type": "code",
   "execution_count": 96,
   "id": "a8f7ccb7",
   "metadata": {},
   "outputs": [
    {
     "data": {
      "text/plain": [
       "3"
      ]
     },
     "execution_count": 96,
     "metadata": {},
     "output_type": "execute_result"
    }
   ],
   "source": [
    "students.count(\"Maimoona\")"
   ]
  },
  {
   "cell_type": "markdown",
   "id": "d89f3ec3",
   "metadata": {},
   "source": [
    "# Practice Questions"
   ]
  },
  {
   "cell_type": "markdown",
   "id": "d29df119",
   "metadata": {},
   "source": [
    "Q1) Create a variable called num and give it a value of 100. Increment its value by 10. Then divide it by 3. Print out final num."
   ]
  },
  {
   "cell_type": "code",
   "execution_count": 1,
   "id": "c1ef6cd8",
   "metadata": {},
   "outputs": [
    {
     "name": "stdout",
     "output_type": "stream",
     "text": [
      "36.666666666666664\n"
     ]
    }
   ],
   "source": [
    "num = 100\n",
    "num += 10\n",
    "num /= 3\n",
    "print(num)\n"
   ]
  },
  {
   "cell_type": "markdown",
   "id": "7be7cca8",
   "metadata": {},
   "source": [
    "Q2) Create a string called my_str and give it the value \"Python Basics\". \n",
    "\n",
    "1) Create another variable and store the first two letters and the last two letters of my_str in it. Print it.\n",
    "\n",
    "2) Create another variable and store letters 3 to 8 (both inclusive) of my_str in it. Print it.  \n",
    "\n",
    "3) Create another variable and store reversed my_str in it. Print it. \n",
    "\n",
    "4) Print my_str from the first letter up till the 9 (not inclusive) in steps of 2\n",
    "\n",
    "5) Print my_str from the 2nd last letter backwards in steps of 2"
   ]
  },
  {
   "cell_type": "code",
   "execution_count": 2,
   "id": "1c3afe9f",
   "metadata": {},
   "outputs": [
    {
     "name": "stdout",
     "output_type": "stream",
     "text": [
      "hon Ba\n",
      "scisaB nohtyP\n",
      "Pto a\n",
      "csBnhy\n",
      "csBnhy\n"
     ]
    }
   ],
   "source": [
    "my_str = \"Python Basics\"\n",
    "var1 = my_str[:2]+my_str[-2:]\n",
    "var2 = print(my_str[3:9])\n",
    "#  Create another variable and store reversed my_str in it. Print it.\n",
    "var3 = print(my_str[::-1])\n",
    "var4 = print(my_str[:9:2])\n",
    "# Print my_str from the 2nd last letter backwards in steps of 2\n",
    "var5 = print(my_str[-2::-2])\n"
   ]
  },
  {
   "cell_type": "markdown",
   "id": "7a04aa4f",
   "metadata": {},
   "source": [
    "Q3) For the following string:\n",
    "\n",
    "1) Find out the index of the word \"learn\".\n",
    "\n",
    "2) Create a new string where you replace the word Python with the word Javascript. Print out the new string."
   ]
  },
  {
   "cell_type": "code",
   "execution_count": 37,
   "id": "bfafd8b3",
   "metadata": {},
   "outputs": [
    {
     "data": {
      "text/plain": [
       "'I am excited to learn Javascript'"
      ]
     },
     "execution_count": 37,
     "metadata": {},
     "output_type": "execute_result"
    }
   ],
   "source": [
    "sentence = \"I am excited to learn Python\"\n",
    "sentence.index(\"learn\")\n",
    "sentence = sentence.replace(\"Python\", \"Javascript\")\n",
    "sentence"
   ]
  },
  {
   "cell_type": "markdown",
   "id": "dbcab0eb",
   "metadata": {},
   "source": [
    "Q4) In the following list, using indexing:\n",
    "\n",
    "1)Print out the value of the letter f\n",
    "\n",
    "2)Print out the value of the letter o\n",
    "\n",
    "3)Print out the value of the letter l"
   ]
  },
  {
   "cell_type": "code",
   "execution_count": 47,
   "id": "f8d3034c",
   "metadata": {},
   "outputs": [
    {
     "name": "stdout",
     "output_type": "stream",
     "text": [
      "f\n",
      "o\n",
      "l\n"
     ]
    }
   ],
   "source": [
    "letters = [\"a\", \"b\", \"c\", [\"d\", \"e\", \"f\"], \"g\", \"h\", [\"i\", \"j\", [\"k\", \"l\"], \"m\"], \"n\", \"o\"]\n",
    "# Print out the value of the letter f\n",
    "print(letters[3][2])\n",
    "print(letters[8])\n",
    "print(letters[6][2][1])\n",
    "\n",
    "# letters[letters.index(\"f\")[0]]\n"
   ]
  },
  {
   "cell_type": "markdown",
   "id": "85d4b257",
   "metadata": {},
   "source": [
    "Q5) Create a list called fruits with mango, apple and banana in it. Then to that list:\n",
    "\n",
    "1) Add papaya, pineapple, grapefruit, and lychee using a single command. Print out fruits at the end.\n",
    "\n",
    "2) Then, add apricot to the list using concatenation instead of a function. Print out the fruits again after this. "
   ]
  },
  {
   "cell_type": "code",
   "execution_count": 55,
   "id": "a8366e85",
   "metadata": {},
   "outputs": [
    {
     "name": "stdout",
     "output_type": "stream",
     "text": [
      "['mango', 'apple', 'banana', 'papaya', 'pineapple', 'grapefruit', 'lychee']\n",
      "['mango', 'apple', 'banana', 'papaya', 'pineapple', 'grapefruit', 'lychee', 'appricot']\n"
     ]
    }
   ],
   "source": [
    "fruits = [\"mango\",\"apple\",\"banana\"]\n",
    "fruits.extend([\"papaya\", \"pineapple\", \"grapefruit\",\"lychee\"])\n",
    "print(fruits)\n",
    "fruits=fruits+[\"appricot\"]\n",
    "print(fruits)"
   ]
  },
  {
   "cell_type": "code",
   "execution_count": null,
   "id": "779b76bf",
   "metadata": {},
   "outputs": [],
   "source": []
  }
 ],
 "metadata": {
  "kernelspec": {
   "display_name": "Python 3 (ipykernel)",
   "language": "python",
   "name": "python3"
  },
  "language_info": {
   "codemirror_mode": {
    "name": "ipython",
    "version": 3
   },
   "file_extension": ".py",
   "mimetype": "text/x-python",
   "name": "python",
   "nbconvert_exporter": "python",
   "pygments_lexer": "ipython3",
   "version": "3.11.4"
  }
 },
 "nbformat": 4,
 "nbformat_minor": 5
}
