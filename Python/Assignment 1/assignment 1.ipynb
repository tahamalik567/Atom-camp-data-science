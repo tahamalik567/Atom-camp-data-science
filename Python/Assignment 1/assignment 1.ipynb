{
 "cells": [
  {
   "cell_type": "code",
   "execution_count": null,
   "metadata": {},
   "outputs": [],
   "source": [
    "# Task 1: Variables and Data Types\n",
    "# a) Create three variables: one for storing your age (integer), one for your name (string), and one\n",
    "# to check if you are a student (Boolean). Print the variables.\n",
    "# b) Perform the following operations and print the results: - Add 25 to your age variable. -\n",
    "# Concatenate your name with the string \"Smith.\" - Negate the Boolean variable (if True, make it\n",
    "# False, and vice versa)\n",
    "age = 24\n",
    "name = \"Taha Malik\"\n",
    "is_student = True\n",
    "age += 25\n",
    "name = name + \" Smith\"\n",
    "is_student = not is_student\n",
    "\n"
   ]
  }
 ],
 "metadata": {
  "language_info": {
   "name": "python"
  }
 },
 "nbformat": 4,
 "nbformat_minor": 2
}
