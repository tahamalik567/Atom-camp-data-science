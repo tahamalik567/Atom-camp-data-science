{
 "cells": [
  {
   "cell_type": "code",
   "execution_count": 1,
   "metadata": {},
   "outputs": [
    {
     "data": {
      "text/plain": [
       "{'key': 'value'}"
      ]
     },
     "execution_count": 1,
     "metadata": {},
     "output_type": "execute_result"
    }
   ],
   "source": [
    "# dictionery \n",
    "# {key:value}\n",
    "\n",
    "dictionery = {\"key\":\"value\"}\n",
    "dictionery"
   ]
  },
  {
   "cell_type": "code",
   "execution_count": 3,
   "metadata": {},
   "outputs": [
    {
     "data": {
      "text/plain": [
       "'value'"
      ]
     },
     "execution_count": 3,
     "metadata": {},
     "output_type": "execute_result"
    }
   ],
   "source": [
    "dictionery[\"key\"]"
   ]
  },
  {
   "cell_type": "code",
   "execution_count": 10,
   "metadata": {},
   "outputs": [
    {
     "data": {
      "text/plain": [
       "{'one': 'aik', 'two': 'doo', 'three': 'teen'}"
      ]
     },
     "execution_count": 10,
     "metadata": {},
     "output_type": "execute_result"
    }
   ],
   "source": [
    "# traditional dictionery \n",
    "numeric_dictionery = {\"one\":\"aik\",\"two\":\"doo\",\"three\":\"teen\"}\n",
    "numeric_dictionery"
   ]
  },
  {
   "cell_type": "code",
   "execution_count": 8,
   "metadata": {},
   "outputs": [
    {
     "data": {
      "text/plain": [
       "dict_keys(['Chezious', 'macdonald'])"
      ]
     },
     "execution_count": 8,
     "metadata": {},
     "output_type": "execute_result"
    }
   ],
   "source": [
    "# resturent dictionery\n",
    "resturent_dictionery = {\n",
    "    \"Chezious\":[\"pizza\",\"pasta\",\"salad\"],\n",
    "    \"macdonald\":[\"burger\",\"pasta\",\"salad\"],\n",
    "}\n",
    "resturent_dictionery.keys()"
   ]
  },
  {
   "cell_type": "code",
   "execution_count": 9,
   "metadata": {},
   "outputs": [
    {
     "data": {
      "text/plain": [
       "dict_values([['pizza', 'pasta', 'salad'], ['burger', 'pasta', 'salad']])"
      ]
     },
     "execution_count": 9,
     "metadata": {},
     "output_type": "execute_result"
    }
   ],
   "source": [
    "resturent_dictionery.values()"
   ]
  },
  {
   "cell_type": "code",
   "execution_count": 12,
   "metadata": {},
   "outputs": [
    {
     "data": {
      "text/plain": [
       "{1: 'pizza', 2: 'pasta', 3: 'salad'}"
      ]
     },
     "execution_count": 12,
     "metadata": {},
     "output_type": "execute_result"
    }
   ],
   "source": [
    "menu = {1:\"pizza\",2:\"pasta\",3:\"salad\"}\n",
    "menu"
   ]
  },
  {
   "cell_type": "code",
   "execution_count": 13,
   "metadata": {},
   "outputs": [
    {
     "data": {
      "text/plain": [
       "{1: 'burger', 2: 'pasta', 3: 'salad'}"
      ]
     },
     "execution_count": 13,
     "metadata": {},
     "output_type": "execute_result"
    }
   ],
   "source": [
    "# you can't store the values with the same key and you can't store the key with the same value\n",
    "# is we use same key then it will update the value\n",
    "menu = {1:\"pizza\",2:\"pasta\",3:\"salad\",1:\"burger\"}\n",
    "menu"
   ]
  },
  {
   "cell_type": "code",
   "execution_count": 20,
   "metadata": {},
   "outputs": [
    {
     "name": "stdout",
     "output_type": "stream",
     "text": [
      "value\n"
     ]
    }
   ],
   "source": [
    "# keys in dictionery can be of any data type\n",
    "# string  {\"key\":\"value\"}\n",
    "# numeric {1:\"value\"}\n",
    "\n",
    "tuplees = {(1,2,3):\"value\",(4,5,6):\"value2\"}\n",
    "tuplees.keys()\n",
    "# print the value using key form tupplees\n",
    "print(tuplees[(1,2,3)])"
   ]
  },
  {
   "cell_type": "code",
   "execution_count": 25,
   "metadata": {},
   "outputs": [
    {
     "data": {
      "text/plain": [
       "45"
      ]
     },
     "execution_count": 25,
     "metadata": {},
     "output_type": "execute_result"
    }
   ],
   "source": [
    "# nested dictionery\n",
    "# indexing in dictionery\n",
    "grades = {\n",
    "    \"ahmad\":[23,45,65],\n",
    "    \"ali\":[45,56,75],\n",
    "    \"zara\":[67,78,89],\n",
    "}\n",
    "grades[\"ahmad\"][1]"
   ]
  },
  {
   "cell_type": "code",
   "execution_count": 27,
   "metadata": {},
   "outputs": [
    {
     "data": {
      "text/plain": [
       "{'ahmad': [23, 45, 65], 'ali': [45, 70, 75], 'zara': [67, 78, 89]}"
      ]
     },
     "execution_count": 27,
     "metadata": {},
     "output_type": "execute_result"
    }
   ],
   "source": [
    "# updating dictionery\n",
    "grades[\"ali\"][1] = 70\n",
    "grades"
   ]
  },
  {
   "cell_type": "code",
   "execution_count": 30,
   "metadata": {},
   "outputs": [
    {
     "name": "stdout",
     "output_type": "stream",
     "text": [
      "{'ahmad': [23, 45, 65], 'ali': [45, 70, 75], 'zara': [67, 89, 90]}\n"
     ]
    },
    {
     "data": {
      "text/plain": [
       "{'ahmad': [23, 45, 65], 'ali': [45, 70, 75], 'zara': 67}"
      ]
     },
     "execution_count": 30,
     "metadata": {},
     "output_type": "execute_result"
    }
   ],
   "source": [
    "grades[\"zara\"] = [67,89,90]\n",
    "print(grades)\n",
    "grades[\"zara\"] = 67\n",
    "grades"
   ]
  },
  {
   "cell_type": "code",
   "execution_count": 31,
   "metadata": {},
   "outputs": [
    {
     "data": {
      "text/plain": [
       "{'ahmad': [23, 45, 65],\n",
       " 'ali': [45, 70, 75],\n",
       " 'zara': 67,\n",
       " 'mohammad': [78, 89, 90]}"
      ]
     },
     "execution_count": 31,
     "metadata": {},
     "output_type": "execute_result"
    }
   ],
   "source": [
    "# adding new value pairs\n",
    "grades[\"mohammad\"] = [78,89,90]\n",
    "grades"
   ]
  }
 ],
 "metadata": {
  "kernelspec": {
   "display_name": "Python 3",
   "language": "python",
   "name": "python3"
  },
  "language_info": {
   "codemirror_mode": {
    "name": "ipython",
    "version": 3
   },
   "file_extension": ".py",
   "mimetype": "text/x-python",
   "name": "python",
   "nbconvert_exporter": "python",
   "pygments_lexer": "ipython3",
   "version": "3.11.4"
  }
 },
 "nbformat": 4,
 "nbformat_minor": 2
}
